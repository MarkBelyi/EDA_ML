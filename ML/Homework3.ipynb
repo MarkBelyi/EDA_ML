{
 "cells": [
  {
   "cell_type": "markdown",
   "metadata": {},
   "source": [
    "    #### Prelude\n",
    "In this homework, we will use the California Housing Prices\n",
    "Your assignment is to develop a regression model to forecast housing prices, utilizing the 'median_house_value' column as the target variable. \n",
    "\n",
    "#### To begin, follow these EDA steps:\n",
    "1. Import the dataset into your working environment.\n",
    "2. Examine the distribution of the median_house_value variable, paying particular attention to whether it exhibits a long-tailed distribution."
   ]
  },
  {
   "cell_type": "markdown",
   "metadata": {},
   "source": [
    "#### Let's modify our approach to include only specific records and columns. Here's what we'll do:\n",
    "Load the full dataset\n",
    "Filter the records to keep only those where ocean_proximity is either '<1H OCEAN' or 'INLAND'\n",
    "Select only the specified columns\n",
    "Next, use only the following columns:\n",
    "\n",
    "* 'latitude',\n",
    "* 'longitude',\n",
    "* 'housing_median_age',\n",
    "* 'total_rooms',\n",
    "* 'total_bedrooms',\n",
    "* 'population',\n",
    "* 'households',\n",
    "* 'median_income',\n",
    "* 'median_house_value'*"
   ]
  },
  {
   "cell_type": "code",
   "execution_count": 60,
   "metadata": {
    "ExecuteTime": {
     "end_time": "2024-10-05T06:15:40.239207100Z",
     "start_time": "2024-10-05T06:15:39.926158500Z"
    }
   },
   "outputs": [],
   "source": [
    "import pandas as pd\n",
    "import numpy as np \n",
    "pd.set_option('display.max_columns', None) \n",
    "pd.set_option('display.width', None) "
   ]
  },
  {
   "cell_type": "code",
   "execution_count": 61,
   "metadata": {
    "ExecuteTime": {
     "end_time": "2024-10-05T06:15:40.618768500Z",
     "start_time": "2024-10-05T06:15:39.938652600Z"
    }
   },
   "outputs": [],
   "source": [
    "# import dataset\n",
    "df = pd.read_csv(\"housing.csv\")"
   ]
  },
  {
   "cell_type": "code",
   "execution_count": 62,
   "metadata": {
    "ExecuteTime": {
     "end_time": "2024-10-05T06:15:40.618768500Z",
     "start_time": "2024-10-05T06:15:40.016100300Z"
    }
   },
   "outputs": [
    {
     "data": {
      "text/plain": "Index(['longitude', 'latitude', 'housing_median_age', 'total_rooms',\n       'total_bedrooms', 'population', 'households', 'median_income',\n       'median_house_value', 'ocean_proximity'],\n      dtype='object')"
     },
     "execution_count": 62,
     "metadata": {},
     "output_type": "execute_result"
    }
   ],
   "source": [
    "df.columns"
   ]
  },
  {
   "cell_type": "code",
   "execution_count": 63,
   "metadata": {
    "ExecuteTime": {
     "end_time": "2024-10-05T06:15:40.634395Z",
     "start_time": "2024-10-05T06:15:40.033012700Z"
    }
   },
   "outputs": [
    {
     "data": {
      "text/plain": "ocean_proximity\n<1H OCEAN     9136\nINLAND        6551\nNEAR OCEAN    2658\nNEAR BAY      2290\nISLAND           5\nName: count, dtype: int64"
     },
     "execution_count": 63,
     "metadata": {},
     "output_type": "execute_result"
    }
   ],
   "source": [
    "df['ocean_proximity'].value_counts()"
   ]
  },
  {
   "cell_type": "code",
   "execution_count": 64,
   "metadata": {
    "ExecuteTime": {
     "end_time": "2024-10-05T06:15:40.675308300Z",
     "start_time": "2024-10-05T06:15:40.053205300Z"
    }
   },
   "outputs": [
    {
     "data": {
      "text/plain": "     longitude  latitude  housing_median_age  total_rooms  total_bedrooms  \\\n701    -121.97     37.64                32.0       1283.0           194.0   \n830    -121.99     37.61                 9.0       3666.0           711.0   \n859    -121.97     37.57                21.0       4342.0           783.0   \n860    -121.96     37.58                15.0       3575.0           597.0   \n861    -121.98     37.58                20.0       4126.0          1031.0   \n\n     population  households  median_income  median_house_value ocean_proximity  \n701       485.0       171.0         6.0574            431000.0       <1H OCEAN  \n830      2341.0       703.0         4.6458            217000.0       <1H OCEAN  \n859      2172.0       789.0         4.6146            247600.0       <1H OCEAN  \n860      1777.0       559.0         5.7192            283500.0       <1H OCEAN  \n861      2079.0       975.0         3.6832            216900.0       <1H OCEAN  ",
      "text/html": "<div>\n<style scoped>\n    .dataframe tbody tr th:only-of-type {\n        vertical-align: middle;\n    }\n\n    .dataframe tbody tr th {\n        vertical-align: top;\n    }\n\n    .dataframe thead th {\n        text-align: right;\n    }\n</style>\n<table border=\"1\" class=\"dataframe\">\n  <thead>\n    <tr style=\"text-align: right;\">\n      <th></th>\n      <th>longitude</th>\n      <th>latitude</th>\n      <th>housing_median_age</th>\n      <th>total_rooms</th>\n      <th>total_bedrooms</th>\n      <th>population</th>\n      <th>households</th>\n      <th>median_income</th>\n      <th>median_house_value</th>\n      <th>ocean_proximity</th>\n    </tr>\n  </thead>\n  <tbody>\n    <tr>\n      <th>701</th>\n      <td>-121.97</td>\n      <td>37.64</td>\n      <td>32.0</td>\n      <td>1283.0</td>\n      <td>194.0</td>\n      <td>485.0</td>\n      <td>171.0</td>\n      <td>6.0574</td>\n      <td>431000.0</td>\n      <td>&lt;1H OCEAN</td>\n    </tr>\n    <tr>\n      <th>830</th>\n      <td>-121.99</td>\n      <td>37.61</td>\n      <td>9.0</td>\n      <td>3666.0</td>\n      <td>711.0</td>\n      <td>2341.0</td>\n      <td>703.0</td>\n      <td>4.6458</td>\n      <td>217000.0</td>\n      <td>&lt;1H OCEAN</td>\n    </tr>\n    <tr>\n      <th>859</th>\n      <td>-121.97</td>\n      <td>37.57</td>\n      <td>21.0</td>\n      <td>4342.0</td>\n      <td>783.0</td>\n      <td>2172.0</td>\n      <td>789.0</td>\n      <td>4.6146</td>\n      <td>247600.0</td>\n      <td>&lt;1H OCEAN</td>\n    </tr>\n    <tr>\n      <th>860</th>\n      <td>-121.96</td>\n      <td>37.58</td>\n      <td>15.0</td>\n      <td>3575.0</td>\n      <td>597.0</td>\n      <td>1777.0</td>\n      <td>559.0</td>\n      <td>5.7192</td>\n      <td>283500.0</td>\n      <td>&lt;1H OCEAN</td>\n    </tr>\n    <tr>\n      <th>861</th>\n      <td>-121.98</td>\n      <td>37.58</td>\n      <td>20.0</td>\n      <td>4126.0</td>\n      <td>1031.0</td>\n      <td>2079.0</td>\n      <td>975.0</td>\n      <td>3.6832</td>\n      <td>216900.0</td>\n      <td>&lt;1H OCEAN</td>\n    </tr>\n  </tbody>\n</table>\n</div>"
     },
     "execution_count": 64,
     "metadata": {},
     "output_type": "execute_result"
    }
   ],
   "source": [
    "df = df[df['ocean_proximity'].isin(['<1H OCEAN', 'INLAND'])]\n",
    "df.head()"
   ]
  },
  {
   "cell_type": "code",
   "execution_count": 65,
   "metadata": {
    "ExecuteTime": {
     "end_time": "2024-10-05T06:15:40.685443900Z",
     "start_time": "2024-10-05T06:15:40.099125900Z"
    }
   },
   "outputs": [
    {
     "data": {
      "text/plain": "     longitude  latitude  housing_median_age  total_rooms  total_bedrooms  \\\n701    -121.97     37.64                32.0       1283.0           194.0   \n830    -121.99     37.61                 9.0       3666.0           711.0   \n859    -121.97     37.57                21.0       4342.0           783.0   \n860    -121.96     37.58                15.0       3575.0           597.0   \n861    -121.98     37.58                20.0       4126.0          1031.0   \n\n     population  households  median_income  median_house_value  \n701       485.0       171.0         6.0574            431000.0  \n830      2341.0       703.0         4.6458            217000.0  \n859      2172.0       789.0         4.6146            247600.0  \n860      1777.0       559.0         5.7192            283500.0  \n861      2079.0       975.0         3.6832            216900.0  ",
      "text/html": "<div>\n<style scoped>\n    .dataframe tbody tr th:only-of-type {\n        vertical-align: middle;\n    }\n\n    .dataframe tbody tr th {\n        vertical-align: top;\n    }\n\n    .dataframe thead th {\n        text-align: right;\n    }\n</style>\n<table border=\"1\" class=\"dataframe\">\n  <thead>\n    <tr style=\"text-align: right;\">\n      <th></th>\n      <th>longitude</th>\n      <th>latitude</th>\n      <th>housing_median_age</th>\n      <th>total_rooms</th>\n      <th>total_bedrooms</th>\n      <th>population</th>\n      <th>households</th>\n      <th>median_income</th>\n      <th>median_house_value</th>\n    </tr>\n  </thead>\n  <tbody>\n    <tr>\n      <th>701</th>\n      <td>-121.97</td>\n      <td>37.64</td>\n      <td>32.0</td>\n      <td>1283.0</td>\n      <td>194.0</td>\n      <td>485.0</td>\n      <td>171.0</td>\n      <td>6.0574</td>\n      <td>431000.0</td>\n    </tr>\n    <tr>\n      <th>830</th>\n      <td>-121.99</td>\n      <td>37.61</td>\n      <td>9.0</td>\n      <td>3666.0</td>\n      <td>711.0</td>\n      <td>2341.0</td>\n      <td>703.0</td>\n      <td>4.6458</td>\n      <td>217000.0</td>\n    </tr>\n    <tr>\n      <th>859</th>\n      <td>-121.97</td>\n      <td>37.57</td>\n      <td>21.0</td>\n      <td>4342.0</td>\n      <td>783.0</td>\n      <td>2172.0</td>\n      <td>789.0</td>\n      <td>4.6146</td>\n      <td>247600.0</td>\n    </tr>\n    <tr>\n      <th>860</th>\n      <td>-121.96</td>\n      <td>37.58</td>\n      <td>15.0</td>\n      <td>3575.0</td>\n      <td>597.0</td>\n      <td>1777.0</td>\n      <td>559.0</td>\n      <td>5.7192</td>\n      <td>283500.0</td>\n    </tr>\n    <tr>\n      <th>861</th>\n      <td>-121.98</td>\n      <td>37.58</td>\n      <td>20.0</td>\n      <td>4126.0</td>\n      <td>1031.0</td>\n      <td>2079.0</td>\n      <td>975.0</td>\n      <td>3.6832</td>\n      <td>216900.0</td>\n    </tr>\n  </tbody>\n</table>\n</div>"
     },
     "execution_count": 65,
     "metadata": {},
     "output_type": "execute_result"
    }
   ],
   "source": [
    "columns = [\n",
    "    \"longitude\",\n",
    "    \"latitude\",\n",
    "    \"housing_median_age\",\n",
    "    \"total_rooms\",\n",
    "    \"total_bedrooms\",\n",
    "    \"population\",\n",
    "    \"households\", \n",
    "    \"median_income\",\n",
    "    \"median_house_value\"\n",
    "]\n",
    "\n",
    "df = df[columns]\n",
    "df.head()"
   ]
  },
  {
   "cell_type": "markdown",
   "metadata": {},
   "source": [
    "### **Question 1**\n",
    "There's one feature with missing values. What is it?\n",
    "\n",
    "- total_rooms\n",
    "- total_bedrooms\n",
    "- population\n",
    "- households"
   ]
  },
  {
   "cell_type": "code",
   "execution_count": 66,
   "metadata": {
    "ExecuteTime": {
     "end_time": "2024-10-05T06:15:40.686503200Z",
     "start_time": "2024-10-05T06:15:40.150263200Z"
    }
   },
   "outputs": [
    {
     "data": {
      "text/plain": "longitude               0\nlatitude                0\nhousing_median_age      0\ntotal_rooms             0\ntotal_bedrooms        157\npopulation              0\nhouseholds              0\nmedian_income           0\nmedian_house_value      0\ndtype: int64"
     },
     "execution_count": 66,
     "metadata": {},
     "output_type": "execute_result"
    }
   ],
   "source": [
    "df.isnull().sum()"
   ]
  },
  {
   "cell_type": "markdown",
   "metadata": {},
   "source": [
    "#### **Answer: total_bedrooms**"
   ]
  },
  {
   "cell_type": "markdown",
   "metadata": {},
   "source": [
    "### **Question 2**\n",
    "\n",
    "What's the median (50% percentile) for variable 'population'?\n",
    "\n",
    "- 995\n",
    "- 1095\n",
    "- 1195\n",
    "- 1295"
   ]
  },
  {
   "cell_type": "code",
   "execution_count": 67,
   "metadata": {
    "ExecuteTime": {
     "end_time": "2024-10-05T06:15:40.692923400Z",
     "start_time": "2024-10-05T06:15:40.164488600Z"
    }
   },
   "outputs": [
    {
     "data": {
      "text/plain": "1195.0"
     },
     "execution_count": 67,
     "metadata": {},
     "output_type": "execute_result"
    }
   ],
   "source": [
    "#write your code and answers here!!! \n",
    "df['population'].median()"
   ]
  },
  {
   "cell_type": "markdown",
   "source": [
    "#### **Answer: 1195**"
   ],
   "metadata": {
    "collapsed": false
   }
  },
  {
   "cell_type": "markdown",
   "metadata": {},
   "source": [
    "Data Preparation and Partitioning:\n",
    "\n",
    "1. Begin with the filtered dataset you previously created.\n",
    "2. Randomize the order of the records in the dataset. Use a random seed of 42 to ensure reproducibility.\n",
    "3. Divide the shuffled data into three subsets:\n",
    "\n",
    "    - Training set: 60% of the data\n",
    "    - Validation set: 20% of the data\n",
    "    - Test set: 20% of the data\n",
    "\n",
    "\n",
    "4. Transform the 'median_house_value' variable by applying a logarithmic function. Specifically, use the np.log1p() function for this transformation"
   ]
  },
  {
   "cell_type": "code",
   "execution_count": 68,
   "metadata": {
    "ExecuteTime": {
     "end_time": "2024-10-05T06:15:40.695005900Z",
     "start_time": "2024-10-05T06:15:40.188557900Z"
    }
   },
   "outputs": [
    {
     "data": {
      "text/plain": "       longitude  latitude  housing_median_age  total_rooms  total_bedrooms  \\\n0        -117.75     34.08                33.0       2824.0           523.0   \n1        -118.38     34.18                40.0       2079.0           568.0   \n2        -118.44     34.18                35.0        972.0           270.0   \n3        -117.85     33.62                13.0       5192.0           658.0   \n4        -118.08     34.13                35.0       1897.0           279.0   \n...          ...       ...                 ...          ...             ...   \n15682    -121.29     38.59                19.0       2460.0           470.0   \n15683    -120.48     37.30                39.0       1015.0           356.0   \n15684    -121.89     37.68                22.0       1898.0           239.0   \n15685    -122.73     38.42                26.0       1446.0           296.0   \n15686    -120.55     38.31                18.0       1411.0           312.0   \n\n       population  households  median_income  median_house_value  \n0          1797.0       493.0         3.6359            135100.0  \n1          1396.0       526.0         3.0061            190800.0  \n2           550.0       256.0         2.2461            215000.0  \n3          1865.0       662.0        15.0001            500001.0  \n4           733.0       291.0         7.4185            500001.0  \n...           ...         ...            ...                 ...  \n15682      1346.0       480.0         3.6563             95600.0  \n15683       875.0       313.0         1.5000             67000.0  \n15684       734.0       245.0         6.2918            334100.0  \n15685       884.0       295.0         4.3523            150000.0  \n15686       592.0       230.0         1.6250             94700.0  \n\n[15687 rows x 9 columns]",
      "text/html": "<div>\n<style scoped>\n    .dataframe tbody tr th:only-of-type {\n        vertical-align: middle;\n    }\n\n    .dataframe tbody tr th {\n        vertical-align: top;\n    }\n\n    .dataframe thead th {\n        text-align: right;\n    }\n</style>\n<table border=\"1\" class=\"dataframe\">\n  <thead>\n    <tr style=\"text-align: right;\">\n      <th></th>\n      <th>longitude</th>\n      <th>latitude</th>\n      <th>housing_median_age</th>\n      <th>total_rooms</th>\n      <th>total_bedrooms</th>\n      <th>population</th>\n      <th>households</th>\n      <th>median_income</th>\n      <th>median_house_value</th>\n    </tr>\n  </thead>\n  <tbody>\n    <tr>\n      <th>0</th>\n      <td>-117.75</td>\n      <td>34.08</td>\n      <td>33.0</td>\n      <td>2824.0</td>\n      <td>523.0</td>\n      <td>1797.0</td>\n      <td>493.0</td>\n      <td>3.6359</td>\n      <td>135100.0</td>\n    </tr>\n    <tr>\n      <th>1</th>\n      <td>-118.38</td>\n      <td>34.18</td>\n      <td>40.0</td>\n      <td>2079.0</td>\n      <td>568.0</td>\n      <td>1396.0</td>\n      <td>526.0</td>\n      <td>3.0061</td>\n      <td>190800.0</td>\n    </tr>\n    <tr>\n      <th>2</th>\n      <td>-118.44</td>\n      <td>34.18</td>\n      <td>35.0</td>\n      <td>972.0</td>\n      <td>270.0</td>\n      <td>550.0</td>\n      <td>256.0</td>\n      <td>2.2461</td>\n      <td>215000.0</td>\n    </tr>\n    <tr>\n      <th>3</th>\n      <td>-117.85</td>\n      <td>33.62</td>\n      <td>13.0</td>\n      <td>5192.0</td>\n      <td>658.0</td>\n      <td>1865.0</td>\n      <td>662.0</td>\n      <td>15.0001</td>\n      <td>500001.0</td>\n    </tr>\n    <tr>\n      <th>4</th>\n      <td>-118.08</td>\n      <td>34.13</td>\n      <td>35.0</td>\n      <td>1897.0</td>\n      <td>279.0</td>\n      <td>733.0</td>\n      <td>291.0</td>\n      <td>7.4185</td>\n      <td>500001.0</td>\n    </tr>\n    <tr>\n      <th>...</th>\n      <td>...</td>\n      <td>...</td>\n      <td>...</td>\n      <td>...</td>\n      <td>...</td>\n      <td>...</td>\n      <td>...</td>\n      <td>...</td>\n      <td>...</td>\n    </tr>\n    <tr>\n      <th>15682</th>\n      <td>-121.29</td>\n      <td>38.59</td>\n      <td>19.0</td>\n      <td>2460.0</td>\n      <td>470.0</td>\n      <td>1346.0</td>\n      <td>480.0</td>\n      <td>3.6563</td>\n      <td>95600.0</td>\n    </tr>\n    <tr>\n      <th>15683</th>\n      <td>-120.48</td>\n      <td>37.30</td>\n      <td>39.0</td>\n      <td>1015.0</td>\n      <td>356.0</td>\n      <td>875.0</td>\n      <td>313.0</td>\n      <td>1.5000</td>\n      <td>67000.0</td>\n    </tr>\n    <tr>\n      <th>15684</th>\n      <td>-121.89</td>\n      <td>37.68</td>\n      <td>22.0</td>\n      <td>1898.0</td>\n      <td>239.0</td>\n      <td>734.0</td>\n      <td>245.0</td>\n      <td>6.2918</td>\n      <td>334100.0</td>\n    </tr>\n    <tr>\n      <th>15685</th>\n      <td>-122.73</td>\n      <td>38.42</td>\n      <td>26.0</td>\n      <td>1446.0</td>\n      <td>296.0</td>\n      <td>884.0</td>\n      <td>295.0</td>\n      <td>4.3523</td>\n      <td>150000.0</td>\n    </tr>\n    <tr>\n      <th>15686</th>\n      <td>-120.55</td>\n      <td>38.31</td>\n      <td>18.0</td>\n      <td>1411.0</td>\n      <td>312.0</td>\n      <td>592.0</td>\n      <td>230.0</td>\n      <td>1.6250</td>\n      <td>94700.0</td>\n    </tr>\n  </tbody>\n</table>\n<p>15687 rows × 9 columns</p>\n</div>"
     },
     "execution_count": 68,
     "metadata": {},
     "output_type": "execute_result"
    }
   ],
   "source": [
    "# split and prepare you dataset\n",
    "df_shuffled = df.sample(frac=1, random_state=13).reset_index(drop=True)\n",
    "df_shuffled\n",
    "\n"
   ]
  },
  {
   "cell_type": "code",
   "execution_count": 69,
   "outputs": [
    {
     "name": "stdout",
     "output_type": "stream",
     "text": [
      "9412 3137 3137\n"
     ]
    }
   ],
   "source": [
    "train_size = int(0.6 * len(df_shuffled))\n",
    "valid_size = int(0.2 * len(df_shuffled))\n",
    "test_size = int(0.2 * len(df_shuffled))\n",
    "print(train_size, valid_size, test_size)"
   ],
   "metadata": {
    "collapsed": false,
    "ExecuteTime": {
     "end_time": "2024-10-05T06:15:40.695005900Z",
     "start_time": "2024-10-05T06:15:40.239715500Z"
    }
   }
  },
  {
   "cell_type": "code",
   "execution_count": 70,
   "outputs": [
    {
     "data": {
      "text/plain": "15686"
     },
     "execution_count": 70,
     "metadata": {},
     "output_type": "execute_result"
    }
   ],
   "source": [
    "train_size + valid_size + test_size"
   ],
   "metadata": {
    "collapsed": false,
    "ExecuteTime": {
     "end_time": "2024-10-05T06:15:40.695005900Z",
     "start_time": "2024-10-05T06:15:40.251962700Z"
    }
   }
  },
  {
   "cell_type": "code",
   "execution_count": 71,
   "outputs": [
    {
     "data": {
      "text/plain": "(15687, 9)"
     },
     "execution_count": 71,
     "metadata": {},
     "output_type": "execute_result"
    }
   ],
   "source": [
    "df_shuffled.shape"
   ],
   "metadata": {
    "collapsed": false,
    "ExecuteTime": {
     "end_time": "2024-10-05T06:15:40.698525100Z",
     "start_time": "2024-10-05T06:15:40.264168200Z"
    }
   }
  },
  {
   "cell_type": "code",
   "execution_count": 72,
   "outputs": [],
   "source": [
    "train_df = df_shuffled.iloc[:train_size]\n",
    "valid_df = df_shuffled.iloc[train_size:train_size + valid_size]\n",
    "test_df = df_shuffled.iloc[train_size + test_size:]"
   ],
   "metadata": {
    "collapsed": false,
    "ExecuteTime": {
     "end_time": "2024-10-05T06:15:40.698525100Z",
     "start_time": "2024-10-05T06:15:40.288054200Z"
    }
   }
  },
  {
   "cell_type": "code",
   "execution_count": 73,
   "outputs": [
    {
     "data": {
      "text/plain": "      longitude  latitude  housing_median_age  total_rooms  total_bedrooms  \\\n0       -117.75     34.08                33.0       2824.0           523.0   \n1       -118.38     34.18                40.0       2079.0           568.0   \n2       -118.44     34.18                35.0        972.0           270.0   \n3       -117.85     33.62                13.0       5192.0           658.0   \n4       -118.08     34.13                35.0       1897.0           279.0   \n...         ...       ...                 ...          ...             ...   \n9407    -121.96     37.31                31.0       3890.0           711.0   \n9408    -121.06     39.25                17.0       3127.0           539.0   \n9409    -118.49     34.25                30.0       2871.0           470.0   \n9410    -119.02     35.34                38.0       1463.0           294.0   \n9411    -117.68     34.11                16.0       3190.0           471.0   \n\n      population  households  median_income  median_house_value  \n0         1797.0       493.0         3.6359            135100.0  \n1         1396.0       526.0         3.0061            190800.0  \n2          550.0       256.0         2.2461            215000.0  \n3         1865.0       662.0        15.0001            500001.0  \n4          733.0       291.0         7.4185            500001.0  \n...          ...         ...            ...                 ...  \n9407      1898.0       717.0         5.2534            290900.0  \n9408      1390.0       520.0         3.9537            172800.0  \n9409      1335.0       458.0         5.0232            253900.0  \n9410       692.0       295.0         2.3125             65800.0  \n9411      1414.0       464.0         5.5292            208600.0  \n\n[9412 rows x 9 columns]",
      "text/html": "<div>\n<style scoped>\n    .dataframe tbody tr th:only-of-type {\n        vertical-align: middle;\n    }\n\n    .dataframe tbody tr th {\n        vertical-align: top;\n    }\n\n    .dataframe thead th {\n        text-align: right;\n    }\n</style>\n<table border=\"1\" class=\"dataframe\">\n  <thead>\n    <tr style=\"text-align: right;\">\n      <th></th>\n      <th>longitude</th>\n      <th>latitude</th>\n      <th>housing_median_age</th>\n      <th>total_rooms</th>\n      <th>total_bedrooms</th>\n      <th>population</th>\n      <th>households</th>\n      <th>median_income</th>\n      <th>median_house_value</th>\n    </tr>\n  </thead>\n  <tbody>\n    <tr>\n      <th>0</th>\n      <td>-117.75</td>\n      <td>34.08</td>\n      <td>33.0</td>\n      <td>2824.0</td>\n      <td>523.0</td>\n      <td>1797.0</td>\n      <td>493.0</td>\n      <td>3.6359</td>\n      <td>135100.0</td>\n    </tr>\n    <tr>\n      <th>1</th>\n      <td>-118.38</td>\n      <td>34.18</td>\n      <td>40.0</td>\n      <td>2079.0</td>\n      <td>568.0</td>\n      <td>1396.0</td>\n      <td>526.0</td>\n      <td>3.0061</td>\n      <td>190800.0</td>\n    </tr>\n    <tr>\n      <th>2</th>\n      <td>-118.44</td>\n      <td>34.18</td>\n      <td>35.0</td>\n      <td>972.0</td>\n      <td>270.0</td>\n      <td>550.0</td>\n      <td>256.0</td>\n      <td>2.2461</td>\n      <td>215000.0</td>\n    </tr>\n    <tr>\n      <th>3</th>\n      <td>-117.85</td>\n      <td>33.62</td>\n      <td>13.0</td>\n      <td>5192.0</td>\n      <td>658.0</td>\n      <td>1865.0</td>\n      <td>662.0</td>\n      <td>15.0001</td>\n      <td>500001.0</td>\n    </tr>\n    <tr>\n      <th>4</th>\n      <td>-118.08</td>\n      <td>34.13</td>\n      <td>35.0</td>\n      <td>1897.0</td>\n      <td>279.0</td>\n      <td>733.0</td>\n      <td>291.0</td>\n      <td>7.4185</td>\n      <td>500001.0</td>\n    </tr>\n    <tr>\n      <th>...</th>\n      <td>...</td>\n      <td>...</td>\n      <td>...</td>\n      <td>...</td>\n      <td>...</td>\n      <td>...</td>\n      <td>...</td>\n      <td>...</td>\n      <td>...</td>\n    </tr>\n    <tr>\n      <th>9407</th>\n      <td>-121.96</td>\n      <td>37.31</td>\n      <td>31.0</td>\n      <td>3890.0</td>\n      <td>711.0</td>\n      <td>1898.0</td>\n      <td>717.0</td>\n      <td>5.2534</td>\n      <td>290900.0</td>\n    </tr>\n    <tr>\n      <th>9408</th>\n      <td>-121.06</td>\n      <td>39.25</td>\n      <td>17.0</td>\n      <td>3127.0</td>\n      <td>539.0</td>\n      <td>1390.0</td>\n      <td>520.0</td>\n      <td>3.9537</td>\n      <td>172800.0</td>\n    </tr>\n    <tr>\n      <th>9409</th>\n      <td>-118.49</td>\n      <td>34.25</td>\n      <td>30.0</td>\n      <td>2871.0</td>\n      <td>470.0</td>\n      <td>1335.0</td>\n      <td>458.0</td>\n      <td>5.0232</td>\n      <td>253900.0</td>\n    </tr>\n    <tr>\n      <th>9410</th>\n      <td>-119.02</td>\n      <td>35.34</td>\n      <td>38.0</td>\n      <td>1463.0</td>\n      <td>294.0</td>\n      <td>692.0</td>\n      <td>295.0</td>\n      <td>2.3125</td>\n      <td>65800.0</td>\n    </tr>\n    <tr>\n      <th>9411</th>\n      <td>-117.68</td>\n      <td>34.11</td>\n      <td>16.0</td>\n      <td>3190.0</td>\n      <td>471.0</td>\n      <td>1414.0</td>\n      <td>464.0</td>\n      <td>5.5292</td>\n      <td>208600.0</td>\n    </tr>\n  </tbody>\n</table>\n<p>9412 rows × 9 columns</p>\n</div>"
     },
     "execution_count": 73,
     "metadata": {},
     "output_type": "execute_result"
    }
   ],
   "source": [
    "train_df"
   ],
   "metadata": {
    "collapsed": false,
    "ExecuteTime": {
     "end_time": "2024-10-05T06:15:40.699884700Z",
     "start_time": "2024-10-05T06:15:40.307306600Z"
    }
   }
  },
  {
   "cell_type": "code",
   "execution_count": 74,
   "outputs": [
    {
     "data": {
      "text/plain": "       longitude  latitude  housing_median_age  total_rooms  total_bedrooms  \\\n9412     -118.14     34.01                42.0       1007.0           277.0   \n9413     -119.80     36.76                52.0       1853.0           437.0   \n9414     -118.24     34.24                31.0       3019.0           469.0   \n9415     -117.88     33.75                10.0       1823.0           590.0   \n9416     -121.07     37.71                39.0        223.0            37.0   \n...          ...       ...                 ...          ...             ...   \n12544    -117.33     34.04                18.0       1837.0           388.0   \n12545    -118.11     33.83                36.0       1726.0           287.0   \n12546    -117.86     33.85                17.0       1131.0           236.0   \n12547    -119.83     36.77                23.0       2168.0           503.0   \n12548    -121.85     37.38                12.0      12980.0          2568.0   \n\n       population  households  median_income  median_house_value  \n9412       1060.0       268.0         3.0179            153700.0  \n9413        764.0       390.0         1.6429             69200.0  \n9414       1349.0       462.0         7.1463            394100.0  \n9415       2176.0       548.0         1.5026            151800.0  \n9416         92.0        37.0         3.3750            212500.0  \n...           ...         ...            ...                 ...  \n12544       727.0       336.0         2.5187            116700.0  \n12545       820.0       288.0         5.5767            218100.0  \n12546       622.0       244.0         4.9306            158500.0  \n12547      1190.0       425.0         2.6250             71600.0  \n12548      8190.0      2515.0         5.2415            286500.0  \n\n[3137 rows x 9 columns]",
      "text/html": "<div>\n<style scoped>\n    .dataframe tbody tr th:only-of-type {\n        vertical-align: middle;\n    }\n\n    .dataframe tbody tr th {\n        vertical-align: top;\n    }\n\n    .dataframe thead th {\n        text-align: right;\n    }\n</style>\n<table border=\"1\" class=\"dataframe\">\n  <thead>\n    <tr style=\"text-align: right;\">\n      <th></th>\n      <th>longitude</th>\n      <th>latitude</th>\n      <th>housing_median_age</th>\n      <th>total_rooms</th>\n      <th>total_bedrooms</th>\n      <th>population</th>\n      <th>households</th>\n      <th>median_income</th>\n      <th>median_house_value</th>\n    </tr>\n  </thead>\n  <tbody>\n    <tr>\n      <th>9412</th>\n      <td>-118.14</td>\n      <td>34.01</td>\n      <td>42.0</td>\n      <td>1007.0</td>\n      <td>277.0</td>\n      <td>1060.0</td>\n      <td>268.0</td>\n      <td>3.0179</td>\n      <td>153700.0</td>\n    </tr>\n    <tr>\n      <th>9413</th>\n      <td>-119.80</td>\n      <td>36.76</td>\n      <td>52.0</td>\n      <td>1853.0</td>\n      <td>437.0</td>\n      <td>764.0</td>\n      <td>390.0</td>\n      <td>1.6429</td>\n      <td>69200.0</td>\n    </tr>\n    <tr>\n      <th>9414</th>\n      <td>-118.24</td>\n      <td>34.24</td>\n      <td>31.0</td>\n      <td>3019.0</td>\n      <td>469.0</td>\n      <td>1349.0</td>\n      <td>462.0</td>\n      <td>7.1463</td>\n      <td>394100.0</td>\n    </tr>\n    <tr>\n      <th>9415</th>\n      <td>-117.88</td>\n      <td>33.75</td>\n      <td>10.0</td>\n      <td>1823.0</td>\n      <td>590.0</td>\n      <td>2176.0</td>\n      <td>548.0</td>\n      <td>1.5026</td>\n      <td>151800.0</td>\n    </tr>\n    <tr>\n      <th>9416</th>\n      <td>-121.07</td>\n      <td>37.71</td>\n      <td>39.0</td>\n      <td>223.0</td>\n      <td>37.0</td>\n      <td>92.0</td>\n      <td>37.0</td>\n      <td>3.3750</td>\n      <td>212500.0</td>\n    </tr>\n    <tr>\n      <th>...</th>\n      <td>...</td>\n      <td>...</td>\n      <td>...</td>\n      <td>...</td>\n      <td>...</td>\n      <td>...</td>\n      <td>...</td>\n      <td>...</td>\n      <td>...</td>\n    </tr>\n    <tr>\n      <th>12544</th>\n      <td>-117.33</td>\n      <td>34.04</td>\n      <td>18.0</td>\n      <td>1837.0</td>\n      <td>388.0</td>\n      <td>727.0</td>\n      <td>336.0</td>\n      <td>2.5187</td>\n      <td>116700.0</td>\n    </tr>\n    <tr>\n      <th>12545</th>\n      <td>-118.11</td>\n      <td>33.83</td>\n      <td>36.0</td>\n      <td>1726.0</td>\n      <td>287.0</td>\n      <td>820.0</td>\n      <td>288.0</td>\n      <td>5.5767</td>\n      <td>218100.0</td>\n    </tr>\n    <tr>\n      <th>12546</th>\n      <td>-117.86</td>\n      <td>33.85</td>\n      <td>17.0</td>\n      <td>1131.0</td>\n      <td>236.0</td>\n      <td>622.0</td>\n      <td>244.0</td>\n      <td>4.9306</td>\n      <td>158500.0</td>\n    </tr>\n    <tr>\n      <th>12547</th>\n      <td>-119.83</td>\n      <td>36.77</td>\n      <td>23.0</td>\n      <td>2168.0</td>\n      <td>503.0</td>\n      <td>1190.0</td>\n      <td>425.0</td>\n      <td>2.6250</td>\n      <td>71600.0</td>\n    </tr>\n    <tr>\n      <th>12548</th>\n      <td>-121.85</td>\n      <td>37.38</td>\n      <td>12.0</td>\n      <td>12980.0</td>\n      <td>2568.0</td>\n      <td>8190.0</td>\n      <td>2515.0</td>\n      <td>5.2415</td>\n      <td>286500.0</td>\n    </tr>\n  </tbody>\n</table>\n<p>3137 rows × 9 columns</p>\n</div>"
     },
     "execution_count": 74,
     "metadata": {},
     "output_type": "execute_result"
    }
   ],
   "source": [
    "valid_df"
   ],
   "metadata": {
    "collapsed": false,
    "ExecuteTime": {
     "end_time": "2024-10-05T06:15:40.700426Z",
     "start_time": "2024-10-05T06:15:40.363238200Z"
    }
   }
  },
  {
   "cell_type": "code",
   "execution_count": 75,
   "outputs": [
    {
     "data": {
      "text/plain": "       longitude  latitude  housing_median_age  total_rooms  total_bedrooms  \\\n12549    -119.44     36.59                32.0       1153.0           236.0   \n12550    -121.58     37.02                27.0       2303.0           471.0   \n12551    -118.04     34.05                32.0       1252.0           273.0   \n12552    -121.86     37.41                16.0       1603.0           287.0   \n12553    -118.17     34.06                44.0       1856.0           461.0   \n...          ...       ...                 ...          ...             ...   \n15682    -121.29     38.59                19.0       2460.0           470.0   \n15683    -120.48     37.30                39.0       1015.0           356.0   \n15684    -121.89     37.68                22.0       1898.0           239.0   \n15685    -122.73     38.42                26.0       1446.0           296.0   \n15686    -120.55     38.31                18.0       1411.0           312.0   \n\n       population  households  median_income  median_house_value  \n12549       761.0       241.0         2.8250             67600.0  \n12550      1447.0       467.0         3.2019            203600.0  \n12551      1337.0       263.0         2.6579            156800.0  \n12552      1080.0       296.0         6.1256            266900.0  \n12553      1853.0       452.0         2.5033            131900.0  \n...           ...         ...            ...                 ...  \n15682      1346.0       480.0         3.6563             95600.0  \n15683       875.0       313.0         1.5000             67000.0  \n15684       734.0       245.0         6.2918            334100.0  \n15685       884.0       295.0         4.3523            150000.0  \n15686       592.0       230.0         1.6250             94700.0  \n\n[3138 rows x 9 columns]",
      "text/html": "<div>\n<style scoped>\n    .dataframe tbody tr th:only-of-type {\n        vertical-align: middle;\n    }\n\n    .dataframe tbody tr th {\n        vertical-align: top;\n    }\n\n    .dataframe thead th {\n        text-align: right;\n    }\n</style>\n<table border=\"1\" class=\"dataframe\">\n  <thead>\n    <tr style=\"text-align: right;\">\n      <th></th>\n      <th>longitude</th>\n      <th>latitude</th>\n      <th>housing_median_age</th>\n      <th>total_rooms</th>\n      <th>total_bedrooms</th>\n      <th>population</th>\n      <th>households</th>\n      <th>median_income</th>\n      <th>median_house_value</th>\n    </tr>\n  </thead>\n  <tbody>\n    <tr>\n      <th>12549</th>\n      <td>-119.44</td>\n      <td>36.59</td>\n      <td>32.0</td>\n      <td>1153.0</td>\n      <td>236.0</td>\n      <td>761.0</td>\n      <td>241.0</td>\n      <td>2.8250</td>\n      <td>67600.0</td>\n    </tr>\n    <tr>\n      <th>12550</th>\n      <td>-121.58</td>\n      <td>37.02</td>\n      <td>27.0</td>\n      <td>2303.0</td>\n      <td>471.0</td>\n      <td>1447.0</td>\n      <td>467.0</td>\n      <td>3.2019</td>\n      <td>203600.0</td>\n    </tr>\n    <tr>\n      <th>12551</th>\n      <td>-118.04</td>\n      <td>34.05</td>\n      <td>32.0</td>\n      <td>1252.0</td>\n      <td>273.0</td>\n      <td>1337.0</td>\n      <td>263.0</td>\n      <td>2.6579</td>\n      <td>156800.0</td>\n    </tr>\n    <tr>\n      <th>12552</th>\n      <td>-121.86</td>\n      <td>37.41</td>\n      <td>16.0</td>\n      <td>1603.0</td>\n      <td>287.0</td>\n      <td>1080.0</td>\n      <td>296.0</td>\n      <td>6.1256</td>\n      <td>266900.0</td>\n    </tr>\n    <tr>\n      <th>12553</th>\n      <td>-118.17</td>\n      <td>34.06</td>\n      <td>44.0</td>\n      <td>1856.0</td>\n      <td>461.0</td>\n      <td>1853.0</td>\n      <td>452.0</td>\n      <td>2.5033</td>\n      <td>131900.0</td>\n    </tr>\n    <tr>\n      <th>...</th>\n      <td>...</td>\n      <td>...</td>\n      <td>...</td>\n      <td>...</td>\n      <td>...</td>\n      <td>...</td>\n      <td>...</td>\n      <td>...</td>\n      <td>...</td>\n    </tr>\n    <tr>\n      <th>15682</th>\n      <td>-121.29</td>\n      <td>38.59</td>\n      <td>19.0</td>\n      <td>2460.0</td>\n      <td>470.0</td>\n      <td>1346.0</td>\n      <td>480.0</td>\n      <td>3.6563</td>\n      <td>95600.0</td>\n    </tr>\n    <tr>\n      <th>15683</th>\n      <td>-120.48</td>\n      <td>37.30</td>\n      <td>39.0</td>\n      <td>1015.0</td>\n      <td>356.0</td>\n      <td>875.0</td>\n      <td>313.0</td>\n      <td>1.5000</td>\n      <td>67000.0</td>\n    </tr>\n    <tr>\n      <th>15684</th>\n      <td>-121.89</td>\n      <td>37.68</td>\n      <td>22.0</td>\n      <td>1898.0</td>\n      <td>239.0</td>\n      <td>734.0</td>\n      <td>245.0</td>\n      <td>6.2918</td>\n      <td>334100.0</td>\n    </tr>\n    <tr>\n      <th>15685</th>\n      <td>-122.73</td>\n      <td>38.42</td>\n      <td>26.0</td>\n      <td>1446.0</td>\n      <td>296.0</td>\n      <td>884.0</td>\n      <td>295.0</td>\n      <td>4.3523</td>\n      <td>150000.0</td>\n    </tr>\n    <tr>\n      <th>15686</th>\n      <td>-120.55</td>\n      <td>38.31</td>\n      <td>18.0</td>\n      <td>1411.0</td>\n      <td>312.0</td>\n      <td>592.0</td>\n      <td>230.0</td>\n      <td>1.6250</td>\n      <td>94700.0</td>\n    </tr>\n  </tbody>\n</table>\n<p>3138 rows × 9 columns</p>\n</div>"
     },
     "execution_count": 75,
     "metadata": {},
     "output_type": "execute_result"
    }
   ],
   "source": [
    "test_df"
   ],
   "metadata": {
    "collapsed": false,
    "ExecuteTime": {
     "end_time": "2024-10-05T06:15:40.700426Z",
     "start_time": "2024-10-05T06:15:40.418809400Z"
    }
   }
  },
  {
   "cell_type": "code",
   "execution_count": 104,
   "outputs": [
    {
     "name": "stderr",
     "output_type": "stream",
     "text": [
      "C:\\Users\\santa\\AppData\\Local\\Temp\\ipykernel_2564\\2498858400.py:1: SettingWithCopyWarning: \n",
      "A value is trying to be set on a copy of a slice from a DataFrame.\n",
      "Try using .loc[row_indexer,col_indexer] = value instead\n",
      "\n",
      "See the caveats in the documentation: https://pandas.pydata.org/pandas-docs/stable/user_guide/indexing.html#returning-a-view-versus-a-copy\n",
      "  train_df['median_house_value'] = np.log1p(train_df['median_house_value'])\n",
      "C:\\Users\\santa\\AppData\\Local\\Temp\\ipykernel_2564\\2498858400.py:2: SettingWithCopyWarning: \n",
      "A value is trying to be set on a copy of a slice from a DataFrame.\n",
      "Try using .loc[row_indexer,col_indexer] = value instead\n",
      "\n",
      "See the caveats in the documentation: https://pandas.pydata.org/pandas-docs/stable/user_guide/indexing.html#returning-a-view-versus-a-copy\n",
      "  valid_df['median_house_value'] = np.log1p(valid_df['median_house_value'])\n",
      "C:\\Users\\santa\\AppData\\Local\\Temp\\ipykernel_2564\\2498858400.py:3: SettingWithCopyWarning: \n",
      "A value is trying to be set on a copy of a slice from a DataFrame.\n",
      "Try using .loc[row_indexer,col_indexer] = value instead\n",
      "\n",
      "See the caveats in the documentation: https://pandas.pydata.org/pandas-docs/stable/user_guide/indexing.html#returning-a-view-versus-a-copy\n",
      "  test_df['median_house_value'] = np.log1p(test_df['median_house_value'])\n"
     ]
    }
   ],
   "source": [
    "train_df['median_house_value'] = np.log1p(train_df['median_house_value'])\n",
    "valid_df['median_house_value'] = np.log1p(valid_df['median_house_value'])\n",
    "test_df['median_house_value'] = np.log1p(test_df['median_house_value'])"
   ],
   "metadata": {
    "collapsed": false,
    "ExecuteTime": {
     "end_time": "2024-10-05T08:23:19.746446Z",
     "start_time": "2024-10-05T08:23:19.736222400Z"
    }
   }
  },
  {
   "cell_type": "markdown",
   "metadata": {},
   "source": [
    "## Question 3\n",
    "\n",
    "- Address the missing values in the column identified in Q1.\n",
    "- Consider two approaches for handling these missing values:\n",
    "\n",
    "    1. Replace them with 0\n",
    "    2. Replace them with the mean value of the column\n",
    "\n",
    "\n",
    "- Implement both approaches separately.\n",
    "- For each approach:\n",
    "\n",
    "    - Train a linear regression model without any regularization, using the code provided in the lessons.\n",
    "    - Important: When calculating the mean, use only the training dataset.\n",
    "- Evaluate both models using the validation dataset.\n",
    "- Calculate the Root Mean Square Error (RMSE) for each model.\n",
    "- Round the RMSE scores to two decimal places using the round(score, 2) function.\n",
    "- Compare the RMSE scores from both approaches.\n",
    "- Determine which method of handling missing values results in a better (lower) RMSE.\n",
    "\n",
    "Options:\n",
    "\n",
    "- With 0\n",
    "- With mean\n",
    "- Both are equally good"
   ]
  },
  {
   "cell_type": "code",
   "execution_count": 105,
   "outputs": [],
   "source": [
    "def linear_regression(X, y):\n",
    "    X = np.hstack([np.ones((X.shape[0], 1)), X])\n",
    "\n",
    "    # beta = (X^T * X)^(-1) * X^T * y\n",
    "    X_transpose = X.T\n",
    "    beta = np.linalg.inv(X_transpose.dot(X)).dot(X_transpose).dot(y)\n",
    "\n",
    "    return beta"
   ],
   "metadata": {
    "collapsed": false,
    "ExecuteTime": {
     "end_time": "2024-10-05T08:23:20.104520700Z",
     "start_time": "2024-10-05T08:23:20.088857300Z"
    }
   }
  },
  {
   "cell_type": "code",
   "execution_count": 112,
   "outputs": [],
   "source": [
    "def calculate_rmse(y_true, y_pred):\n",
    "    return np.sqrt(np.mean((y_true - y_pred) ** 2))"
   ],
   "metadata": {
    "collapsed": false,
    "ExecuteTime": {
     "end_time": "2024-10-05T08:24:34.483053500Z",
     "start_time": "2024-10-05T08:24:34.464965700Z"
    }
   }
  },
  {
   "cell_type": "code",
   "execution_count": 107,
   "outputs": [],
   "source": [
    "def predict(X, beta):\n",
    "    X = np.hstack([np.ones((X.shape[0], 1)), X])\n",
    "    return X.dot(beta)"
   ],
   "metadata": {
    "collapsed": false,
    "ExecuteTime": {
     "end_time": "2024-10-05T08:23:20.857436100Z",
     "start_time": "2024-10-05T08:23:20.848153300Z"
    }
   }
  },
  {
   "cell_type": "code",
   "execution_count": 108,
   "metadata": {
    "ExecuteTime": {
     "end_time": "2024-10-05T08:23:21.174737600Z",
     "start_time": "2024-10-05T08:23:21.159015300Z"
    }
   },
   "outputs": [],
   "source": [
    "# with mean:\n",
    "train_df_mean = train_df.copy()\n",
    "valid_df_mean = valid_df.copy()\n",
    "\n",
    "mean_value = train_df_mean['total_bedrooms'].mean()\n",
    "train_df_mean['total_bedrooms'].fillna(mean_value)\n",
    "valid_df_mean['total_bedrooms'].fillna(mean_value)\n",
    "\n",
    "X_train_mean = train_df_mean.drop('median_house_value', axis=1).values\n",
    "y_train_mean = train_df_mean['median_house_value'].values\n",
    "\n",
    "X_val_mean = valid_df_mean.drop('median_house_value', axis=1).values\n",
    "y_val_mean = valid_df_mean['median_house_value'].values\n",
    "\n",
    "beta_mean = linear_regression(X_train_mean, y_train_mean)\n",
    "\n",
    "y_pred_mean = predict(X_val_mean, beta_mean)\n",
    "rmse_mean = calculate_rmse(y_val_mean, y_pred_mean)"
   ]
  },
  {
   "cell_type": "code",
   "execution_count": 109,
   "metadata": {
    "ExecuteTime": {
     "end_time": "2024-10-05T08:23:21.498617200Z",
     "start_time": "2024-10-05T08:23:21.467215800Z"
    }
   },
   "outputs": [],
   "source": [
    "# with zero:\n",
    "train_df_0 = train_df.copy()\n",
    "valid_df_0 = valid_df.copy()\n",
    "\n",
    "train_df_0['total_bedrooms'].fillna(0)\n",
    "valid_df_0['total_bedrooms'].fillna(0)\n",
    "\n",
    "X_train_0 = train_df_0.drop('median_house_value', axis=1)\n",
    "y_train_0 = train_df_0['median_house_value']\n",
    "\n",
    "X_val_0 = valid_df_0.drop('median_house_value', axis=1)\n",
    "y_val_0 = valid_df_0['median_house_value']\n",
    "\n",
    "beta_0 = linear_regression(X_train_0, y_train_0)\n",
    "\n",
    "y_pred_0 = predict(X_val_0, beta_0)\n",
    "rmse_0 = calculate_rmse(y_val_0, y_pred_0)\n"
   ]
  },
  {
   "cell_type": "code",
   "execution_count": 110,
   "metadata": {
    "ExecuteTime": {
     "end_time": "2024-10-05T08:23:21.808365500Z",
     "start_time": "2024-10-05T08:23:21.773372Z"
    }
   },
   "outputs": [
    {
     "data": {
      "text/plain": "(0.33, 0.33, 'Both are equally good')"
     },
     "execution_count": 110,
     "metadata": {},
     "output_type": "execute_result"
    }
   ],
   "source": [
    "# the answer:\n",
    "if rmse_0 < rmse_mean:\n",
    "    result = \"With 0\"\n",
    "elif rmse_0 > rmse_mean:\n",
    "    result = \"With mean\"\n",
    "else:\n",
    "    result = \"Both are equally good\"\n",
    "\n",
    "rmse_0, rmse_mean, result"
   ]
  },
  {
   "cell_type": "markdown",
   "metadata": {},
   "source": [
    "## Question 4\n",
    "\n",
    "- Now we'll train a regularized linear regression model.\n",
    "- Fill all NA values with 0 for this question.\n",
    "- Test the following values of r: [0, 0.000001, 0.0001, 0.001, 0.01, 0.1, 1, 5, 10]\n",
    "- Use RMSE to evaluate each model on the validation dataset.\n",
    "- Round the RMSE scores to 2 decimal places.\n",
    "- Determine which r value gives the best RMSE.\n",
    "\n",
    "If multiple r values tie for the best RMSE, select the smallest one.\n",
    "Options:\n",
    "\n",
    "- 0\n",
    "- 0.000001\n",
    "- 0.001\n",
    "- 0.0001"
   ]
  },
  {
   "cell_type": "code",
   "execution_count": 113,
   "outputs": [],
   "source": [
    "def reg_regression(X, y, r):\n",
    "    X = np.hstack([np.ones((X.shape[0], 1)), X])\n",
    "\n",
    "    # beta = (X^T * X + r * I)^(-1) * X^T * y\n",
    "    n_features = X.shape[1]\n",
    "    I = np.eye(n_features)\n",
    "    X_transpose = X.T\n",
    "    beta = np.linalg.inv(X_transpose.dot(X) + r * I).dot(X_transpose).dot(y)\n",
    "\n",
    "    return beta"
   ],
   "metadata": {
    "collapsed": false,
    "ExecuteTime": {
     "end_time": "2024-10-05T08:24:37.355679100Z",
     "start_time": "2024-10-05T08:24:37.337347600Z"
    }
   }
  },
  {
   "cell_type": "code",
   "execution_count": 114,
   "metadata": {
    "ExecuteTime": {
     "end_time": "2024-10-05T08:24:37.797692200Z",
     "start_time": "2024-10-05T08:24:37.736260400Z"
    }
   },
   "outputs": [
    {
     "data": {
      "text/plain": "{0: 0.33416623731868444,\n 1e-06: 0.3341662344365404,\n 0.0001: 0.3341659495966846,\n 0.001: 0.3341633963625798,\n 0.01: 0.3341413182910901,\n 0.1: 0.3341628914902619,\n 1: 0.3367874989141284,\n 5: 0.3393316158734458,\n 10: 0.3398674800638476}"
     },
     "execution_count": 114,
     "metadata": {},
     "output_type": "execute_result"
    }
   ],
   "source": [
    "r_values = [0, 0.000001, 0.0001, 0.001, 0.01, 0.1, 1, 5, 10]\n",
    "rmse_results = {}\n",
    "\n",
    "train_df_reg = train_df.copy()\n",
    "valid_df_reg = valid_df.copy()\n",
    "\n",
    "train_df_reg['total_bedrooms'].fillna(0)\n",
    "valid_df_reg['total_bedrooms'].fillna(0)\n",
    "\n",
    "X_train_reg = train_df_reg.drop('median_house_value', axis=1).values\n",
    "y_train_reg = train_df_reg['median_house_value'].values\n",
    "\n",
    "X_val_reg = valid_df_reg.drop('median_house_value', axis=1).values\n",
    "y_val_reg = valid_df_reg['median_house_value'].values\n",
    "\n",
    "for r in r_values:\n",
    "    beta_ridge = reg_regression(X_train_reg, y_train_reg, r)\n",
    "    y_pred_ridge = predict(X_val_reg, beta_ridge)\n",
    "    rmse_results[r] = calculate_rmse(y_val_reg, y_pred_ridge)\n",
    "\n",
    "rmse_results\n"
   ]
  },
  {
   "cell_type": "code",
   "execution_count": 96,
   "outputs": [
    {
     "data": {
      "text/plain": "0"
     },
     "execution_count": 96,
     "metadata": {},
     "output_type": "execute_result"
    }
   ],
   "source": [
    "best_r = min(rmse_results, key=lambda x: (rmse_results[x], x))\n",
    "best_r"
   ],
   "metadata": {
    "collapsed": false,
    "ExecuteTime": {
     "end_time": "2024-10-05T06:16:01.402303Z",
     "start_time": "2024-10-05T06:16:01.359060100Z"
    }
   }
  },
  {
   "cell_type": "markdown",
   "metadata": {},
   "source": [
    "#### Question 5\n",
    "\n",
    "We previously used seed 42 for data splitting. Now, let's investigate how different seeds affect our model's performance.\n",
    "- Use these seed values: [0, 1, 2, 3, 4, 5, 6, 7, 8, 9]\n",
    "- For each seed:\n",
    "\n",
    "    - Split the data into train/validation/test sets with a 60%/20%/20% ratio\n",
    "    - Replace missing values with 0\n",
    "    - Train a linear regression model without regularization\n",
    "    - Evaluate the model on the validation set and record the RMSE\n",
    "- Calculate the standard deviation of all the RMSE scores using np.std\n",
    "- Round the standard deviation to 3 decimal places using round(std, 3)\n",
    "\n",
    "What's the value of std?\n",
    "- 0.5\n",
    "- 0.05\n",
    "- 0.005\n",
    "- 0.0005\n",
    "> **Note:** The standard deviation indicates the level of variability among the values. A low standard deviation suggests that the values are clustered closely together, showing little variation. Conversely, a high standard deviation indicates that the values are spread out over a wider range, demonstrating greater differences. In the context of our model, if the standard deviation of scores is low, it implies that our model exhibits *consistency* across different data splits."
   ]
  },
  {
   "cell_type": "code",
   "execution_count": 115,
   "metadata": {
    "ExecuteTime": {
     "end_time": "2024-10-05T08:26:00.189905500Z",
     "start_time": "2024-10-05T08:26:00.049607700Z"
    }
   },
   "outputs": [
    {
     "name": "stderr",
     "output_type": "stream",
     "text": [
      "C:\\Users\\santa\\AppData\\Local\\Temp\\ipykernel_2564\\897720670.py:13: FutureWarning: A value is trying to be set on a copy of a DataFrame or Series through chained assignment using an inplace method.\n",
      "The behavior will change in pandas 3.0. This inplace method will never work because the intermediate object on which we are setting values always behaves as a copy.\n",
      "\n",
      "For example, when doing 'df[col].method(value, inplace=True)', try using 'df.method({col: value}, inplace=True)' or df[col] = df[col].method(value) instead, to perform the operation inplace on the original object.\n",
      "\n",
      "\n",
      "  train_df['total_bedrooms'].fillna(0, inplace=True)\n",
      "C:\\Users\\santa\\AppData\\Local\\Temp\\ipykernel_2564\\897720670.py:13: SettingWithCopyWarning: \n",
      "A value is trying to be set on a copy of a slice from a DataFrame\n",
      "\n",
      "See the caveats in the documentation: https://pandas.pydata.org/pandas-docs/stable/user_guide/indexing.html#returning-a-view-versus-a-copy\n",
      "  train_df['total_bedrooms'].fillna(0, inplace=True)\n",
      "C:\\Users\\santa\\AppData\\Local\\Temp\\ipykernel_2564\\897720670.py:14: FutureWarning: A value is trying to be set on a copy of a DataFrame or Series through chained assignment using an inplace method.\n",
      "The behavior will change in pandas 3.0. This inplace method will never work because the intermediate object on which we are setting values always behaves as a copy.\n",
      "\n",
      "For example, when doing 'df[col].method(value, inplace=True)', try using 'df.method({col: value}, inplace=True)' or df[col] = df[col].method(value) instead, to perform the operation inplace on the original object.\n",
      "\n",
      "\n",
      "  valid_df['total_bedrooms'].fillna(0, inplace=True)\n",
      "C:\\Users\\santa\\AppData\\Local\\Temp\\ipykernel_2564\\897720670.py:14: SettingWithCopyWarning: \n",
      "A value is trying to be set on a copy of a slice from a DataFrame\n",
      "\n",
      "See the caveats in the documentation: https://pandas.pydata.org/pandas-docs/stable/user_guide/indexing.html#returning-a-view-versus-a-copy\n",
      "  valid_df['total_bedrooms'].fillna(0, inplace=True)\n",
      "C:\\Users\\santa\\AppData\\Local\\Temp\\ipykernel_2564\\897720670.py:13: FutureWarning: A value is trying to be set on a copy of a DataFrame or Series through chained assignment using an inplace method.\n",
      "The behavior will change in pandas 3.0. This inplace method will never work because the intermediate object on which we are setting values always behaves as a copy.\n",
      "\n",
      "For example, when doing 'df[col].method(value, inplace=True)', try using 'df.method({col: value}, inplace=True)' or df[col] = df[col].method(value) instead, to perform the operation inplace on the original object.\n",
      "\n",
      "\n",
      "  train_df['total_bedrooms'].fillna(0, inplace=True)\n",
      "C:\\Users\\santa\\AppData\\Local\\Temp\\ipykernel_2564\\897720670.py:13: SettingWithCopyWarning: \n",
      "A value is trying to be set on a copy of a slice from a DataFrame\n",
      "\n",
      "See the caveats in the documentation: https://pandas.pydata.org/pandas-docs/stable/user_guide/indexing.html#returning-a-view-versus-a-copy\n",
      "  train_df['total_bedrooms'].fillna(0, inplace=True)\n",
      "C:\\Users\\santa\\AppData\\Local\\Temp\\ipykernel_2564\\897720670.py:14: FutureWarning: A value is trying to be set on a copy of a DataFrame or Series through chained assignment using an inplace method.\n",
      "The behavior will change in pandas 3.0. This inplace method will never work because the intermediate object on which we are setting values always behaves as a copy.\n",
      "\n",
      "For example, when doing 'df[col].method(value, inplace=True)', try using 'df.method({col: value}, inplace=True)' or df[col] = df[col].method(value) instead, to perform the operation inplace on the original object.\n",
      "\n",
      "\n",
      "  valid_df['total_bedrooms'].fillna(0, inplace=True)\n",
      "C:\\Users\\santa\\AppData\\Local\\Temp\\ipykernel_2564\\897720670.py:14: SettingWithCopyWarning: \n",
      "A value is trying to be set on a copy of a slice from a DataFrame\n",
      "\n",
      "See the caveats in the documentation: https://pandas.pydata.org/pandas-docs/stable/user_guide/indexing.html#returning-a-view-versus-a-copy\n",
      "  valid_df['total_bedrooms'].fillna(0, inplace=True)\n",
      "C:\\Users\\santa\\AppData\\Local\\Temp\\ipykernel_2564\\897720670.py:13: FutureWarning: A value is trying to be set on a copy of a DataFrame or Series through chained assignment using an inplace method.\n",
      "The behavior will change in pandas 3.0. This inplace method will never work because the intermediate object on which we are setting values always behaves as a copy.\n",
      "\n",
      "For example, when doing 'df[col].method(value, inplace=True)', try using 'df.method({col: value}, inplace=True)' or df[col] = df[col].method(value) instead, to perform the operation inplace on the original object.\n",
      "\n",
      "\n",
      "  train_df['total_bedrooms'].fillna(0, inplace=True)\n",
      "C:\\Users\\santa\\AppData\\Local\\Temp\\ipykernel_2564\\897720670.py:13: SettingWithCopyWarning: \n",
      "A value is trying to be set on a copy of a slice from a DataFrame\n",
      "\n",
      "See the caveats in the documentation: https://pandas.pydata.org/pandas-docs/stable/user_guide/indexing.html#returning-a-view-versus-a-copy\n",
      "  train_df['total_bedrooms'].fillna(0, inplace=True)\n",
      "C:\\Users\\santa\\AppData\\Local\\Temp\\ipykernel_2564\\897720670.py:14: FutureWarning: A value is trying to be set on a copy of a DataFrame or Series through chained assignment using an inplace method.\n",
      "The behavior will change in pandas 3.0. This inplace method will never work because the intermediate object on which we are setting values always behaves as a copy.\n",
      "\n",
      "For example, when doing 'df[col].method(value, inplace=True)', try using 'df.method({col: value}, inplace=True)' or df[col] = df[col].method(value) instead, to perform the operation inplace on the original object.\n",
      "\n",
      "\n",
      "  valid_df['total_bedrooms'].fillna(0, inplace=True)\n",
      "C:\\Users\\santa\\AppData\\Local\\Temp\\ipykernel_2564\\897720670.py:14: SettingWithCopyWarning: \n",
      "A value is trying to be set on a copy of a slice from a DataFrame\n",
      "\n",
      "See the caveats in the documentation: https://pandas.pydata.org/pandas-docs/stable/user_guide/indexing.html#returning-a-view-versus-a-copy\n",
      "  valid_df['total_bedrooms'].fillna(0, inplace=True)\n",
      "C:\\Users\\santa\\AppData\\Local\\Temp\\ipykernel_2564\\897720670.py:13: FutureWarning: A value is trying to be set on a copy of a DataFrame or Series through chained assignment using an inplace method.\n",
      "The behavior will change in pandas 3.0. This inplace method will never work because the intermediate object on which we are setting values always behaves as a copy.\n",
      "\n",
      "For example, when doing 'df[col].method(value, inplace=True)', try using 'df.method({col: value}, inplace=True)' or df[col] = df[col].method(value) instead, to perform the operation inplace on the original object.\n",
      "\n",
      "\n",
      "  train_df['total_bedrooms'].fillna(0, inplace=True)\n",
      "C:\\Users\\santa\\AppData\\Local\\Temp\\ipykernel_2564\\897720670.py:13: SettingWithCopyWarning: \n",
      "A value is trying to be set on a copy of a slice from a DataFrame\n",
      "\n",
      "See the caveats in the documentation: https://pandas.pydata.org/pandas-docs/stable/user_guide/indexing.html#returning-a-view-versus-a-copy\n",
      "  train_df['total_bedrooms'].fillna(0, inplace=True)\n",
      "C:\\Users\\santa\\AppData\\Local\\Temp\\ipykernel_2564\\897720670.py:14: FutureWarning: A value is trying to be set on a copy of a DataFrame or Series through chained assignment using an inplace method.\n",
      "The behavior will change in pandas 3.0. This inplace method will never work because the intermediate object on which we are setting values always behaves as a copy.\n",
      "\n",
      "For example, when doing 'df[col].method(value, inplace=True)', try using 'df.method({col: value}, inplace=True)' or df[col] = df[col].method(value) instead, to perform the operation inplace on the original object.\n",
      "\n",
      "\n",
      "  valid_df['total_bedrooms'].fillna(0, inplace=True)\n",
      "C:\\Users\\santa\\AppData\\Local\\Temp\\ipykernel_2564\\897720670.py:14: SettingWithCopyWarning: \n",
      "A value is trying to be set on a copy of a slice from a DataFrame\n",
      "\n",
      "See the caveats in the documentation: https://pandas.pydata.org/pandas-docs/stable/user_guide/indexing.html#returning-a-view-versus-a-copy\n",
      "  valid_df['total_bedrooms'].fillna(0, inplace=True)\n",
      "C:\\Users\\santa\\AppData\\Local\\Temp\\ipykernel_2564\\897720670.py:13: FutureWarning: A value is trying to be set on a copy of a DataFrame or Series through chained assignment using an inplace method.\n",
      "The behavior will change in pandas 3.0. This inplace method will never work because the intermediate object on which we are setting values always behaves as a copy.\n",
      "\n",
      "For example, when doing 'df[col].method(value, inplace=True)', try using 'df.method({col: value}, inplace=True)' or df[col] = df[col].method(value) instead, to perform the operation inplace on the original object.\n",
      "\n",
      "\n",
      "  train_df['total_bedrooms'].fillna(0, inplace=True)\n",
      "C:\\Users\\santa\\AppData\\Local\\Temp\\ipykernel_2564\\897720670.py:13: SettingWithCopyWarning: \n",
      "A value is trying to be set on a copy of a slice from a DataFrame\n",
      "\n",
      "See the caveats in the documentation: https://pandas.pydata.org/pandas-docs/stable/user_guide/indexing.html#returning-a-view-versus-a-copy\n",
      "  train_df['total_bedrooms'].fillna(0, inplace=True)\n",
      "C:\\Users\\santa\\AppData\\Local\\Temp\\ipykernel_2564\\897720670.py:14: FutureWarning: A value is trying to be set on a copy of a DataFrame or Series through chained assignment using an inplace method.\n",
      "The behavior will change in pandas 3.0. This inplace method will never work because the intermediate object on which we are setting values always behaves as a copy.\n",
      "\n",
      "For example, when doing 'df[col].method(value, inplace=True)', try using 'df.method({col: value}, inplace=True)' or df[col] = df[col].method(value) instead, to perform the operation inplace on the original object.\n",
      "\n",
      "\n",
      "  valid_df['total_bedrooms'].fillna(0, inplace=True)\n",
      "C:\\Users\\santa\\AppData\\Local\\Temp\\ipykernel_2564\\897720670.py:14: SettingWithCopyWarning: \n",
      "A value is trying to be set on a copy of a slice from a DataFrame\n",
      "\n",
      "See the caveats in the documentation: https://pandas.pydata.org/pandas-docs/stable/user_guide/indexing.html#returning-a-view-versus-a-copy\n",
      "  valid_df['total_bedrooms'].fillna(0, inplace=True)\n",
      "C:\\Users\\santa\\AppData\\Local\\Temp\\ipykernel_2564\\897720670.py:13: FutureWarning: A value is trying to be set on a copy of a DataFrame or Series through chained assignment using an inplace method.\n",
      "The behavior will change in pandas 3.0. This inplace method will never work because the intermediate object on which we are setting values always behaves as a copy.\n",
      "\n",
      "For example, when doing 'df[col].method(value, inplace=True)', try using 'df.method({col: value}, inplace=True)' or df[col] = df[col].method(value) instead, to perform the operation inplace on the original object.\n",
      "\n",
      "\n",
      "  train_df['total_bedrooms'].fillna(0, inplace=True)\n",
      "C:\\Users\\santa\\AppData\\Local\\Temp\\ipykernel_2564\\897720670.py:13: SettingWithCopyWarning: \n",
      "A value is trying to be set on a copy of a slice from a DataFrame\n",
      "\n",
      "See the caveats in the documentation: https://pandas.pydata.org/pandas-docs/stable/user_guide/indexing.html#returning-a-view-versus-a-copy\n",
      "  train_df['total_bedrooms'].fillna(0, inplace=True)\n",
      "C:\\Users\\santa\\AppData\\Local\\Temp\\ipykernel_2564\\897720670.py:14: FutureWarning: A value is trying to be set on a copy of a DataFrame or Series through chained assignment using an inplace method.\n",
      "The behavior will change in pandas 3.0. This inplace method will never work because the intermediate object on which we are setting values always behaves as a copy.\n",
      "\n",
      "For example, when doing 'df[col].method(value, inplace=True)', try using 'df.method({col: value}, inplace=True)' or df[col] = df[col].method(value) instead, to perform the operation inplace on the original object.\n",
      "\n",
      "\n",
      "  valid_df['total_bedrooms'].fillna(0, inplace=True)\n",
      "C:\\Users\\santa\\AppData\\Local\\Temp\\ipykernel_2564\\897720670.py:14: SettingWithCopyWarning: \n",
      "A value is trying to be set on a copy of a slice from a DataFrame\n",
      "\n",
      "See the caveats in the documentation: https://pandas.pydata.org/pandas-docs/stable/user_guide/indexing.html#returning-a-view-versus-a-copy\n",
      "  valid_df['total_bedrooms'].fillna(0, inplace=True)\n",
      "C:\\Users\\santa\\AppData\\Local\\Temp\\ipykernel_2564\\897720670.py:13: FutureWarning: A value is trying to be set on a copy of a DataFrame or Series through chained assignment using an inplace method.\n",
      "The behavior will change in pandas 3.0. This inplace method will never work because the intermediate object on which we are setting values always behaves as a copy.\n",
      "\n",
      "For example, when doing 'df[col].method(value, inplace=True)', try using 'df.method({col: value}, inplace=True)' or df[col] = df[col].method(value) instead, to perform the operation inplace on the original object.\n",
      "\n",
      "\n",
      "  train_df['total_bedrooms'].fillna(0, inplace=True)\n",
      "C:\\Users\\santa\\AppData\\Local\\Temp\\ipykernel_2564\\897720670.py:13: SettingWithCopyWarning: \n",
      "A value is trying to be set on a copy of a slice from a DataFrame\n",
      "\n",
      "See the caveats in the documentation: https://pandas.pydata.org/pandas-docs/stable/user_guide/indexing.html#returning-a-view-versus-a-copy\n",
      "  train_df['total_bedrooms'].fillna(0, inplace=True)\n",
      "C:\\Users\\santa\\AppData\\Local\\Temp\\ipykernel_2564\\897720670.py:14: FutureWarning: A value is trying to be set on a copy of a DataFrame or Series through chained assignment using an inplace method.\n",
      "The behavior will change in pandas 3.0. This inplace method will never work because the intermediate object on which we are setting values always behaves as a copy.\n",
      "\n",
      "For example, when doing 'df[col].method(value, inplace=True)', try using 'df.method({col: value}, inplace=True)' or df[col] = df[col].method(value) instead, to perform the operation inplace on the original object.\n",
      "\n",
      "\n",
      "  valid_df['total_bedrooms'].fillna(0, inplace=True)\n",
      "C:\\Users\\santa\\AppData\\Local\\Temp\\ipykernel_2564\\897720670.py:14: SettingWithCopyWarning: \n",
      "A value is trying to be set on a copy of a slice from a DataFrame\n",
      "\n",
      "See the caveats in the documentation: https://pandas.pydata.org/pandas-docs/stable/user_guide/indexing.html#returning-a-view-versus-a-copy\n",
      "  valid_df['total_bedrooms'].fillna(0, inplace=True)\n",
      "C:\\Users\\santa\\AppData\\Local\\Temp\\ipykernel_2564\\897720670.py:13: FutureWarning: A value is trying to be set on a copy of a DataFrame or Series through chained assignment using an inplace method.\n",
      "The behavior will change in pandas 3.0. This inplace method will never work because the intermediate object on which we are setting values always behaves as a copy.\n",
      "\n",
      "For example, when doing 'df[col].method(value, inplace=True)', try using 'df.method({col: value}, inplace=True)' or df[col] = df[col].method(value) instead, to perform the operation inplace on the original object.\n",
      "\n",
      "\n",
      "  train_df['total_bedrooms'].fillna(0, inplace=True)\n",
      "C:\\Users\\santa\\AppData\\Local\\Temp\\ipykernel_2564\\897720670.py:13: SettingWithCopyWarning: \n",
      "A value is trying to be set on a copy of a slice from a DataFrame\n",
      "\n",
      "See the caveats in the documentation: https://pandas.pydata.org/pandas-docs/stable/user_guide/indexing.html#returning-a-view-versus-a-copy\n",
      "  train_df['total_bedrooms'].fillna(0, inplace=True)\n",
      "C:\\Users\\santa\\AppData\\Local\\Temp\\ipykernel_2564\\897720670.py:14: FutureWarning: A value is trying to be set on a copy of a DataFrame or Series through chained assignment using an inplace method.\n",
      "The behavior will change in pandas 3.0. This inplace method will never work because the intermediate object on which we are setting values always behaves as a copy.\n",
      "\n",
      "For example, when doing 'df[col].method(value, inplace=True)', try using 'df.method({col: value}, inplace=True)' or df[col] = df[col].method(value) instead, to perform the operation inplace on the original object.\n",
      "\n",
      "\n",
      "  valid_df['total_bedrooms'].fillna(0, inplace=True)\n",
      "C:\\Users\\santa\\AppData\\Local\\Temp\\ipykernel_2564\\897720670.py:14: SettingWithCopyWarning: \n",
      "A value is trying to be set on a copy of a slice from a DataFrame\n",
      "\n",
      "See the caveats in the documentation: https://pandas.pydata.org/pandas-docs/stable/user_guide/indexing.html#returning-a-view-versus-a-copy\n",
      "  valid_df['total_bedrooms'].fillna(0, inplace=True)\n",
      "C:\\Users\\santa\\AppData\\Local\\Temp\\ipykernel_2564\\897720670.py:13: FutureWarning: A value is trying to be set on a copy of a DataFrame or Series through chained assignment using an inplace method.\n",
      "The behavior will change in pandas 3.0. This inplace method will never work because the intermediate object on which we are setting values always behaves as a copy.\n",
      "\n",
      "For example, when doing 'df[col].method(value, inplace=True)', try using 'df.method({col: value}, inplace=True)' or df[col] = df[col].method(value) instead, to perform the operation inplace on the original object.\n",
      "\n",
      "\n",
      "  train_df['total_bedrooms'].fillna(0, inplace=True)\n",
      "C:\\Users\\santa\\AppData\\Local\\Temp\\ipykernel_2564\\897720670.py:13: SettingWithCopyWarning: \n",
      "A value is trying to be set on a copy of a slice from a DataFrame\n",
      "\n",
      "See the caveats in the documentation: https://pandas.pydata.org/pandas-docs/stable/user_guide/indexing.html#returning-a-view-versus-a-copy\n",
      "  train_df['total_bedrooms'].fillna(0, inplace=True)\n",
      "C:\\Users\\santa\\AppData\\Local\\Temp\\ipykernel_2564\\897720670.py:14: FutureWarning: A value is trying to be set on a copy of a DataFrame or Series through chained assignment using an inplace method.\n",
      "The behavior will change in pandas 3.0. This inplace method will never work because the intermediate object on which we are setting values always behaves as a copy.\n",
      "\n",
      "For example, when doing 'df[col].method(value, inplace=True)', try using 'df.method({col: value}, inplace=True)' or df[col] = df[col].method(value) instead, to perform the operation inplace on the original object.\n",
      "\n",
      "\n",
      "  valid_df['total_bedrooms'].fillna(0, inplace=True)\n",
      "C:\\Users\\santa\\AppData\\Local\\Temp\\ipykernel_2564\\897720670.py:14: SettingWithCopyWarning: \n",
      "A value is trying to be set on a copy of a slice from a DataFrame\n",
      "\n",
      "See the caveats in the documentation: https://pandas.pydata.org/pandas-docs/stable/user_guide/indexing.html#returning-a-view-versus-a-copy\n",
      "  valid_df['total_bedrooms'].fillna(0, inplace=True)\n",
      "C:\\Users\\santa\\AppData\\Local\\Temp\\ipykernel_2564\\897720670.py:13: FutureWarning: A value is trying to be set on a copy of a DataFrame or Series through chained assignment using an inplace method.\n",
      "The behavior will change in pandas 3.0. This inplace method will never work because the intermediate object on which we are setting values always behaves as a copy.\n",
      "\n",
      "For example, when doing 'df[col].method(value, inplace=True)', try using 'df.method({col: value}, inplace=True)' or df[col] = df[col].method(value) instead, to perform the operation inplace on the original object.\n",
      "\n",
      "\n",
      "  train_df['total_bedrooms'].fillna(0, inplace=True)\n",
      "C:\\Users\\santa\\AppData\\Local\\Temp\\ipykernel_2564\\897720670.py:13: SettingWithCopyWarning: \n",
      "A value is trying to be set on a copy of a slice from a DataFrame\n",
      "\n",
      "See the caveats in the documentation: https://pandas.pydata.org/pandas-docs/stable/user_guide/indexing.html#returning-a-view-versus-a-copy\n",
      "  train_df['total_bedrooms'].fillna(0, inplace=True)\n",
      "C:\\Users\\santa\\AppData\\Local\\Temp\\ipykernel_2564\\897720670.py:14: FutureWarning: A value is trying to be set on a copy of a DataFrame or Series through chained assignment using an inplace method.\n",
      "The behavior will change in pandas 3.0. This inplace method will never work because the intermediate object on which we are setting values always behaves as a copy.\n",
      "\n",
      "For example, when doing 'df[col].method(value, inplace=True)', try using 'df.method({col: value}, inplace=True)' or df[col] = df[col].method(value) instead, to perform the operation inplace on the original object.\n",
      "\n",
      "\n",
      "  valid_df['total_bedrooms'].fillna(0, inplace=True)\n",
      "C:\\Users\\santa\\AppData\\Local\\Temp\\ipykernel_2564\\897720670.py:14: SettingWithCopyWarning: \n",
      "A value is trying to be set on a copy of a slice from a DataFrame\n",
      "\n",
      "See the caveats in the documentation: https://pandas.pydata.org/pandas-docs/stable/user_guide/indexing.html#returning-a-view-versus-a-copy\n",
      "  valid_df['total_bedrooms'].fillna(0, inplace=True)\n"
     ]
    },
    {
     "data": {
      "text/plain": "0.005631486961146894"
     },
     "execution_count": 115,
     "metadata": {},
     "output_type": "execute_result"
    }
   ],
   "source": [
    "rmses = []\n",
    "seeds = [0, 1, 2, 3, 4, 5, 6, 7, 8, 9]\n",
    "\n",
    "for seed in seeds:\n",
    "    df_shuffled = df.sample(frac=1, random_state=seed).reset_index(drop=True)\n",
    "\n",
    "    train_size = int(0.6 * len(df_shuffled))\n",
    "    valid_size = int(0.2 * len(df_shuffled))\n",
    "\n",
    "    train_df = df_shuffled.iloc[:train_size]\n",
    "    valid_df = df_shuffled.iloc[train_size:train_size + valid_size]\n",
    "\n",
    "    train_df['total_bedrooms'].fillna(0, inplace=True)\n",
    "    valid_df['total_bedrooms'].fillna(0, inplace=True)\n",
    "\n",
    "    y_train = np.log1p(train_df['median_house_value'].values)\n",
    "    y_val = np.log1p(valid_df['median_house_value'].values)\n",
    "\n",
    "    X_train = train_df.drop('median_house_value', axis=1).values\n",
    "    X_val = valid_df.drop('median_house_value', axis=1).values\n",
    "\n",
    "    beta = linear_regression(X_train, y_train)\n",
    "\n",
    "    y_pred = predict(X_val, beta)\n",
    "    rmse = calculate_rmse(y_val, y_pred)\n",
    "\n",
    "    rmses.append(rmse)\n",
    "\n",
    "std_rmse = np.std(rmses)\n",
    "std_rmse\n"
   ]
  },
  {
   "cell_type": "code",
   "execution_count": 86,
   "outputs": [],
   "source": [],
   "metadata": {
    "collapsed": false,
    "ExecuteTime": {
     "end_time": "2024-10-05T06:15:41.176556200Z",
     "start_time": "2024-10-05T06:15:40.692923400Z"
    }
   }
  }
 ],
 "metadata": {
  "kernelspec": {
   "display_name": "conda-python",
   "language": "python",
   "name": "python3"
  },
  "language_info": {
   "codemirror_mode": {
    "name": "ipython",
    "version": 3
   },
   "file_extension": ".py",
   "mimetype": "text/x-python",
   "name": "python",
   "nbconvert_exporter": "python",
   "pygments_lexer": "ipython3",
   "version": "3.11.8"
  }
 },
 "nbformat": 4,
 "nbformat_minor": 2
}
