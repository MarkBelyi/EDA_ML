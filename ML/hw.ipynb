{
 "cells": [
  {
   "cell_type": "markdown",
   "metadata": {},
   "source": [
    "# MLflow Installation Guide\n",
    "\n",
    "The purpose of this guide is to help you get started with MLflow - a powerful tool for managing machine learning experiments and models.\n",
    "\n",
    "## Q1. Installing MLflow\n",
    "\n",
    "First, you'll need to install the MLflow Python package. I recommend following these steps:\n",
    "\n",
    "1. Create a new Python environment (preferably using conda):\n",
    "   ```bash\n",
    "   conda create -n mlflow_env python=3.9 or python=3.10\n",
    "   conda activate mlflow_env\n",
    "\n",
    "After installing the package, run this command: ``mlflow --version`` to verify the installation.\n",
    "Question: What version of MLflow did you install?"
   ]
  },
  {
   "cell_type": "code",
   "execution_count": null,
   "outputs": [],
   "source": [
    "# mlflow, version 2.17.2"
   ],
   "metadata": {
    "collapsed": false
   }
  },
  {
   "cell_type": "markdown",
   "metadata": {},
   "source": [
    "# Q2. Processing \n",
    "\n",
    "You have to work with NYC Green Taxi dataset to build a trip duration prediction model.\n",
    "\n",
    "## Data Preparation:\n",
    "\n",
    "1. Get the data:\n",
    "  * Download Green Taxi data for Q1 2023 (Jan-Mar) in parquet format\n",
    "  * Link to data: [NYC Taxi Data Portal](https://www1.nyc.gov/site/tlc/about/tlc-trip-record-data.page)\n",
    "\n",
    "2. Run preprocessing:\n",
    "  * Find `preprocess_data.py` script\n",
    "  * This script will:\n",
    "    - Read taxi data from your download folder\n",
    "    - Transform features using `DictVectorizer` (trained on January data)\n",
    "    - Create and save processed datasets\n",
    "\n",
    "## Command to Run:\n",
    "\n",
    "   ``python preprocess_data.py --raw_data_path <YOUR_DOWNLOAD_DATA_FOLDER> --dest_path ./output``\n",
    "\n",
    "> Note: Before running, make sure you're in `previous/homework/folfer/` directory and replace `<YOUR_DOWNLOAD_DATA_FOLDER>` with your actual data path.\n",
    "YOUR_DOWNLOAD_DATA_FOLDER IS THE FOLDER YOU SAVED THE DATA FROM 2023 JANUARY to March \n",
    "\n",
    "After running the preprocessing script, count the files in `OUTPUT_FOLDER`. How many are there?\n",
    "\n",
    "Select one:\n",
    "* 1\n",
    "* 3 \n",
    "* 4\n",
    "* 7"
   ]
  },
  {
   "cell_type": "code",
   "execution_count": 2,
   "outputs": [],
   "source": [
    "# 4"
   ],
   "metadata": {
    "collapsed": false,
    "ExecuteTime": {
     "end_time": "2024-11-08T15:11:54.235212600Z",
     "start_time": "2024-11-08T15:11:54.207688500Z"
    }
   }
  },
  {
   "cell_type": "markdown",
   "metadata": {},
   "source": [
    "# Q3. Training with MLflow Autologging\n",
    "\n",
    "In this step, we'll train a `RandomForestRegressor` from scikit-learn using our taxi dataset.\n",
    "\n",
    "## Training Process\n",
    "\n",
    "We'll use `train.py`. The script does the following:\n",
    "* Loads preprocessed datasets\n",
    "* Trains the Random Forest model\n",
    "* Calculates RMSE on validation data\n",
    "\n",
    "## Your Task:\n",
    "\n",
    "1. Modify `train.py` to enable MLflow autologging\n",
    "2. Run the script\n",
    "3. Open MLflow UI to verify experiment tracking\n",
    "\n",
    "## Important Tips:\n",
    "\n",
    "1. Remember to wrap your training code with:\n",
    "\n",
    "   with mlflow.start_run():\n",
    "       # your training code here\n",
    "\n",
    "2. Keep default hyperparameters for quick training\n",
    "\n",
    "What is the value of the `min_samples_split` parameter?\n",
    "* 2\n",
    "* 4\n",
    "* 8\n",
    "* 10\n",
    "\n",
    "> Note: You can find this in MLflow UI after running the experiment"
   ]
  },
  {
   "cell_type": "code",
   "execution_count": 4,
   "outputs": [],
   "source": [
    "# RMSE: 5.431162180141208\n",
    "# min_samples_split: 2"
   ],
   "metadata": {
    "collapsed": false,
    "ExecuteTime": {
     "end_time": "2024-11-08T15:21:30.137653700Z",
     "start_time": "2024-11-08T15:21:30.122344100Z"
    }
   }
  },
  {
   "cell_type": "markdown",
   "metadata": {},
   "source": [
    "# Q4. Setting Up Local MLflow Tracking Server\n",
    "\n",
    "Now we'll set up complete ML model lifecycle management by launching a tracking server with model registry access.\n",
    "\n",
    "## Tasks:\n",
    "\n",
    "1. Start MLflow tracking server locally\n",
    "2. Configure storage:\n",
    "  * Backend: SQLite database\n",
    "  * Artifacts: Create and use `artifacts` folder\n",
    "\n",
    "> Keep the server running for the next two exercises!\n",
    "\n",
    "Besides `--backend-store-uri`, which parameter is needed for proper server configuration?\n",
    "\n",
    "Select one:\n",
    "* `default-artifact-root`\n",
    "* `serve-artifacts`\n",
    "* `artifacts-only`\n",
    "* `artifacts-destination`\n",
    "\n",
    "## Note:\n",
    "This tracking server will enable us to:\n",
    "* Track experiments\n",
    "* Store model artifacts\n",
    "* Access model registry\n",
    "* Compare model versions"
   ]
  },
  {
   "cell_type": "code",
   "execution_count": null,
   "outputs": [],
   "source": [
    "#  --default-artifact-root URI"
   ],
   "metadata": {
    "collapsed": false
   }
  },
  {
   "cell_type": "markdown",
   "metadata": {},
   "source": [
    "# Q5. Hyperparameter Tuning with MLflow\n",
    "\n",
    "We'll optimize our `RandomForestRegressor` using `hyperopt` to reduce validation error. You'll use the prepared script `hpo.py`.\n",
    "\n",
    "## Task:\n",
    "\n",
    "1. Modify `hpo.py`:\n",
    "  * Add code to log validation RMSE to tracking server\n",
    "  * Update the `objective` function accordingly\n",
    "  * Run without additional parameters\n",
    "\n",
    "2. Check Results:\n",
    "  * Open MLflow UI\n",
    "  * Find experiment named `random-forest-hyperopt`\n",
    "  * Review the runs\n",
    "\n",
    "## Important Notes:\n",
    "\n",
    "* Do NOT use autologging\n",
    "* Log only essential information:\n",
    "   - Hyperparameters used in optimization\n",
    "   - Validation RMSE (February 2023 data)\n",
    "\n",
    "\n",
    "What was the best validation RMSE achieved?\n",
    "* 4.817\n",
    "* 5.335\n",
    "* 5.818\n",
    "* 6.336"
   ]
  },
  {
   "cell_type": "code",
   "execution_count": null,
   "outputs": [],
   "source": [
    "# 5.3700860692"
   ],
   "metadata": {
    "collapsed": false
   }
  },
  {
   "cell_type": "markdown",
   "metadata": {},
   "source": [
    "# Q6. Model Registry Promotion\n",
    "\n",
    "After successful hyperparameter optimization, we'll move our best model to production by registering it in MLflow's model registry.\n",
    "\n",
    "## Process Overview:\n",
    "\n",
    "The script `register_model.py` will:\n",
    "1. Find top 5 models from previous runs\n",
    "2. Test them on March 2023 data\n",
    "3. Save results in experiment `random-forest-best-models`\n",
    "\n",
    "## Your Task:\n",
    "\n",
    "Update `register_model.py` to:\n",
    "* Select model with lowest test RMSE\n",
    "* Register it in the model registry\n",
    "\n",
    "## Helpful Tips:\n",
    "\n",
    "1. To find best model:\n",
    "  ```python\n",
    "  client = MlflowClient()\n",
    "  client.search_runs(...)  # Find lowest RMSE"
   ]
  },
  {
   "cell_type": "code",
   "execution_count": null,
   "outputs": [],
   "source": [
    "# test_rmse 5.370086069268862"
   ],
   "metadata": {
    "collapsed": false
   }
  }
 ],
 "metadata": {
  "language_info": {
   "name": "python"
  },
  "kernelspec": {
   "name": "python3",
   "language": "python",
   "display_name": "Python 3 (ipykernel)"
  }
 },
 "nbformat": 4,
 "nbformat_minor": 2
}
