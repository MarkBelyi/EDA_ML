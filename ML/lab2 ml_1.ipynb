{
 "cells": [
  {
   "cell_type": "markdown",
   "metadata": {},
   "source": [
    "## Laboratory work 2. Data preprocessing.\n",
    "### Task1\n",
    "### Continue work with Titanic dataset from previous laboratory work. Previuosly, you filled missing data for Embarked feature. Now you need to replace missing data for all remaining features. \n",
    "### 1. Firstly, find rows with missing data for Fare using isnull() method. You can observe only one row. So, let's fill it with median. Find median value and as condition mention Pclass and Embarked features. Then fill the missing data with found median, don't forget about inplace argument. Finally show result with info() method."
   ]
  },
  {
   "cell_type": "code",
   "execution_count": 58,
   "metadata": {
    "ExecuteTime": {
     "end_time": "2024-09-21T08:40:42.468103700Z",
     "start_time": "2024-09-21T08:40:40.888122800Z"
    }
   },
   "outputs": [],
   "source": [
    "import pandas as pd"
   ]
  },
  {
   "cell_type": "code",
   "execution_count": 59,
   "metadata": {
    "ExecuteTime": {
     "end_time": "2024-09-21T08:40:43.080451700Z",
     "start_time": "2024-09-21T08:40:40.897772600Z"
    }
   },
   "outputs": [
    {
     "name": "stdout",
     "output_type": "stream",
     "text": [
      "<class 'pandas.core.frame.DataFrame'>\n",
      "RangeIndex: 1309 entries, 0 to 1308\n",
      "Data columns (total 13 columns):\n",
      " #   Column       Non-Null Count  Dtype  \n",
      "---  ------       --------------  -----  \n",
      " 0   Unnamed: 0   1309 non-null   int64  \n",
      " 1   PassengerId  1309 non-null   int64  \n",
      " 2   Pclass       1309 non-null   int64  \n",
      " 3   Name         1309 non-null   object \n",
      " 4   Sex          1309 non-null   object \n",
      " 5   Age          1046 non-null   float64\n",
      " 6   SibSp        1309 non-null   int64  \n",
      " 7   Parch        1309 non-null   int64  \n",
      " 8   Ticket       1309 non-null   object \n",
      " 9   Fare         1308 non-null   float64\n",
      " 10  Cabin        295 non-null    object \n",
      " 11  Embarked     1309 non-null   object \n",
      " 12  Survived     1309 non-null   int64  \n",
      "dtypes: float64(2), int64(6), object(5)\n",
      "memory usage: 133.1+ KB\n"
     ]
    }
   ],
   "source": [
    "df = pd.read_csv(\"TitanicDataframe.csv\")\n",
    "df.info()"
   ]
  },
  {
   "cell_type": "code",
   "execution_count": 60,
   "metadata": {
    "ExecuteTime": {
     "end_time": "2024-09-21T08:40:43.080451700Z",
     "start_time": "2024-09-21T08:40:40.921104300Z"
    }
   },
   "outputs": [],
   "source": [
    "missing_one_row = df[df['Fare'].isnull()]"
   ]
  },
  {
   "cell_type": "code",
   "execution_count": 61,
   "metadata": {
    "ExecuteTime": {
     "end_time": "2024-09-21T08:40:43.080451700Z",
     "start_time": "2024-09-21T08:40:40.930599500Z"
    }
   },
   "outputs": [
    {
     "data": {
      "text/plain": "     Unnamed: 0  PassengerId  Pclass                Name   Sex   Age  SibSp  \\\n152         152         1044       3  Storey, Mr. Thomas  male  60.5      0   \n\n     Parch Ticket  Fare Cabin Embarked  Survived  \n152      0   3701   NaN   NaN        S      -999  ",
      "text/html": "<div>\n<style scoped>\n    .dataframe tbody tr th:only-of-type {\n        vertical-align: middle;\n    }\n\n    .dataframe tbody tr th {\n        vertical-align: top;\n    }\n\n    .dataframe thead th {\n        text-align: right;\n    }\n</style>\n<table border=\"1\" class=\"dataframe\">\n  <thead>\n    <tr style=\"text-align: right;\">\n      <th></th>\n      <th>Unnamed: 0</th>\n      <th>PassengerId</th>\n      <th>Pclass</th>\n      <th>Name</th>\n      <th>Sex</th>\n      <th>Age</th>\n      <th>SibSp</th>\n      <th>Parch</th>\n      <th>Ticket</th>\n      <th>Fare</th>\n      <th>Cabin</th>\n      <th>Embarked</th>\n      <th>Survived</th>\n    </tr>\n  </thead>\n  <tbody>\n    <tr>\n      <th>152</th>\n      <td>152</td>\n      <td>1044</td>\n      <td>3</td>\n      <td>Storey, Mr. Thomas</td>\n      <td>male</td>\n      <td>60.5</td>\n      <td>0</td>\n      <td>0</td>\n      <td>3701</td>\n      <td>NaN</td>\n      <td>NaN</td>\n      <td>S</td>\n      <td>-999</td>\n    </tr>\n  </tbody>\n</table>\n</div>"
     },
     "execution_count": 61,
     "metadata": {},
     "output_type": "execute_result"
    }
   ],
   "source": [
    "missing_one_row"
   ]
  },
  {
   "cell_type": "code",
   "execution_count": 62,
   "metadata": {
    "ExecuteTime": {
     "end_time": "2024-09-21T08:40:43.163094Z",
     "start_time": "2024-09-21T08:40:40.950320500Z"
    }
   },
   "outputs": [
    {
     "name": "stdout",
     "output_type": "stream",
     "text": [
      "8.05\n"
     ]
    }
   ],
   "source": [
    "pclass = missing_one_row['Pclass'].values[0]\n",
    "embarked = missing_one_row['Embarked'].values[0]\n",
    "\n",
    "median = df[(df['Pclass'] == pclass) & (df['Embarked'] == embarked)]['Fare'].median()\n",
    "#finding median with Pclass & Embarked conditions\n",
    "print(median)"
   ]
  },
  {
   "cell_type": "code",
   "execution_count": 63,
   "metadata": {
    "ExecuteTime": {
     "end_time": "2024-09-21T08:40:43.292784900Z",
     "start_time": "2024-09-21T08:40:40.962817500Z"
    }
   },
   "outputs": [
    {
     "name": "stderr",
     "output_type": "stream",
     "text": [
      "C:\\Users\\santa\\AppData\\Local\\Temp\\ipykernel_6068\\3102898040.py:1: FutureWarning: A value is trying to be set on a copy of a DataFrame or Series through chained assignment using an inplace method.\n",
      "The behavior will change in pandas 3.0. This inplace method will never work because the intermediate object on which we are setting values always behaves as a copy.\n",
      "\n",
      "For example, when doing 'df[col].method(value, inplace=True)', try using 'df.method({col: value}, inplace=True)' or df[col] = df[col].method(value) instead, to perform the operation inplace on the original object.\n",
      "\n",
      "\n",
      "  df['Fare'].fillna(median, inplace=True)\n"
     ]
    },
    {
     "data": {
      "text/plain": "      Unnamed: 0  PassengerId  Pclass  \\\n0              0          892       3   \n1              1          893       3   \n2              2          894       2   \n3              3          895       3   \n4              4          896       3   \n...          ...          ...     ...   \n1304         886          887       2   \n1305         887          888       1   \n1306         888          889       3   \n1307         889          890       1   \n1308         890          891       3   \n\n                                              Name     Sex   Age  SibSp  \\\n0                                 Kelly, Mr. James    male  34.5      0   \n1                 Wilkes, Mrs. James (Ellen Needs)  female  47.0      1   \n2                        Myles, Mr. Thomas Francis    male  62.0      0   \n3                                 Wirz, Mr. Albert    male  27.0      0   \n4     Hirvonen, Mrs. Alexander (Helga E Lindqvist)  female  22.0      1   \n...                                            ...     ...   ...    ...   \n1304                         Montvila, Rev. Juozas    male  27.0      0   \n1305                  Graham, Miss. Margaret Edith  female  19.0      0   \n1306      Johnston, Miss. Catherine Helen \"Carrie\"  female   NaN      1   \n1307                         Behr, Mr. Karl Howell    male  26.0      0   \n1308                           Dooley, Mr. Patrick    male  32.0      0   \n\n      Parch      Ticket     Fare Cabin Embarked  Survived  \n0         0      330911   7.8292   NaN        Q      -999  \n1         0      363272   7.0000   NaN        S      -999  \n2         0      240276   9.6875   NaN        Q      -999  \n3         0      315154   8.6625   NaN        S      -999  \n4         1     3101298  12.2875   NaN        S      -999  \n...     ...         ...      ...   ...      ...       ...  \n1304      0      211536  13.0000   NaN        S         0  \n1305      0      112053  30.0000   B42        S         1  \n1306      2  W./C. 6607  23.4500   NaN        S         0  \n1307      0      111369  30.0000  C148        C         1  \n1308      0      370376   7.7500   NaN        Q         0  \n\n[1309 rows x 13 columns]",
      "text/html": "<div>\n<style scoped>\n    .dataframe tbody tr th:only-of-type {\n        vertical-align: middle;\n    }\n\n    .dataframe tbody tr th {\n        vertical-align: top;\n    }\n\n    .dataframe thead th {\n        text-align: right;\n    }\n</style>\n<table border=\"1\" class=\"dataframe\">\n  <thead>\n    <tr style=\"text-align: right;\">\n      <th></th>\n      <th>Unnamed: 0</th>\n      <th>PassengerId</th>\n      <th>Pclass</th>\n      <th>Name</th>\n      <th>Sex</th>\n      <th>Age</th>\n      <th>SibSp</th>\n      <th>Parch</th>\n      <th>Ticket</th>\n      <th>Fare</th>\n      <th>Cabin</th>\n      <th>Embarked</th>\n      <th>Survived</th>\n    </tr>\n  </thead>\n  <tbody>\n    <tr>\n      <th>0</th>\n      <td>0</td>\n      <td>892</td>\n      <td>3</td>\n      <td>Kelly, Mr. James</td>\n      <td>male</td>\n      <td>34.5</td>\n      <td>0</td>\n      <td>0</td>\n      <td>330911</td>\n      <td>7.8292</td>\n      <td>NaN</td>\n      <td>Q</td>\n      <td>-999</td>\n    </tr>\n    <tr>\n      <th>1</th>\n      <td>1</td>\n      <td>893</td>\n      <td>3</td>\n      <td>Wilkes, Mrs. James (Ellen Needs)</td>\n      <td>female</td>\n      <td>47.0</td>\n      <td>1</td>\n      <td>0</td>\n      <td>363272</td>\n      <td>7.0000</td>\n      <td>NaN</td>\n      <td>S</td>\n      <td>-999</td>\n    </tr>\n    <tr>\n      <th>2</th>\n      <td>2</td>\n      <td>894</td>\n      <td>2</td>\n      <td>Myles, Mr. Thomas Francis</td>\n      <td>male</td>\n      <td>62.0</td>\n      <td>0</td>\n      <td>0</td>\n      <td>240276</td>\n      <td>9.6875</td>\n      <td>NaN</td>\n      <td>Q</td>\n      <td>-999</td>\n    </tr>\n    <tr>\n      <th>3</th>\n      <td>3</td>\n      <td>895</td>\n      <td>3</td>\n      <td>Wirz, Mr. Albert</td>\n      <td>male</td>\n      <td>27.0</td>\n      <td>0</td>\n      <td>0</td>\n      <td>315154</td>\n      <td>8.6625</td>\n      <td>NaN</td>\n      <td>S</td>\n      <td>-999</td>\n    </tr>\n    <tr>\n      <th>4</th>\n      <td>4</td>\n      <td>896</td>\n      <td>3</td>\n      <td>Hirvonen, Mrs. Alexander (Helga E Lindqvist)</td>\n      <td>female</td>\n      <td>22.0</td>\n      <td>1</td>\n      <td>1</td>\n      <td>3101298</td>\n      <td>12.2875</td>\n      <td>NaN</td>\n      <td>S</td>\n      <td>-999</td>\n    </tr>\n    <tr>\n      <th>...</th>\n      <td>...</td>\n      <td>...</td>\n      <td>...</td>\n      <td>...</td>\n      <td>...</td>\n      <td>...</td>\n      <td>...</td>\n      <td>...</td>\n      <td>...</td>\n      <td>...</td>\n      <td>...</td>\n      <td>...</td>\n      <td>...</td>\n    </tr>\n    <tr>\n      <th>1304</th>\n      <td>886</td>\n      <td>887</td>\n      <td>2</td>\n      <td>Montvila, Rev. Juozas</td>\n      <td>male</td>\n      <td>27.0</td>\n      <td>0</td>\n      <td>0</td>\n      <td>211536</td>\n      <td>13.0000</td>\n      <td>NaN</td>\n      <td>S</td>\n      <td>0</td>\n    </tr>\n    <tr>\n      <th>1305</th>\n      <td>887</td>\n      <td>888</td>\n      <td>1</td>\n      <td>Graham, Miss. Margaret Edith</td>\n      <td>female</td>\n      <td>19.0</td>\n      <td>0</td>\n      <td>0</td>\n      <td>112053</td>\n      <td>30.0000</td>\n      <td>B42</td>\n      <td>S</td>\n      <td>1</td>\n    </tr>\n    <tr>\n      <th>1306</th>\n      <td>888</td>\n      <td>889</td>\n      <td>3</td>\n      <td>Johnston, Miss. Catherine Helen \"Carrie\"</td>\n      <td>female</td>\n      <td>NaN</td>\n      <td>1</td>\n      <td>2</td>\n      <td>W./C. 6607</td>\n      <td>23.4500</td>\n      <td>NaN</td>\n      <td>S</td>\n      <td>0</td>\n    </tr>\n    <tr>\n      <th>1307</th>\n      <td>889</td>\n      <td>890</td>\n      <td>1</td>\n      <td>Behr, Mr. Karl Howell</td>\n      <td>male</td>\n      <td>26.0</td>\n      <td>0</td>\n      <td>0</td>\n      <td>111369</td>\n      <td>30.0000</td>\n      <td>C148</td>\n      <td>C</td>\n      <td>1</td>\n    </tr>\n    <tr>\n      <th>1308</th>\n      <td>890</td>\n      <td>891</td>\n      <td>3</td>\n      <td>Dooley, Mr. Patrick</td>\n      <td>male</td>\n      <td>32.0</td>\n      <td>0</td>\n      <td>0</td>\n      <td>370376</td>\n      <td>7.7500</td>\n      <td>NaN</td>\n      <td>Q</td>\n      <td>0</td>\n    </tr>\n  </tbody>\n</table>\n<p>1309 rows × 13 columns</p>\n</div>"
     },
     "execution_count": 63,
     "metadata": {},
     "output_type": "execute_result"
    }
   ],
   "source": [
    "df['Fare'].fillna(median, inplace=True)\n",
    "df\n",
    "#replacing NaN with median"
   ]
  },
  {
   "cell_type": "code",
   "execution_count": 64,
   "metadata": {
    "ExecuteTime": {
     "end_time": "2024-09-21T08:40:43.296054900Z",
     "start_time": "2024-09-21T08:40:40.987723400Z"
    }
   },
   "outputs": [
    {
     "name": "stdout",
     "output_type": "stream",
     "text": [
      "<class 'pandas.core.frame.DataFrame'>\n",
      "RangeIndex: 1309 entries, 0 to 1308\n",
      "Data columns (total 13 columns):\n",
      " #   Column       Non-Null Count  Dtype  \n",
      "---  ------       --------------  -----  \n",
      " 0   Unnamed: 0   1309 non-null   int64  \n",
      " 1   PassengerId  1309 non-null   int64  \n",
      " 2   Pclass       1309 non-null   int64  \n",
      " 3   Name         1309 non-null   object \n",
      " 4   Sex          1309 non-null   object \n",
      " 5   Age          1046 non-null   float64\n",
      " 6   SibSp        1309 non-null   int64  \n",
      " 7   Parch        1309 non-null   int64  \n",
      " 8   Ticket       1309 non-null   object \n",
      " 9   Fare         1309 non-null   float64\n",
      " 10  Cabin        295 non-null    object \n",
      " 11  Embarked     1309 non-null   object \n",
      " 12  Survived     1309 non-null   int64  \n",
      "dtypes: float64(2), int64(6), object(5)\n",
      "memory usage: 133.1+ KB\n"
     ]
    }
   ],
   "source": [
    "df.info()\n",
    "#now Fare has no NaN values"
   ]
  },
  {
   "cell_type": "markdown",
   "metadata": {},
   "source": [
    "### 2. Next, you have to handle missing data of Age feature. First of all show missing data for Age using isnull() method"
   ]
  },
  {
   "cell_type": "code",
   "execution_count": 65,
   "metadata": {
    "ExecuteTime": {
     "end_time": "2024-09-21T08:40:43.301137500Z",
     "start_time": "2024-09-21T08:40:41.003671900Z"
    }
   },
   "outputs": [
    {
     "data": {
      "text/plain": "      Unnamed: 0  PassengerId  Pclass  \\\n10            10          902       3   \n22            22          914       1   \n29            29          921       3   \n33            33          925       3   \n36            36          928       3   \n...          ...          ...     ...   \n1277         859          860       3   \n1281         863          864       3   \n1286         868          869       3   \n1296         878          879       3   \n1306         888          889       3   \n\n                                                   Name     Sex  Age  SibSp  \\\n10                                     Ilieff, Mr. Ylio    male  NaN      0   \n22                 Flegenheim, Mrs. Alfred (Antoinette)  female  NaN      0   \n29                                    Samaan, Mr. Elias    male  NaN      2   \n33    Johnston, Mrs. Andrew G (Elizabeth Lily\" Watson)\"  female  NaN      1   \n36                                  Roth, Miss. Sarah A  female  NaN      0   \n...                                                 ...     ...  ...    ...   \n1277                                   Razi, Mr. Raihed    male  NaN      0   \n1281                  Sage, Miss. Dorothy Edith \"Dolly\"  female  NaN      8   \n1286                        van Melkebeke, Mr. Philemon    male  NaN      0   \n1296                                 Laleff, Mr. Kristo    male  NaN      0   \n1306           Johnston, Miss. Catherine Helen \"Carrie\"  female  NaN      1   \n\n      Parch      Ticket     Fare Cabin Embarked  Survived  \n10        0      349220   7.8958   NaN        S      -999  \n22        0    PC 17598  31.6833   NaN        S      -999  \n29        0        2662  21.6792   NaN        C      -999  \n33        2  W./C. 6607  23.4500   NaN        S      -999  \n36        0      342712   8.0500   NaN        S      -999  \n...     ...         ...      ...   ...      ...       ...  \n1277      0        2629   7.2292   NaN        C         0  \n1281      2    CA. 2343  69.5500   NaN        S         0  \n1286      0      345777   9.5000   NaN        S         0  \n1296      0      349217   7.8958   NaN        S         0  \n1306      2  W./C. 6607  23.4500   NaN        S         0  \n\n[263 rows x 13 columns]",
      "text/html": "<div>\n<style scoped>\n    .dataframe tbody tr th:only-of-type {\n        vertical-align: middle;\n    }\n\n    .dataframe tbody tr th {\n        vertical-align: top;\n    }\n\n    .dataframe thead th {\n        text-align: right;\n    }\n</style>\n<table border=\"1\" class=\"dataframe\">\n  <thead>\n    <tr style=\"text-align: right;\">\n      <th></th>\n      <th>Unnamed: 0</th>\n      <th>PassengerId</th>\n      <th>Pclass</th>\n      <th>Name</th>\n      <th>Sex</th>\n      <th>Age</th>\n      <th>SibSp</th>\n      <th>Parch</th>\n      <th>Ticket</th>\n      <th>Fare</th>\n      <th>Cabin</th>\n      <th>Embarked</th>\n      <th>Survived</th>\n    </tr>\n  </thead>\n  <tbody>\n    <tr>\n      <th>10</th>\n      <td>10</td>\n      <td>902</td>\n      <td>3</td>\n      <td>Ilieff, Mr. Ylio</td>\n      <td>male</td>\n      <td>NaN</td>\n      <td>0</td>\n      <td>0</td>\n      <td>349220</td>\n      <td>7.8958</td>\n      <td>NaN</td>\n      <td>S</td>\n      <td>-999</td>\n    </tr>\n    <tr>\n      <th>22</th>\n      <td>22</td>\n      <td>914</td>\n      <td>1</td>\n      <td>Flegenheim, Mrs. Alfred (Antoinette)</td>\n      <td>female</td>\n      <td>NaN</td>\n      <td>0</td>\n      <td>0</td>\n      <td>PC 17598</td>\n      <td>31.6833</td>\n      <td>NaN</td>\n      <td>S</td>\n      <td>-999</td>\n    </tr>\n    <tr>\n      <th>29</th>\n      <td>29</td>\n      <td>921</td>\n      <td>3</td>\n      <td>Samaan, Mr. Elias</td>\n      <td>male</td>\n      <td>NaN</td>\n      <td>2</td>\n      <td>0</td>\n      <td>2662</td>\n      <td>21.6792</td>\n      <td>NaN</td>\n      <td>C</td>\n      <td>-999</td>\n    </tr>\n    <tr>\n      <th>33</th>\n      <td>33</td>\n      <td>925</td>\n      <td>3</td>\n      <td>Johnston, Mrs. Andrew G (Elizabeth Lily\" Watson)\"</td>\n      <td>female</td>\n      <td>NaN</td>\n      <td>1</td>\n      <td>2</td>\n      <td>W./C. 6607</td>\n      <td>23.4500</td>\n      <td>NaN</td>\n      <td>S</td>\n      <td>-999</td>\n    </tr>\n    <tr>\n      <th>36</th>\n      <td>36</td>\n      <td>928</td>\n      <td>3</td>\n      <td>Roth, Miss. Sarah A</td>\n      <td>female</td>\n      <td>NaN</td>\n      <td>0</td>\n      <td>0</td>\n      <td>342712</td>\n      <td>8.0500</td>\n      <td>NaN</td>\n      <td>S</td>\n      <td>-999</td>\n    </tr>\n    <tr>\n      <th>...</th>\n      <td>...</td>\n      <td>...</td>\n      <td>...</td>\n      <td>...</td>\n      <td>...</td>\n      <td>...</td>\n      <td>...</td>\n      <td>...</td>\n      <td>...</td>\n      <td>...</td>\n      <td>...</td>\n      <td>...</td>\n      <td>...</td>\n    </tr>\n    <tr>\n      <th>1277</th>\n      <td>859</td>\n      <td>860</td>\n      <td>3</td>\n      <td>Razi, Mr. Raihed</td>\n      <td>male</td>\n      <td>NaN</td>\n      <td>0</td>\n      <td>0</td>\n      <td>2629</td>\n      <td>7.2292</td>\n      <td>NaN</td>\n      <td>C</td>\n      <td>0</td>\n    </tr>\n    <tr>\n      <th>1281</th>\n      <td>863</td>\n      <td>864</td>\n      <td>3</td>\n      <td>Sage, Miss. Dorothy Edith \"Dolly\"</td>\n      <td>female</td>\n      <td>NaN</td>\n      <td>8</td>\n      <td>2</td>\n      <td>CA. 2343</td>\n      <td>69.5500</td>\n      <td>NaN</td>\n      <td>S</td>\n      <td>0</td>\n    </tr>\n    <tr>\n      <th>1286</th>\n      <td>868</td>\n      <td>869</td>\n      <td>3</td>\n      <td>van Melkebeke, Mr. Philemon</td>\n      <td>male</td>\n      <td>NaN</td>\n      <td>0</td>\n      <td>0</td>\n      <td>345777</td>\n      <td>9.5000</td>\n      <td>NaN</td>\n      <td>S</td>\n      <td>0</td>\n    </tr>\n    <tr>\n      <th>1296</th>\n      <td>878</td>\n      <td>879</td>\n      <td>3</td>\n      <td>Laleff, Mr. Kristo</td>\n      <td>male</td>\n      <td>NaN</td>\n      <td>0</td>\n      <td>0</td>\n      <td>349217</td>\n      <td>7.8958</td>\n      <td>NaN</td>\n      <td>S</td>\n      <td>0</td>\n    </tr>\n    <tr>\n      <th>1306</th>\n      <td>888</td>\n      <td>889</td>\n      <td>3</td>\n      <td>Johnston, Miss. Catherine Helen \"Carrie\"</td>\n      <td>female</td>\n      <td>NaN</td>\n      <td>1</td>\n      <td>2</td>\n      <td>W./C. 6607</td>\n      <td>23.4500</td>\n      <td>NaN</td>\n      <td>S</td>\n      <td>0</td>\n    </tr>\n  </tbody>\n</table>\n<p>263 rows × 13 columns</p>\n</div>"
     },
     "execution_count": 65,
     "metadata": {},
     "output_type": "execute_result"
    }
   ],
   "source": [
    "df[df['Age'].isnull()]"
   ]
  },
  {
   "cell_type": "markdown",
   "metadata": {},
   "source": [
    "### 3. Pay attention to the Name feature, where except name, there is title/position. So, based on this feature we can determine missing data for Age feature.\n",
    "### First of all, show Name feature. So, in GetTitle(name) method you have to split the name till comma, then again split till dot, next convert the title to lower case and finally return this value of the title."
   ]
  },
  {
   "cell_type": "code",
   "execution_count": 66,
   "outputs": [
    {
     "data": {
      "text/plain": "0                                   Kelly, Mr. James\n1                   Wilkes, Mrs. James (Ellen Needs)\n2                          Myles, Mr. Thomas Francis\n3                                   Wirz, Mr. Albert\n4       Hirvonen, Mrs. Alexander (Helga E Lindqvist)\n                            ...                     \n1304                           Montvila, Rev. Juozas\n1305                    Graham, Miss. Margaret Edith\n1306        Johnston, Miss. Catherine Helen \"Carrie\"\n1307                           Behr, Mr. Karl Howell\n1308                             Dooley, Mr. Patrick\nName: Name, Length: 1309, dtype: object"
     },
     "execution_count": 66,
     "metadata": {},
     "output_type": "execute_result"
    }
   ],
   "source": [
    "df['Name']"
   ],
   "metadata": {
    "collapsed": false,
    "ExecuteTime": {
     "end_time": "2024-09-21T08:40:43.301137500Z",
     "start_time": "2024-09-21T08:40:41.031069300Z"
    }
   }
  },
  {
   "cell_type": "code",
   "execution_count": 67,
   "outputs": [],
   "source": [
    "copy_df = df.copy()"
   ],
   "metadata": {
    "collapsed": false,
    "ExecuteTime": {
     "end_time": "2024-09-21T08:40:43.301137500Z",
     "start_time": "2024-09-21T08:40:41.042069300Z"
    }
   }
  },
  {
   "cell_type": "markdown",
   "metadata": {},
   "source": [
    "### 4. Use the method GetTitle() for each name in the dataframe."
   ]
  },
  {
   "cell_type": "code",
   "execution_count": 68,
   "metadata": {
    "ExecuteTime": {
     "end_time": "2024-09-21T08:40:43.301137500Z",
     "start_time": "2024-09-21T08:40:41.055356900Z"
    }
   },
   "outputs": [],
   "source": [
    "def GetTitle(name):\n",
    "    surname = name.split(',')[0].strip()\n",
    "    title_part = name.split(',')[1]\n",
    "    title = title_part.split('.')[0].strip().lower()\n",
    "    given_name = title_part.split('.')[1].strip()\n",
    "    full_name = f\"{surname} {given_name}\"\n",
    "    return title, full_name"
   ]
  },
  {
   "cell_type": "code",
   "execution_count": 69,
   "metadata": {
    "ExecuteTime": {
     "end_time": "2024-09-21T08:40:43.352163100Z",
     "start_time": "2024-09-21T08:40:41.063586300Z"
    }
   },
   "outputs": [
    {
     "data": {
      "text/plain": "      Unnamed: 0  PassengerId  Pclass     Sex   Age  SibSp  Parch      Ticket  \\\n0              0          892       3    male  34.5      0      0      330911   \n1              1          893       3  female  47.0      1      0      363272   \n2              2          894       2    male  62.0      0      0      240276   \n3              3          895       3    male  27.0      0      0      315154   \n4              4          896       3  female  22.0      1      1     3101298   \n...          ...          ...     ...     ...   ...    ...    ...         ...   \n1304         886          887       2    male  27.0      0      0      211536   \n1305         887          888       1  female  19.0      0      0      112053   \n1306         888          889       3  female   NaN      1      2  W./C. 6607   \n1307         889          890       1    male  26.0      0      0      111369   \n1308         890          891       3    male  32.0      0      0      370376   \n\n         Fare Cabin Embarked  Survived Title  \\\n0      7.8292   NaN        Q      -999    mr   \n1      7.0000   NaN        S      -999   mrs   \n2      9.6875   NaN        Q      -999    mr   \n3      8.6625   NaN        S      -999    mr   \n4     12.2875   NaN        S      -999   mrs   \n...       ...   ...      ...       ...   ...   \n1304  13.0000   NaN        S         0   rev   \n1305  30.0000   B42        S         1  miss   \n1306  23.4500   NaN        S         0  miss   \n1307  30.0000  C148        C         1    mr   \n1308   7.7500   NaN        Q         0    mr   \n\n                                    FullName  \n0                                Kelly James  \n1                 Wilkes James (Ellen Needs)  \n2                       Myles Thomas Francis  \n3                                Wirz Albert  \n4     Hirvonen Alexander (Helga E Lindqvist)  \n...                                      ...  \n1304                         Montvila Juozas  \n1305                   Graham Margaret Edith  \n1306       Johnston Catherine Helen \"Carrie\"  \n1307                        Behr Karl Howell  \n1308                          Dooley Patrick  \n\n[1309 rows x 14 columns]",
      "text/html": "<div>\n<style scoped>\n    .dataframe tbody tr th:only-of-type {\n        vertical-align: middle;\n    }\n\n    .dataframe tbody tr th {\n        vertical-align: top;\n    }\n\n    .dataframe thead th {\n        text-align: right;\n    }\n</style>\n<table border=\"1\" class=\"dataframe\">\n  <thead>\n    <tr style=\"text-align: right;\">\n      <th></th>\n      <th>Unnamed: 0</th>\n      <th>PassengerId</th>\n      <th>Pclass</th>\n      <th>Sex</th>\n      <th>Age</th>\n      <th>SibSp</th>\n      <th>Parch</th>\n      <th>Ticket</th>\n      <th>Fare</th>\n      <th>Cabin</th>\n      <th>Embarked</th>\n      <th>Survived</th>\n      <th>Title</th>\n      <th>FullName</th>\n    </tr>\n  </thead>\n  <tbody>\n    <tr>\n      <th>0</th>\n      <td>0</td>\n      <td>892</td>\n      <td>3</td>\n      <td>male</td>\n      <td>34.5</td>\n      <td>0</td>\n      <td>0</td>\n      <td>330911</td>\n      <td>7.8292</td>\n      <td>NaN</td>\n      <td>Q</td>\n      <td>-999</td>\n      <td>mr</td>\n      <td>Kelly James</td>\n    </tr>\n    <tr>\n      <th>1</th>\n      <td>1</td>\n      <td>893</td>\n      <td>3</td>\n      <td>female</td>\n      <td>47.0</td>\n      <td>1</td>\n      <td>0</td>\n      <td>363272</td>\n      <td>7.0000</td>\n      <td>NaN</td>\n      <td>S</td>\n      <td>-999</td>\n      <td>mrs</td>\n      <td>Wilkes James (Ellen Needs)</td>\n    </tr>\n    <tr>\n      <th>2</th>\n      <td>2</td>\n      <td>894</td>\n      <td>2</td>\n      <td>male</td>\n      <td>62.0</td>\n      <td>0</td>\n      <td>0</td>\n      <td>240276</td>\n      <td>9.6875</td>\n      <td>NaN</td>\n      <td>Q</td>\n      <td>-999</td>\n      <td>mr</td>\n      <td>Myles Thomas Francis</td>\n    </tr>\n    <tr>\n      <th>3</th>\n      <td>3</td>\n      <td>895</td>\n      <td>3</td>\n      <td>male</td>\n      <td>27.0</td>\n      <td>0</td>\n      <td>0</td>\n      <td>315154</td>\n      <td>8.6625</td>\n      <td>NaN</td>\n      <td>S</td>\n      <td>-999</td>\n      <td>mr</td>\n      <td>Wirz Albert</td>\n    </tr>\n    <tr>\n      <th>4</th>\n      <td>4</td>\n      <td>896</td>\n      <td>3</td>\n      <td>female</td>\n      <td>22.0</td>\n      <td>1</td>\n      <td>1</td>\n      <td>3101298</td>\n      <td>12.2875</td>\n      <td>NaN</td>\n      <td>S</td>\n      <td>-999</td>\n      <td>mrs</td>\n      <td>Hirvonen Alexander (Helga E Lindqvist)</td>\n    </tr>\n    <tr>\n      <th>...</th>\n      <td>...</td>\n      <td>...</td>\n      <td>...</td>\n      <td>...</td>\n      <td>...</td>\n      <td>...</td>\n      <td>...</td>\n      <td>...</td>\n      <td>...</td>\n      <td>...</td>\n      <td>...</td>\n      <td>...</td>\n      <td>...</td>\n      <td>...</td>\n    </tr>\n    <tr>\n      <th>1304</th>\n      <td>886</td>\n      <td>887</td>\n      <td>2</td>\n      <td>male</td>\n      <td>27.0</td>\n      <td>0</td>\n      <td>0</td>\n      <td>211536</td>\n      <td>13.0000</td>\n      <td>NaN</td>\n      <td>S</td>\n      <td>0</td>\n      <td>rev</td>\n      <td>Montvila Juozas</td>\n    </tr>\n    <tr>\n      <th>1305</th>\n      <td>887</td>\n      <td>888</td>\n      <td>1</td>\n      <td>female</td>\n      <td>19.0</td>\n      <td>0</td>\n      <td>0</td>\n      <td>112053</td>\n      <td>30.0000</td>\n      <td>B42</td>\n      <td>S</td>\n      <td>1</td>\n      <td>miss</td>\n      <td>Graham Margaret Edith</td>\n    </tr>\n    <tr>\n      <th>1306</th>\n      <td>888</td>\n      <td>889</td>\n      <td>3</td>\n      <td>female</td>\n      <td>NaN</td>\n      <td>1</td>\n      <td>2</td>\n      <td>W./C. 6607</td>\n      <td>23.4500</td>\n      <td>NaN</td>\n      <td>S</td>\n      <td>0</td>\n      <td>miss</td>\n      <td>Johnston Catherine Helen \"Carrie\"</td>\n    </tr>\n    <tr>\n      <th>1307</th>\n      <td>889</td>\n      <td>890</td>\n      <td>1</td>\n      <td>male</td>\n      <td>26.0</td>\n      <td>0</td>\n      <td>0</td>\n      <td>111369</td>\n      <td>30.0000</td>\n      <td>C148</td>\n      <td>C</td>\n      <td>1</td>\n      <td>mr</td>\n      <td>Behr Karl Howell</td>\n    </tr>\n    <tr>\n      <th>1308</th>\n      <td>890</td>\n      <td>891</td>\n      <td>3</td>\n      <td>male</td>\n      <td>32.0</td>\n      <td>0</td>\n      <td>0</td>\n      <td>370376</td>\n      <td>7.7500</td>\n      <td>NaN</td>\n      <td>Q</td>\n      <td>0</td>\n      <td>mr</td>\n      <td>Dooley Patrick</td>\n    </tr>\n  </tbody>\n</table>\n<p>1309 rows × 14 columns</p>\n</div>"
     },
     "execution_count": 69,
     "metadata": {},
     "output_type": "execute_result"
    }
   ],
   "source": [
    "df['Title'], df['FullName'] = zip(*df['Name'].apply(GetTitle))\n",
    "df.drop(columns=['Name'], inplace=True)\n",
    "df"
   ]
  },
  {
   "cell_type": "markdown",
   "metadata": {},
   "source": [
    "### 5. Now, for previous task use unique() method to get unique values of titles from the dataframe."
   ]
  },
  {
   "cell_type": "code",
   "execution_count": 70,
   "metadata": {
    "ExecuteTime": {
     "end_time": "2024-09-21T08:40:43.358520100Z",
     "start_time": "2024-09-21T08:40:41.095257800Z"
    }
   },
   "outputs": [
    {
     "data": {
      "text/plain": "array(['mr', 'mrs', 'miss', 'master', 'ms', 'col', 'rev', 'dr', 'dona',\n       'don', 'mme', 'major', 'lady', 'sir', 'mlle', 'capt',\n       'the countess', 'jonkheer'], dtype=object)"
     },
     "execution_count": 70,
     "metadata": {},
     "output_type": "execute_result"
    }
   ],
   "source": [
    "df['Title'].unique()"
   ]
  },
  {
   "cell_type": "markdown",
   "metadata": {},
   "source": [
    "### 6.Some of the values mean the same, like 'Lady' and 'Dona, it is recommended you to join such kind of values into one. As a result change the method GetTitle(),which will extract the title from the name, however, that time here will be only shorcut values of titles. Use given dict \n",
    "                {'mr' : 'Mr', \n",
    "               'mrs' : 'Mrs', \n",
    "               'miss' : 'Miss', \n",
    "               'master' : 'Master',\n",
    "               'don' : 'Sir',\n",
    "               'rev' : 'Sir',\n",
    "               'dr' : 'Officer',\n",
    "               'mme' : 'Mrs',\n",
    "               'ms' : 'Mrs',\n",
    "               'major' : 'Officer',\n",
    "               'lady' : 'Lady',\n",
    "               'sir' : 'Sir',\n",
    "               'mlle' : 'Miss',\n",
    "               'col' : 'Officer',\n",
    "               'capt' : 'Officer',\n",
    "               'the countess' : 'Lady',\n",
    "               'jonkheer' : 'Sir',\n",
    "               'dona' : 'Lady'\n",
    "                 }"
   ]
  },
  {
   "cell_type": "code",
   "execution_count": 71,
   "metadata": {
    "ExecuteTime": {
     "end_time": "2024-09-21T08:40:43.358520100Z",
     "start_time": "2024-09-21T08:40:41.109744200Z"
    }
   },
   "outputs": [],
   "source": [
    "title_dict = {'mr' : 'Mr',\n",
    "               'mrs' : 'Mrs',\n",
    "               'miss' : 'Miss',\n",
    "               'master' : 'Master',\n",
    "               'don' : 'Sir',\n",
    "               'rev' : 'Sir',\n",
    "               'dr' : 'Officer',\n",
    "               'mme' : 'Mrs',\n",
    "               'ms' : 'Mrs',\n",
    "               'major' : 'Officer',\n",
    "               'lady' : 'Lady',\n",
    "               'sir' : 'Sir',\n",
    "               'mlle' : 'Miss',\n",
    "               'col' : 'Officer',\n",
    "               'capt' : 'Officer',\n",
    "               'the countess' : 'Lady',\n",
    "               'jonkheer' : 'Sir',\n",
    "               'dona' : 'Lady'\n",
    "                 }"
   ]
  },
  {
   "cell_type": "code",
   "execution_count": 72,
   "metadata": {
    "ExecuteTime": {
     "end_time": "2024-09-21T08:40:43.358520100Z",
     "start_time": "2024-09-21T08:40:41.119433500Z"
    }
   },
   "outputs": [],
   "source": [
    "def GetTitle(name):\n",
    "    surname = name.split(',')[0].strip()\n",
    "    title_part = name.split(',')[1]\n",
    "    title = title_part.split('.')[0].strip().lower()\n",
    "    title = title_dict.get(title, title.capitalize())\n",
    "    given_name = title_part.split('.')[1].strip()\n",
    "    full_name = f\"{surname} {given_name}\"\n",
    "    return title, full_name\n",
    "\n",
    "copy_df['Title'], copy_df['FullName'] = zip(*copy_df['Name'].apply(GetTitle))"
   ]
  },
  {
   "cell_type": "code",
   "execution_count": 73,
   "outputs": [
    {
     "data": {
      "text/plain": "array(['Mr', 'Mrs', 'Miss', 'Master', 'Officer', 'Sir', 'Lady'],\n      dtype=object)"
     },
     "execution_count": 73,
     "metadata": {},
     "output_type": "execute_result"
    }
   ],
   "source": [
    "copy_df['Title'].unique()"
   ],
   "metadata": {
    "collapsed": false,
    "ExecuteTime": {
     "end_time": "2024-09-21T08:40:43.472572700Z",
     "start_time": "2024-09-21T08:40:41.127556700Z"
    }
   }
  },
  {
   "cell_type": "markdown",
   "metadata": {},
   "source": [
    "### 7. Here, create a new feature, called 'Title'. Use the changed method GetTitle() for each name in the dataframe."
   ]
  },
  {
   "cell_type": "code",
   "execution_count": 74,
   "metadata": {
    "ExecuteTime": {
     "end_time": "2024-09-21T08:40:43.472572700Z",
     "start_time": "2024-09-21T08:40:41.142433200Z"
    }
   },
   "outputs": [
    {
     "data": {
      "text/plain": "      Unnamed: 0  PassengerId  Pclass  \\\n0              0          892       3   \n1              1          893       3   \n2              2          894       2   \n3              3          895       3   \n4              4          896       3   \n...          ...          ...     ...   \n1304         886          887       2   \n1305         887          888       1   \n1306         888          889       3   \n1307         889          890       1   \n1308         890          891       3   \n\n                                              Name     Sex   Age  SibSp  \\\n0                                 Kelly, Mr. James    male  34.5      0   \n1                 Wilkes, Mrs. James (Ellen Needs)  female  47.0      1   \n2                        Myles, Mr. Thomas Francis    male  62.0      0   \n3                                 Wirz, Mr. Albert    male  27.0      0   \n4     Hirvonen, Mrs. Alexander (Helga E Lindqvist)  female  22.0      1   \n...                                            ...     ...   ...    ...   \n1304                         Montvila, Rev. Juozas    male  27.0      0   \n1305                  Graham, Miss. Margaret Edith  female  19.0      0   \n1306      Johnston, Miss. Catherine Helen \"Carrie\"  female   NaN      1   \n1307                         Behr, Mr. Karl Howell    male  26.0      0   \n1308                           Dooley, Mr. Patrick    male  32.0      0   \n\n      Parch      Ticket     Fare Cabin Embarked  Survived Title  \\\n0         0      330911   7.8292   NaN        Q      -999    Mr   \n1         0      363272   7.0000   NaN        S      -999   Mrs   \n2         0      240276   9.6875   NaN        Q      -999    Mr   \n3         0      315154   8.6625   NaN        S      -999    Mr   \n4         1     3101298  12.2875   NaN        S      -999   Mrs   \n...     ...         ...      ...   ...      ...       ...   ...   \n1304      0      211536  13.0000   NaN        S         0   Sir   \n1305      0      112053  30.0000   B42        S         1  Miss   \n1306      2  W./C. 6607  23.4500   NaN        S         0  Miss   \n1307      0      111369  30.0000  C148        C         1    Mr   \n1308      0      370376   7.7500   NaN        Q         0    Mr   \n\n                                    FullName  \n0                                Kelly James  \n1                 Wilkes James (Ellen Needs)  \n2                       Myles Thomas Francis  \n3                                Wirz Albert  \n4     Hirvonen Alexander (Helga E Lindqvist)  \n...                                      ...  \n1304                         Montvila Juozas  \n1305                   Graham Margaret Edith  \n1306       Johnston Catherine Helen \"Carrie\"  \n1307                        Behr Karl Howell  \n1308                          Dooley Patrick  \n\n[1309 rows x 15 columns]",
      "text/html": "<div>\n<style scoped>\n    .dataframe tbody tr th:only-of-type {\n        vertical-align: middle;\n    }\n\n    .dataframe tbody tr th {\n        vertical-align: top;\n    }\n\n    .dataframe thead th {\n        text-align: right;\n    }\n</style>\n<table border=\"1\" class=\"dataframe\">\n  <thead>\n    <tr style=\"text-align: right;\">\n      <th></th>\n      <th>Unnamed: 0</th>\n      <th>PassengerId</th>\n      <th>Pclass</th>\n      <th>Name</th>\n      <th>Sex</th>\n      <th>Age</th>\n      <th>SibSp</th>\n      <th>Parch</th>\n      <th>Ticket</th>\n      <th>Fare</th>\n      <th>Cabin</th>\n      <th>Embarked</th>\n      <th>Survived</th>\n      <th>Title</th>\n      <th>FullName</th>\n    </tr>\n  </thead>\n  <tbody>\n    <tr>\n      <th>0</th>\n      <td>0</td>\n      <td>892</td>\n      <td>3</td>\n      <td>Kelly, Mr. James</td>\n      <td>male</td>\n      <td>34.5</td>\n      <td>0</td>\n      <td>0</td>\n      <td>330911</td>\n      <td>7.8292</td>\n      <td>NaN</td>\n      <td>Q</td>\n      <td>-999</td>\n      <td>Mr</td>\n      <td>Kelly James</td>\n    </tr>\n    <tr>\n      <th>1</th>\n      <td>1</td>\n      <td>893</td>\n      <td>3</td>\n      <td>Wilkes, Mrs. James (Ellen Needs)</td>\n      <td>female</td>\n      <td>47.0</td>\n      <td>1</td>\n      <td>0</td>\n      <td>363272</td>\n      <td>7.0000</td>\n      <td>NaN</td>\n      <td>S</td>\n      <td>-999</td>\n      <td>Mrs</td>\n      <td>Wilkes James (Ellen Needs)</td>\n    </tr>\n    <tr>\n      <th>2</th>\n      <td>2</td>\n      <td>894</td>\n      <td>2</td>\n      <td>Myles, Mr. Thomas Francis</td>\n      <td>male</td>\n      <td>62.0</td>\n      <td>0</td>\n      <td>0</td>\n      <td>240276</td>\n      <td>9.6875</td>\n      <td>NaN</td>\n      <td>Q</td>\n      <td>-999</td>\n      <td>Mr</td>\n      <td>Myles Thomas Francis</td>\n    </tr>\n    <tr>\n      <th>3</th>\n      <td>3</td>\n      <td>895</td>\n      <td>3</td>\n      <td>Wirz, Mr. Albert</td>\n      <td>male</td>\n      <td>27.0</td>\n      <td>0</td>\n      <td>0</td>\n      <td>315154</td>\n      <td>8.6625</td>\n      <td>NaN</td>\n      <td>S</td>\n      <td>-999</td>\n      <td>Mr</td>\n      <td>Wirz Albert</td>\n    </tr>\n    <tr>\n      <th>4</th>\n      <td>4</td>\n      <td>896</td>\n      <td>3</td>\n      <td>Hirvonen, Mrs. Alexander (Helga E Lindqvist)</td>\n      <td>female</td>\n      <td>22.0</td>\n      <td>1</td>\n      <td>1</td>\n      <td>3101298</td>\n      <td>12.2875</td>\n      <td>NaN</td>\n      <td>S</td>\n      <td>-999</td>\n      <td>Mrs</td>\n      <td>Hirvonen Alexander (Helga E Lindqvist)</td>\n    </tr>\n    <tr>\n      <th>...</th>\n      <td>...</td>\n      <td>...</td>\n      <td>...</td>\n      <td>...</td>\n      <td>...</td>\n      <td>...</td>\n      <td>...</td>\n      <td>...</td>\n      <td>...</td>\n      <td>...</td>\n      <td>...</td>\n      <td>...</td>\n      <td>...</td>\n      <td>...</td>\n      <td>...</td>\n    </tr>\n    <tr>\n      <th>1304</th>\n      <td>886</td>\n      <td>887</td>\n      <td>2</td>\n      <td>Montvila, Rev. Juozas</td>\n      <td>male</td>\n      <td>27.0</td>\n      <td>0</td>\n      <td>0</td>\n      <td>211536</td>\n      <td>13.0000</td>\n      <td>NaN</td>\n      <td>S</td>\n      <td>0</td>\n      <td>Sir</td>\n      <td>Montvila Juozas</td>\n    </tr>\n    <tr>\n      <th>1305</th>\n      <td>887</td>\n      <td>888</td>\n      <td>1</td>\n      <td>Graham, Miss. Margaret Edith</td>\n      <td>female</td>\n      <td>19.0</td>\n      <td>0</td>\n      <td>0</td>\n      <td>112053</td>\n      <td>30.0000</td>\n      <td>B42</td>\n      <td>S</td>\n      <td>1</td>\n      <td>Miss</td>\n      <td>Graham Margaret Edith</td>\n    </tr>\n    <tr>\n      <th>1306</th>\n      <td>888</td>\n      <td>889</td>\n      <td>3</td>\n      <td>Johnston, Miss. Catherine Helen \"Carrie\"</td>\n      <td>female</td>\n      <td>NaN</td>\n      <td>1</td>\n      <td>2</td>\n      <td>W./C. 6607</td>\n      <td>23.4500</td>\n      <td>NaN</td>\n      <td>S</td>\n      <td>0</td>\n      <td>Miss</td>\n      <td>Johnston Catherine Helen \"Carrie\"</td>\n    </tr>\n    <tr>\n      <th>1307</th>\n      <td>889</td>\n      <td>890</td>\n      <td>1</td>\n      <td>Behr, Mr. Karl Howell</td>\n      <td>male</td>\n      <td>26.0</td>\n      <td>0</td>\n      <td>0</td>\n      <td>111369</td>\n      <td>30.0000</td>\n      <td>C148</td>\n      <td>C</td>\n      <td>1</td>\n      <td>Mr</td>\n      <td>Behr Karl Howell</td>\n    </tr>\n    <tr>\n      <th>1308</th>\n      <td>890</td>\n      <td>891</td>\n      <td>3</td>\n      <td>Dooley, Mr. Patrick</td>\n      <td>male</td>\n      <td>32.0</td>\n      <td>0</td>\n      <td>0</td>\n      <td>370376</td>\n      <td>7.7500</td>\n      <td>NaN</td>\n      <td>Q</td>\n      <td>0</td>\n      <td>Mr</td>\n      <td>Dooley Patrick</td>\n    </tr>\n  </tbody>\n</table>\n<p>1309 rows × 15 columns</p>\n</div>"
     },
     "execution_count": 74,
     "metadata": {},
     "output_type": "execute_result"
    }
   ],
   "source": [
    "# Sorry i already use that\n",
    "copy_df"
   ]
  },
  {
   "cell_type": "markdown",
   "metadata": {},
   "source": [
    "### 8. Create a boxplot, that grouped by Age and Title features and use only not null values of Age feature. Make conclusion based on this boxplot. "
   ]
  },
  {
   "cell_type": "code",
   "execution_count": 75,
   "metadata": {
    "ExecuteTime": {
     "end_time": "2024-09-21T08:40:43.472572700Z",
     "start_time": "2024-09-21T08:40:41.170064700Z"
    }
   },
   "outputs": [],
   "source": [
    "import matplotlib.pyplot as plt\n",
    "import seaborn as sns"
   ]
  },
  {
   "cell_type": "code",
   "execution_count": 76,
   "metadata": {
    "ExecuteTime": {
     "end_time": "2024-09-21T08:40:43.646601800Z",
     "start_time": "2024-09-21T08:40:41.175563700Z"
    }
   },
   "outputs": [
    {
     "data": {
      "text/plain": "<Figure size 1200x600 with 1 Axes>",
      "image/png": "[encoded data removed]"
     },
     "metadata": {},
     "output_type": "display_data"
    }
   ],
   "source": [
    "new_age = copy_df[copy_df['Age'].notnull()]\n",
    "plt.figure(figsize=(12, 6))\n",
    "sns.boxplot(x='Title', y='Age', data=new_age)\n",
    "plt.title('Boxplot of Age grouped by Title')\n",
    "plt.xticks(rotation=45)\n",
    "plt.show()"
   ]
  },
  {
   "cell_type": "markdown",
   "source": [
    "#### Conclusion:\n",
    "1. Mr: Age is mainly from 30 to 40, with a few outliers over 60.\n",
    "2. Mrs: Age in the range of 35-50 years.\n",
    "3. Miss: A wide range, but most in the range of 20-30 years.\n",
    "4. Master: The age is focused on children under 15 years old.\n",
    "5. Officer and Sir: Mostly over 40 years old.\n",
    "6. Lady: Age about 45 years old."
   ],
   "metadata": {
    "collapsed": false
   }
  },
  {
   "cell_type": "markdown",
   "metadata": {},
   "source": [
    "### 9. Create a variable title_age_median and initialize it by grouping data by Title and get Age, then call median() method on self producing a DataFrame with transformed values using transform() method. "
   ]
  },
  {
   "cell_type": "code",
   "execution_count": 77,
   "metadata": {
    "ExecuteTime": {
     "end_time": "2024-09-21T08:40:43.660596300Z",
     "start_time": "2024-09-21T08:40:41.538200300Z"
    }
   },
   "outputs": [
    {
     "data": {
      "text/plain": "0       29.0\n1       35.0\n2       29.0\n3       29.0\n4       35.0\n        ... \n1304    41.0\n1305    22.0\n1306    22.0\n1307    29.0\n1308    29.0\nName: Age, Length: 1309, dtype: float64"
     },
     "execution_count": 77,
     "metadata": {},
     "output_type": "execute_result"
    }
   ],
   "source": [
    "title_age_median = copy_df.groupby('Title')['Age'].transform('median')\n",
    "title_age_median"
   ]
  },
  {
   "cell_type": "markdown",
   "metadata": {},
   "source": [
    "### 10. Fill missing data for Age feature with title_age_median, don't forget about inplace argument."
   ]
  },
  {
   "cell_type": "code",
   "execution_count": 78,
   "metadata": {
    "ExecuteTime": {
     "end_time": "2024-09-21T08:40:43.660596300Z",
     "start_time": "2024-09-21T08:40:41.553053900Z"
    }
   },
   "outputs": [
    {
     "name": "stderr",
     "output_type": "stream",
     "text": [
      "C:\\Users\\santa\\AppData\\Local\\Temp\\ipykernel_6068\\2211806132.py:1: FutureWarning: A value is trying to be set on a copy of a DataFrame or Series through chained assignment using an inplace method.\n",
      "The behavior will change in pandas 3.0. This inplace method will never work because the intermediate object on which we are setting values always behaves as a copy.\n",
      "\n",
      "For example, when doing 'df[col].method(value, inplace=True)', try using 'df.method({col: value}, inplace=True)' or df[col] = df[col].method(value) instead, to perform the operation inplace on the original object.\n",
      "\n",
      "\n",
      "  copy_df['Age'].fillna(title_age_median, inplace=True)\n"
     ]
    },
    {
     "data": {
      "text/plain": "np.int64(0)"
     },
     "execution_count": 78,
     "metadata": {},
     "output_type": "execute_result"
    }
   ],
   "source": [
    "copy_df['Age'].fillna(title_age_median, inplace=True)\n",
    "copy_df['Age'].isnull().sum() # if 0 then ok"
   ]
  },
  {
   "cell_type": "markdown",
   "metadata": {},
   "source": [
    "### 11. Working with outliers. Build a histogram for Age feature and use this histogram to get understand the distribution. What can you say about distribution?"
   ]
  },
  {
   "cell_type": "code",
   "execution_count": 79,
   "metadata": {
    "ExecuteTime": {
     "end_time": "2024-09-21T08:40:43.922604200Z",
     "start_time": "2024-09-21T08:40:41.568222900Z"
    }
   },
   "outputs": [
    {
     "data": {
      "text/plain": "<Figure size 640x480 with 1 Axes>",
      "image/png": "[encoded data removed]"
     },
     "metadata": {},
     "output_type": "display_data"
    }
   ],
   "source": [
    "plt.hist(copy_df['Age'], bins=30, edgecolor='black')\n",
    "plt.title('Distribution of Age')\n",
    "plt.xlabel('Age')\n",
    "plt.ylabel('Frequency')\n",
    "plt.grid(True)"
   ]
  },
  {
   "cell_type": "markdown",
   "source": [
    "#### Conclusion: (positive shift). Most passengers are in the 20-40 age range, with a peak around the age of 30. Some emissions are also visible in the younger and older age areas."
   ],
   "metadata": {
    "collapsed": false
   }
  },
  {
   "cell_type": "markdown",
   "metadata": {},
   "source": [
    "### 12. Show passengers, who are over 70 years old."
   ]
  },
  {
   "cell_type": "code",
   "execution_count": 80,
   "metadata": {
    "ExecuteTime": {
     "end_time": "2024-09-21T08:40:43.922604200Z",
     "start_time": "2024-09-21T08:40:41.933544800Z"
    }
   },
   "outputs": [
    {
     "data": {
      "text/plain": "      Unnamed: 0  PassengerId  Pclass  \\\n96            96          988       1   \n514           96           97       1   \n534          116          117       3   \n911          493          494       1   \n1048         630          631       1   \n1269         851          852       3   \n\n                                                   Name     Sex   Age  SibSp  \\\n96    Cavendish, Mrs. Tyrell William (Julia Florence...  female  76.0      1   \n514                           Goldschmidt, Mr. George B    male  71.0      0   \n534                                Connors, Mr. Patrick    male  70.5      0   \n911                             Artagaveytia, Mr. Ramon    male  71.0      0   \n1048               Barkworth, Mr. Algernon Henry Wilson    male  80.0      0   \n1269                                Svensson, Mr. Johan    male  74.0      0   \n\n      Parch    Ticket     Fare Cabin Embarked  Survived Title  \\\n96        0     19877  78.8500   C46        S      -999   Mrs   \n514       0  PC 17754  34.6542    A5        C         0    Mr   \n534       0    370369   7.7500   NaN        Q         0    Mr   \n911       0  PC 17609  49.5042   NaN        C         0    Mr   \n1048      0     27042  30.0000   A23        S         1    Mr   \n1269      0    347060   7.7750   NaN        S         0    Mr   \n\n                                              FullName  \n96    Cavendish Tyrell William (Julia Florence Siegel)  \n514                               Goldschmidt George B  \n534                                    Connors Patrick  \n911                                 Artagaveytia Ramon  \n1048                   Barkworth Algernon Henry Wilson  \n1269                                    Svensson Johan  ",
      "text/html": "<div>\n<style scoped>\n    .dataframe tbody tr th:only-of-type {\n        vertical-align: middle;\n    }\n\n    .dataframe tbody tr th {\n        vertical-align: top;\n    }\n\n    .dataframe thead th {\n        text-align: right;\n    }\n</style>\n<table border=\"1\" class=\"dataframe\">\n  <thead>\n    <tr style=\"text-align: right;\">\n      <th></th>\n      <th>Unnamed: 0</th>\n      <th>PassengerId</th>\n      <th>Pclass</th>\n      <th>Name</th>\n      <th>Sex</th>\n      <th>Age</th>\n      <th>SibSp</th>\n      <th>Parch</th>\n      <th>Ticket</th>\n      <th>Fare</th>\n      <th>Cabin</th>\n      <th>Embarked</th>\n      <th>Survived</th>\n      <th>Title</th>\n      <th>FullName</th>\n    </tr>\n  </thead>\n  <tbody>\n    <tr>\n      <th>96</th>\n      <td>96</td>\n      <td>988</td>\n      <td>1</td>\n      <td>Cavendish, Mrs. Tyrell William (Julia Florence...</td>\n      <td>female</td>\n      <td>76.0</td>\n      <td>1</td>\n      <td>0</td>\n      <td>19877</td>\n      <td>78.8500</td>\n      <td>C46</td>\n      <td>S</td>\n      <td>-999</td>\n      <td>Mrs</td>\n      <td>Cavendish Tyrell William (Julia Florence Siegel)</td>\n    </tr>\n    <tr>\n      <th>514</th>\n      <td>96</td>\n      <td>97</td>\n      <td>1</td>\n      <td>Goldschmidt, Mr. George B</td>\n      <td>male</td>\n      <td>71.0</td>\n      <td>0</td>\n      <td>0</td>\n      <td>PC 17754</td>\n      <td>34.6542</td>\n      <td>A5</td>\n      <td>C</td>\n      <td>0</td>\n      <td>Mr</td>\n      <td>Goldschmidt George B</td>\n    </tr>\n    <tr>\n      <th>534</th>\n      <td>116</td>\n      <td>117</td>\n      <td>3</td>\n      <td>Connors, Mr. Patrick</td>\n      <td>male</td>\n      <td>70.5</td>\n      <td>0</td>\n      <td>0</td>\n      <td>370369</td>\n      <td>7.7500</td>\n      <td>NaN</td>\n      <td>Q</td>\n      <td>0</td>\n      <td>Mr</td>\n      <td>Connors Patrick</td>\n    </tr>\n    <tr>\n      <th>911</th>\n      <td>493</td>\n      <td>494</td>\n      <td>1</td>\n      <td>Artagaveytia, Mr. Ramon</td>\n      <td>male</td>\n      <td>71.0</td>\n      <td>0</td>\n      <td>0</td>\n      <td>PC 17609</td>\n      <td>49.5042</td>\n      <td>NaN</td>\n      <td>C</td>\n      <td>0</td>\n      <td>Mr</td>\n      <td>Artagaveytia Ramon</td>\n    </tr>\n    <tr>\n      <th>1048</th>\n      <td>630</td>\n      <td>631</td>\n      <td>1</td>\n      <td>Barkworth, Mr. Algernon Henry Wilson</td>\n      <td>male</td>\n      <td>80.0</td>\n      <td>0</td>\n      <td>0</td>\n      <td>27042</td>\n      <td>30.0000</td>\n      <td>A23</td>\n      <td>S</td>\n      <td>1</td>\n      <td>Mr</td>\n      <td>Barkworth Algernon Henry Wilson</td>\n    </tr>\n    <tr>\n      <th>1269</th>\n      <td>851</td>\n      <td>852</td>\n      <td>3</td>\n      <td>Svensson, Mr. Johan</td>\n      <td>male</td>\n      <td>74.0</td>\n      <td>0</td>\n      <td>0</td>\n      <td>347060</td>\n      <td>7.7750</td>\n      <td>NaN</td>\n      <td>S</td>\n      <td>0</td>\n      <td>Mr</td>\n      <td>Svensson Johan</td>\n    </tr>\n  </tbody>\n</table>\n</div>"
     },
     "execution_count": 80,
     "metadata": {},
     "output_type": "execute_result"
    }
   ],
   "source": [
    "copy_df[copy_df['Age'] > 70]"
   ]
  },
  {
   "cell_type": "markdown",
   "metadata": {},
   "source": [
    "### 13. Create a histogram for fare feature, set title 'Histogram for fare', set bins as 20 and set color. Make conclusion based on this histogram."
   ]
  },
  {
   "cell_type": "code",
   "execution_count": 81,
   "metadata": {
    "ExecuteTime": {
     "end_time": "2024-09-21T08:40:44.301917700Z",
     "start_time": "2024-09-21T08:40:41.958472800Z"
    }
   },
   "outputs": [
    {
     "data": {
      "text/plain": "<Figure size 1000x600 with 1 Axes>",
      "image/png": "[encoded data removed]"
     },
     "metadata": {},
     "output_type": "display_data"
    }
   ],
   "source": [
    "plt.figure(figsize=(10, 6))\n",
    "plt.hist(copy_df['Fare'], bins=20, color='red', edgecolor='black')\n",
    "plt.title('Histogram for Fare')\n",
    "plt.xlabel('Fare')\n",
    "plt.ylabel('Frequency')\n",
    "plt.grid(True)"
   ]
  },
  {
   "cell_type": "markdown",
   "source": [
    "#### Conclusion : Most of passengers pay to ticket about 50$"
   ],
   "metadata": {
    "collapsed": false
   }
  },
  {
   "cell_type": "markdown",
   "metadata": {},
   "source": [
    "### 14. Create a boxplot for Fare feature to indentify outliers, what can you say based on this boxplot?"
   ]
  },
  {
   "cell_type": "code",
   "execution_count": 82,
   "metadata": {
    "ExecuteTime": {
     "end_time": "2024-09-21T08:40:44.366199Z",
     "start_time": "2024-09-21T08:40:42.324228400Z"
    }
   },
   "outputs": [
    {
     "data": {
      "text/plain": "<Figure size 1200x600 with 1 Axes>",
      "image/png": "[encoded data removed]"
     },
     "metadata": {},
     "output_type": "display_data"
    },
    {
     "data": {
      "text/plain": "count    1309.000000\nmean       33.276193\nstd        51.743584\nmin         0.000000\n25%         7.895800\n50%        14.454200\n75%        31.275000\nmax       512.329200\nName: Fare, dtype: float64"
     },
     "execution_count": 82,
     "metadata": {},
     "output_type": "execute_result"
    }
   ],
   "source": [
    "plt.figure(figsize=(12, 6))\n",
    "sns.boxplot(x=copy_df['Fare'], color='skyblue')\n",
    "plt.title('Boxplot for Fare')\n",
    "plt.show()\n",
    "\n",
    "copy_df['Fare'].describe()"
   ]
  },
  {
   "cell_type": "markdown",
   "source": [
    "#### Conclusion : Most of the passengers were poor people, but it is possible that the graph shows that there were also rich people who survived the Titanic crash"
   ],
   "metadata": {
    "collapsed": false
   }
  },
  {
   "cell_type": "markdown",
   "metadata": {},
   "source": [
    "### 15. To look into the outliers show the data, where Fare is maximum."
   ]
  },
  {
   "cell_type": "code",
   "execution_count": 83,
   "metadata": {
    "ExecuteTime": {
     "end_time": "2024-09-21T08:40:44.366199Z",
     "start_time": "2024-09-21T08:40:42.549387700Z"
    }
   },
   "outputs": [
    {
     "data": {
      "text/plain": "      Unnamed: 0  PassengerId  Pclass  \\\n343          343         1235       1   \n676          258          259       1   \n1097         679          680       1   \n1155         737          738       1   \n\n                                                   Name     Sex   Age  SibSp  \\\n343   Cardeza, Mrs. James Warburton Martinez (Charlo...  female  58.0      0   \n676                                    Ward, Miss. Anna  female  35.0      0   \n1097                 Cardeza, Mr. Thomas Drake Martinez    male  36.0      0   \n1155                             Lesurer, Mr. Gustave J    male  35.0      0   \n\n      Parch    Ticket      Fare        Cabin Embarked  Survived Title  \\\n343       1  PC 17755  512.3292  B51 B53 B55        C      -999   Mrs   \n676       0  PC 17755  512.3292          NaN        C         1  Miss   \n1097      1  PC 17755  512.3292  B51 B53 B55        C         1    Mr   \n1155      0  PC 17755  512.3292         B101        C         1    Mr   \n\n                                               FullName  \n343   Cardeza James Warburton Martinez (Charlotte Wa...  \n676                                           Ward Anna  \n1097                      Cardeza Thomas Drake Martinez  \n1155                                  Lesurer Gustave J  ",
      "text/html": "<div>\n<style scoped>\n    .dataframe tbody tr th:only-of-type {\n        vertical-align: middle;\n    }\n\n    .dataframe tbody tr th {\n        vertical-align: top;\n    }\n\n    .dataframe thead th {\n        text-align: right;\n    }\n</style>\n<table border=\"1\" class=\"dataframe\">\n  <thead>\n    <tr style=\"text-align: right;\">\n      <th></th>\n      <th>Unnamed: 0</th>\n      <th>PassengerId</th>\n      <th>Pclass</th>\n      <th>Name</th>\n      <th>Sex</th>\n      <th>Age</th>\n      <th>SibSp</th>\n      <th>Parch</th>\n      <th>Ticket</th>\n      <th>Fare</th>\n      <th>Cabin</th>\n      <th>Embarked</th>\n      <th>Survived</th>\n      <th>Title</th>\n      <th>FullName</th>\n    </tr>\n  </thead>\n  <tbody>\n    <tr>\n      <th>343</th>\n      <td>343</td>\n      <td>1235</td>\n      <td>1</td>\n      <td>Cardeza, Mrs. James Warburton Martinez (Charlo...</td>\n      <td>female</td>\n      <td>58.0</td>\n      <td>0</td>\n      <td>1</td>\n      <td>PC 17755</td>\n      <td>512.3292</td>\n      <td>B51 B53 B55</td>\n      <td>C</td>\n      <td>-999</td>\n      <td>Mrs</td>\n      <td>Cardeza James Warburton Martinez (Charlotte Wa...</td>\n    </tr>\n    <tr>\n      <th>676</th>\n      <td>258</td>\n      <td>259</td>\n      <td>1</td>\n      <td>Ward, Miss. Anna</td>\n      <td>female</td>\n      <td>35.0</td>\n      <td>0</td>\n      <td>0</td>\n      <td>PC 17755</td>\n      <td>512.3292</td>\n      <td>NaN</td>\n      <td>C</td>\n      <td>1</td>\n      <td>Miss</td>\n      <td>Ward Anna</td>\n    </tr>\n    <tr>\n      <th>1097</th>\n      <td>679</td>\n      <td>680</td>\n      <td>1</td>\n      <td>Cardeza, Mr. Thomas Drake Martinez</td>\n      <td>male</td>\n      <td>36.0</td>\n      <td>0</td>\n      <td>1</td>\n      <td>PC 17755</td>\n      <td>512.3292</td>\n      <td>B51 B53 B55</td>\n      <td>C</td>\n      <td>1</td>\n      <td>Mr</td>\n      <td>Cardeza Thomas Drake Martinez</td>\n    </tr>\n    <tr>\n      <th>1155</th>\n      <td>737</td>\n      <td>738</td>\n      <td>1</td>\n      <td>Lesurer, Mr. Gustave J</td>\n      <td>male</td>\n      <td>35.0</td>\n      <td>0</td>\n      <td>0</td>\n      <td>PC 17755</td>\n      <td>512.3292</td>\n      <td>B101</td>\n      <td>C</td>\n      <td>1</td>\n      <td>Mr</td>\n      <td>Lesurer Gustave J</td>\n    </tr>\n  </tbody>\n</table>\n</div>"
     },
     "execution_count": 83,
     "metadata": {},
     "output_type": "execute_result"
    }
   ],
   "source": [
    "copy_df[copy_df['Fare'] == copy_df['Fare'].max()]"
   ]
  },
  {
   "cell_type": "markdown",
   "metadata": {},
   "source": [
    "### 16. Next, let's try some transformations to reduce the skewness. Using the logarithm, let's convert the asymmetric data to more symmetric data. And notice to add 1 to accomodate zero fares : log(0) is not defined. Then show a histogram for the logarithm Fare."
   ]
  },
  {
   "cell_type": "code",
   "execution_count": 84,
   "metadata": {
    "ExecuteTime": {
     "end_time": "2024-09-21T08:40:44.367812400Z",
     "start_time": "2024-09-21T08:40:42.584884900Z"
    }
   },
   "outputs": [
    {
     "data": {
      "text/plain": "<Figure size 1000x600 with 1 Axes>",
      "image/png": "[encoded data removed]"
     },
     "metadata": {},
     "output_type": "display_data"
    }
   ],
   "source": [
    "import numpy as np\n",
    "\n",
    "copy_df['Fare_log'] = np.log1p(copy_df['Fare'])\n",
    "plt.figure(figsize=(10, 6))\n",
    "plt.hist(copy_df['Fare_log'], bins=20, color='skyblue', edgecolor='black')\n",
    "plt.title('Histogram for Logarithm of Fare')\n",
    "plt.xlabel('Log(Fare)')\n",
    "plt.ylabel('Frequency')\n",
    "plt.grid(True)"
   ]
  },
  {
   "cell_type": "code",
   "execution_count": 85,
   "outputs": [
    {
     "data": {
      "text/plain": "<Figure size 1000x600 with 1 Axes>",
      "image/png": "[encoded data removed]"
     },
     "metadata": {},
     "output_type": "display_data"
    }
   ],
   "source": [
    "copy_df['Fare_log'] = np.log(copy_df['Fare'] + 1)\n",
    "\n",
    "# Построение гистограммы для преобразованного столбца Fare_log\n",
    "plt.figure(figsize=(10, 6))\n",
    "plt.hist(copy_df['Fare_log'], bins=20, color='skyblue', edgecolor='black')\n",
    "plt.title('Histogram for Logarithm of Fare')\n",
    "plt.xlabel('Log(Fare)')\n",
    "plt.ylabel('Frequency')\n",
    "plt.grid(True)\n",
    "plt.show()"
   ],
   "metadata": {
    "collapsed": false,
    "ExecuteTime": {
     "end_time": "2024-09-21T08:40:45.652410400Z",
     "start_time": "2024-09-21T08:40:42.903406100Z"
    }
   }
  },
  {
   "cell_type": "markdown",
   "metadata": {},
   "source": [
    "### 17. Using qcut() function, quantile-based discretization function, discretize Fare variable into 4 equal-sized buckets. Produce a Categorical object indicating quantile membership for each data point like 'very_low', 'low', 'high', 'very_high' labels."
   ]
  },
  {
   "cell_type": "code",
   "execution_count": 86,
   "metadata": {
    "ExecuteTime": {
     "end_time": "2024-09-21T08:40:45.654448200Z",
     "start_time": "2024-09-21T08:40:43.376304300Z"
    }
   },
   "outputs": [
    {
     "data": {
      "text/plain": "      Fare Fare_bucket\n0   7.8292    very_low\n1   7.0000    very_low\n2   9.6875         low\n3   8.6625         low\n4  12.2875         low",
      "text/html": "<div>\n<style scoped>\n    .dataframe tbody tr th:only-of-type {\n        vertical-align: middle;\n    }\n\n    .dataframe tbody tr th {\n        vertical-align: top;\n    }\n\n    .dataframe thead th {\n        text-align: right;\n    }\n</style>\n<table border=\"1\" class=\"dataframe\">\n  <thead>\n    <tr style=\"text-align: right;\">\n      <th></th>\n      <th>Fare</th>\n      <th>Fare_bucket</th>\n    </tr>\n  </thead>\n  <tbody>\n    <tr>\n      <th>0</th>\n      <td>7.8292</td>\n      <td>very_low</td>\n    </tr>\n    <tr>\n      <th>1</th>\n      <td>7.0000</td>\n      <td>very_low</td>\n    </tr>\n    <tr>\n      <th>2</th>\n      <td>9.6875</td>\n      <td>low</td>\n    </tr>\n    <tr>\n      <th>3</th>\n      <td>8.6625</td>\n      <td>low</td>\n    </tr>\n    <tr>\n      <th>4</th>\n      <td>12.2875</td>\n      <td>low</td>\n    </tr>\n  </tbody>\n</table>\n</div>"
     },
     "execution_count": 86,
     "metadata": {},
     "output_type": "execute_result"
    }
   ],
   "source": [
    "fare_labels = ['very_low', 'low', 'high', 'very_high']\n",
    "copy_df['Fare_bucket'] = pd.qcut(copy_df['Fare'], q=4, labels=fare_labels)\n",
    "copy_df[['Fare', 'Fare_bucket']].head()"
   ]
  },
  {
   "cell_type": "markdown",
   "metadata": {},
   "source": [
    "### 18. Based on previous task, get value counts and build a barplot. "
   ]
  },
  {
   "cell_type": "code",
   "execution_count": 87,
   "metadata": {
    "ExecuteTime": {
     "end_time": "2024-09-21T08:40:45.726971700Z",
     "start_time": "2024-09-21T08:40:43.459926200Z"
    }
   },
   "outputs": [
    {
     "data": {
      "text/plain": "<Figure size 1000x600 with 1 Axes>",
      "image/png": "[encoded data removed]"
     },
     "metadata": {},
     "output_type": "display_data"
    }
   ],
   "source": [
    "plt.figure(figsize=(10, 6))\n",
    "copy_df['Fare_bucket'].value_counts().plot(kind='bar', color='skyblue', edgecolor='black')\n",
    "plt.title('Barplot of Fare Buckets')\n",
    "plt.xlabel('Fare Bucket')\n",
    "plt.ylabel('Frequency')\n",
    "plt.grid(True)\n"
   ]
  },
  {
   "cell_type": "markdown",
   "metadata": {},
   "source": [
    "### 19. Based on previous task, create a new feature, called Fare_Bin."
   ]
  },
  {
   "cell_type": "code",
   "execution_count": 88,
   "metadata": {
    "ExecuteTime": {
     "end_time": "2024-09-21T08:40:45.749605400Z",
     "start_time": "2024-09-21T08:40:43.763417Z"
    }
   },
   "outputs": [
    {
     "data": {
      "text/plain": "      Unnamed: 0  PassengerId  Pclass  \\\n0              0          892       3   \n1              1          893       3   \n2              2          894       2   \n3              3          895       3   \n4              4          896       3   \n...          ...          ...     ...   \n1304         886          887       2   \n1305         887          888       1   \n1306         888          889       3   \n1307         889          890       1   \n1308         890          891       3   \n\n                                              Name     Sex   Age  SibSp  \\\n0                                 Kelly, Mr. James    male  34.5      0   \n1                 Wilkes, Mrs. James (Ellen Needs)  female  47.0      1   \n2                        Myles, Mr. Thomas Francis    male  62.0      0   \n3                                 Wirz, Mr. Albert    male  27.0      0   \n4     Hirvonen, Mrs. Alexander (Helga E Lindqvist)  female  22.0      1   \n...                                            ...     ...   ...    ...   \n1304                         Montvila, Rev. Juozas    male  27.0      0   \n1305                  Graham, Miss. Margaret Edith  female  19.0      0   \n1306      Johnston, Miss. Catherine Helen \"Carrie\"  female  22.0      1   \n1307                         Behr, Mr. Karl Howell    male  26.0      0   \n1308                           Dooley, Mr. Patrick    male  32.0      0   \n\n      Parch      Ticket     Fare Cabin Embarked  Survived Title  \\\n0         0      330911   7.8292   NaN        Q      -999    Mr   \n1         0      363272   7.0000   NaN        S      -999   Mrs   \n2         0      240276   9.6875   NaN        Q      -999    Mr   \n3         0      315154   8.6625   NaN        S      -999    Mr   \n4         1     3101298  12.2875   NaN        S      -999   Mrs   \n...     ...         ...      ...   ...      ...       ...   ...   \n1304      0      211536  13.0000   NaN        S         0   Sir   \n1305      0      112053  30.0000   B42        S         1  Miss   \n1306      2  W./C. 6607  23.4500   NaN        S         0  Miss   \n1307      0      111369  30.0000  C148        C         1    Mr   \n1308      0      370376   7.7500   NaN        Q         0    Mr   \n\n                                    FullName  Fare_log Fare_bucket  Fare_Bin  \n0                                Kelly James  2.178064    very_low  very_low  \n1                 Wilkes James (Ellen Needs)  2.079442    very_low  very_low  \n2                       Myles Thomas Francis  2.369075         low       low  \n3                                Wirz Albert  2.268252         low       low  \n4     Hirvonen Alexander (Helga E Lindqvist)  2.586824         low       low  \n...                                      ...       ...         ...       ...  \n1304                         Montvila Juozas  2.639057         low       low  \n1305                   Graham Margaret Edith  3.433987        high      high  \n1306       Johnston Catherine Helen \"Carrie\"  3.196630        high      high  \n1307                        Behr Karl Howell  3.433987        high      high  \n1308                          Dooley Patrick  2.169054    very_low  very_low  \n\n[1309 rows x 18 columns]",
      "text/html": "<div>\n<style scoped>\n    .dataframe tbody tr th:only-of-type {\n        vertical-align: middle;\n    }\n\n    .dataframe tbody tr th {\n        vertical-align: top;\n    }\n\n    .dataframe thead th {\n        text-align: right;\n    }\n</style>\n<table border=\"1\" class=\"dataframe\">\n  <thead>\n    <tr style=\"text-align: right;\">\n      <th></th>\n      <th>Unnamed: 0</th>\n      <th>PassengerId</th>\n      <th>Pclass</th>\n      <th>Name</th>\n      <th>Sex</th>\n      <th>Age</th>\n      <th>SibSp</th>\n      <th>Parch</th>\n      <th>Ticket</th>\n      <th>Fare</th>\n      <th>Cabin</th>\n      <th>Embarked</th>\n      <th>Survived</th>\n      <th>Title</th>\n      <th>FullName</th>\n      <th>Fare_log</th>\n      <th>Fare_bucket</th>\n      <th>Fare_Bin</th>\n    </tr>\n  </thead>\n  <tbody>\n    <tr>\n      <th>0</th>\n      <td>0</td>\n      <td>892</td>\n      <td>3</td>\n      <td>Kelly, Mr. James</td>\n      <td>male</td>\n      <td>34.5</td>\n      <td>0</td>\n      <td>0</td>\n      <td>330911</td>\n      <td>7.8292</td>\n      <td>NaN</td>\n      <td>Q</td>\n      <td>-999</td>\n      <td>Mr</td>\n      <td>Kelly James</td>\n      <td>2.178064</td>\n      <td>very_low</td>\n      <td>very_low</td>\n    </tr>\n    <tr>\n      <th>1</th>\n      <td>1</td>\n      <td>893</td>\n      <td>3</td>\n      <td>Wilkes, Mrs. James (Ellen Needs)</td>\n      <td>female</td>\n      <td>47.0</td>\n      <td>1</td>\n      <td>0</td>\n      <td>363272</td>\n      <td>7.0000</td>\n      <td>NaN</td>\n      <td>S</td>\n      <td>-999</td>\n      <td>Mrs</td>\n      <td>Wilkes James (Ellen Needs)</td>\n      <td>2.079442</td>\n      <td>very_low</td>\n      <td>very_low</td>\n    </tr>\n    <tr>\n      <th>2</th>\n      <td>2</td>\n      <td>894</td>\n      <td>2</td>\n      <td>Myles, Mr. Thomas Francis</td>\n      <td>male</td>\n      <td>62.0</td>\n      <td>0</td>\n      <td>0</td>\n      <td>240276</td>\n      <td>9.6875</td>\n      <td>NaN</td>\n      <td>Q</td>\n      <td>-999</td>\n      <td>Mr</td>\n      <td>Myles Thomas Francis</td>\n      <td>2.369075</td>\n      <td>low</td>\n      <td>low</td>\n    </tr>\n    <tr>\n      <th>3</th>\n      <td>3</td>\n      <td>895</td>\n      <td>3</td>\n      <td>Wirz, Mr. Albert</td>\n      <td>male</td>\n      <td>27.0</td>\n      <td>0</td>\n      <td>0</td>\n      <td>315154</td>\n      <td>8.6625</td>\n      <td>NaN</td>\n      <td>S</td>\n      <td>-999</td>\n      <td>Mr</td>\n      <td>Wirz Albert</td>\n      <td>2.268252</td>\n      <td>low</td>\n      <td>low</td>\n    </tr>\n    <tr>\n      <th>4</th>\n      <td>4</td>\n      <td>896</td>\n      <td>3</td>\n      <td>Hirvonen, Mrs. Alexander (Helga E Lindqvist)</td>\n      <td>female</td>\n      <td>22.0</td>\n      <td>1</td>\n      <td>1</td>\n      <td>3101298</td>\n      <td>12.2875</td>\n      <td>NaN</td>\n      <td>S</td>\n      <td>-999</td>\n      <td>Mrs</td>\n      <td>Hirvonen Alexander (Helga E Lindqvist)</td>\n      <td>2.586824</td>\n      <td>low</td>\n      <td>low</td>\n    </tr>\n    <tr>\n      <th>...</th>\n      <td>...</td>\n      <td>...</td>\n      <td>...</td>\n      <td>...</td>\n      <td>...</td>\n      <td>...</td>\n      <td>...</td>\n      <td>...</td>\n      <td>...</td>\n      <td>...</td>\n      <td>...</td>\n      <td>...</td>\n      <td>...</td>\n      <td>...</td>\n      <td>...</td>\n      <td>...</td>\n      <td>...</td>\n      <td>...</td>\n    </tr>\n    <tr>\n      <th>1304</th>\n      <td>886</td>\n      <td>887</td>\n      <td>2</td>\n      <td>Montvila, Rev. Juozas</td>\n      <td>male</td>\n      <td>27.0</td>\n      <td>0</td>\n      <td>0</td>\n      <td>211536</td>\n      <td>13.0000</td>\n      <td>NaN</td>\n      <td>S</td>\n      <td>0</td>\n      <td>Sir</td>\n      <td>Montvila Juozas</td>\n      <td>2.639057</td>\n      <td>low</td>\n      <td>low</td>\n    </tr>\n    <tr>\n      <th>1305</th>\n      <td>887</td>\n      <td>888</td>\n      <td>1</td>\n      <td>Graham, Miss. Margaret Edith</td>\n      <td>female</td>\n      <td>19.0</td>\n      <td>0</td>\n      <td>0</td>\n      <td>112053</td>\n      <td>30.0000</td>\n      <td>B42</td>\n      <td>S</td>\n      <td>1</td>\n      <td>Miss</td>\n      <td>Graham Margaret Edith</td>\n      <td>3.433987</td>\n      <td>high</td>\n      <td>high</td>\n    </tr>\n    <tr>\n      <th>1306</th>\n      <td>888</td>\n      <td>889</td>\n      <td>3</td>\n      <td>Johnston, Miss. Catherine Helen \"Carrie\"</td>\n      <td>female</td>\n      <td>22.0</td>\n      <td>1</td>\n      <td>2</td>\n      <td>W./C. 6607</td>\n      <td>23.4500</td>\n      <td>NaN</td>\n      <td>S</td>\n      <td>0</td>\n      <td>Miss</td>\n      <td>Johnston Catherine Helen \"Carrie\"</td>\n      <td>3.196630</td>\n      <td>high</td>\n      <td>high</td>\n    </tr>\n    <tr>\n      <th>1307</th>\n      <td>889</td>\n      <td>890</td>\n      <td>1</td>\n      <td>Behr, Mr. Karl Howell</td>\n      <td>male</td>\n      <td>26.0</td>\n      <td>0</td>\n      <td>0</td>\n      <td>111369</td>\n      <td>30.0000</td>\n      <td>C148</td>\n      <td>C</td>\n      <td>1</td>\n      <td>Mr</td>\n      <td>Behr Karl Howell</td>\n      <td>3.433987</td>\n      <td>high</td>\n      <td>high</td>\n    </tr>\n    <tr>\n      <th>1308</th>\n      <td>890</td>\n      <td>891</td>\n      <td>3</td>\n      <td>Dooley, Mr. Patrick</td>\n      <td>male</td>\n      <td>32.0</td>\n      <td>0</td>\n      <td>0</td>\n      <td>370376</td>\n      <td>7.7500</td>\n      <td>NaN</td>\n      <td>Q</td>\n      <td>0</td>\n      <td>Mr</td>\n      <td>Dooley Patrick</td>\n      <td>2.169054</td>\n      <td>very_low</td>\n      <td>very_low</td>\n    </tr>\n  </tbody>\n</table>\n<p>1309 rows × 18 columns</p>\n</div>"
     },
     "execution_count": 88,
     "metadata": {},
     "output_type": "execute_result"
    }
   ],
   "source": [
    "copy_df['Fare_Bin'] = copy_df['Fare_bucket']\n",
    "copy_df"
   ]
  },
  {
   "cell_type": "markdown",
   "metadata": {},
   "source": [
    "### 20. Using info() function, show information about dataframe."
   ]
  },
  {
   "cell_type": "code",
   "execution_count": 89,
   "metadata": {
    "ExecuteTime": {
     "end_time": "2024-09-21T08:40:45.749605400Z",
     "start_time": "2024-09-21T08:40:43.790486300Z"
    }
   },
   "outputs": [
    {
     "name": "stdout",
     "output_type": "stream",
     "text": [
      "<class 'pandas.core.frame.DataFrame'>\n",
      "RangeIndex: 1309 entries, 0 to 1308\n",
      "Data columns (total 18 columns):\n",
      " #   Column       Non-Null Count  Dtype   \n",
      "---  ------       --------------  -----   \n",
      " 0   Unnamed: 0   1309 non-null   int64   \n",
      " 1   PassengerId  1309 non-null   int64   \n",
      " 2   Pclass       1309 non-null   int64   \n",
      " 3   Name         1309 non-null   object  \n",
      " 4   Sex          1309 non-null   object  \n",
      " 5   Age          1309 non-null   float64 \n",
      " 6   SibSp        1309 non-null   int64   \n",
      " 7   Parch        1309 non-null   int64   \n",
      " 8   Ticket       1309 non-null   object  \n",
      " 9   Fare         1309 non-null   float64 \n",
      " 10  Cabin        295 non-null    object  \n",
      " 11  Embarked     1309 non-null   object  \n",
      " 12  Survived     1309 non-null   int64   \n",
      " 13  Title        1309 non-null   object  \n",
      " 14  FullName     1309 non-null   object  \n",
      " 15  Fare_log     1309 non-null   float64 \n",
      " 16  Fare_bucket  1309 non-null   category\n",
      " 17  Fare_Bin     1309 non-null   category\n",
      "dtypes: category(2), float64(3), int64(6), object(7)\n",
      "memory usage: 166.7+ KB\n"
     ]
    }
   ],
   "source": [
    "copy_df.info()"
   ]
  },
  {
   "cell_type": "markdown",
   "metadata": {},
   "source": [
    "### 21. Feature engineering. \n",
    "### Let's divide the passengers into adults and children. Create a new feature, called 'AgeState', using where() function, which takes first argument as condition that Age is greater or equal than 18. If given condition is True, value of new feature is 'Adult', else it is 'Child'."
   ]
  },
  {
   "cell_type": "code",
   "execution_count": 90,
   "metadata": {
    "ExecuteTime": {
     "end_time": "2024-09-21T08:40:45.751892900Z",
     "start_time": "2024-09-21T08:40:43.810237200Z"
    }
   },
   "outputs": [
    {
     "data": {
      "text/plain": "      Unnamed: 0  PassengerId  Pclass  \\\n0              0          892       3   \n1              1          893       3   \n2              2          894       2   \n3              3          895       3   \n4              4          896       3   \n...          ...          ...     ...   \n1304         886          887       2   \n1305         887          888       1   \n1306         888          889       3   \n1307         889          890       1   \n1308         890          891       3   \n\n                                              Name     Sex   Age  SibSp  \\\n0                                 Kelly, Mr. James    male  34.5      0   \n1                 Wilkes, Mrs. James (Ellen Needs)  female  47.0      1   \n2                        Myles, Mr. Thomas Francis    male  62.0      0   \n3                                 Wirz, Mr. Albert    male  27.0      0   \n4     Hirvonen, Mrs. Alexander (Helga E Lindqvist)  female  22.0      1   \n...                                            ...     ...   ...    ...   \n1304                         Montvila, Rev. Juozas    male  27.0      0   \n1305                  Graham, Miss. Margaret Edith  female  19.0      0   \n1306      Johnston, Miss. Catherine Helen \"Carrie\"  female  22.0      1   \n1307                         Behr, Mr. Karl Howell    male  26.0      0   \n1308                           Dooley, Mr. Patrick    male  32.0      0   \n\n      Parch      Ticket     Fare Cabin Embarked  Survived Title  \\\n0         0      330911   7.8292   NaN        Q      -999    Mr   \n1         0      363272   7.0000   NaN        S      -999   Mrs   \n2         0      240276   9.6875   NaN        Q      -999    Mr   \n3         0      315154   8.6625   NaN        S      -999    Mr   \n4         1     3101298  12.2875   NaN        S      -999   Mrs   \n...     ...         ...      ...   ...      ...       ...   ...   \n1304      0      211536  13.0000   NaN        S         0   Sir   \n1305      0      112053  30.0000   B42        S         1  Miss   \n1306      2  W./C. 6607  23.4500   NaN        S         0  Miss   \n1307      0      111369  30.0000  C148        C         1    Mr   \n1308      0      370376   7.7500   NaN        Q         0    Mr   \n\n                                    FullName  Fare_log Fare_bucket  Fare_Bin  \\\n0                                Kelly James  2.178064    very_low  very_low   \n1                 Wilkes James (Ellen Needs)  2.079442    very_low  very_low   \n2                       Myles Thomas Francis  2.369075         low       low   \n3                                Wirz Albert  2.268252         low       low   \n4     Hirvonen Alexander (Helga E Lindqvist)  2.586824         low       low   \n...                                      ...       ...         ...       ...   \n1304                         Montvila Juozas  2.639057         low       low   \n1305                   Graham Margaret Edith  3.433987        high      high   \n1306       Johnston Catherine Helen \"Carrie\"  3.196630        high      high   \n1307                        Behr Karl Howell  3.433987        high      high   \n1308                          Dooley Patrick  2.169054    very_low  very_low   \n\n     AgeState  \n0       Adult  \n1       Adult  \n2       Adult  \n3       Adult  \n4       Adult  \n...       ...  \n1304    Adult  \n1305    Adult  \n1306    Adult  \n1307    Adult  \n1308    Adult  \n\n[1309 rows x 19 columns]",
      "text/html": "<div>\n<style scoped>\n    .dataframe tbody tr th:only-of-type {\n        vertical-align: middle;\n    }\n\n    .dataframe tbody tr th {\n        vertical-align: top;\n    }\n\n    .dataframe thead th {\n        text-align: right;\n    }\n</style>\n<table border=\"1\" class=\"dataframe\">\n  <thead>\n    <tr style=\"text-align: right;\">\n      <th></th>\n      <th>Unnamed: 0</th>\n      <th>PassengerId</th>\n      <th>Pclass</th>\n      <th>Name</th>\n      <th>Sex</th>\n      <th>Age</th>\n      <th>SibSp</th>\n      <th>Parch</th>\n      <th>Ticket</th>\n      <th>Fare</th>\n      <th>Cabin</th>\n      <th>Embarked</th>\n      <th>Survived</th>\n      <th>Title</th>\n      <th>FullName</th>\n      <th>Fare_log</th>\n      <th>Fare_bucket</th>\n      <th>Fare_Bin</th>\n      <th>AgeState</th>\n    </tr>\n  </thead>\n  <tbody>\n    <tr>\n      <th>0</th>\n      <td>0</td>\n      <td>892</td>\n      <td>3</td>\n      <td>Kelly, Mr. James</td>\n      <td>male</td>\n      <td>34.5</td>\n      <td>0</td>\n      <td>0</td>\n      <td>330911</td>\n      <td>7.8292</td>\n      <td>NaN</td>\n      <td>Q</td>\n      <td>-999</td>\n      <td>Mr</td>\n      <td>Kelly James</td>\n      <td>2.178064</td>\n      <td>very_low</td>\n      <td>very_low</td>\n      <td>Adult</td>\n    </tr>\n    <tr>\n      <th>1</th>\n      <td>1</td>\n      <td>893</td>\n      <td>3</td>\n      <td>Wilkes, Mrs. James (Ellen Needs)</td>\n      <td>female</td>\n      <td>47.0</td>\n      <td>1</td>\n      <td>0</td>\n      <td>363272</td>\n      <td>7.0000</td>\n      <td>NaN</td>\n      <td>S</td>\n      <td>-999</td>\n      <td>Mrs</td>\n      <td>Wilkes James (Ellen Needs)</td>\n      <td>2.079442</td>\n      <td>very_low</td>\n      <td>very_low</td>\n      <td>Adult</td>\n    </tr>\n    <tr>\n      <th>2</th>\n      <td>2</td>\n      <td>894</td>\n      <td>2</td>\n      <td>Myles, Mr. Thomas Francis</td>\n      <td>male</td>\n      <td>62.0</td>\n      <td>0</td>\n      <td>0</td>\n      <td>240276</td>\n      <td>9.6875</td>\n      <td>NaN</td>\n      <td>Q</td>\n      <td>-999</td>\n      <td>Mr</td>\n      <td>Myles Thomas Francis</td>\n      <td>2.369075</td>\n      <td>low</td>\n      <td>low</td>\n      <td>Adult</td>\n    </tr>\n    <tr>\n      <th>3</th>\n      <td>3</td>\n      <td>895</td>\n      <td>3</td>\n      <td>Wirz, Mr. Albert</td>\n      <td>male</td>\n      <td>27.0</td>\n      <td>0</td>\n      <td>0</td>\n      <td>315154</td>\n      <td>8.6625</td>\n      <td>NaN</td>\n      <td>S</td>\n      <td>-999</td>\n      <td>Mr</td>\n      <td>Wirz Albert</td>\n      <td>2.268252</td>\n      <td>low</td>\n      <td>low</td>\n      <td>Adult</td>\n    </tr>\n    <tr>\n      <th>4</th>\n      <td>4</td>\n      <td>896</td>\n      <td>3</td>\n      <td>Hirvonen, Mrs. Alexander (Helga E Lindqvist)</td>\n      <td>female</td>\n      <td>22.0</td>\n      <td>1</td>\n      <td>1</td>\n      <td>3101298</td>\n      <td>12.2875</td>\n      <td>NaN</td>\n      <td>S</td>\n      <td>-999</td>\n      <td>Mrs</td>\n      <td>Hirvonen Alexander (Helga E Lindqvist)</td>\n      <td>2.586824</td>\n      <td>low</td>\n      <td>low</td>\n      <td>Adult</td>\n    </tr>\n    <tr>\n      <th>...</th>\n      <td>...</td>\n      <td>...</td>\n      <td>...</td>\n      <td>...</td>\n      <td>...</td>\n      <td>...</td>\n      <td>...</td>\n      <td>...</td>\n      <td>...</td>\n      <td>...</td>\n      <td>...</td>\n      <td>...</td>\n      <td>...</td>\n      <td>...</td>\n      <td>...</td>\n      <td>...</td>\n      <td>...</td>\n      <td>...</td>\n      <td>...</td>\n    </tr>\n    <tr>\n      <th>1304</th>\n      <td>886</td>\n      <td>887</td>\n      <td>2</td>\n      <td>Montvila, Rev. Juozas</td>\n      <td>male</td>\n      <td>27.0</td>\n      <td>0</td>\n      <td>0</td>\n      <td>211536</td>\n      <td>13.0000</td>\n      <td>NaN</td>\n      <td>S</td>\n      <td>0</td>\n      <td>Sir</td>\n      <td>Montvila Juozas</td>\n      <td>2.639057</td>\n      <td>low</td>\n      <td>low</td>\n      <td>Adult</td>\n    </tr>\n    <tr>\n      <th>1305</th>\n      <td>887</td>\n      <td>888</td>\n      <td>1</td>\n      <td>Graham, Miss. Margaret Edith</td>\n      <td>female</td>\n      <td>19.0</td>\n      <td>0</td>\n      <td>0</td>\n      <td>112053</td>\n      <td>30.0000</td>\n      <td>B42</td>\n      <td>S</td>\n      <td>1</td>\n      <td>Miss</td>\n      <td>Graham Margaret Edith</td>\n      <td>3.433987</td>\n      <td>high</td>\n      <td>high</td>\n      <td>Adult</td>\n    </tr>\n    <tr>\n      <th>1306</th>\n      <td>888</td>\n      <td>889</td>\n      <td>3</td>\n      <td>Johnston, Miss. Catherine Helen \"Carrie\"</td>\n      <td>female</td>\n      <td>22.0</td>\n      <td>1</td>\n      <td>2</td>\n      <td>W./C. 6607</td>\n      <td>23.4500</td>\n      <td>NaN</td>\n      <td>S</td>\n      <td>0</td>\n      <td>Miss</td>\n      <td>Johnston Catherine Helen \"Carrie\"</td>\n      <td>3.196630</td>\n      <td>high</td>\n      <td>high</td>\n      <td>Adult</td>\n    </tr>\n    <tr>\n      <th>1307</th>\n      <td>889</td>\n      <td>890</td>\n      <td>1</td>\n      <td>Behr, Mr. Karl Howell</td>\n      <td>male</td>\n      <td>26.0</td>\n      <td>0</td>\n      <td>0</td>\n      <td>111369</td>\n      <td>30.0000</td>\n      <td>C148</td>\n      <td>C</td>\n      <td>1</td>\n      <td>Mr</td>\n      <td>Behr Karl Howell</td>\n      <td>3.433987</td>\n      <td>high</td>\n      <td>high</td>\n      <td>Adult</td>\n    </tr>\n    <tr>\n      <th>1308</th>\n      <td>890</td>\n      <td>891</td>\n      <td>3</td>\n      <td>Dooley, Mr. Patrick</td>\n      <td>male</td>\n      <td>32.0</td>\n      <td>0</td>\n      <td>0</td>\n      <td>370376</td>\n      <td>7.7500</td>\n      <td>NaN</td>\n      <td>Q</td>\n      <td>0</td>\n      <td>Mr</td>\n      <td>Dooley Patrick</td>\n      <td>2.169054</td>\n      <td>very_low</td>\n      <td>very_low</td>\n      <td>Adult</td>\n    </tr>\n  </tbody>\n</table>\n<p>1309 rows × 19 columns</p>\n</div>"
     },
     "execution_count": 90,
     "metadata": {},
     "output_type": "execute_result"
    }
   ],
   "source": [
    "copy_df['AgeState'] = np.where(copy_df['Age'] >= 18, 'Adult', 'Child')\n",
    "copy_df"
   ]
  },
  {
   "cell_type": "markdown",
   "metadata": {},
   "source": [
    "### 22. Show the new feature AgeState using value_counts() function."
   ]
  },
  {
   "cell_type": "code",
   "execution_count": 91,
   "metadata": {
    "ExecuteTime": {
     "end_time": "2024-09-21T08:40:45.751892900Z",
     "start_time": "2024-09-21T08:40:43.848177700Z"
    }
   },
   "outputs": [
    {
     "data": {
      "text/plain": "Unnamed: 0  PassengerId  Pclass  Name                                                 Sex     Age   SibSp  Parch  Ticket    Fare      Cabin            Embarked  Survived  Title  FullName                                       Fare_log  Fare_bucket  Fare_Bin   AgeState\n889         890          1       Behr, Mr. Karl Howell                                male    26.0  0      0      111369    30.0000   C148             C          1        Mr     Behr Karl Howell                               3.433987  high         high       Adult       1\n1           2            1       Cumings, Mrs. John Bradley (Florence Briggs Thayer)  female  38.0  1      0      PC 17599  71.2833   C85              C          1        Mrs    Cumings John Bradley (Florence Briggs Thayer)  4.280593  very_high    very_high  Adult       1\n3           4            1       Futrelle, Mrs. Jacques Heath (Lily May Peel)         female  35.0  1      0      113803    53.1000   C123             S          1        Mrs    Futrelle Jacques Heath (Lily May Peel)         3.990834  very_high    very_high  Adult       1\n6           7            1       McCarthy, Mr. Timothy J                              male    54.0  0      0      17463     51.8625   E46              S          0        Mr     McCarthy Timothy J                             3.967694  very_high    very_high  Adult       1\n10          11           3       Sandstrom, Miss. Marguerite Rut                      female  4.0   1      1      PP 9549   16.7000   G6               S          1        Miss   Sandstrom Marguerite Rut                       2.873565  high         high       Child       1\n                                                                                                                                                                                                                                                                              ..\n27          28           1       Fortune, Mr. Charles Alexander                       male    19.0  3      2      19950     263.0000  C23 C25 C27      S          0        Mr     Fortune Charles Alexander                      5.575949  very_high    very_high  Adult       1\n26          918          1       Ostby, Miss. Helene Ragnhild                         female  22.0  0      1      113509    61.9792   B36              C         -999      Miss   Ostby Helene Ragnhild                          4.142805  very_high    very_high  Adult       1\n24          916          1       Ryerson, Mrs. Arthur Larned (Emily Maria Borie)      female  48.0  1      3      PC 17608  262.3750  B57 B59 B63 B66  C         -999      Mrs    Ryerson Arthur Larned (Emily Maria Borie)      5.573579  very_high    very_high  Adult       1\n23          24           1       Sloper, Mr. William Thompson                         male    28.0  0      0      113788    35.5000   A6               S          1        Mr     Sloper William Thompson                        3.597312  very_high    very_high  Adult       1\n21          22           2       Beesley, Mr. Lawrence                                male    34.0  0      0      248698    13.0000   D56              S          1        Mr     Beesley Lawrence                               2.639057  low          low        Adult       1\nName: count, Length: 295, dtype: int64"
     },
     "execution_count": 91,
     "metadata": {},
     "output_type": "execute_result"
    }
   ],
   "source": [
    "copy_df.value_counts()"
   ]
  },
  {
   "cell_type": "markdown",
   "metadata": {},
   "source": [
    "### 23. Using crosstabs() function create a cross tabulation for Survived and AgeState features. Don't forget to exclude -888 value."
   ]
  },
  {
   "cell_type": "code",
   "execution_count": 92,
   "metadata": {
    "ExecuteTime": {
     "end_time": "2024-09-21T08:40:45.751892900Z",
     "start_time": "2024-09-21T08:40:43.904562600Z"
    }
   },
   "outputs": [
    {
     "data": {
      "text/plain": "AgeState  Adult  Child\nSurvived              \n0           495     54\n1           279     63",
      "text/html": "<div>\n<style scoped>\n    .dataframe tbody tr th:only-of-type {\n        vertical-align: middle;\n    }\n\n    .dataframe tbody tr th {\n        vertical-align: top;\n    }\n\n    .dataframe thead th {\n        text-align: right;\n    }\n</style>\n<table border=\"1\" class=\"dataframe\">\n  <thead>\n    <tr style=\"text-align: right;\">\n      <th>AgeState</th>\n      <th>Adult</th>\n      <th>Child</th>\n    </tr>\n    <tr>\n      <th>Survived</th>\n      <th></th>\n      <th></th>\n    </tr>\n  </thead>\n  <tbody>\n    <tr>\n      <th>0</th>\n      <td>495</td>\n      <td>54</td>\n    </tr>\n    <tr>\n      <th>1</th>\n      <td>279</td>\n      <td>63</td>\n    </tr>\n  </tbody>\n</table>\n</div>"
     },
     "execution_count": 92,
     "metadata": {},
     "output_type": "execute_result"
    }
   ],
   "source": [
    "filtered_df = copy_df[copy_df['Survived'] != -999]\n",
    "cross_tab = pd.crosstab(filtered_df['Survived'], filtered_df['AgeState'])\n",
    "cross_tab"
   ]
  },
  {
   "cell_type": "markdown",
   "metadata": {},
   "source": [
    "### 24. Let's create another feature, called 'FamilySize' by adding Parents with Siblings + 1 for self.\n",
    "#### Parch - number of parent / children aboard\n",
    "#### SibSp - number of siblings aboard"
   ]
  },
  {
   "cell_type": "code",
   "execution_count": 93,
   "metadata": {
    "ExecuteTime": {
     "end_time": "2024-09-21T08:40:45.751892900Z",
     "start_time": "2024-09-21T08:40:43.934440500Z"
    }
   },
   "outputs": [
    {
     "data": {
      "text/plain": "   Parch  SibSp  FamilySize\n0      0      0           1\n1      0      1           2\n2      0      0           1\n3      0      0           1\n4      1      1           3",
      "text/html": "<div>\n<style scoped>\n    .dataframe tbody tr th:only-of-type {\n        vertical-align: middle;\n    }\n\n    .dataframe tbody tr th {\n        vertical-align: top;\n    }\n\n    .dataframe thead th {\n        text-align: right;\n    }\n</style>\n<table border=\"1\" class=\"dataframe\">\n  <thead>\n    <tr style=\"text-align: right;\">\n      <th></th>\n      <th>Parch</th>\n      <th>SibSp</th>\n      <th>FamilySize</th>\n    </tr>\n  </thead>\n  <tbody>\n    <tr>\n      <th>0</th>\n      <td>0</td>\n      <td>0</td>\n      <td>1</td>\n    </tr>\n    <tr>\n      <th>1</th>\n      <td>0</td>\n      <td>1</td>\n      <td>2</td>\n    </tr>\n    <tr>\n      <th>2</th>\n      <td>0</td>\n      <td>0</td>\n      <td>1</td>\n    </tr>\n    <tr>\n      <th>3</th>\n      <td>0</td>\n      <td>0</td>\n      <td>1</td>\n    </tr>\n    <tr>\n      <th>4</th>\n      <td>1</td>\n      <td>1</td>\n      <td>3</td>\n    </tr>\n  </tbody>\n</table>\n</div>"
     },
     "execution_count": 93,
     "metadata": {},
     "output_type": "execute_result"
    }
   ],
   "source": [
    "copy_df['FamilySize'] = copy_df['Parch'] + copy_df['SibSp'] + 1\n",
    "copy_df[['Parch', 'SibSp', 'FamilySize']].head()"
   ]
  },
  {
   "cell_type": "markdown",
   "metadata": {},
   "source": [
    "### 25. Create a histogram for new FamilySize feature. Make conclusion based on this histogram."
   ]
  },
  {
   "cell_type": "markdown",
   "source": [
    "#### Conclusion: The histogram shows that most of the passengers traveled alone or with a small family (family size 1-2 people). Very few passengers traveled with large families (family size of more than 4 people), which indicates the rarity of large family groups on board."
   ],
   "metadata": {
    "collapsed": false
   }
  },
  {
   "cell_type": "code",
   "execution_count": 94,
   "metadata": {
    "ExecuteTime": {
     "end_time": "2024-09-21T08:40:45.769572500Z",
     "start_time": "2024-09-21T08:40:43.953293500Z"
    }
   },
   "outputs": [
    {
     "data": {
      "text/plain": "<Figure size 640x480 with 1 Axes>",
      "image/png": "[encoded data removed]"
     },
     "metadata": {},
     "output_type": "display_data"
    }
   ],
   "source": [
    "plt.hist(copy_df['FamilySize'], bins=10, color='skyblue', edgecolor='black')\n",
    "plt.title('Histogram for FamilySize')\n",
    "plt.xlabel('Family Size')\n",
    "plt.ylabel('Frequency')\n",
    "plt.grid(True)"
   ]
  },
  {
   "cell_type": "markdown",
   "metadata": {},
   "source": [
    "### 26. To look into the outliers show the data, where FamilySize is maximum."
   ]
  },
  {
   "cell_type": "code",
   "execution_count": 95,
   "metadata": {
    "ExecuteTime": {
     "end_time": "2024-09-21T08:40:45.802418600Z",
     "start_time": "2024-09-21T08:40:44.387215300Z"
    }
   },
   "outputs": [
    {
     "data": {
      "text/plain": "      Unnamed: 0  PassengerId  Pclass                               Name  \\\n188          188         1080       3                    Sage, Miss. Ada   \n342          342         1234       3              Sage, Mr. John George   \n360          360         1252       3        Sage, Master. William Henry   \n365          365         1257       3     Sage, Mrs. John (Annie Bullen)   \n577          159          160       3         Sage, Master. Thomas Henry   \n598          180          181       3       Sage, Miss. Constance Gladys   \n619          201          202       3                Sage, Mr. Frederick   \n742          324          325       3           Sage, Mr. George John Jr   \n1210         792          793       3            Sage, Miss. Stella Anna   \n1264         846          847       3           Sage, Mr. Douglas Bullen   \n1281         863          864       3  Sage, Miss. Dorothy Edith \"Dolly\"   \n\n         Sex   Age  SibSp  Parch    Ticket   Fare Cabin Embarked  Survived  \\\n188   female  22.0      8      2  CA. 2343  69.55   NaN        S      -999   \n342     male  29.0      1      9  CA. 2343  69.55   NaN        S      -999   \n360     male  14.5      8      2  CA. 2343  69.55   NaN        S      -999   \n365   female  35.0      1      9  CA. 2343  69.55   NaN        S      -999   \n577     male   4.0      8      2  CA. 2343  69.55   NaN        S         0   \n598   female  22.0      8      2  CA. 2343  69.55   NaN        S         0   \n619     male  29.0      8      2  CA. 2343  69.55   NaN        S         0   \n742     male  29.0      8      2  CA. 2343  69.55   NaN        S         0   \n1210  female  22.0      8      2  CA. 2343  69.55   NaN        S         0   \n1264    male  29.0      8      2  CA. 2343  69.55   NaN        S         0   \n1281  female  22.0      8      2  CA. 2343  69.55   NaN        S         0   \n\n       Title                    FullName  Fare_log Fare_bucket   Fare_Bin  \\\n188     Miss                    Sage Ada  4.256322   very_high  very_high   \n342       Mr            Sage John George  4.256322   very_high  very_high   \n360   Master          Sage William Henry  4.256322   very_high  very_high   \n365      Mrs    Sage John (Annie Bullen)  4.256322   very_high  very_high   \n577   Master           Sage Thomas Henry  4.256322   very_high  very_high   \n598     Miss       Sage Constance Gladys  4.256322   very_high  very_high   \n619       Mr              Sage Frederick  4.256322   very_high  very_high   \n742       Mr         Sage George John Jr  4.256322   very_high  very_high   \n1210    Miss            Sage Stella Anna  4.256322   very_high  very_high   \n1264      Mr         Sage Douglas Bullen  4.256322   very_high  very_high   \n1281    Miss  Sage Dorothy Edith \"Dolly\"  4.256322   very_high  very_high   \n\n     AgeState  FamilySize  \n188     Adult          11  \n342     Adult          11  \n360     Child          11  \n365     Adult          11  \n577     Child          11  \n598     Adult          11  \n619     Adult          11  \n742     Adult          11  \n1210    Adult          11  \n1264    Adult          11  \n1281    Adult          11  ",
      "text/html": "<div>\n<style scoped>\n    .dataframe tbody tr th:only-of-type {\n        vertical-align: middle;\n    }\n\n    .dataframe tbody tr th {\n        vertical-align: top;\n    }\n\n    .dataframe thead th {\n        text-align: right;\n    }\n</style>\n<table border=\"1\" class=\"dataframe\">\n  <thead>\n    <tr style=\"text-align: right;\">\n      <th></th>\n      <th>Unnamed: 0</th>\n      <th>PassengerId</th>\n      <th>Pclass</th>\n      <th>Name</th>\n      <th>Sex</th>\n      <th>Age</th>\n      <th>SibSp</th>\n      <th>Parch</th>\n      <th>Ticket</th>\n      <th>Fare</th>\n      <th>Cabin</th>\n      <th>Embarked</th>\n      <th>Survived</th>\n      <th>Title</th>\n      <th>FullName</th>\n      <th>Fare_log</th>\n      <th>Fare_bucket</th>\n      <th>Fare_Bin</th>\n      <th>AgeState</th>\n      <th>FamilySize</th>\n    </tr>\n  </thead>\n  <tbody>\n    <tr>\n      <th>188</th>\n      <td>188</td>\n      <td>1080</td>\n      <td>3</td>\n      <td>Sage, Miss. Ada</td>\n      <td>female</td>\n      <td>22.0</td>\n      <td>8</td>\n      <td>2</td>\n      <td>CA. 2343</td>\n      <td>69.55</td>\n      <td>NaN</td>\n      <td>S</td>\n      <td>-999</td>\n      <td>Miss</td>\n      <td>Sage Ada</td>\n      <td>4.256322</td>\n      <td>very_high</td>\n      <td>very_high</td>\n      <td>Adult</td>\n      <td>11</td>\n    </tr>\n    <tr>\n      <th>342</th>\n      <td>342</td>\n      <td>1234</td>\n      <td>3</td>\n      <td>Sage, Mr. John George</td>\n      <td>male</td>\n      <td>29.0</td>\n      <td>1</td>\n      <td>9</td>\n      <td>CA. 2343</td>\n      <td>69.55</td>\n      <td>NaN</td>\n      <td>S</td>\n      <td>-999</td>\n      <td>Mr</td>\n      <td>Sage John George</td>\n      <td>4.256322</td>\n      <td>very_high</td>\n      <td>very_high</td>\n      <td>Adult</td>\n      <td>11</td>\n    </tr>\n    <tr>\n      <th>360</th>\n      <td>360</td>\n      <td>1252</td>\n      <td>3</td>\n      <td>Sage, Master. William Henry</td>\n      <td>male</td>\n      <td>14.5</td>\n      <td>8</td>\n      <td>2</td>\n      <td>CA. 2343</td>\n      <td>69.55</td>\n      <td>NaN</td>\n      <td>S</td>\n      <td>-999</td>\n      <td>Master</td>\n      <td>Sage William Henry</td>\n      <td>4.256322</td>\n      <td>very_high</td>\n      <td>very_high</td>\n      <td>Child</td>\n      <td>11</td>\n    </tr>\n    <tr>\n      <th>365</th>\n      <td>365</td>\n      <td>1257</td>\n      <td>3</td>\n      <td>Sage, Mrs. John (Annie Bullen)</td>\n      <td>female</td>\n      <td>35.0</td>\n      <td>1</td>\n      <td>9</td>\n      <td>CA. 2343</td>\n      <td>69.55</td>\n      <td>NaN</td>\n      <td>S</td>\n      <td>-999</td>\n      <td>Mrs</td>\n      <td>Sage John (Annie Bullen)</td>\n      <td>4.256322</td>\n      <td>very_high</td>\n      <td>very_high</td>\n      <td>Adult</td>\n      <td>11</td>\n    </tr>\n    <tr>\n      <th>577</th>\n      <td>159</td>\n      <td>160</td>\n      <td>3</td>\n      <td>Sage, Master. Thomas Henry</td>\n      <td>male</td>\n      <td>4.0</td>\n      <td>8</td>\n      <td>2</td>\n      <td>CA. 2343</td>\n      <td>69.55</td>\n      <td>NaN</td>\n      <td>S</td>\n      <td>0</td>\n      <td>Master</td>\n      <td>Sage Thomas Henry</td>\n      <td>4.256322</td>\n      <td>very_high</td>\n      <td>very_high</td>\n      <td>Child</td>\n      <td>11</td>\n    </tr>\n    <tr>\n      <th>598</th>\n      <td>180</td>\n      <td>181</td>\n      <td>3</td>\n      <td>Sage, Miss. Constance Gladys</td>\n      <td>female</td>\n      <td>22.0</td>\n      <td>8</td>\n      <td>2</td>\n      <td>CA. 2343</td>\n      <td>69.55</td>\n      <td>NaN</td>\n      <td>S</td>\n      <td>0</td>\n      <td>Miss</td>\n      <td>Sage Constance Gladys</td>\n      <td>4.256322</td>\n      <td>very_high</td>\n      <td>very_high</td>\n      <td>Adult</td>\n      <td>11</td>\n    </tr>\n    <tr>\n      <th>619</th>\n      <td>201</td>\n      <td>202</td>\n      <td>3</td>\n      <td>Sage, Mr. Frederick</td>\n      <td>male</td>\n      <td>29.0</td>\n      <td>8</td>\n      <td>2</td>\n      <td>CA. 2343</td>\n      <td>69.55</td>\n      <td>NaN</td>\n      <td>S</td>\n      <td>0</td>\n      <td>Mr</td>\n      <td>Sage Frederick</td>\n      <td>4.256322</td>\n      <td>very_high</td>\n      <td>very_high</td>\n      <td>Adult</td>\n      <td>11</td>\n    </tr>\n    <tr>\n      <th>742</th>\n      <td>324</td>\n      <td>325</td>\n      <td>3</td>\n      <td>Sage, Mr. George John Jr</td>\n      <td>male</td>\n      <td>29.0</td>\n      <td>8</td>\n      <td>2</td>\n      <td>CA. 2343</td>\n      <td>69.55</td>\n      <td>NaN</td>\n      <td>S</td>\n      <td>0</td>\n      <td>Mr</td>\n      <td>Sage George John Jr</td>\n      <td>4.256322</td>\n      <td>very_high</td>\n      <td>very_high</td>\n      <td>Adult</td>\n      <td>11</td>\n    </tr>\n    <tr>\n      <th>1210</th>\n      <td>792</td>\n      <td>793</td>\n      <td>3</td>\n      <td>Sage, Miss. Stella Anna</td>\n      <td>female</td>\n      <td>22.0</td>\n      <td>8</td>\n      <td>2</td>\n      <td>CA. 2343</td>\n      <td>69.55</td>\n      <td>NaN</td>\n      <td>S</td>\n      <td>0</td>\n      <td>Miss</td>\n      <td>Sage Stella Anna</td>\n      <td>4.256322</td>\n      <td>very_high</td>\n      <td>very_high</td>\n      <td>Adult</td>\n      <td>11</td>\n    </tr>\n    <tr>\n      <th>1264</th>\n      <td>846</td>\n      <td>847</td>\n      <td>3</td>\n      <td>Sage, Mr. Douglas Bullen</td>\n      <td>male</td>\n      <td>29.0</td>\n      <td>8</td>\n      <td>2</td>\n      <td>CA. 2343</td>\n      <td>69.55</td>\n      <td>NaN</td>\n      <td>S</td>\n      <td>0</td>\n      <td>Mr</td>\n      <td>Sage Douglas Bullen</td>\n      <td>4.256322</td>\n      <td>very_high</td>\n      <td>very_high</td>\n      <td>Adult</td>\n      <td>11</td>\n    </tr>\n    <tr>\n      <th>1281</th>\n      <td>863</td>\n      <td>864</td>\n      <td>3</td>\n      <td>Sage, Miss. Dorothy Edith \"Dolly\"</td>\n      <td>female</td>\n      <td>22.0</td>\n      <td>8</td>\n      <td>2</td>\n      <td>CA. 2343</td>\n      <td>69.55</td>\n      <td>NaN</td>\n      <td>S</td>\n      <td>0</td>\n      <td>Miss</td>\n      <td>Sage Dorothy Edith \"Dolly\"</td>\n      <td>4.256322</td>\n      <td>very_high</td>\n      <td>very_high</td>\n      <td>Adult</td>\n      <td>11</td>\n    </tr>\n  </tbody>\n</table>\n</div>"
     },
     "execution_count": 95,
     "metadata": {},
     "output_type": "execute_result"
    }
   ],
   "source": [
    "copy_df[copy_df['FamilySize'] == copy_df['FamilySize'].max()]"
   ]
  },
  {
   "cell_type": "markdown",
   "metadata": {},
   "source": [
    "### 27. Using crosstab() function create a cross tabulation for Survived and FamilySize features. Don't forget to exclude -888 value."
   ]
  },
  {
   "cell_type": "code",
   "execution_count": 96,
   "metadata": {
    "ExecuteTime": {
     "end_time": "2024-09-21T08:40:45.857927Z",
     "start_time": "2024-09-21T08:40:44.432578Z"
    }
   },
   "outputs": [
    {
     "data": {
      "text/plain": "FamilySize   1   2   3   4   5   6   7   8   11\nSurvived                                       \n0           374  72  43   8  12  19   8   6   7\n1           163  89  59  21   3   3   4   0   0",
      "text/html": "<div>\n<style scoped>\n    .dataframe tbody tr th:only-of-type {\n        vertical-align: middle;\n    }\n\n    .dataframe tbody tr th {\n        vertical-align: top;\n    }\n\n    .dataframe thead th {\n        text-align: right;\n    }\n</style>\n<table border=\"1\" class=\"dataframe\">\n  <thead>\n    <tr style=\"text-align: right;\">\n      <th>FamilySize</th>\n      <th>1</th>\n      <th>2</th>\n      <th>3</th>\n      <th>4</th>\n      <th>5</th>\n      <th>6</th>\n      <th>7</th>\n      <th>8</th>\n      <th>11</th>\n    </tr>\n    <tr>\n      <th>Survived</th>\n      <th></th>\n      <th></th>\n      <th></th>\n      <th></th>\n      <th></th>\n      <th></th>\n      <th></th>\n      <th></th>\n      <th></th>\n    </tr>\n  </thead>\n  <tbody>\n    <tr>\n      <th>0</th>\n      <td>374</td>\n      <td>72</td>\n      <td>43</td>\n      <td>8</td>\n      <td>12</td>\n      <td>19</td>\n      <td>8</td>\n      <td>6</td>\n      <td>7</td>\n    </tr>\n    <tr>\n      <th>1</th>\n      <td>163</td>\n      <td>89</td>\n      <td>59</td>\n      <td>21</td>\n      <td>3</td>\n      <td>3</td>\n      <td>4</td>\n      <td>0</td>\n      <td>0</td>\n    </tr>\n  </tbody>\n</table>\n</div>"
     },
     "execution_count": 96,
     "metadata": {},
     "output_type": "execute_result"
    }
   ],
   "source": [
    "filtered_df = copy_df[copy_df['Survived'] != -999]\n",
    "cross_tab = pd.crosstab(filtered_df['Survived'], filtered_df['FamilySize'])\n",
    "cross_tab"
   ]
  },
  {
   "cell_type": "markdown",
   "metadata": {},
   "source": [
    "### 28. Let's create another feature, called 'isMother', to find this value you need to use where() function, which takes some conditions as arguments. First condition would be that Sex is female, then Parch number is greater than 0, next Age is greater than 18 and suppose that title is not Miss."
   ]
  },
  {
   "cell_type": "code",
   "execution_count": 97,
   "metadata": {
    "ExecuteTime": {
     "end_time": "2024-09-21T08:40:45.859910400Z",
     "start_time": "2024-09-21T08:40:44.457105700Z"
    }
   },
   "outputs": [
    {
     "data": {
      "text/plain": "      Sex  Parch   Age Title  isMother\n0    male      0  34.5    Mr         0\n1  female      0  47.0   Mrs         0\n2    male      0  62.0    Mr         0\n3    male      0  27.0    Mr         0\n4  female      1  22.0   Mrs         1",
      "text/html": "<div>\n<style scoped>\n    .dataframe tbody tr th:only-of-type {\n        vertical-align: middle;\n    }\n\n    .dataframe tbody tr th {\n        vertical-align: top;\n    }\n\n    .dataframe thead th {\n        text-align: right;\n    }\n</style>\n<table border=\"1\" class=\"dataframe\">\n  <thead>\n    <tr style=\"text-align: right;\">\n      <th></th>\n      <th>Sex</th>\n      <th>Parch</th>\n      <th>Age</th>\n      <th>Title</th>\n      <th>isMother</th>\n    </tr>\n  </thead>\n  <tbody>\n    <tr>\n      <th>0</th>\n      <td>male</td>\n      <td>0</td>\n      <td>34.5</td>\n      <td>Mr</td>\n      <td>0</td>\n    </tr>\n    <tr>\n      <th>1</th>\n      <td>female</td>\n      <td>0</td>\n      <td>47.0</td>\n      <td>Mrs</td>\n      <td>0</td>\n    </tr>\n    <tr>\n      <th>2</th>\n      <td>male</td>\n      <td>0</td>\n      <td>62.0</td>\n      <td>Mr</td>\n      <td>0</td>\n    </tr>\n    <tr>\n      <th>3</th>\n      <td>male</td>\n      <td>0</td>\n      <td>27.0</td>\n      <td>Mr</td>\n      <td>0</td>\n    </tr>\n    <tr>\n      <th>4</th>\n      <td>female</td>\n      <td>1</td>\n      <td>22.0</td>\n      <td>Mrs</td>\n      <td>1</td>\n    </tr>\n  </tbody>\n</table>\n</div>"
     },
     "execution_count": 97,
     "metadata": {},
     "output_type": "execute_result"
    }
   ],
   "source": [
    "copy_df[\"isMother\"] = np.where(\n",
    "    (copy_df['Sex'] == 'female') &\n",
    "    (copy_df['Parch'] > 0) &\n",
    "    (copy_df['Age'] > 18) &\n",
    "    (copy_df['Title'] != 'Miss'),\n",
    "    1, 0\n",
    ")\n",
    "copy_df[['Sex', 'Parch', 'Age', 'Title', 'isMother']].head()"
   ]
  },
  {
   "cell_type": "markdown",
   "metadata": {},
   "source": [
    "### 29. Count the values of isMother feature."
   ]
  },
  {
   "cell_type": "code",
   "execution_count": 98,
   "metadata": {
    "ExecuteTime": {
     "end_time": "2024-09-21T08:40:45.859910400Z",
     "start_time": "2024-09-21T08:40:44.489070800Z"
    }
   },
   "outputs": [
    {
     "data": {
      "text/plain": "isMother\n0    1224\n1      85\nName: count, dtype: int64"
     },
     "execution_count": 98,
     "metadata": {},
     "output_type": "execute_result"
    }
   ],
   "source": [
    "copy_df['isMother'].value_counts()"
   ]
  },
  {
   "cell_type": "markdown",
   "metadata": {},
   "source": [
    "### 30. Using crosstab() function create a cross tabulation for Survived and isMother features. Don't forget to exclude -888 value."
   ]
  },
  {
   "cell_type": "code",
   "execution_count": 99,
   "metadata": {
    "ExecuteTime": {
     "end_time": "2024-09-21T08:40:45.901846700Z",
     "start_time": "2024-09-21T08:40:44.509321400Z"
    }
   },
   "outputs": [
    {
     "data": {
      "text/plain": "isMother    0   1\nSurvived         \n0         533  16\n1         303  39",
      "text/html": "<div>\n<style scoped>\n    .dataframe tbody tr th:only-of-type {\n        vertical-align: middle;\n    }\n\n    .dataframe tbody tr th {\n        vertical-align: top;\n    }\n\n    .dataframe thead th {\n        text-align: right;\n    }\n</style>\n<table border=\"1\" class=\"dataframe\">\n  <thead>\n    <tr style=\"text-align: right;\">\n      <th>isMother</th>\n      <th>0</th>\n      <th>1</th>\n    </tr>\n    <tr>\n      <th>Survived</th>\n      <th></th>\n      <th></th>\n    </tr>\n  </thead>\n  <tbody>\n    <tr>\n      <th>0</th>\n      <td>533</td>\n      <td>16</td>\n    </tr>\n    <tr>\n      <th>1</th>\n      <td>303</td>\n      <td>39</td>\n    </tr>\n  </tbody>\n</table>\n</div>"
     },
     "execution_count": 99,
     "metadata": {},
     "output_type": "execute_result"
    }
   ],
   "source": [
    "filtered_df = copy_df[copy_df['Survived'] != -999]\n",
    "cross_tab = pd.crosstab(filtered_df['Survived'], filtered_df['isMother'])\n",
    "cross_tab"
   ]
  },
  {
   "cell_type": "markdown",
   "metadata": {},
   "source": [
    "### 31. Next, let's work with Cabin feature. Show it."
   ]
  },
  {
   "cell_type": "code",
   "execution_count": 100,
   "metadata": {
    "ExecuteTime": {
     "end_time": "2024-09-21T08:40:45.902885800Z",
     "start_time": "2024-09-21T08:40:44.536910800Z"
    }
   },
   "outputs": [
    {
     "data": {
      "text/plain": "0        NaN\n1        NaN\n2        NaN\n3        NaN\n4        NaN\n        ... \n1304     NaN\n1305     B42\n1306     NaN\n1307    C148\n1308     NaN\nName: Cabin, Length: 1309, dtype: object"
     },
     "execution_count": 100,
     "metadata": {},
     "output_type": "execute_result"
    }
   ],
   "source": [
    "copy_df['Cabin']"
   ]
  },
  {
   "cell_type": "markdown",
   "metadata": {},
   "source": [
    "### 32. Show unique values of Cabin feature."
   ]
  },
  {
   "cell_type": "code",
   "execution_count": 101,
   "metadata": {
    "ExecuteTime": {
     "end_time": "2024-09-21T08:40:45.902885800Z",
     "start_time": "2024-09-21T08:40:44.550434100Z"
    }
   },
   "outputs": [
    {
     "data": {
      "text/plain": "array([nan, 'B45', 'E31', 'B57 B59 B63 B66', 'B36', 'A21', 'C78', 'D34',\n       'D19', 'A9', 'D15', 'C31', 'C23 C25 C27', 'F G63', 'B61', 'C53',\n       'D43', 'C130', 'C132', 'C101', 'C55 C57', 'B71', 'C46', 'C116',\n       'F', 'A29', 'G6', 'C6', 'C28', 'C51', 'E46', 'C54', 'C97', 'D22',\n       'B10', 'F4', 'E45', 'E52', 'D30', 'B58 B60', 'E34', 'C62 C64',\n       'A11', 'B11', 'C80', 'F33', 'C85', 'D37', 'C86', 'D21', 'C89',\n       'F E46', 'A34', 'D', 'B26', 'C22 C26', 'B69', 'C32', 'B78',\n       'F E57', 'F2', 'A18', 'C106', 'B51 B53 B55', 'D10 D12', 'E60',\n       'E50', 'E39 E41', 'B52 B54 B56', 'C39', 'B24', 'D28', 'B41', 'C7',\n       'D40', 'D38', 'C105', 'C123', 'C103', 'D56', 'A6', 'D33', 'B30',\n       'C52', 'B28', 'C83', 'F G73', 'A5', 'D26', 'C110', 'E101', 'F E69',\n       'D47', 'B86', 'C2', 'E33', 'B19', 'A7', 'C49', 'A32', 'B4', 'B80',\n       'A31', 'D36', 'C93', 'D35', 'C87', 'B77', 'E67', 'B94', 'C125',\n       'C99', 'C118', 'D7', 'A19', 'B49', 'C65', 'E36', 'B18', 'C124',\n       'C91', 'E40', 'T', 'C128', 'B35', 'C82', 'B96 B98', 'E10', 'E44',\n       'C104', 'C111', 'C92', 'E38', 'E12', 'E63', 'A14', 'B37', 'C30',\n       'D20', 'B79', 'E25', 'D46', 'B73', 'C95', 'B38', 'B39', 'B22',\n       'C70', 'A16', 'C68', 'A10', 'E68', 'A20', 'D50', 'D9', 'A23',\n       'B50', 'A26', 'D48', 'E58', 'C126', 'D49', 'B5', 'B20', 'E24',\n       'C90', 'C45', 'E8', 'B101', 'D45', 'E121', 'D11', 'E77', 'F38',\n       'B3', 'D6', 'B82 B84', 'D17', 'A36', 'B102', 'E49', 'C47', 'E17',\n       'A24', 'C50', 'B42', 'C148'], dtype=object)"
     },
     "execution_count": 101,
     "metadata": {},
     "output_type": "execute_result"
    }
   ],
   "source": [
    "copy_df['Cabin'].unique()\n"
   ]
  },
  {
   "cell_type": "markdown",
   "metadata": {},
   "source": [
    "### 33. Each value has a letter in upper case and some numbers, whereas you have to notice there is a one value that has no numbers. Suppose, it is an error value. Let's convert it into Nan. "
   ]
  },
  {
   "cell_type": "code",
   "execution_count": 102,
   "metadata": {
    "ExecuteTime": {
     "end_time": "2024-09-21T08:40:45.958480300Z",
     "start_time": "2024-09-21T08:40:44.568705400Z"
    }
   },
   "outputs": [
    {
     "data": {
      "text/plain": "array([nan, 'B45', 'E31', 'B57 B59 B63 B66', 'B36', 'A21', 'C78', 'D34',\n       'D19', 'A9', 'D15', 'C31', 'C23 C25 C27', 'F G63', 'B61', 'C53',\n       'D43', 'C130', 'C132', 'C101', 'C55 C57', 'B71', 'C46', 'C116',\n       'A29', 'G6', 'C6', 'C28', 'C51', 'E46', 'C54', 'C97', 'D22', 'B10',\n       'F4', 'E45', 'E52', 'D30', 'B58 B60', 'E34', 'C62 C64', 'A11',\n       'B11', 'C80', 'F33', 'C85', 'D37', 'C86', 'D21', 'C89', 'F E46',\n       'A34', 'B26', 'C22 C26', 'B69', 'C32', 'B78', 'F E57', 'F2', 'A18',\n       'C106', 'B51 B53 B55', 'D10 D12', 'E60', 'E50', 'E39 E41',\n       'B52 B54 B56', 'C39', 'B24', 'D28', 'B41', 'C7', 'D40', 'D38',\n       'C105', 'C123', 'C103', 'D56', 'A6', 'D33', 'B30', 'C52', 'B28',\n       'C83', 'F G73', 'A5', 'D26', 'C110', 'E101', 'F E69', 'D47', 'B86',\n       'C2', 'E33', 'B19', 'A7', 'C49', 'A32', 'B4', 'B80', 'A31', 'D36',\n       'C93', 'D35', 'C87', 'B77', 'E67', 'B94', 'C125', 'C99', 'C118',\n       'D7', 'A19', 'B49', 'C65', 'E36', 'B18', 'C124', 'C91', 'E40',\n       'C128', 'B35', 'C82', 'B96 B98', 'E10', 'E44', 'C104', 'C111',\n       'C92', 'E38', 'E12', 'E63', 'A14', 'B37', 'C30', 'D20', 'B79',\n       'E25', 'D46', 'B73', 'C95', 'B38', 'B39', 'B22', 'C70', 'A16',\n       'C68', 'A10', 'E68', 'A20', 'D50', 'D9', 'A23', 'B50', 'A26',\n       'D48', 'E58', 'C126', 'D49', 'B5', 'B20', 'E24', 'C90', 'C45',\n       'E8', 'B101', 'D45', 'E121', 'D11', 'E77', 'F38', 'B3', 'D6',\n       'B82 B84', 'D17', 'A36', 'B102', 'E49', 'C47', 'E17', 'A24', 'C50',\n       'B42', 'C148'], dtype=object)"
     },
     "execution_count": 102,
     "metadata": {},
     "output_type": "execute_result"
    }
   ],
   "source": [
    "copy_df['Cabin'] = np.where(copy_df['Cabin'].str.contains('\\d', na=False), copy_df['Cabin'], np.nan)\n",
    "copy_df['Cabin'].unique()"
   ]
  },
  {
   "cell_type": "markdown",
   "metadata": {},
   "source": [
    "### 34. Create a function, called get_deck, which takes argument Cabin and returns changed values as 'Z' for NaN values of Cabin argument, and drops numbers of existed values of Cabin. As a result, function returns letter in upper case."
   ]
  },
  {
   "cell_type": "code",
   "execution_count": 103,
   "metadata": {
    "ExecuteTime": {
     "end_time": "2024-09-21T08:40:45.958480300Z",
     "start_time": "2024-09-21T08:40:44.587984500Z"
    }
   },
   "outputs": [],
   "source": [
    "def get_deck(Cabin):\n",
    "    if pd.isnull(Cabin):\n",
    "        return 'Z'\n",
    "    else:\n",
    "        return Cabin[0].upper()"
   ]
  },
  {
   "cell_type": "markdown",
   "metadata": {},
   "source": [
    "### 35. Let's create another feature, called 'Deck', to find this value you need to call get_deck() function."
   ]
  },
  {
   "cell_type": "code",
   "execution_count": 104,
   "metadata": {
    "ExecuteTime": {
     "end_time": "2024-09-21T08:40:45.958480300Z",
     "start_time": "2024-09-21T08:40:44.598364700Z"
    }
   },
   "outputs": [
    {
     "data": {
      "text/plain": "array(['Z', 'B', 'E', 'A', 'C', 'D', 'F', 'G'], dtype=object)"
     },
     "execution_count": 104,
     "metadata": {},
     "output_type": "execute_result"
    }
   ],
   "source": [
    "copy_df['Deck'] = copy_df['Cabin'].apply(get_deck)\n",
    "copy_df['Deck'].unique()"
   ]
  },
  {
   "cell_type": "markdown",
   "metadata": {},
   "source": [
    "### 36. Let's look at dataframe, call info() function, now we have new 5 features."
   ]
  },
  {
   "cell_type": "code",
   "execution_count": 105,
   "metadata": {
    "ExecuteTime": {
     "end_time": "2024-09-21T08:40:45.959496900Z",
     "start_time": "2024-09-21T08:40:44.614825100Z"
    }
   },
   "outputs": [
    {
     "name": "stdout",
     "output_type": "stream",
     "text": [
      "<class 'pandas.core.frame.DataFrame'>\n",
      "RangeIndex: 1309 entries, 0 to 1308\n",
      "Data columns (total 22 columns):\n",
      " #   Column       Non-Null Count  Dtype   \n",
      "---  ------       --------------  -----   \n",
      " 0   Unnamed: 0   1309 non-null   int64   \n",
      " 1   PassengerId  1309 non-null   int64   \n",
      " 2   Pclass       1309 non-null   int64   \n",
      " 3   Name         1309 non-null   object  \n",
      " 4   Sex          1309 non-null   object  \n",
      " 5   Age          1309 non-null   float64 \n",
      " 6   SibSp        1309 non-null   int64   \n",
      " 7   Parch        1309 non-null   int64   \n",
      " 8   Ticket       1309 non-null   object  \n",
      " 9   Fare         1309 non-null   float64 \n",
      " 10  Cabin        289 non-null    object  \n",
      " 11  Embarked     1309 non-null   object  \n",
      " 12  Survived     1309 non-null   int64   \n",
      " 13  Title        1309 non-null   object  \n",
      " 14  FullName     1309 non-null   object  \n",
      " 15  Fare_log     1309 non-null   float64 \n",
      " 16  Fare_bucket  1309 non-null   category\n",
      " 17  Fare_Bin     1309 non-null   category\n",
      " 18  AgeState     1309 non-null   object  \n",
      " 19  FamilySize   1309 non-null   int64   \n",
      " 20  isMother     1309 non-null   int64   \n",
      " 21  Deck         1309 non-null   object  \n",
      "dtypes: category(2), float64(3), int64(8), object(9)\n",
      "memory usage: 207.6+ KB\n"
     ]
    }
   ],
   "source": [
    "copy_df.info()"
   ]
  },
  {
   "cell_type": "markdown",
   "metadata": {},
   "source": [
    "### 37. Using crosstab() function create a cross tabulation for Survived and Deck features. Don't forget to exclude -888 value."
   ]
  },
  {
   "cell_type": "code",
   "execution_count": 106,
   "metadata": {
    "ExecuteTime": {
     "end_time": "2024-09-21T08:40:45.959496900Z",
     "start_time": "2024-09-21T08:40:44.640863100Z"
    }
   },
   "outputs": [
    {
     "data": {
      "text/plain": "Deck      A   B   C   D   E  F  G    Z\nSurvived                              \n0         8  12  24   7   8  5  2  483\n1         7  35  35  23  24  8  2  208",
      "text/html": "<div>\n<style scoped>\n    .dataframe tbody tr th:only-of-type {\n        vertical-align: middle;\n    }\n\n    .dataframe tbody tr th {\n        vertical-align: top;\n    }\n\n    .dataframe thead th {\n        text-align: right;\n    }\n</style>\n<table border=\"1\" class=\"dataframe\">\n  <thead>\n    <tr style=\"text-align: right;\">\n      <th>Deck</th>\n      <th>A</th>\n      <th>B</th>\n      <th>C</th>\n      <th>D</th>\n      <th>E</th>\n      <th>F</th>\n      <th>G</th>\n      <th>Z</th>\n    </tr>\n    <tr>\n      <th>Survived</th>\n      <th></th>\n      <th></th>\n      <th></th>\n      <th></th>\n      <th></th>\n      <th></th>\n      <th></th>\n      <th></th>\n    </tr>\n  </thead>\n  <tbody>\n    <tr>\n      <th>0</th>\n      <td>8</td>\n      <td>12</td>\n      <td>24</td>\n      <td>7</td>\n      <td>8</td>\n      <td>5</td>\n      <td>2</td>\n      <td>483</td>\n    </tr>\n    <tr>\n      <th>1</th>\n      <td>7</td>\n      <td>35</td>\n      <td>35</td>\n      <td>23</td>\n      <td>24</td>\n      <td>8</td>\n      <td>2</td>\n      <td>208</td>\n    </tr>\n  </tbody>\n</table>\n</div>"
     },
     "execution_count": 106,
     "metadata": {},
     "output_type": "execute_result"
    }
   ],
   "source": [
    "filtered_df = copy_df[copy_df['Survived'] != -999]\n",
    "cross_tab = pd.crosstab(filtered_df['Survived'], filtered_df['Deck'])\n",
    "cross_tab"
   ]
  },
  {
   "cell_type": "markdown",
   "metadata": {},
   "source": [
    "### 38. Categorical Feature Encoding. Let's work with Gender feature. Create a new feature, called 'isMale', using where() function."
   ]
  },
  {
   "cell_type": "code",
   "execution_count": 107,
   "metadata": {
    "ExecuteTime": {
     "end_time": "2024-09-21T08:40:46.053473800Z",
     "start_time": "2024-09-21T08:40:44.674191300Z"
    }
   },
   "outputs": [
    {
     "data": {
      "text/plain": "      Unnamed: 0  PassengerId  Pclass  \\\n0              0          892       3   \n1              1          893       3   \n2              2          894       2   \n3              3          895       3   \n4              4          896       3   \n...          ...          ...     ...   \n1304         886          887       2   \n1305         887          888       1   \n1306         888          889       3   \n1307         889          890       1   \n1308         890          891       3   \n\n                                              Name     Sex   Age  SibSp  \\\n0                                 Kelly, Mr. James    male  34.5      0   \n1                 Wilkes, Mrs. James (Ellen Needs)  female  47.0      1   \n2                        Myles, Mr. Thomas Francis    male  62.0      0   \n3                                 Wirz, Mr. Albert    male  27.0      0   \n4     Hirvonen, Mrs. Alexander (Helga E Lindqvist)  female  22.0      1   \n...                                            ...     ...   ...    ...   \n1304                         Montvila, Rev. Juozas    male  27.0      0   \n1305                  Graham, Miss. Margaret Edith  female  19.0      0   \n1306      Johnston, Miss. Catherine Helen \"Carrie\"  female  22.0      1   \n1307                         Behr, Mr. Karl Howell    male  26.0      0   \n1308                           Dooley, Mr. Patrick    male  32.0      0   \n\n      Parch      Ticket     Fare  ... Title  \\\n0         0      330911   7.8292  ...    Mr   \n1         0      363272   7.0000  ...   Mrs   \n2         0      240276   9.6875  ...    Mr   \n3         0      315154   8.6625  ...    Mr   \n4         1     3101298  12.2875  ...   Mrs   \n...     ...         ...      ...  ...   ...   \n1304      0      211536  13.0000  ...   Sir   \n1305      0      112053  30.0000  ...  Miss   \n1306      2  W./C. 6607  23.4500  ...  Miss   \n1307      0      111369  30.0000  ...    Mr   \n1308      0      370376   7.7500  ...    Mr   \n\n                                    FullName  Fare_log Fare_bucket  Fare_Bin  \\\n0                                Kelly James  2.178064    very_low  very_low   \n1                 Wilkes James (Ellen Needs)  2.079442    very_low  very_low   \n2                       Myles Thomas Francis  2.369075         low       low   \n3                                Wirz Albert  2.268252         low       low   \n4     Hirvonen Alexander (Helga E Lindqvist)  2.586824         low       low   \n...                                      ...       ...         ...       ...   \n1304                         Montvila Juozas  2.639057         low       low   \n1305                   Graham Margaret Edith  3.433987        high      high   \n1306       Johnston Catherine Helen \"Carrie\"  3.196630        high      high   \n1307                        Behr Karl Howell  3.433987        high      high   \n1308                          Dooley Patrick  2.169054    very_low  very_low   \n\n      AgeState FamilySize isMother Deck  isMale  \n0        Adult          1        0    Z       1  \n1        Adult          2        0    Z       0  \n2        Adult          1        0    Z       1  \n3        Adult          1        0    Z       1  \n4        Adult          3        1    Z       0  \n...        ...        ...      ...  ...     ...  \n1304     Adult          1        0    Z       1  \n1305     Adult          1        0    B       0  \n1306     Adult          4        0    Z       0  \n1307     Adult          1        0    C       1  \n1308     Adult          1        0    Z       1  \n\n[1309 rows x 23 columns]",
      "text/html": "<div>\n<style scoped>\n    .dataframe tbody tr th:only-of-type {\n        vertical-align: middle;\n    }\n\n    .dataframe tbody tr th {\n        vertical-align: top;\n    }\n\n    .dataframe thead th {\n        text-align: right;\n    }\n</style>\n<table border=\"1\" class=\"dataframe\">\n  <thead>\n    <tr style=\"text-align: right;\">\n      <th></th>\n      <th>Unnamed: 0</th>\n      <th>PassengerId</th>\n      <th>Pclass</th>\n      <th>Name</th>\n      <th>Sex</th>\n      <th>Age</th>\n      <th>SibSp</th>\n      <th>Parch</th>\n      <th>Ticket</th>\n      <th>Fare</th>\n      <th>...</th>\n      <th>Title</th>\n      <th>FullName</th>\n      <th>Fare_log</th>\n      <th>Fare_bucket</th>\n      <th>Fare_Bin</th>\n      <th>AgeState</th>\n      <th>FamilySize</th>\n      <th>isMother</th>\n      <th>Deck</th>\n      <th>isMale</th>\n    </tr>\n  </thead>\n  <tbody>\n    <tr>\n      <th>0</th>\n      <td>0</td>\n      <td>892</td>\n      <td>3</td>\n      <td>Kelly, Mr. James</td>\n      <td>male</td>\n      <td>34.5</td>\n      <td>0</td>\n      <td>0</td>\n      <td>330911</td>\n      <td>7.8292</td>\n      <td>...</td>\n      <td>Mr</td>\n      <td>Kelly James</td>\n      <td>2.178064</td>\n      <td>very_low</td>\n      <td>very_low</td>\n      <td>Adult</td>\n      <td>1</td>\n      <td>0</td>\n      <td>Z</td>\n      <td>1</td>\n    </tr>\n    <tr>\n      <th>1</th>\n      <td>1</td>\n      <td>893</td>\n      <td>3</td>\n      <td>Wilkes, Mrs. James (Ellen Needs)</td>\n      <td>female</td>\n      <td>47.0</td>\n      <td>1</td>\n      <td>0</td>\n      <td>363272</td>\n      <td>7.0000</td>\n      <td>...</td>\n      <td>Mrs</td>\n      <td>Wilkes James (Ellen Needs)</td>\n      <td>2.079442</td>\n      <td>very_low</td>\n      <td>very_low</td>\n      <td>Adult</td>\n      <td>2</td>\n      <td>0</td>\n      <td>Z</td>\n      <td>0</td>\n    </tr>\n    <tr>\n      <th>2</th>\n      <td>2</td>\n      <td>894</td>\n      <td>2</td>\n      <td>Myles, Mr. Thomas Francis</td>\n      <td>male</td>\n      <td>62.0</td>\n      <td>0</td>\n      <td>0</td>\n      <td>240276</td>\n      <td>9.6875</td>\n      <td>...</td>\n      <td>Mr</td>\n      <td>Myles Thomas Francis</td>\n      <td>2.369075</td>\n      <td>low</td>\n      <td>low</td>\n      <td>Adult</td>\n      <td>1</td>\n      <td>0</td>\n      <td>Z</td>\n      <td>1</td>\n    </tr>\n    <tr>\n      <th>3</th>\n      <td>3</td>\n      <td>895</td>\n      <td>3</td>\n      <td>Wirz, Mr. Albert</td>\n      <td>male</td>\n      <td>27.0</td>\n      <td>0</td>\n      <td>0</td>\n      <td>315154</td>\n      <td>8.6625</td>\n      <td>...</td>\n      <td>Mr</td>\n      <td>Wirz Albert</td>\n      <td>2.268252</td>\n      <td>low</td>\n      <td>low</td>\n      <td>Adult</td>\n      <td>1</td>\n      <td>0</td>\n      <td>Z</td>\n      <td>1</td>\n    </tr>\n    <tr>\n      <th>4</th>\n      <td>4</td>\n      <td>896</td>\n      <td>3</td>\n      <td>Hirvonen, Mrs. Alexander (Helga E Lindqvist)</td>\n      <td>female</td>\n      <td>22.0</td>\n      <td>1</td>\n      <td>1</td>\n      <td>3101298</td>\n      <td>12.2875</td>\n      <td>...</td>\n      <td>Mrs</td>\n      <td>Hirvonen Alexander (Helga E Lindqvist)</td>\n      <td>2.586824</td>\n      <td>low</td>\n      <td>low</td>\n      <td>Adult</td>\n      <td>3</td>\n      <td>1</td>\n      <td>Z</td>\n      <td>0</td>\n    </tr>\n    <tr>\n      <th>...</th>\n      <td>...</td>\n      <td>...</td>\n      <td>...</td>\n      <td>...</td>\n      <td>...</td>\n      <td>...</td>\n      <td>...</td>\n      <td>...</td>\n      <td>...</td>\n      <td>...</td>\n      <td>...</td>\n      <td>...</td>\n      <td>...</td>\n      <td>...</td>\n      <td>...</td>\n      <td>...</td>\n      <td>...</td>\n      <td>...</td>\n      <td>...</td>\n      <td>...</td>\n      <td>...</td>\n    </tr>\n    <tr>\n      <th>1304</th>\n      <td>886</td>\n      <td>887</td>\n      <td>2</td>\n      <td>Montvila, Rev. Juozas</td>\n      <td>male</td>\n      <td>27.0</td>\n      <td>0</td>\n      <td>0</td>\n      <td>211536</td>\n      <td>13.0000</td>\n      <td>...</td>\n      <td>Sir</td>\n      <td>Montvila Juozas</td>\n      <td>2.639057</td>\n      <td>low</td>\n      <td>low</td>\n      <td>Adult</td>\n      <td>1</td>\n      <td>0</td>\n      <td>Z</td>\n      <td>1</td>\n    </tr>\n    <tr>\n      <th>1305</th>\n      <td>887</td>\n      <td>888</td>\n      <td>1</td>\n      <td>Graham, Miss. Margaret Edith</td>\n      <td>female</td>\n      <td>19.0</td>\n      <td>0</td>\n      <td>0</td>\n      <td>112053</td>\n      <td>30.0000</td>\n      <td>...</td>\n      <td>Miss</td>\n      <td>Graham Margaret Edith</td>\n      <td>3.433987</td>\n      <td>high</td>\n      <td>high</td>\n      <td>Adult</td>\n      <td>1</td>\n      <td>0</td>\n      <td>B</td>\n      <td>0</td>\n    </tr>\n    <tr>\n      <th>1306</th>\n      <td>888</td>\n      <td>889</td>\n      <td>3</td>\n      <td>Johnston, Miss. Catherine Helen \"Carrie\"</td>\n      <td>female</td>\n      <td>22.0</td>\n      <td>1</td>\n      <td>2</td>\n      <td>W./C. 6607</td>\n      <td>23.4500</td>\n      <td>...</td>\n      <td>Miss</td>\n      <td>Johnston Catherine Helen \"Carrie\"</td>\n      <td>3.196630</td>\n      <td>high</td>\n      <td>high</td>\n      <td>Adult</td>\n      <td>4</td>\n      <td>0</td>\n      <td>Z</td>\n      <td>0</td>\n    </tr>\n    <tr>\n      <th>1307</th>\n      <td>889</td>\n      <td>890</td>\n      <td>1</td>\n      <td>Behr, Mr. Karl Howell</td>\n      <td>male</td>\n      <td>26.0</td>\n      <td>0</td>\n      <td>0</td>\n      <td>111369</td>\n      <td>30.0000</td>\n      <td>...</td>\n      <td>Mr</td>\n      <td>Behr Karl Howell</td>\n      <td>3.433987</td>\n      <td>high</td>\n      <td>high</td>\n      <td>Adult</td>\n      <td>1</td>\n      <td>0</td>\n      <td>C</td>\n      <td>1</td>\n    </tr>\n    <tr>\n      <th>1308</th>\n      <td>890</td>\n      <td>891</td>\n      <td>3</td>\n      <td>Dooley, Mr. Patrick</td>\n      <td>male</td>\n      <td>32.0</td>\n      <td>0</td>\n      <td>0</td>\n      <td>370376</td>\n      <td>7.7500</td>\n      <td>...</td>\n      <td>Mr</td>\n      <td>Dooley Patrick</td>\n      <td>2.169054</td>\n      <td>very_low</td>\n      <td>very_low</td>\n      <td>Adult</td>\n      <td>1</td>\n      <td>0</td>\n      <td>Z</td>\n      <td>1</td>\n    </tr>\n  </tbody>\n</table>\n<p>1309 rows × 23 columns</p>\n</div>"
     },
     "execution_count": 107,
     "metadata": {},
     "output_type": "execute_result"
    }
   ],
   "source": [
    "copy_df['isMale'] = np.where(copy_df['Sex'] == 'male', 1, 0)\n",
    "copy_df"
   ]
  },
  {
   "cell_type": "markdown",
   "metadata": {},
   "source": [
    "### 39. Using get_dummies() function encode 'Deck', 'Pclas', 'Title', 'Fare_Bin', 'Embarked', 'AgeState' features. Here must be 2 arguments, first is dataframe, second is list of features."
   ]
  },
  {
   "cell_type": "code",
   "execution_count": 108,
   "metadata": {
    "ExecuteTime": {
     "end_time": "2024-09-21T08:40:46.064351800Z",
     "start_time": "2024-09-21T08:40:44.724323800Z"
    }
   },
   "outputs": [
    {
     "data": {
      "text/plain": "      Unnamed: 0  PassengerId                                          Name  \\\n0              0          892                              Kelly, Mr. James   \n1              1          893              Wilkes, Mrs. James (Ellen Needs)   \n2              2          894                     Myles, Mr. Thomas Francis   \n3              3          895                              Wirz, Mr. Albert   \n4              4          896  Hirvonen, Mrs. Alexander (Helga E Lindqvist)   \n...          ...          ...                                           ...   \n1304         886          887                         Montvila, Rev. Juozas   \n1305         887          888                  Graham, Miss. Margaret Edith   \n1306         888          889      Johnston, Miss. Catherine Helen \"Carrie\"   \n1307         889          890                         Behr, Mr. Karl Howell   \n1308         890          891                           Dooley, Mr. Patrick   \n\n         Sex   Age  SibSp  Parch      Ticket     Fare Cabin  ...  Title_Sir  \\\n0       male  34.5      0      0      330911   7.8292   NaN  ...      False   \n1     female  47.0      1      0      363272   7.0000   NaN  ...      False   \n2       male  62.0      0      0      240276   9.6875   NaN  ...      False   \n3       male  27.0      0      0      315154   8.6625   NaN  ...      False   \n4     female  22.0      1      1     3101298  12.2875   NaN  ...      False   \n...      ...   ...    ...    ...         ...      ...   ...  ...        ...   \n1304    male  27.0      0      0      211536  13.0000   NaN  ...       True   \n1305  female  19.0      0      0      112053  30.0000   B42  ...      False   \n1306  female  22.0      1      2  W./C. 6607  23.4500   NaN  ...      False   \n1307    male  26.0      0      0      111369  30.0000  C148  ...      False   \n1308    male  32.0      0      0      370376   7.7500   NaN  ...      False   \n\n     Fare_Bin_very_low  Fare_Bin_low Fare_Bin_high  Fare_Bin_very_high  \\\n0                 True         False         False               False   \n1                 True         False         False               False   \n2                False          True         False               False   \n3                False          True         False               False   \n4                False          True         False               False   \n...                ...           ...           ...                 ...   \n1304             False          True         False               False   \n1305             False         False          True               False   \n1306             False         False          True               False   \n1307             False         False          True               False   \n1308              True         False         False               False   \n\n      Embarked_C  Embarked_Q  Embarked_S  AgeState_Adult  AgeState_Child  \n0          False        True       False            True           False  \n1          False       False        True            True           False  \n2          False        True       False            True           False  \n3          False       False        True            True           False  \n4          False       False        True            True           False  \n...          ...         ...         ...             ...             ...  \n1304       False       False        True            True           False  \n1305       False       False        True            True           False  \n1306       False       False        True            True           False  \n1307        True       False       False            True           False  \n1308       False        True       False            True           False  \n\n[1309 rows x 44 columns]",
      "text/html": "<div>\n<style scoped>\n    .dataframe tbody tr th:only-of-type {\n        vertical-align: middle;\n    }\n\n    .dataframe tbody tr th {\n        vertical-align: top;\n    }\n\n    .dataframe thead th {\n        text-align: right;\n    }\n</style>\n<table border=\"1\" class=\"dataframe\">\n  <thead>\n    <tr style=\"text-align: right;\">\n      <th></th>\n      <th>Unnamed: 0</th>\n      <th>PassengerId</th>\n      <th>Name</th>\n      <th>Sex</th>\n      <th>Age</th>\n      <th>SibSp</th>\n      <th>Parch</th>\n      <th>Ticket</th>\n      <th>Fare</th>\n      <th>Cabin</th>\n      <th>...</th>\n      <th>Title_Sir</th>\n      <th>Fare_Bin_very_low</th>\n      <th>Fare_Bin_low</th>\n      <th>Fare_Bin_high</th>\n      <th>Fare_Bin_very_high</th>\n      <th>Embarked_C</th>\n      <th>Embarked_Q</th>\n      <th>Embarked_S</th>\n      <th>AgeState_Adult</th>\n      <th>AgeState_Child</th>\n    </tr>\n  </thead>\n  <tbody>\n    <tr>\n      <th>0</th>\n      <td>0</td>\n      <td>892</td>\n      <td>Kelly, Mr. James</td>\n      <td>male</td>\n      <td>34.5</td>\n      <td>0</td>\n      <td>0</td>\n      <td>330911</td>\n      <td>7.8292</td>\n      <td>NaN</td>\n      <td>...</td>\n      <td>False</td>\n      <td>True</td>\n      <td>False</td>\n      <td>False</td>\n      <td>False</td>\n      <td>False</td>\n      <td>True</td>\n      <td>False</td>\n      <td>True</td>\n      <td>False</td>\n    </tr>\n    <tr>\n      <th>1</th>\n      <td>1</td>\n      <td>893</td>\n      <td>Wilkes, Mrs. James (Ellen Needs)</td>\n      <td>female</td>\n      <td>47.0</td>\n      <td>1</td>\n      <td>0</td>\n      <td>363272</td>\n      <td>7.0000</td>\n      <td>NaN</td>\n      <td>...</td>\n      <td>False</td>\n      <td>True</td>\n      <td>False</td>\n      <td>False</td>\n      <td>False</td>\n      <td>False</td>\n      <td>False</td>\n      <td>True</td>\n      <td>True</td>\n      <td>False</td>\n    </tr>\n    <tr>\n      <th>2</th>\n      <td>2</td>\n      <td>894</td>\n      <td>Myles, Mr. Thomas Francis</td>\n      <td>male</td>\n      <td>62.0</td>\n      <td>0</td>\n      <td>0</td>\n      <td>240276</td>\n      <td>9.6875</td>\n      <td>NaN</td>\n      <td>...</td>\n      <td>False</td>\n      <td>False</td>\n      <td>True</td>\n      <td>False</td>\n      <td>False</td>\n      <td>False</td>\n      <td>True</td>\n      <td>False</td>\n      <td>True</td>\n      <td>False</td>\n    </tr>\n    <tr>\n      <th>3</th>\n      <td>3</td>\n      <td>895</td>\n      <td>Wirz, Mr. Albert</td>\n      <td>male</td>\n      <td>27.0</td>\n      <td>0</td>\n      <td>0</td>\n      <td>315154</td>\n      <td>8.6625</td>\n      <td>NaN</td>\n      <td>...</td>\n      <td>False</td>\n      <td>False</td>\n      <td>True</td>\n      <td>False</td>\n      <td>False</td>\n      <td>False</td>\n      <td>False</td>\n      <td>True</td>\n      <td>True</td>\n      <td>False</td>\n    </tr>\n    <tr>\n      <th>4</th>\n      <td>4</td>\n      <td>896</td>\n      <td>Hirvonen, Mrs. Alexander (Helga E Lindqvist)</td>\n      <td>female</td>\n      <td>22.0</td>\n      <td>1</td>\n      <td>1</td>\n      <td>3101298</td>\n      <td>12.2875</td>\n      <td>NaN</td>\n      <td>...</td>\n      <td>False</td>\n      <td>False</td>\n      <td>True</td>\n      <td>False</td>\n      <td>False</td>\n      <td>False</td>\n      <td>False</td>\n      <td>True</td>\n      <td>True</td>\n      <td>False</td>\n    </tr>\n    <tr>\n      <th>...</th>\n      <td>...</td>\n      <td>...</td>\n      <td>...</td>\n      <td>...</td>\n      <td>...</td>\n      <td>...</td>\n      <td>...</td>\n      <td>...</td>\n      <td>...</td>\n      <td>...</td>\n      <td>...</td>\n      <td>...</td>\n      <td>...</td>\n      <td>...</td>\n      <td>...</td>\n      <td>...</td>\n      <td>...</td>\n      <td>...</td>\n      <td>...</td>\n      <td>...</td>\n      <td>...</td>\n    </tr>\n    <tr>\n      <th>1304</th>\n      <td>886</td>\n      <td>887</td>\n      <td>Montvila, Rev. Juozas</td>\n      <td>male</td>\n      <td>27.0</td>\n      <td>0</td>\n      <td>0</td>\n      <td>211536</td>\n      <td>13.0000</td>\n      <td>NaN</td>\n      <td>...</td>\n      <td>True</td>\n      <td>False</td>\n      <td>True</td>\n      <td>False</td>\n      <td>False</td>\n      <td>False</td>\n      <td>False</td>\n      <td>True</td>\n      <td>True</td>\n      <td>False</td>\n    </tr>\n    <tr>\n      <th>1305</th>\n      <td>887</td>\n      <td>888</td>\n      <td>Graham, Miss. Margaret Edith</td>\n      <td>female</td>\n      <td>19.0</td>\n      <td>0</td>\n      <td>0</td>\n      <td>112053</td>\n      <td>30.0000</td>\n      <td>B42</td>\n      <td>...</td>\n      <td>False</td>\n      <td>False</td>\n      <td>False</td>\n      <td>True</td>\n      <td>False</td>\n      <td>False</td>\n      <td>False</td>\n      <td>True</td>\n      <td>True</td>\n      <td>False</td>\n    </tr>\n    <tr>\n      <th>1306</th>\n      <td>888</td>\n      <td>889</td>\n      <td>Johnston, Miss. Catherine Helen \"Carrie\"</td>\n      <td>female</td>\n      <td>22.0</td>\n      <td>1</td>\n      <td>2</td>\n      <td>W./C. 6607</td>\n      <td>23.4500</td>\n      <td>NaN</td>\n      <td>...</td>\n      <td>False</td>\n      <td>False</td>\n      <td>False</td>\n      <td>True</td>\n      <td>False</td>\n      <td>False</td>\n      <td>False</td>\n      <td>True</td>\n      <td>True</td>\n      <td>False</td>\n    </tr>\n    <tr>\n      <th>1307</th>\n      <td>889</td>\n      <td>890</td>\n      <td>Behr, Mr. Karl Howell</td>\n      <td>male</td>\n      <td>26.0</td>\n      <td>0</td>\n      <td>0</td>\n      <td>111369</td>\n      <td>30.0000</td>\n      <td>C148</td>\n      <td>...</td>\n      <td>False</td>\n      <td>False</td>\n      <td>False</td>\n      <td>True</td>\n      <td>False</td>\n      <td>True</td>\n      <td>False</td>\n      <td>False</td>\n      <td>True</td>\n      <td>False</td>\n    </tr>\n    <tr>\n      <th>1308</th>\n      <td>890</td>\n      <td>891</td>\n      <td>Dooley, Mr. Patrick</td>\n      <td>male</td>\n      <td>32.0</td>\n      <td>0</td>\n      <td>0</td>\n      <td>370376</td>\n      <td>7.7500</td>\n      <td>NaN</td>\n      <td>...</td>\n      <td>False</td>\n      <td>True</td>\n      <td>False</td>\n      <td>False</td>\n      <td>False</td>\n      <td>False</td>\n      <td>True</td>\n      <td>False</td>\n      <td>True</td>\n      <td>False</td>\n    </tr>\n  </tbody>\n</table>\n<p>1309 rows × 44 columns</p>\n</div>"
     },
     "execution_count": 108,
     "metadata": {},
     "output_type": "execute_result"
    }
   ],
   "source": [
    "fff = ['Deck', 'Pclass', 'Title', 'Fare_Bin', 'Embarked', 'AgeState']\n",
    "copy_df_encoded = pd.get_dummies(copy_df, columns=fff)\n",
    "copy_df_encoded"
   ]
  },
  {
   "cell_type": "markdown",
   "metadata": {},
   "source": [
    "### 40. Call info() function, after encoding we have 34 features, and suppose we don't need 'Cabin', 'Name', 'Ticket', 'Parch', 'SibSp', 'Sex' features. As a result delete them and don't forget about inplace argument."
   ]
  },
  {
   "cell_type": "code",
   "execution_count": 109,
   "metadata": {
    "ExecuteTime": {
     "end_time": "2024-09-21T08:40:46.067499400Z",
     "start_time": "2024-09-21T08:40:44.894413700Z"
    }
   },
   "outputs": [
    {
     "name": "stdout",
     "output_type": "stream",
     "text": [
      "<class 'pandas.core.frame.DataFrame'>\n",
      "RangeIndex: 1309 entries, 0 to 1308\n",
      "Data columns (total 44 columns):\n",
      " #   Column              Non-Null Count  Dtype   \n",
      "---  ------              --------------  -----   \n",
      " 0   Unnamed: 0          1309 non-null   int64   \n",
      " 1   PassengerId         1309 non-null   int64   \n",
      " 2   Name                1309 non-null   object  \n",
      " 3   Sex                 1309 non-null   object  \n",
      " 4   Age                 1309 non-null   float64 \n",
      " 5   SibSp               1309 non-null   int64   \n",
      " 6   Parch               1309 non-null   int64   \n",
      " 7   Ticket              1309 non-null   object  \n",
      " 8   Fare                1309 non-null   float64 \n",
      " 9   Cabin               289 non-null    object  \n",
      " 10  Survived            1309 non-null   int64   \n",
      " 11  FullName            1309 non-null   object  \n",
      " 12  Fare_log            1309 non-null   float64 \n",
      " 13  Fare_bucket         1309 non-null   category\n",
      " 14  FamilySize          1309 non-null   int64   \n",
      " 15  isMother            1309 non-null   int64   \n",
      " 16  isMale              1309 non-null   int64   \n",
      " 17  Deck_A              1309 non-null   bool    \n",
      " 18  Deck_B              1309 non-null   bool    \n",
      " 19  Deck_C              1309 non-null   bool    \n",
      " 20  Deck_D              1309 non-null   bool    \n",
      " 21  Deck_E              1309 non-null   bool    \n",
      " 22  Deck_F              1309 non-null   bool    \n",
      " 23  Deck_G              1309 non-null   bool    \n",
      " 24  Deck_Z              1309 non-null   bool    \n",
      " 25  Pclass_1            1309 non-null   bool    \n",
      " 26  Pclass_2            1309 non-null   bool    \n",
      " 27  Pclass_3            1309 non-null   bool    \n",
      " 28  Title_Lady          1309 non-null   bool    \n",
      " 29  Title_Master        1309 non-null   bool    \n",
      " 30  Title_Miss          1309 non-null   bool    \n",
      " 31  Title_Mr            1309 non-null   bool    \n",
      " 32  Title_Mrs           1309 non-null   bool    \n",
      " 33  Title_Officer       1309 non-null   bool    \n",
      " 34  Title_Sir           1309 non-null   bool    \n",
      " 35  Fare_Bin_very_low   1309 non-null   bool    \n",
      " 36  Fare_Bin_low        1309 non-null   bool    \n",
      " 37  Fare_Bin_high       1309 non-null   bool    \n",
      " 38  Fare_Bin_very_high  1309 non-null   bool    \n",
      " 39  Embarked_C          1309 non-null   bool    \n",
      " 40  Embarked_Q          1309 non-null   bool    \n",
      " 41  Embarked_S          1309 non-null   bool    \n",
      " 42  AgeState_Adult      1309 non-null   bool    \n",
      " 43  AgeState_Child      1309 non-null   bool    \n",
      "dtypes: bool(27), category(1), float64(3), int64(8), object(5)\n",
      "memory usage: 199.7+ KB\n"
     ]
    }
   ],
   "source": [
    "copy_df_encoded.info()"
   ]
  },
  {
   "cell_type": "code",
   "execution_count": 110,
   "outputs": [],
   "source": [
    "ffff = ['Cabin', 'Name', 'Ticket', 'Parch', 'SibSp', 'Sex']\n",
    "copy_df_encoded.drop(columns=ffff, inplace=True)\n"
   ],
   "metadata": {
    "collapsed": false,
    "ExecuteTime": {
     "end_time": "2024-09-21T08:40:46.067499400Z",
     "start_time": "2024-09-21T08:40:44.894413700Z"
    }
   }
  },
  {
   "cell_type": "code",
   "execution_count": 111,
   "outputs": [
    {
     "data": {
      "text/plain": "      Unnamed: 0  PassengerId   Age     Fare  Survived  \\\n0              0          892  34.5   7.8292      -999   \n1              1          893  47.0   7.0000      -999   \n2              2          894  62.0   9.6875      -999   \n3              3          895  27.0   8.6625      -999   \n4              4          896  22.0  12.2875      -999   \n...          ...          ...   ...      ...       ...   \n1304         886          887  27.0  13.0000         0   \n1305         887          888  19.0  30.0000         1   \n1306         888          889  22.0  23.4500         0   \n1307         889          890  26.0  30.0000         1   \n1308         890          891  32.0   7.7500         0   \n\n                                    FullName  Fare_log Fare_bucket  \\\n0                                Kelly James  2.178064    very_low   \n1                 Wilkes James (Ellen Needs)  2.079442    very_low   \n2                       Myles Thomas Francis  2.369075         low   \n3                                Wirz Albert  2.268252         low   \n4     Hirvonen Alexander (Helga E Lindqvist)  2.586824         low   \n...                                      ...       ...         ...   \n1304                         Montvila Juozas  2.639057         low   \n1305                   Graham Margaret Edith  3.433987        high   \n1306       Johnston Catherine Helen \"Carrie\"  3.196630        high   \n1307                        Behr Karl Howell  3.433987        high   \n1308                          Dooley Patrick  2.169054    very_low   \n\n      FamilySize  isMother  ...  Title_Sir  Fare_Bin_very_low  Fare_Bin_low  \\\n0              1         0  ...      False               True         False   \n1              2         0  ...      False               True         False   \n2              1         0  ...      False              False          True   \n3              1         0  ...      False              False          True   \n4              3         1  ...      False              False          True   \n...          ...       ...  ...        ...                ...           ...   \n1304           1         0  ...       True              False          True   \n1305           1         0  ...      False              False         False   \n1306           4         0  ...      False              False         False   \n1307           1         0  ...      False              False         False   \n1308           1         0  ...      False               True         False   \n\n      Fare_Bin_high  Fare_Bin_very_high  Embarked_C  Embarked_Q  Embarked_S  \\\n0             False               False       False        True       False   \n1             False               False       False       False        True   \n2             False               False       False        True       False   \n3             False               False       False       False        True   \n4             False               False       False       False        True   \n...             ...                 ...         ...         ...         ...   \n1304          False               False       False       False        True   \n1305           True               False       False       False        True   \n1306           True               False       False       False        True   \n1307           True               False        True       False       False   \n1308          False               False       False        True       False   \n\n      AgeState_Adult  AgeState_Child  \n0               True           False  \n1               True           False  \n2               True           False  \n3               True           False  \n4               True           False  \n...              ...             ...  \n1304            True           False  \n1305            True           False  \n1306            True           False  \n1307            True           False  \n1308            True           False  \n\n[1309 rows x 38 columns]",
      "text/html": "<div>\n<style scoped>\n    .dataframe tbody tr th:only-of-type {\n        vertical-align: middle;\n    }\n\n    .dataframe tbody tr th {\n        vertical-align: top;\n    }\n\n    .dataframe thead th {\n        text-align: right;\n    }\n</style>\n<table border=\"1\" class=\"dataframe\">\n  <thead>\n    <tr style=\"text-align: right;\">\n      <th></th>\n      <th>Unnamed: 0</th>\n      <th>PassengerId</th>\n      <th>Age</th>\n      <th>Fare</th>\n      <th>Survived</th>\n      <th>FullName</th>\n      <th>Fare_log</th>\n      <th>Fare_bucket</th>\n      <th>FamilySize</th>\n      <th>isMother</th>\n      <th>...</th>\n      <th>Title_Sir</th>\n      <th>Fare_Bin_very_low</th>\n      <th>Fare_Bin_low</th>\n      <th>Fare_Bin_high</th>\n      <th>Fare_Bin_very_high</th>\n      <th>Embarked_C</th>\n      <th>Embarked_Q</th>\n      <th>Embarked_S</th>\n      <th>AgeState_Adult</th>\n      <th>AgeState_Child</th>\n    </tr>\n  </thead>\n  <tbody>\n    <tr>\n      <th>0</th>\n      <td>0</td>\n      <td>892</td>\n      <td>34.5</td>\n      <td>7.8292</td>\n      <td>-999</td>\n      <td>Kelly James</td>\n      <td>2.178064</td>\n      <td>very_low</td>\n      <td>1</td>\n      <td>0</td>\n      <td>...</td>\n      <td>False</td>\n      <td>True</td>\n      <td>False</td>\n      <td>False</td>\n      <td>False</td>\n      <td>False</td>\n      <td>True</td>\n      <td>False</td>\n      <td>True</td>\n      <td>False</td>\n    </tr>\n    <tr>\n      <th>1</th>\n      <td>1</td>\n      <td>893</td>\n      <td>47.0</td>\n      <td>7.0000</td>\n      <td>-999</td>\n      <td>Wilkes James (Ellen Needs)</td>\n      <td>2.079442</td>\n      <td>very_low</td>\n      <td>2</td>\n      <td>0</td>\n      <td>...</td>\n      <td>False</td>\n      <td>True</td>\n      <td>False</td>\n      <td>False</td>\n      <td>False</td>\n      <td>False</td>\n      <td>False</td>\n      <td>True</td>\n      <td>True</td>\n      <td>False</td>\n    </tr>\n    <tr>\n      <th>2</th>\n      <td>2</td>\n      <td>894</td>\n      <td>62.0</td>\n      <td>9.6875</td>\n      <td>-999</td>\n      <td>Myles Thomas Francis</td>\n      <td>2.369075</td>\n      <td>low</td>\n      <td>1</td>\n      <td>0</td>\n      <td>...</td>\n      <td>False</td>\n      <td>False</td>\n      <td>True</td>\n      <td>False</td>\n      <td>False</td>\n      <td>False</td>\n      <td>True</td>\n      <td>False</td>\n      <td>True</td>\n      <td>False</td>\n    </tr>\n    <tr>\n      <th>3</th>\n      <td>3</td>\n      <td>895</td>\n      <td>27.0</td>\n      <td>8.6625</td>\n      <td>-999</td>\n      <td>Wirz Albert</td>\n      <td>2.268252</td>\n      <td>low</td>\n      <td>1</td>\n      <td>0</td>\n      <td>...</td>\n      <td>False</td>\n      <td>False</td>\n      <td>True</td>\n      <td>False</td>\n      <td>False</td>\n      <td>False</td>\n      <td>False</td>\n      <td>True</td>\n      <td>True</td>\n      <td>False</td>\n    </tr>\n    <tr>\n      <th>4</th>\n      <td>4</td>\n      <td>896</td>\n      <td>22.0</td>\n      <td>12.2875</td>\n      <td>-999</td>\n      <td>Hirvonen Alexander (Helga E Lindqvist)</td>\n      <td>2.586824</td>\n      <td>low</td>\n      <td>3</td>\n      <td>1</td>\n      <td>...</td>\n      <td>False</td>\n      <td>False</td>\n      <td>True</td>\n      <td>False</td>\n      <td>False</td>\n      <td>False</td>\n      <td>False</td>\n      <td>True</td>\n      <td>True</td>\n      <td>False</td>\n    </tr>\n    <tr>\n      <th>...</th>\n      <td>...</td>\n      <td>...</td>\n      <td>...</td>\n      <td>...</td>\n      <td>...</td>\n      <td>...</td>\n      <td>...</td>\n      <td>...</td>\n      <td>...</td>\n      <td>...</td>\n      <td>...</td>\n      <td>...</td>\n      <td>...</td>\n      <td>...</td>\n      <td>...</td>\n      <td>...</td>\n      <td>...</td>\n      <td>...</td>\n      <td>...</td>\n      <td>...</td>\n      <td>...</td>\n    </tr>\n    <tr>\n      <th>1304</th>\n      <td>886</td>\n      <td>887</td>\n      <td>27.0</td>\n      <td>13.0000</td>\n      <td>0</td>\n      <td>Montvila Juozas</td>\n      <td>2.639057</td>\n      <td>low</td>\n      <td>1</td>\n      <td>0</td>\n      <td>...</td>\n      <td>True</td>\n      <td>False</td>\n      <td>True</td>\n      <td>False</td>\n      <td>False</td>\n      <td>False</td>\n      <td>False</td>\n      <td>True</td>\n      <td>True</td>\n      <td>False</td>\n    </tr>\n    <tr>\n      <th>1305</th>\n      <td>887</td>\n      <td>888</td>\n      <td>19.0</td>\n      <td>30.0000</td>\n      <td>1</td>\n      <td>Graham Margaret Edith</td>\n      <td>3.433987</td>\n      <td>high</td>\n      <td>1</td>\n      <td>0</td>\n      <td>...</td>\n      <td>False</td>\n      <td>False</td>\n      <td>False</td>\n      <td>True</td>\n      <td>False</td>\n      <td>False</td>\n      <td>False</td>\n      <td>True</td>\n      <td>True</td>\n      <td>False</td>\n    </tr>\n    <tr>\n      <th>1306</th>\n      <td>888</td>\n      <td>889</td>\n      <td>22.0</td>\n      <td>23.4500</td>\n      <td>0</td>\n      <td>Johnston Catherine Helen \"Carrie\"</td>\n      <td>3.196630</td>\n      <td>high</td>\n      <td>4</td>\n      <td>0</td>\n      <td>...</td>\n      <td>False</td>\n      <td>False</td>\n      <td>False</td>\n      <td>True</td>\n      <td>False</td>\n      <td>False</td>\n      <td>False</td>\n      <td>True</td>\n      <td>True</td>\n      <td>False</td>\n    </tr>\n    <tr>\n      <th>1307</th>\n      <td>889</td>\n      <td>890</td>\n      <td>26.0</td>\n      <td>30.0000</td>\n      <td>1</td>\n      <td>Behr Karl Howell</td>\n      <td>3.433987</td>\n      <td>high</td>\n      <td>1</td>\n      <td>0</td>\n      <td>...</td>\n      <td>False</td>\n      <td>False</td>\n      <td>False</td>\n      <td>True</td>\n      <td>False</td>\n      <td>True</td>\n      <td>False</td>\n      <td>False</td>\n      <td>True</td>\n      <td>False</td>\n    </tr>\n    <tr>\n      <th>1308</th>\n      <td>890</td>\n      <td>891</td>\n      <td>32.0</td>\n      <td>7.7500</td>\n      <td>0</td>\n      <td>Dooley Patrick</td>\n      <td>2.169054</td>\n      <td>very_low</td>\n      <td>1</td>\n      <td>0</td>\n      <td>...</td>\n      <td>False</td>\n      <td>True</td>\n      <td>False</td>\n      <td>False</td>\n      <td>False</td>\n      <td>False</td>\n      <td>True</td>\n      <td>False</td>\n      <td>True</td>\n      <td>False</td>\n    </tr>\n  </tbody>\n</table>\n<p>1309 rows × 38 columns</p>\n</div>"
     },
     "execution_count": 111,
     "metadata": {},
     "output_type": "execute_result"
    }
   ],
   "source": [
    "copy_df_encoded"
   ],
   "metadata": {
    "collapsed": false,
    "ExecuteTime": {
     "end_time": "2024-09-21T08:40:46.067499400Z",
     "start_time": "2024-09-21T08:40:44.894413700Z"
    }
   }
  },
  {
   "cell_type": "code",
   "execution_count": 111,
   "outputs": [],
   "source": [],
   "metadata": {
    "collapsed": false,
    "ExecuteTime": {
     "end_time": "2024-09-21T08:40:46.067499400Z",
     "start_time": "2024-09-21T08:40:44.922595700Z"
    }
   }
  }
 ],
 "metadata": {
  "kernelspec": {
   "display_name": "Python 3",
   "language": "python",
   "name": "python3"
  },
  "language_info": {
   "codemirror_mode": {
    "name": "ipython",
    "version": 3
   },
   "file_extension": ".py",
   "mimetype": "text/x-python",
   "name": "python",
   "nbconvert_exporter": "python",
   "pygments_lexer": "ipython3",
   "version": "3.11.8"
  }
 },
 "nbformat": 4,
 "nbformat_minor": 2
}
