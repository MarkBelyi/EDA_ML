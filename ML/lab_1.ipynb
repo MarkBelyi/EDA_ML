{
 "cells": [
  {
   "cell_type": "markdown",
   "metadata": {},
   "source": [
    "# Laboratory work 1. \n",
    "## 1. Import numpy, pandas, matplotlib\n",
    "\n"
   ]
  },
  {
   "cell_type": "code",
   "execution_count": 52,
   "metadata": {
    "ExecuteTime": {
     "end_time": "2024-09-13T09:12:27.554160200Z",
     "start_time": "2024-09-13T09:12:26.908425800Z"
    }
   },
   "outputs": [],
   "source": [
    "import numpy as np\n",
    "import pandas as pd\n",
    "import matplotlib.pyplot as plt"
   ]
  },
  {
   "cell_type": "markdown",
   "metadata": {},
   "source": [
    "## 2.  Import Data train.csv and test.csv using read_csv() method"
   ]
  },
  {
   "cell_type": "code",
   "execution_count": 54,
   "outputs": [],
   "source": [
    "train = pd.read_csv('train_split.csv')\n",
    "test = pd.read_csv('test_split.csv')"
   ],
   "metadata": {
    "collapsed": false,
    "ExecuteTime": {
     "end_time": "2024-09-13T09:12:28.090673600Z",
     "start_time": "2024-09-13T09:12:26.951120600Z"
    }
   }
  },
  {
   "cell_type": "markdown",
   "metadata": {},
   "source": [
    "## 3. Data Analysis. Print information about the DataFrames including the index dtype and columns, non-null values and memory usage using info() method"
   ]
  },
  {
   "cell_type": "code",
   "execution_count": 55,
   "metadata": {
    "ExecuteTime": {
     "end_time": "2024-09-13T09:12:28.098940300Z",
     "start_time": "2024-09-13T09:12:26.987840Z"
    }
   },
   "outputs": [
    {
     "name": "stdout",
     "output_type": "stream",
     "text": [
      "<class 'pandas.core.frame.DataFrame'>\n",
      "RangeIndex: 712 entries, 0 to 711\n",
      "Data columns (total 12 columns):\n",
      " #   Column       Non-Null Count  Dtype  \n",
      "---  ------       --------------  -----  \n",
      " 0   PassengerId  712 non-null    int64  \n",
      " 1   Survived     712 non-null    int64  \n",
      " 2   Pclass       712 non-null    int64  \n",
      " 3   Name         712 non-null    object \n",
      " 4   Sex          712 non-null    object \n",
      " 5   Age          572 non-null    float64\n",
      " 6   SibSp        712 non-null    int64  \n",
      " 7   Parch        712 non-null    int64  \n",
      " 8   Ticket       712 non-null    object \n",
      " 9   Fare         712 non-null    float64\n",
      " 10  Cabin        159 non-null    object \n",
      " 11  Embarked     710 non-null    object \n",
      "dtypes: float64(2), int64(5), object(5)\n",
      "memory usage: 66.9+ KB\n"
     ]
    }
   ],
   "source": [
    "train.info()"
   ]
  },
  {
   "cell_type": "code",
   "execution_count": 56,
   "metadata": {
    "ExecuteTime": {
     "end_time": "2024-09-13T09:12:28.102190Z",
     "start_time": "2024-09-13T09:12:26.997808900Z"
    }
   },
   "outputs": [
    {
     "name": "stdout",
     "output_type": "stream",
     "text": [
      "<class 'pandas.core.frame.DataFrame'>\n",
      "RangeIndex: 179 entries, 0 to 178\n",
      "Data columns (total 12 columns):\n",
      " #   Column       Non-Null Count  Dtype  \n",
      "---  ------       --------------  -----  \n",
      " 0   PassengerId  179 non-null    int64  \n",
      " 1   Survived     179 non-null    int64  \n",
      " 2   Pclass       179 non-null    int64  \n",
      " 3   Name         179 non-null    object \n",
      " 4   Sex          179 non-null    object \n",
      " 5   Age          142 non-null    float64\n",
      " 6   SibSp        179 non-null    int64  \n",
      " 7   Parch        179 non-null    int64  \n",
      " 8   Ticket       179 non-null    object \n",
      " 9   Fare         179 non-null    float64\n",
      " 10  Cabin        45 non-null     object \n",
      " 11  Embarked     179 non-null    object \n",
      "dtypes: float64(2), int64(5), object(5)\n",
      "memory usage: 16.9+ KB\n"
     ]
    }
   ],
   "source": [
    "test.info()"
   ]
  },
  {
   "cell_type": "markdown",
   "metadata": {},
   "source": [
    "## 4. There are no values for Survived column in test dataset, as a result fill this column with value -888 or any other value and check the result."
   ]
  },
  {
   "cell_type": "code",
   "execution_count": 57,
   "metadata": {
    "ExecuteTime": {
     "end_time": "2024-09-13T09:12:28.113507200Z",
     "start_time": "2024-09-13T09:12:27.017537300Z"
    }
   },
   "outputs": [
    {
     "data": {
      "text/plain": "     PassengerId  Survived  Pclass  \\\n0            710      -888       3   \n1            440      -888       2   \n2            841      -888       3   \n3            721      -888       2   \n4             40      -888       3   \n..           ...       ...     ...   \n174          434      -888       3   \n175          774      -888       3   \n176           26      -888       3   \n177           85      -888       2   \n178           11      -888       3   \n\n                                                  Name     Sex   Age  SibSp  \\\n0    Moubarek, Master. Halim Gonios (\"William George\")    male   NaN      1   \n1               Kvillner, Mr. Johan Henrik Johannesson    male  31.0      0   \n2                          Alhomaki, Mr. Ilmari Rudolf    male  20.0      0   \n3                    Harper, Miss. Annie Jessie \"Nina\"  female   6.0      0   \n4                          Nicola-Yarred, Miss. Jamila  female  14.0      1   \n..                                                 ...     ...   ...    ...   \n174                         Kallio, Mr. Nikolai Erland    male  17.0      0   \n175                                    Elias, Mr. Dibo    male   NaN      0   \n176  Asplund, Mrs. Carl Oscar (Selma Augusta Emilia...  female  38.0      1   \n177                                Ilett, Miss. Bertha  female  17.0      0   \n178                    Sandstrom, Miss. Marguerite Rut  female   4.0      1   \n\n     Parch             Ticket     Fare Cabin Embarked  \n0        1               2661  15.2458   NaN        C  \n1        0         C.A. 18723  10.5000   NaN        S  \n2        0   SOTON/O2 3101287   7.9250   NaN        S  \n3        1             248727  33.0000   NaN        S  \n4        0               2651  11.2417   NaN        C  \n..     ...                ...      ...   ...      ...  \n174      0  STON/O 2. 3101274   7.1250   NaN        S  \n175      0               2674   7.2250   NaN        C  \n176      5             347077  31.3875   NaN        S  \n177      0         SO/C 14885  10.5000   NaN        S  \n178      1            PP 9549  16.7000    G6        S  \n\n[179 rows x 12 columns]",
      "text/html": "<div>\n<style scoped>\n    .dataframe tbody tr th:only-of-type {\n        vertical-align: middle;\n    }\n\n    .dataframe tbody tr th {\n        vertical-align: top;\n    }\n\n    .dataframe thead th {\n        text-align: right;\n    }\n</style>\n<table border=\"1\" class=\"dataframe\">\n  <thead>\n    <tr style=\"text-align: right;\">\n      <th></th>\n      <th>PassengerId</th>\n      <th>Survived</th>\n      <th>Pclass</th>\n      <th>Name</th>\n      <th>Sex</th>\n      <th>Age</th>\n      <th>SibSp</th>\n      <th>Parch</th>\n      <th>Ticket</th>\n      <th>Fare</th>\n      <th>Cabin</th>\n      <th>Embarked</th>\n    </tr>\n  </thead>\n  <tbody>\n    <tr>\n      <th>0</th>\n      <td>710</td>\n      <td>-888</td>\n      <td>3</td>\n      <td>Moubarek, Master. Halim Gonios (\"William George\")</td>\n      <td>male</td>\n      <td>NaN</td>\n      <td>1</td>\n      <td>1</td>\n      <td>2661</td>\n      <td>15.2458</td>\n      <td>NaN</td>\n      <td>C</td>\n    </tr>\n    <tr>\n      <th>1</th>\n      <td>440</td>\n      <td>-888</td>\n      <td>2</td>\n      <td>Kvillner, Mr. Johan Henrik Johannesson</td>\n      <td>male</td>\n      <td>31.0</td>\n      <td>0</td>\n      <td>0</td>\n      <td>C.A. 18723</td>\n      <td>10.5000</td>\n      <td>NaN</td>\n      <td>S</td>\n    </tr>\n    <tr>\n      <th>2</th>\n      <td>841</td>\n      <td>-888</td>\n      <td>3</td>\n      <td>Alhomaki, Mr. Ilmari Rudolf</td>\n      <td>male</td>\n      <td>20.0</td>\n      <td>0</td>\n      <td>0</td>\n      <td>SOTON/O2 3101287</td>\n      <td>7.9250</td>\n      <td>NaN</td>\n      <td>S</td>\n    </tr>\n    <tr>\n      <th>3</th>\n      <td>721</td>\n      <td>-888</td>\n      <td>2</td>\n      <td>Harper, Miss. Annie Jessie \"Nina\"</td>\n      <td>female</td>\n      <td>6.0</td>\n      <td>0</td>\n      <td>1</td>\n      <td>248727</td>\n      <td>33.0000</td>\n      <td>NaN</td>\n      <td>S</td>\n    </tr>\n    <tr>\n      <th>4</th>\n      <td>40</td>\n      <td>-888</td>\n      <td>3</td>\n      <td>Nicola-Yarred, Miss. Jamila</td>\n      <td>female</td>\n      <td>14.0</td>\n      <td>1</td>\n      <td>0</td>\n      <td>2651</td>\n      <td>11.2417</td>\n      <td>NaN</td>\n      <td>C</td>\n    </tr>\n    <tr>\n      <th>...</th>\n      <td>...</td>\n      <td>...</td>\n      <td>...</td>\n      <td>...</td>\n      <td>...</td>\n      <td>...</td>\n      <td>...</td>\n      <td>...</td>\n      <td>...</td>\n      <td>...</td>\n      <td>...</td>\n      <td>...</td>\n    </tr>\n    <tr>\n      <th>174</th>\n      <td>434</td>\n      <td>-888</td>\n      <td>3</td>\n      <td>Kallio, Mr. Nikolai Erland</td>\n      <td>male</td>\n      <td>17.0</td>\n      <td>0</td>\n      <td>0</td>\n      <td>STON/O 2. 3101274</td>\n      <td>7.1250</td>\n      <td>NaN</td>\n      <td>S</td>\n    </tr>\n    <tr>\n      <th>175</th>\n      <td>774</td>\n      <td>-888</td>\n      <td>3</td>\n      <td>Elias, Mr. Dibo</td>\n      <td>male</td>\n      <td>NaN</td>\n      <td>0</td>\n      <td>0</td>\n      <td>2674</td>\n      <td>7.2250</td>\n      <td>NaN</td>\n      <td>C</td>\n    </tr>\n    <tr>\n      <th>176</th>\n      <td>26</td>\n      <td>-888</td>\n      <td>3</td>\n      <td>Asplund, Mrs. Carl Oscar (Selma Augusta Emilia...</td>\n      <td>female</td>\n      <td>38.0</td>\n      <td>1</td>\n      <td>5</td>\n      <td>347077</td>\n      <td>31.3875</td>\n      <td>NaN</td>\n      <td>S</td>\n    </tr>\n    <tr>\n      <th>177</th>\n      <td>85</td>\n      <td>-888</td>\n      <td>2</td>\n      <td>Ilett, Miss. Bertha</td>\n      <td>female</td>\n      <td>17.0</td>\n      <td>0</td>\n      <td>0</td>\n      <td>SO/C 14885</td>\n      <td>10.5000</td>\n      <td>NaN</td>\n      <td>S</td>\n    </tr>\n    <tr>\n      <th>178</th>\n      <td>11</td>\n      <td>-888</td>\n      <td>3</td>\n      <td>Sandstrom, Miss. Marguerite Rut</td>\n      <td>female</td>\n      <td>4.0</td>\n      <td>1</td>\n      <td>1</td>\n      <td>PP 9549</td>\n      <td>16.7000</td>\n      <td>G6</td>\n      <td>S</td>\n    </tr>\n  </tbody>\n</table>\n<p>179 rows × 12 columns</p>\n</div>"
     },
     "execution_count": 57,
     "metadata": {},
     "output_type": "execute_result"
    }
   ],
   "source": [
    "test['Survived'] = -888\n",
    "test"
   ]
  },
  {
   "cell_type": "code",
   "execution_count": 58,
   "metadata": {
    "ExecuteTime": {
     "end_time": "2024-09-13T09:12:28.116499100Z",
     "start_time": "2024-09-13T09:12:27.021038600Z"
    }
   },
   "outputs": [
    {
     "data": {
      "text/plain": "     PassengerId  Survived  Pclass  \\\n0            710      5986       3   \n1            440      5986       2   \n2            841      5986       3   \n3            721      5986       2   \n4             40      5986       3   \n..           ...       ...     ...   \n174          434      5986       3   \n175          774      5986       3   \n176           26      5986       3   \n177           85      5986       2   \n178           11      5986       3   \n\n                                                  Name     Sex   Age  SibSp  \\\n0    Moubarek, Master. Halim Gonios (\"William George\")    male   NaN      1   \n1               Kvillner, Mr. Johan Henrik Johannesson    male  31.0      0   \n2                          Alhomaki, Mr. Ilmari Rudolf    male  20.0      0   \n3                    Harper, Miss. Annie Jessie \"Nina\"  female   6.0      0   \n4                          Nicola-Yarred, Miss. Jamila  female  14.0      1   \n..                                                 ...     ...   ...    ...   \n174                         Kallio, Mr. Nikolai Erland    male  17.0      0   \n175                                    Elias, Mr. Dibo    male   NaN      0   \n176  Asplund, Mrs. Carl Oscar (Selma Augusta Emilia...  female  38.0      1   \n177                                Ilett, Miss. Bertha  female  17.0      0   \n178                    Sandstrom, Miss. Marguerite Rut  female   4.0      1   \n\n     Parch             Ticket     Fare Cabin Embarked  \n0        1               2661  15.2458   NaN        C  \n1        0         C.A. 18723  10.5000   NaN        S  \n2        0   SOTON/O2 3101287   7.9250   NaN        S  \n3        1             248727  33.0000   NaN        S  \n4        0               2651  11.2417   NaN        C  \n..     ...                ...      ...   ...      ...  \n174      0  STON/O 2. 3101274   7.1250   NaN        S  \n175      0               2674   7.2250   NaN        C  \n176      5             347077  31.3875   NaN        S  \n177      0         SO/C 14885  10.5000   NaN        S  \n178      1            PP 9549  16.7000    G6        S  \n\n[179 rows x 12 columns]",
      "text/html": "<div>\n<style scoped>\n    .dataframe tbody tr th:only-of-type {\n        vertical-align: middle;\n    }\n\n    .dataframe tbody tr th {\n        vertical-align: top;\n    }\n\n    .dataframe thead th {\n        text-align: right;\n    }\n</style>\n<table border=\"1\" class=\"dataframe\">\n  <thead>\n    <tr style=\"text-align: right;\">\n      <th></th>\n      <th>PassengerId</th>\n      <th>Survived</th>\n      <th>Pclass</th>\n      <th>Name</th>\n      <th>Sex</th>\n      <th>Age</th>\n      <th>SibSp</th>\n      <th>Parch</th>\n      <th>Ticket</th>\n      <th>Fare</th>\n      <th>Cabin</th>\n      <th>Embarked</th>\n    </tr>\n  </thead>\n  <tbody>\n    <tr>\n      <th>0</th>\n      <td>710</td>\n      <td>5986</td>\n      <td>3</td>\n      <td>Moubarek, Master. Halim Gonios (\"William George\")</td>\n      <td>male</td>\n      <td>NaN</td>\n      <td>1</td>\n      <td>1</td>\n      <td>2661</td>\n      <td>15.2458</td>\n      <td>NaN</td>\n      <td>C</td>\n    </tr>\n    <tr>\n      <th>1</th>\n      <td>440</td>\n      <td>5986</td>\n      <td>2</td>\n      <td>Kvillner, Mr. Johan Henrik Johannesson</td>\n      <td>male</td>\n      <td>31.0</td>\n      <td>0</td>\n      <td>0</td>\n      <td>C.A. 18723</td>\n      <td>10.5000</td>\n      <td>NaN</td>\n      <td>S</td>\n    </tr>\n    <tr>\n      <th>2</th>\n      <td>841</td>\n      <td>5986</td>\n      <td>3</td>\n      <td>Alhomaki, Mr. Ilmari Rudolf</td>\n      <td>male</td>\n      <td>20.0</td>\n      <td>0</td>\n      <td>0</td>\n      <td>SOTON/O2 3101287</td>\n      <td>7.9250</td>\n      <td>NaN</td>\n      <td>S</td>\n    </tr>\n    <tr>\n      <th>3</th>\n      <td>721</td>\n      <td>5986</td>\n      <td>2</td>\n      <td>Harper, Miss. Annie Jessie \"Nina\"</td>\n      <td>female</td>\n      <td>6.0</td>\n      <td>0</td>\n      <td>1</td>\n      <td>248727</td>\n      <td>33.0000</td>\n      <td>NaN</td>\n      <td>S</td>\n    </tr>\n    <tr>\n      <th>4</th>\n      <td>40</td>\n      <td>5986</td>\n      <td>3</td>\n      <td>Nicola-Yarred, Miss. Jamila</td>\n      <td>female</td>\n      <td>14.0</td>\n      <td>1</td>\n      <td>0</td>\n      <td>2651</td>\n      <td>11.2417</td>\n      <td>NaN</td>\n      <td>C</td>\n    </tr>\n    <tr>\n      <th>...</th>\n      <td>...</td>\n      <td>...</td>\n      <td>...</td>\n      <td>...</td>\n      <td>...</td>\n      <td>...</td>\n      <td>...</td>\n      <td>...</td>\n      <td>...</td>\n      <td>...</td>\n      <td>...</td>\n      <td>...</td>\n    </tr>\n    <tr>\n      <th>174</th>\n      <td>434</td>\n      <td>5986</td>\n      <td>3</td>\n      <td>Kallio, Mr. Nikolai Erland</td>\n      <td>male</td>\n      <td>17.0</td>\n      <td>0</td>\n      <td>0</td>\n      <td>STON/O 2. 3101274</td>\n      <td>7.1250</td>\n      <td>NaN</td>\n      <td>S</td>\n    </tr>\n    <tr>\n      <th>175</th>\n      <td>774</td>\n      <td>5986</td>\n      <td>3</td>\n      <td>Elias, Mr. Dibo</td>\n      <td>male</td>\n      <td>NaN</td>\n      <td>0</td>\n      <td>0</td>\n      <td>2674</td>\n      <td>7.2250</td>\n      <td>NaN</td>\n      <td>C</td>\n    </tr>\n    <tr>\n      <th>176</th>\n      <td>26</td>\n      <td>5986</td>\n      <td>3</td>\n      <td>Asplund, Mrs. Carl Oscar (Selma Augusta Emilia...</td>\n      <td>female</td>\n      <td>38.0</td>\n      <td>1</td>\n      <td>5</td>\n      <td>347077</td>\n      <td>31.3875</td>\n      <td>NaN</td>\n      <td>S</td>\n    </tr>\n    <tr>\n      <th>177</th>\n      <td>85</td>\n      <td>5986</td>\n      <td>2</td>\n      <td>Ilett, Miss. Bertha</td>\n      <td>female</td>\n      <td>17.0</td>\n      <td>0</td>\n      <td>0</td>\n      <td>SO/C 14885</td>\n      <td>10.5000</td>\n      <td>NaN</td>\n      <td>S</td>\n    </tr>\n    <tr>\n      <th>178</th>\n      <td>11</td>\n      <td>5986</td>\n      <td>3</td>\n      <td>Sandstrom, Miss. Marguerite Rut</td>\n      <td>female</td>\n      <td>4.0</td>\n      <td>1</td>\n      <td>1</td>\n      <td>PP 9549</td>\n      <td>16.7000</td>\n      <td>G6</td>\n      <td>S</td>\n    </tr>\n  </tbody>\n</table>\n<p>179 rows × 12 columns</p>\n</div>"
     },
     "execution_count": 58,
     "metadata": {},
     "output_type": "execute_result"
    }
   ],
   "source": [
    "test['Survived'] = 5986\n",
    "test"
   ]
  },
  {
   "cell_type": "markdown",
   "metadata": {},
   "source": [
    "## 5. Concatenate pandas objects into one DataFrame using concat() method, name it as df"
   ]
  },
  {
   "cell_type": "code",
   "execution_count": 59,
   "metadata": {
    "ExecuteTime": {
     "end_time": "2024-09-13T09:12:28.116499100Z",
     "start_time": "2024-09-13T09:12:27.040266Z"
    }
   },
   "outputs": [],
   "source": [
    "df = pd.concat([train, test], ignore_index=True)"
   ]
  },
  {
   "cell_type": "code",
   "execution_count": 60,
   "metadata": {
    "ExecuteTime": {
     "end_time": "2024-09-13T09:12:28.124749100Z",
     "start_time": "2024-09-13T09:12:27.043427900Z"
    }
   },
   "outputs": [
    {
     "data": {
      "text/plain": "     PassengerId  Survived  Pclass  \\\n0            332         0       1   \n1            734         0       2   \n2            383         0       3   \n3            705         0       3   \n4            814         0       3   \n..           ...       ...     ...   \n886          434      5986       3   \n887          774      5986       3   \n888           26      5986       3   \n889           85      5986       2   \n890           11      5986       3   \n\n                                                  Name     Sex   Age  SibSp  \\\n0                                  Partner, Mr. Austen    male  45.5      0   \n1                           Berriman, Mr. William John    male  23.0      0   \n2                                   Tikkanen, Mr. Juho    male  32.0      0   \n3                              Hansen, Mr. Henrik Juul    male  26.0      1   \n4                   Andersson, Miss. Ebba Iris Alfrida  female   6.0      4   \n..                                                 ...     ...   ...    ...   \n886                         Kallio, Mr. Nikolai Erland    male  17.0      0   \n887                                    Elias, Mr. Dibo    male   NaN      0   \n888  Asplund, Mrs. Carl Oscar (Selma Augusta Emilia...  female  38.0      1   \n889                                Ilett, Miss. Bertha  female  17.0      0   \n890                    Sandstrom, Miss. Marguerite Rut  female   4.0      1   \n\n     Parch             Ticket     Fare Cabin Embarked  \n0        0             113043  28.5000  C124        S  \n1        0              28425  13.0000   NaN        S  \n2        0  STON/O 2. 3101293   7.9250   NaN        S  \n3        0             350025   7.8542   NaN        S  \n4        2             347082  31.2750   NaN        S  \n..     ...                ...      ...   ...      ...  \n886      0  STON/O 2. 3101274   7.1250   NaN        S  \n887      0               2674   7.2250   NaN        C  \n888      5             347077  31.3875   NaN        S  \n889      0         SO/C 14885  10.5000   NaN        S  \n890      1            PP 9549  16.7000    G6        S  \n\n[891 rows x 12 columns]",
      "text/html": "<div>\n<style scoped>\n    .dataframe tbody tr th:only-of-type {\n        vertical-align: middle;\n    }\n\n    .dataframe tbody tr th {\n        vertical-align: top;\n    }\n\n    .dataframe thead th {\n        text-align: right;\n    }\n</style>\n<table border=\"1\" class=\"dataframe\">\n  <thead>\n    <tr style=\"text-align: right;\">\n      <th></th>\n      <th>PassengerId</th>\n      <th>Survived</th>\n      <th>Pclass</th>\n      <th>Name</th>\n      <th>Sex</th>\n      <th>Age</th>\n      <th>SibSp</th>\n      <th>Parch</th>\n      <th>Ticket</th>\n      <th>Fare</th>\n      <th>Cabin</th>\n      <th>Embarked</th>\n    </tr>\n  </thead>\n  <tbody>\n    <tr>\n      <th>0</th>\n      <td>332</td>\n      <td>0</td>\n      <td>1</td>\n      <td>Partner, Mr. Austen</td>\n      <td>male</td>\n      <td>45.5</td>\n      <td>0</td>\n      <td>0</td>\n      <td>113043</td>\n      <td>28.5000</td>\n      <td>C124</td>\n      <td>S</td>\n    </tr>\n    <tr>\n      <th>1</th>\n      <td>734</td>\n      <td>0</td>\n      <td>2</td>\n      <td>Berriman, Mr. William John</td>\n      <td>male</td>\n      <td>23.0</td>\n      <td>0</td>\n      <td>0</td>\n      <td>28425</td>\n      <td>13.0000</td>\n      <td>NaN</td>\n      <td>S</td>\n    </tr>\n    <tr>\n      <th>2</th>\n      <td>383</td>\n      <td>0</td>\n      <td>3</td>\n      <td>Tikkanen, Mr. Juho</td>\n      <td>male</td>\n      <td>32.0</td>\n      <td>0</td>\n      <td>0</td>\n      <td>STON/O 2. 3101293</td>\n      <td>7.9250</td>\n      <td>NaN</td>\n      <td>S</td>\n    </tr>\n    <tr>\n      <th>3</th>\n      <td>705</td>\n      <td>0</td>\n      <td>3</td>\n      <td>Hansen, Mr. Henrik Juul</td>\n      <td>male</td>\n      <td>26.0</td>\n      <td>1</td>\n      <td>0</td>\n      <td>350025</td>\n      <td>7.8542</td>\n      <td>NaN</td>\n      <td>S</td>\n    </tr>\n    <tr>\n      <th>4</th>\n      <td>814</td>\n      <td>0</td>\n      <td>3</td>\n      <td>Andersson, Miss. Ebba Iris Alfrida</td>\n      <td>female</td>\n      <td>6.0</td>\n      <td>4</td>\n      <td>2</td>\n      <td>347082</td>\n      <td>31.2750</td>\n      <td>NaN</td>\n      <td>S</td>\n    </tr>\n    <tr>\n      <th>...</th>\n      <td>...</td>\n      <td>...</td>\n      <td>...</td>\n      <td>...</td>\n      <td>...</td>\n      <td>...</td>\n      <td>...</td>\n      <td>...</td>\n      <td>...</td>\n      <td>...</td>\n      <td>...</td>\n      <td>...</td>\n    </tr>\n    <tr>\n      <th>886</th>\n      <td>434</td>\n      <td>5986</td>\n      <td>3</td>\n      <td>Kallio, Mr. Nikolai Erland</td>\n      <td>male</td>\n      <td>17.0</td>\n      <td>0</td>\n      <td>0</td>\n      <td>STON/O 2. 3101274</td>\n      <td>7.1250</td>\n      <td>NaN</td>\n      <td>S</td>\n    </tr>\n    <tr>\n      <th>887</th>\n      <td>774</td>\n      <td>5986</td>\n      <td>3</td>\n      <td>Elias, Mr. Dibo</td>\n      <td>male</td>\n      <td>NaN</td>\n      <td>0</td>\n      <td>0</td>\n      <td>2674</td>\n      <td>7.2250</td>\n      <td>NaN</td>\n      <td>C</td>\n    </tr>\n    <tr>\n      <th>888</th>\n      <td>26</td>\n      <td>5986</td>\n      <td>3</td>\n      <td>Asplund, Mrs. Carl Oscar (Selma Augusta Emilia...</td>\n      <td>female</td>\n      <td>38.0</td>\n      <td>1</td>\n      <td>5</td>\n      <td>347077</td>\n      <td>31.3875</td>\n      <td>NaN</td>\n      <td>S</td>\n    </tr>\n    <tr>\n      <th>889</th>\n      <td>85</td>\n      <td>5986</td>\n      <td>2</td>\n      <td>Ilett, Miss. Bertha</td>\n      <td>female</td>\n      <td>17.0</td>\n      <td>0</td>\n      <td>0</td>\n      <td>SO/C 14885</td>\n      <td>10.5000</td>\n      <td>NaN</td>\n      <td>S</td>\n    </tr>\n    <tr>\n      <th>890</th>\n      <td>11</td>\n      <td>5986</td>\n      <td>3</td>\n      <td>Sandstrom, Miss. Marguerite Rut</td>\n      <td>female</td>\n      <td>4.0</td>\n      <td>1</td>\n      <td>1</td>\n      <td>PP 9549</td>\n      <td>16.7000</td>\n      <td>G6</td>\n      <td>S</td>\n    </tr>\n  </tbody>\n</table>\n<p>891 rows × 12 columns</p>\n</div>"
     },
     "execution_count": 60,
     "metadata": {},
     "output_type": "execute_result"
    }
   ],
   "source": [
    "df"
   ]
  },
  {
   "cell_type": "markdown",
   "metadata": {},
   "source": [
    "## 6. Print information about new df DataFrame using info() method"
   ]
  },
  {
   "cell_type": "code",
   "execution_count": 61,
   "metadata": {
    "ExecuteTime": {
     "end_time": "2024-09-13T09:12:28.124749100Z",
     "start_time": "2024-09-13T09:12:27.064296900Z"
    }
   },
   "outputs": [
    {
     "name": "stdout",
     "output_type": "stream",
     "text": [
      "<class 'pandas.core.frame.DataFrame'>\n",
      "RangeIndex: 891 entries, 0 to 890\n",
      "Data columns (total 12 columns):\n",
      " #   Column       Non-Null Count  Dtype  \n",
      "---  ------       --------------  -----  \n",
      " 0   PassengerId  891 non-null    int64  \n",
      " 1   Survived     891 non-null    int64  \n",
      " 2   Pclass       891 non-null    int64  \n",
      " 3   Name         891 non-null    object \n",
      " 4   Sex          891 non-null    object \n",
      " 5   Age          714 non-null    float64\n",
      " 6   SibSp        891 non-null    int64  \n",
      " 7   Parch        891 non-null    int64  \n",
      " 8   Ticket       891 non-null    object \n",
      " 9   Fare         891 non-null    float64\n",
      " 10  Cabin        204 non-null    object \n",
      " 11  Embarked     889 non-null    object \n",
      "dtypes: float64(2), int64(5), object(5)\n",
      "memory usage: 83.7+ KB\n"
     ]
    }
   ],
   "source": [
    "df.info()"
   ]
  },
  {
   "cell_type": "markdown",
   "metadata": {},
   "source": [
    "## 7. Print df using head() and tail() methods "
   ]
  },
  {
   "cell_type": "code",
   "execution_count": 62,
   "metadata": {
    "ExecuteTime": {
     "end_time": "2024-09-13T09:12:28.126775300Z",
     "start_time": "2024-09-13T09:12:27.068289900Z"
    }
   },
   "outputs": [
    {
     "data": {
      "text/plain": "   PassengerId  Survived  Pclass                                Name     Sex  \\\n0          332         0       1                 Partner, Mr. Austen    male   \n1          734         0       2          Berriman, Mr. William John    male   \n2          383         0       3                  Tikkanen, Mr. Juho    male   \n3          705         0       3             Hansen, Mr. Henrik Juul    male   \n4          814         0       3  Andersson, Miss. Ebba Iris Alfrida  female   \n\n    Age  SibSp  Parch             Ticket     Fare Cabin Embarked  \n0  45.5      0      0             113043  28.5000  C124        S  \n1  23.0      0      0              28425  13.0000   NaN        S  \n2  32.0      0      0  STON/O 2. 3101293   7.9250   NaN        S  \n3  26.0      1      0             350025   7.8542   NaN        S  \n4   6.0      4      2             347082  31.2750   NaN        S  ",
      "text/html": "<div>\n<style scoped>\n    .dataframe tbody tr th:only-of-type {\n        vertical-align: middle;\n    }\n\n    .dataframe tbody tr th {\n        vertical-align: top;\n    }\n\n    .dataframe thead th {\n        text-align: right;\n    }\n</style>\n<table border=\"1\" class=\"dataframe\">\n  <thead>\n    <tr style=\"text-align: right;\">\n      <th></th>\n      <th>PassengerId</th>\n      <th>Survived</th>\n      <th>Pclass</th>\n      <th>Name</th>\n      <th>Sex</th>\n      <th>Age</th>\n      <th>SibSp</th>\n      <th>Parch</th>\n      <th>Ticket</th>\n      <th>Fare</th>\n      <th>Cabin</th>\n      <th>Embarked</th>\n    </tr>\n  </thead>\n  <tbody>\n    <tr>\n      <th>0</th>\n      <td>332</td>\n      <td>0</td>\n      <td>1</td>\n      <td>Partner, Mr. Austen</td>\n      <td>male</td>\n      <td>45.5</td>\n      <td>0</td>\n      <td>0</td>\n      <td>113043</td>\n      <td>28.5000</td>\n      <td>C124</td>\n      <td>S</td>\n    </tr>\n    <tr>\n      <th>1</th>\n      <td>734</td>\n      <td>0</td>\n      <td>2</td>\n      <td>Berriman, Mr. William John</td>\n      <td>male</td>\n      <td>23.0</td>\n      <td>0</td>\n      <td>0</td>\n      <td>28425</td>\n      <td>13.0000</td>\n      <td>NaN</td>\n      <td>S</td>\n    </tr>\n    <tr>\n      <th>2</th>\n      <td>383</td>\n      <td>0</td>\n      <td>3</td>\n      <td>Tikkanen, Mr. Juho</td>\n      <td>male</td>\n      <td>32.0</td>\n      <td>0</td>\n      <td>0</td>\n      <td>STON/O 2. 3101293</td>\n      <td>7.9250</td>\n      <td>NaN</td>\n      <td>S</td>\n    </tr>\n    <tr>\n      <th>3</th>\n      <td>705</td>\n      <td>0</td>\n      <td>3</td>\n      <td>Hansen, Mr. Henrik Juul</td>\n      <td>male</td>\n      <td>26.0</td>\n      <td>1</td>\n      <td>0</td>\n      <td>350025</td>\n      <td>7.8542</td>\n      <td>NaN</td>\n      <td>S</td>\n    </tr>\n    <tr>\n      <th>4</th>\n      <td>814</td>\n      <td>0</td>\n      <td>3</td>\n      <td>Andersson, Miss. Ebba Iris Alfrida</td>\n      <td>female</td>\n      <td>6.0</td>\n      <td>4</td>\n      <td>2</td>\n      <td>347082</td>\n      <td>31.2750</td>\n      <td>NaN</td>\n      <td>S</td>\n    </tr>\n  </tbody>\n</table>\n</div>"
     },
     "execution_count": 62,
     "metadata": {},
     "output_type": "execute_result"
    }
   ],
   "source": [
    "df.head()"
   ]
  },
  {
   "cell_type": "code",
   "execution_count": 63,
   "metadata": {
    "ExecuteTime": {
     "end_time": "2024-09-13T09:12:28.128771500Z",
     "start_time": "2024-09-13T09:12:27.080730900Z"
    }
   },
   "outputs": [
    {
     "data": {
      "text/plain": "     PassengerId  Survived  Pclass  \\\n886          434      5986       3   \n887          774      5986       3   \n888           26      5986       3   \n889           85      5986       2   \n890           11      5986       3   \n\n                                                  Name     Sex   Age  SibSp  \\\n886                         Kallio, Mr. Nikolai Erland    male  17.0      0   \n887                                    Elias, Mr. Dibo    male   NaN      0   \n888  Asplund, Mrs. Carl Oscar (Selma Augusta Emilia...  female  38.0      1   \n889                                Ilett, Miss. Bertha  female  17.0      0   \n890                    Sandstrom, Miss. Marguerite Rut  female   4.0      1   \n\n     Parch             Ticket     Fare Cabin Embarked  \n886      0  STON/O 2. 3101274   7.1250   NaN        S  \n887      0               2674   7.2250   NaN        C  \n888      5             347077  31.3875   NaN        S  \n889      0         SO/C 14885  10.5000   NaN        S  \n890      1            PP 9549  16.7000    G6        S  ",
      "text/html": "<div>\n<style scoped>\n    .dataframe tbody tr th:only-of-type {\n        vertical-align: middle;\n    }\n\n    .dataframe tbody tr th {\n        vertical-align: top;\n    }\n\n    .dataframe thead th {\n        text-align: right;\n    }\n</style>\n<table border=\"1\" class=\"dataframe\">\n  <thead>\n    <tr style=\"text-align: right;\">\n      <th></th>\n      <th>PassengerId</th>\n      <th>Survived</th>\n      <th>Pclass</th>\n      <th>Name</th>\n      <th>Sex</th>\n      <th>Age</th>\n      <th>SibSp</th>\n      <th>Parch</th>\n      <th>Ticket</th>\n      <th>Fare</th>\n      <th>Cabin</th>\n      <th>Embarked</th>\n    </tr>\n  </thead>\n  <tbody>\n    <tr>\n      <th>886</th>\n      <td>434</td>\n      <td>5986</td>\n      <td>3</td>\n      <td>Kallio, Mr. Nikolai Erland</td>\n      <td>male</td>\n      <td>17.0</td>\n      <td>0</td>\n      <td>0</td>\n      <td>STON/O 2. 3101274</td>\n      <td>7.1250</td>\n      <td>NaN</td>\n      <td>S</td>\n    </tr>\n    <tr>\n      <th>887</th>\n      <td>774</td>\n      <td>5986</td>\n      <td>3</td>\n      <td>Elias, Mr. Dibo</td>\n      <td>male</td>\n      <td>NaN</td>\n      <td>0</td>\n      <td>0</td>\n      <td>2674</td>\n      <td>7.2250</td>\n      <td>NaN</td>\n      <td>C</td>\n    </tr>\n    <tr>\n      <th>888</th>\n      <td>26</td>\n      <td>5986</td>\n      <td>3</td>\n      <td>Asplund, Mrs. Carl Oscar (Selma Augusta Emilia...</td>\n      <td>female</td>\n      <td>38.0</td>\n      <td>1</td>\n      <td>5</td>\n      <td>347077</td>\n      <td>31.3875</td>\n      <td>NaN</td>\n      <td>S</td>\n    </tr>\n    <tr>\n      <th>889</th>\n      <td>85</td>\n      <td>5986</td>\n      <td>2</td>\n      <td>Ilett, Miss. Bertha</td>\n      <td>female</td>\n      <td>17.0</td>\n      <td>0</td>\n      <td>0</td>\n      <td>SO/C 14885</td>\n      <td>10.5000</td>\n      <td>NaN</td>\n      <td>S</td>\n    </tr>\n    <tr>\n      <th>890</th>\n      <td>11</td>\n      <td>5986</td>\n      <td>3</td>\n      <td>Sandstrom, Miss. Marguerite Rut</td>\n      <td>female</td>\n      <td>4.0</td>\n      <td>1</td>\n      <td>1</td>\n      <td>PP 9549</td>\n      <td>16.7000</td>\n      <td>G6</td>\n      <td>S</td>\n    </tr>\n  </tbody>\n</table>\n</div>"
     },
     "execution_count": 63,
     "metadata": {},
     "output_type": "execute_result"
    }
   ],
   "source": [
    "df.tail()"
   ]
  },
  {
   "cell_type": "markdown",
   "metadata": {},
   "source": [
    "## 8. Print column 'Name' of df using head()methods "
   ]
  },
  {
   "cell_type": "code",
   "execution_count": 64,
   "metadata": {
    "ExecuteTime": {
     "end_time": "2024-09-13T09:12:28.129735300Z",
     "start_time": "2024-09-13T09:12:27.095674100Z"
    }
   },
   "outputs": [
    {
     "data": {
      "text/plain": "0                   Partner, Mr. Austen\n1            Berriman, Mr. William John\n2                    Tikkanen, Mr. Juho\n3               Hansen, Mr. Henrik Juul\n4    Andersson, Miss. Ebba Iris Alfrida\nName: Name, dtype: object"
     },
     "execution_count": 64,
     "metadata": {},
     "output_type": "execute_result"
    }
   ],
   "source": [
    "df['Name'].head()"
   ]
  },
  {
   "cell_type": "markdown",
   "metadata": {},
   "source": [
    "## 9. Print columns 'Name' and 'Age' of df using head() and tail() methods"
   ]
  },
  {
   "cell_type": "code",
   "execution_count": 65,
   "metadata": {
    "ExecuteTime": {
     "end_time": "2024-09-13T09:12:28.131761900Z",
     "start_time": "2024-09-13T09:12:27.102900400Z"
    }
   },
   "outputs": [
    {
     "data": {
      "text/plain": "                                 Name   Age\n0                 Partner, Mr. Austen  45.5\n1          Berriman, Mr. William John  23.0\n2                  Tikkanen, Mr. Juho  32.0\n3             Hansen, Mr. Henrik Juul  26.0\n4  Andersson, Miss. Ebba Iris Alfrida   6.0",
      "text/html": "<div>\n<style scoped>\n    .dataframe tbody tr th:only-of-type {\n        vertical-align: middle;\n    }\n\n    .dataframe tbody tr th {\n        vertical-align: top;\n    }\n\n    .dataframe thead th {\n        text-align: right;\n    }\n</style>\n<table border=\"1\" class=\"dataframe\">\n  <thead>\n    <tr style=\"text-align: right;\">\n      <th></th>\n      <th>Name</th>\n      <th>Age</th>\n    </tr>\n  </thead>\n  <tbody>\n    <tr>\n      <th>0</th>\n      <td>Partner, Mr. Austen</td>\n      <td>45.5</td>\n    </tr>\n    <tr>\n      <th>1</th>\n      <td>Berriman, Mr. William John</td>\n      <td>23.0</td>\n    </tr>\n    <tr>\n      <th>2</th>\n      <td>Tikkanen, Mr. Juho</td>\n      <td>32.0</td>\n    </tr>\n    <tr>\n      <th>3</th>\n      <td>Hansen, Mr. Henrik Juul</td>\n      <td>26.0</td>\n    </tr>\n    <tr>\n      <th>4</th>\n      <td>Andersson, Miss. Ebba Iris Alfrida</td>\n      <td>6.0</td>\n    </tr>\n  </tbody>\n</table>\n</div>"
     },
     "execution_count": 65,
     "metadata": {},
     "output_type": "execute_result"
    }
   ],
   "source": [
    "df[['Name', 'Age']].head()"
   ]
  },
  {
   "cell_type": "code",
   "execution_count": 66,
   "metadata": {
    "ExecuteTime": {
     "end_time": "2024-09-13T09:12:28.131761900Z",
     "start_time": "2024-09-13T09:12:27.113405700Z"
    }
   },
   "outputs": [
    {
     "data": {
      "text/plain": "                                                  Name   Age\n886                         Kallio, Mr. Nikolai Erland  17.0\n887                                    Elias, Mr. Dibo   NaN\n888  Asplund, Mrs. Carl Oscar (Selma Augusta Emilia...  38.0\n889                                Ilett, Miss. Bertha  17.0\n890                    Sandstrom, Miss. Marguerite Rut   4.0",
      "text/html": "<div>\n<style scoped>\n    .dataframe tbody tr th:only-of-type {\n        vertical-align: middle;\n    }\n\n    .dataframe tbody tr th {\n        vertical-align: top;\n    }\n\n    .dataframe thead th {\n        text-align: right;\n    }\n</style>\n<table border=\"1\" class=\"dataframe\">\n  <thead>\n    <tr style=\"text-align: right;\">\n      <th></th>\n      <th>Name</th>\n      <th>Age</th>\n    </tr>\n  </thead>\n  <tbody>\n    <tr>\n      <th>886</th>\n      <td>Kallio, Mr. Nikolai Erland</td>\n      <td>17.0</td>\n    </tr>\n    <tr>\n      <th>887</th>\n      <td>Elias, Mr. Dibo</td>\n      <td>NaN</td>\n    </tr>\n    <tr>\n      <th>888</th>\n      <td>Asplund, Mrs. Carl Oscar (Selma Augusta Emilia...</td>\n      <td>38.0</td>\n    </tr>\n    <tr>\n      <th>889</th>\n      <td>Ilett, Miss. Bertha</td>\n      <td>17.0</td>\n    </tr>\n    <tr>\n      <th>890</th>\n      <td>Sandstrom, Miss. Marguerite Rut</td>\n      <td>4.0</td>\n    </tr>\n  </tbody>\n</table>\n</div>"
     },
     "execution_count": 66,
     "metadata": {},
     "output_type": "execute_result"
    }
   ],
   "source": [
    "df[['Name', 'Age']].tail()"
   ]
  },
  {
   "cell_type": "markdown",
   "metadata": {},
   "source": [
    "## 10. Using iloc() method print from 5 to 10 of the axis of df."
   ]
  },
  {
   "cell_type": "code",
   "execution_count": 67,
   "metadata": {
    "ExecuteTime": {
     "end_time": "2024-09-13T09:12:28.133028700Z",
     "start_time": "2024-09-13T09:12:27.123823900Z"
    }
   },
   "outputs": [
    {
     "data": {
      "text/plain": "    PassengerId  Survived  Pclass                               Name     Sex  \\\n5           119         0       1           Baxter, Mr. Quigg Edmond    male   \n6           537         0       1  Butt, Major. Archibald Willingham    male   \n7           362         0       2          del Carlo, Mr. Sebastiano    male   \n8            30         0       3                Todoroff, Mr. Lalio    male   \n9            56         1       1                  Woolner, Mr. Hugh    male   \n10          866         1       2           Bystrom, Mrs. (Karolina)  female   \n\n     Age  SibSp  Parch         Ticket      Fare    Cabin Embarked  \n5   24.0      0      1       PC 17558  247.5208  B58 B60        C  \n6   45.0      0      0         113050   26.5500      B38        S  \n7   29.0      1      0  SC/PARIS 2167   27.7208      NaN        C  \n8    NaN      0      0         349216    7.8958      NaN        S  \n9    NaN      0      0          19947   35.5000      C52        S  \n10  42.0      0      0         236852   13.0000      NaN        S  ",
      "text/html": "<div>\n<style scoped>\n    .dataframe tbody tr th:only-of-type {\n        vertical-align: middle;\n    }\n\n    .dataframe tbody tr th {\n        vertical-align: top;\n    }\n\n    .dataframe thead th {\n        text-align: right;\n    }\n</style>\n<table border=\"1\" class=\"dataframe\">\n  <thead>\n    <tr style=\"text-align: right;\">\n      <th></th>\n      <th>PassengerId</th>\n      <th>Survived</th>\n      <th>Pclass</th>\n      <th>Name</th>\n      <th>Sex</th>\n      <th>Age</th>\n      <th>SibSp</th>\n      <th>Parch</th>\n      <th>Ticket</th>\n      <th>Fare</th>\n      <th>Cabin</th>\n      <th>Embarked</th>\n    </tr>\n  </thead>\n  <tbody>\n    <tr>\n      <th>5</th>\n      <td>119</td>\n      <td>0</td>\n      <td>1</td>\n      <td>Baxter, Mr. Quigg Edmond</td>\n      <td>male</td>\n      <td>24.0</td>\n      <td>0</td>\n      <td>1</td>\n      <td>PC 17558</td>\n      <td>247.5208</td>\n      <td>B58 B60</td>\n      <td>C</td>\n    </tr>\n    <tr>\n      <th>6</th>\n      <td>537</td>\n      <td>0</td>\n      <td>1</td>\n      <td>Butt, Major. Archibald Willingham</td>\n      <td>male</td>\n      <td>45.0</td>\n      <td>0</td>\n      <td>0</td>\n      <td>113050</td>\n      <td>26.5500</td>\n      <td>B38</td>\n      <td>S</td>\n    </tr>\n    <tr>\n      <th>7</th>\n      <td>362</td>\n      <td>0</td>\n      <td>2</td>\n      <td>del Carlo, Mr. Sebastiano</td>\n      <td>male</td>\n      <td>29.0</td>\n      <td>1</td>\n      <td>0</td>\n      <td>SC/PARIS 2167</td>\n      <td>27.7208</td>\n      <td>NaN</td>\n      <td>C</td>\n    </tr>\n    <tr>\n      <th>8</th>\n      <td>30</td>\n      <td>0</td>\n      <td>3</td>\n      <td>Todoroff, Mr. Lalio</td>\n      <td>male</td>\n      <td>NaN</td>\n      <td>0</td>\n      <td>0</td>\n      <td>349216</td>\n      <td>7.8958</td>\n      <td>NaN</td>\n      <td>S</td>\n    </tr>\n    <tr>\n      <th>9</th>\n      <td>56</td>\n      <td>1</td>\n      <td>1</td>\n      <td>Woolner, Mr. Hugh</td>\n      <td>male</td>\n      <td>NaN</td>\n      <td>0</td>\n      <td>0</td>\n      <td>19947</td>\n      <td>35.5000</td>\n      <td>C52</td>\n      <td>S</td>\n    </tr>\n    <tr>\n      <th>10</th>\n      <td>866</td>\n      <td>1</td>\n      <td>2</td>\n      <td>Bystrom, Mrs. (Karolina)</td>\n      <td>female</td>\n      <td>42.0</td>\n      <td>0</td>\n      <td>0</td>\n      <td>236852</td>\n      <td>13.0000</td>\n      <td>NaN</td>\n      <td>S</td>\n    </tr>\n  </tbody>\n</table>\n</div>"
     },
     "execution_count": 67,
     "metadata": {},
     "output_type": "execute_result"
    }
   ],
   "source": [
    "df.iloc[5:11]"
   ]
  },
  {
   "cell_type": "markdown",
   "metadata": {},
   "source": [
    "## 11. Using loc() method print from 5 to 10 of the axis of Name and Fare columns of df."
   ]
  },
  {
   "cell_type": "code",
   "execution_count": 68,
   "metadata": {
    "ExecuteTime": {
     "end_time": "2024-09-13T09:12:28.140043200Z",
     "start_time": "2024-09-13T09:12:27.138449300Z"
    }
   },
   "outputs": [
    {
     "data": {
      "text/plain": "                                 Name      Fare\n5            Baxter, Mr. Quigg Edmond  247.5208\n6   Butt, Major. Archibald Willingham   26.5500\n7           del Carlo, Mr. Sebastiano   27.7208\n8                 Todoroff, Mr. Lalio    7.8958\n9                   Woolner, Mr. Hugh   35.5000\n10           Bystrom, Mrs. (Karolina)   13.0000",
      "text/html": "<div>\n<style scoped>\n    .dataframe tbody tr th:only-of-type {\n        vertical-align: middle;\n    }\n\n    .dataframe tbody tr th {\n        vertical-align: top;\n    }\n\n    .dataframe thead th {\n        text-align: right;\n    }\n</style>\n<table border=\"1\" class=\"dataframe\">\n  <thead>\n    <tr style=\"text-align: right;\">\n      <th></th>\n      <th>Name</th>\n      <th>Fare</th>\n    </tr>\n  </thead>\n  <tbody>\n    <tr>\n      <th>5</th>\n      <td>Baxter, Mr. Quigg Edmond</td>\n      <td>247.5208</td>\n    </tr>\n    <tr>\n      <th>6</th>\n      <td>Butt, Major. Archibald Willingham</td>\n      <td>26.5500</td>\n    </tr>\n    <tr>\n      <th>7</th>\n      <td>del Carlo, Mr. Sebastiano</td>\n      <td>27.7208</td>\n    </tr>\n    <tr>\n      <th>8</th>\n      <td>Todoroff, Mr. Lalio</td>\n      <td>7.8958</td>\n    </tr>\n    <tr>\n      <th>9</th>\n      <td>Woolner, Mr. Hugh</td>\n      <td>35.5000</td>\n    </tr>\n    <tr>\n      <th>10</th>\n      <td>Bystrom, Mrs. (Karolina)</td>\n      <td>13.0000</td>\n    </tr>\n  </tbody>\n</table>\n</div>"
     },
     "execution_count": 68,
     "metadata": {},
     "output_type": "execute_result"
    }
   ],
   "source": [
    "df.loc[5:10, ['Name', 'Fare']]"
   ]
  },
  {
   "cell_type": "markdown",
   "metadata": {},
   "source": [
    "## 12. Using iloc() method print from 5 to 10 of the axis and from 3rd to 8th columns."
   ]
  },
  {
   "cell_type": "code",
   "execution_count": 69,
   "metadata": {
    "ExecuteTime": {
     "end_time": "2024-09-13T09:12:28.141043100Z",
     "start_time": "2024-09-13T09:12:27.155510500Z"
    }
   },
   "outputs": [
    {
     "data": {
      "text/plain": "                                 Name     Sex   Age  SibSp  Parch  \\\n5            Baxter, Mr. Quigg Edmond    male  24.0      0      1   \n6   Butt, Major. Archibald Willingham    male  45.0      0      0   \n7           del Carlo, Mr. Sebastiano    male  29.0      1      0   \n8                 Todoroff, Mr. Lalio    male   NaN      0      0   \n9                   Woolner, Mr. Hugh    male   NaN      0      0   \n10           Bystrom, Mrs. (Karolina)  female  42.0      0      0   \n\n           Ticket  \n5        PC 17558  \n6          113050  \n7   SC/PARIS 2167  \n8          349216  \n9           19947  \n10         236852  ",
      "text/html": "<div>\n<style scoped>\n    .dataframe tbody tr th:only-of-type {\n        vertical-align: middle;\n    }\n\n    .dataframe tbody tr th {\n        vertical-align: top;\n    }\n\n    .dataframe thead th {\n        text-align: right;\n    }\n</style>\n<table border=\"1\" class=\"dataframe\">\n  <thead>\n    <tr style=\"text-align: right;\">\n      <th></th>\n      <th>Name</th>\n      <th>Sex</th>\n      <th>Age</th>\n      <th>SibSp</th>\n      <th>Parch</th>\n      <th>Ticket</th>\n    </tr>\n  </thead>\n  <tbody>\n    <tr>\n      <th>5</th>\n      <td>Baxter, Mr. Quigg Edmond</td>\n      <td>male</td>\n      <td>24.0</td>\n      <td>0</td>\n      <td>1</td>\n      <td>PC 17558</td>\n    </tr>\n    <tr>\n      <th>6</th>\n      <td>Butt, Major. Archibald Willingham</td>\n      <td>male</td>\n      <td>45.0</td>\n      <td>0</td>\n      <td>0</td>\n      <td>113050</td>\n    </tr>\n    <tr>\n      <th>7</th>\n      <td>del Carlo, Mr. Sebastiano</td>\n      <td>male</td>\n      <td>29.0</td>\n      <td>1</td>\n      <td>0</td>\n      <td>SC/PARIS 2167</td>\n    </tr>\n    <tr>\n      <th>8</th>\n      <td>Todoroff, Mr. Lalio</td>\n      <td>male</td>\n      <td>NaN</td>\n      <td>0</td>\n      <td>0</td>\n      <td>349216</td>\n    </tr>\n    <tr>\n      <th>9</th>\n      <td>Woolner, Mr. Hugh</td>\n      <td>male</td>\n      <td>NaN</td>\n      <td>0</td>\n      <td>0</td>\n      <td>19947</td>\n    </tr>\n    <tr>\n      <th>10</th>\n      <td>Bystrom, Mrs. (Karolina)</td>\n      <td>female</td>\n      <td>42.0</td>\n      <td>0</td>\n      <td>0</td>\n      <td>236852</td>\n    </tr>\n  </tbody>\n</table>\n</div>"
     },
     "execution_count": 69,
     "metadata": {},
     "output_type": "execute_result"
    }
   ],
   "source": [
    "df.iloc[5:11, 3:9]"
   ]
  },
  {
   "cell_type": "markdown",
   "metadata": {},
   "source": [
    "## 13. Use iloc() method for df and read the data of 2 row and 2 column."
   ]
  },
  {
   "cell_type": "code",
   "execution_count": 70,
   "metadata": {
    "ExecuteTime": {
     "end_time": "2024-09-13T09:12:28.141043100Z",
     "start_time": "2024-09-13T09:12:27.163054900Z"
    }
   },
   "outputs": [
    {
     "name": "stdout",
     "output_type": "stream",
     "text": [
      "   PassengerId  Survived\n",
      "0          332         0\n",
      "1          734         0\n"
     ]
    }
   ],
   "source": [
    "print(df.iloc[0:2, 0:2])"
   ]
  },
  {
   "cell_type": "markdown",
   "metadata": {},
   "source": [
    "## 14. Create a new DataFrame using loc() method, where Sex is male. Name it as male_passengers and show the length."
   ]
  },
  {
   "cell_type": "code",
   "execution_count": 71,
   "metadata": {
    "ExecuteTime": {
     "end_time": "2024-09-13T09:12:28.143210900Z",
     "start_time": "2024-09-13T09:12:27.169346500Z"
    }
   },
   "outputs": [
    {
     "name": "stdout",
     "output_type": "stream",
     "text": [
      "     PassengerId  Survived  Pclass                              Name   Sex  \\\n",
      "0            332         0       1               Partner, Mr. Austen  male   \n",
      "1            734         0       2        Berriman, Mr. William John  male   \n",
      "2            383         0       3                Tikkanen, Mr. Juho  male   \n",
      "3            705         0       3           Hansen, Mr. Henrik Juul  male   \n",
      "5            119         0       1          Baxter, Mr. Quigg Edmond  male   \n",
      "..           ...       ...     ...                               ...   ...   \n",
      "881          364      5986       3                   Asim, Mr. Adola  male   \n",
      "882           98      5986       1   Greenfield, Mr. William Bertram  male   \n",
      "884          573      5986       1  Flynn, Mr. John Irwin (\"Irving\")  male   \n",
      "886          434      5986       3        Kallio, Mr. Nikolai Erland  male   \n",
      "887          774      5986       3                   Elias, Mr. Dibo  male   \n",
      "\n",
      "      Age  SibSp  Parch              Ticket      Fare    Cabin Embarked  \n",
      "0    45.5      0      0              113043   28.5000     C124        S  \n",
      "1    23.0      0      0               28425   13.0000      NaN        S  \n",
      "2    32.0      0      0   STON/O 2. 3101293    7.9250      NaN        S  \n",
      "3    26.0      1      0              350025    7.8542      NaN        S  \n",
      "5    24.0      0      1            PC 17558  247.5208  B58 B60        C  \n",
      "..    ...    ...    ...                 ...       ...      ...      ...  \n",
      "881  35.0      0      0  SOTON/O.Q. 3101310    7.0500      NaN        S  \n",
      "882  23.0      0      1            PC 17759   63.3583  D10 D12        C  \n",
      "884  36.0      0      0            PC 17474   26.3875      E25        S  \n",
      "886  17.0      0      0   STON/O 2. 3101274    7.1250      NaN        S  \n",
      "887   NaN      0      0                2674    7.2250      NaN        C  \n",
      "\n",
      "[577 rows x 12 columns]\n"
     ]
    },
    {
     "data": {
      "text/plain": "577"
     },
     "execution_count": 71,
     "metadata": {},
     "output_type": "execute_result"
    }
   ],
   "source": [
    "male_passengers = df.loc[df['Sex'] == 'male']\n",
    "print(male_passengers)\n",
    "len(male_passengers)"
   ]
  },
  {
   "cell_type": "markdown",
   "metadata": {},
   "source": [
    "## 15. Create a new DataFrame, where sex is male and Pclass(first class) is 1, and name it as male_passengers_first_class using loc() method. Show the new dataframe."
   ]
  },
  {
   "cell_type": "code",
   "execution_count": 72,
   "metadata": {
    "ExecuteTime": {
     "end_time": "2024-09-13T09:12:28.147199500Z",
     "start_time": "2024-09-13T09:12:27.181611900Z"
    }
   },
   "outputs": [
    {
     "data": {
      "text/plain": "     PassengerId  Survived  Pclass  \\\n0            332         0       1   \n5            119         0       1   \n6            537         0       1   \n9             56         1       1   \n28           391         1       1   \n..           ...       ...     ...   \n846          600      5986       1   \n873          508      5986       1   \n877           55      5986       1   \n882           98      5986       1   \n884          573      5986       1   \n\n                                              Name   Sex   Age  SibSp  Parch  \\\n0                              Partner, Mr. Austen  male  45.5      0      0   \n5                         Baxter, Mr. Quigg Edmond  male  24.0      0      1   \n6                Butt, Major. Archibald Willingham  male  45.0      0      0   \n9                                Woolner, Mr. Hugh  male   NaN      0      0   \n28                      Carter, Mr. William Ernest  male  36.0      1      2   \n..                                             ...   ...   ...    ...    ...   \n846   Duff Gordon, Sir. Cosmo Edmund (\"Mr Morgan\")  male  49.0      1      0   \n873  Bradley, Mr. George (\"George Arthur Brayton\")  male   NaN      0      0   \n877                 Ostby, Mr. Engelhart Cornelius  male  65.0      0      1   \n882                Greenfield, Mr. William Bertram  male  23.0      0      1   \n884               Flynn, Mr. John Irwin (\"Irving\")  male  36.0      0      0   \n\n       Ticket      Fare    Cabin Embarked  \n0      113043   28.5000     C124        S  \n5    PC 17558  247.5208  B58 B60        C  \n6      113050   26.5500      B38        S  \n9       19947   35.5000      C52        S  \n28     113760  120.0000  B96 B98        S  \n..        ...       ...      ...      ...  \n846  PC 17485   56.9292      A20        C  \n873    111427   26.5500      NaN        S  \n877    113509   61.9792      B30        C  \n882  PC 17759   63.3583  D10 D12        C  \n884  PC 17474   26.3875      E25        S  \n\n[122 rows x 12 columns]",
      "text/html": "<div>\n<style scoped>\n    .dataframe tbody tr th:only-of-type {\n        vertical-align: middle;\n    }\n\n    .dataframe tbody tr th {\n        vertical-align: top;\n    }\n\n    .dataframe thead th {\n        text-align: right;\n    }\n</style>\n<table border=\"1\" class=\"dataframe\">\n  <thead>\n    <tr style=\"text-align: right;\">\n      <th></th>\n      <th>PassengerId</th>\n      <th>Survived</th>\n      <th>Pclass</th>\n      <th>Name</th>\n      <th>Sex</th>\n      <th>Age</th>\n      <th>SibSp</th>\n      <th>Parch</th>\n      <th>Ticket</th>\n      <th>Fare</th>\n      <th>Cabin</th>\n      <th>Embarked</th>\n    </tr>\n  </thead>\n  <tbody>\n    <tr>\n      <th>0</th>\n      <td>332</td>\n      <td>0</td>\n      <td>1</td>\n      <td>Partner, Mr. Austen</td>\n      <td>male</td>\n      <td>45.5</td>\n      <td>0</td>\n      <td>0</td>\n      <td>113043</td>\n      <td>28.5000</td>\n      <td>C124</td>\n      <td>S</td>\n    </tr>\n    <tr>\n      <th>5</th>\n      <td>119</td>\n      <td>0</td>\n      <td>1</td>\n      <td>Baxter, Mr. Quigg Edmond</td>\n      <td>male</td>\n      <td>24.0</td>\n      <td>0</td>\n      <td>1</td>\n      <td>PC 17558</td>\n      <td>247.5208</td>\n      <td>B58 B60</td>\n      <td>C</td>\n    </tr>\n    <tr>\n      <th>6</th>\n      <td>537</td>\n      <td>0</td>\n      <td>1</td>\n      <td>Butt, Major. Archibald Willingham</td>\n      <td>male</td>\n      <td>45.0</td>\n      <td>0</td>\n      <td>0</td>\n      <td>113050</td>\n      <td>26.5500</td>\n      <td>B38</td>\n      <td>S</td>\n    </tr>\n    <tr>\n      <th>9</th>\n      <td>56</td>\n      <td>1</td>\n      <td>1</td>\n      <td>Woolner, Mr. Hugh</td>\n      <td>male</td>\n      <td>NaN</td>\n      <td>0</td>\n      <td>0</td>\n      <td>19947</td>\n      <td>35.5000</td>\n      <td>C52</td>\n      <td>S</td>\n    </tr>\n    <tr>\n      <th>28</th>\n      <td>391</td>\n      <td>1</td>\n      <td>1</td>\n      <td>Carter, Mr. William Ernest</td>\n      <td>male</td>\n      <td>36.0</td>\n      <td>1</td>\n      <td>2</td>\n      <td>113760</td>\n      <td>120.0000</td>\n      <td>B96 B98</td>\n      <td>S</td>\n    </tr>\n    <tr>\n      <th>...</th>\n      <td>...</td>\n      <td>...</td>\n      <td>...</td>\n      <td>...</td>\n      <td>...</td>\n      <td>...</td>\n      <td>...</td>\n      <td>...</td>\n      <td>...</td>\n      <td>...</td>\n      <td>...</td>\n      <td>...</td>\n    </tr>\n    <tr>\n      <th>846</th>\n      <td>600</td>\n      <td>5986</td>\n      <td>1</td>\n      <td>Duff Gordon, Sir. Cosmo Edmund (\"Mr Morgan\")</td>\n      <td>male</td>\n      <td>49.0</td>\n      <td>1</td>\n      <td>0</td>\n      <td>PC 17485</td>\n      <td>56.9292</td>\n      <td>A20</td>\n      <td>C</td>\n    </tr>\n    <tr>\n      <th>873</th>\n      <td>508</td>\n      <td>5986</td>\n      <td>1</td>\n      <td>Bradley, Mr. George (\"George Arthur Brayton\")</td>\n      <td>male</td>\n      <td>NaN</td>\n      <td>0</td>\n      <td>0</td>\n      <td>111427</td>\n      <td>26.5500</td>\n      <td>NaN</td>\n      <td>S</td>\n    </tr>\n    <tr>\n      <th>877</th>\n      <td>55</td>\n      <td>5986</td>\n      <td>1</td>\n      <td>Ostby, Mr. Engelhart Cornelius</td>\n      <td>male</td>\n      <td>65.0</td>\n      <td>0</td>\n      <td>1</td>\n      <td>113509</td>\n      <td>61.9792</td>\n      <td>B30</td>\n      <td>C</td>\n    </tr>\n    <tr>\n      <th>882</th>\n      <td>98</td>\n      <td>5986</td>\n      <td>1</td>\n      <td>Greenfield, Mr. William Bertram</td>\n      <td>male</td>\n      <td>23.0</td>\n      <td>0</td>\n      <td>1</td>\n      <td>PC 17759</td>\n      <td>63.3583</td>\n      <td>D10 D12</td>\n      <td>C</td>\n    </tr>\n    <tr>\n      <th>884</th>\n      <td>573</td>\n      <td>5986</td>\n      <td>1</td>\n      <td>Flynn, Mr. John Irwin (\"Irving\")</td>\n      <td>male</td>\n      <td>36.0</td>\n      <td>0</td>\n      <td>0</td>\n      <td>PC 17474</td>\n      <td>26.3875</td>\n      <td>E25</td>\n      <td>S</td>\n    </tr>\n  </tbody>\n</table>\n<p>122 rows × 12 columns</p>\n</div>"
     },
     "execution_count": 72,
     "metadata": {},
     "output_type": "execute_result"
    }
   ],
   "source": [
    "male_passengers_first_class = df.loc[(df['Sex'] == 'male') & (df['Pclass'] == 1)]\n",
    "male_passengers_first_class"
   ]
  },
  {
   "cell_type": "markdown",
   "metadata": {},
   "source": [
    "## 16. Make summary statistics using describe() method to view some basic statistical details like percentile, mean, std etc. of the DataFrame."
   ]
  },
  {
   "cell_type": "code",
   "execution_count": 73,
   "metadata": {
    "ExecuteTime": {
     "end_time": "2024-09-13T09:12:28.158514600Z",
     "start_time": "2024-09-13T09:12:27.197916300Z"
    }
   },
   "outputs": [
    {
     "data": {
      "text/plain": "       PassengerId     Survived  Pclass         Age       SibSp       Parch  \\\ncount   122.000000   122.000000   122.0  101.000000  122.000000  122.000000   \nmean    455.729508  1423.163934     1.0   41.281386    0.311475    0.278689   \nstd     247.026449  2558.465861     0.0   15.139570    0.546695    0.658853   \nmin       7.000000     0.000000     1.0    0.920000    0.000000    0.000000   \n25%     255.500000     0.000000     1.0   30.000000    0.000000    0.000000   \n50%     480.500000     0.500000     1.0   40.000000    0.000000    0.000000   \n75%     660.750000     1.000000     1.0   51.000000    1.000000    0.000000   \nmax     890.000000  5986.000000     1.0   80.000000    3.000000    4.000000   \n\n             Fare  \ncount  122.000000  \nmean    67.226127  \nstd     77.548021  \nmin      0.000000  \n25%     27.728100  \n50%     41.262500  \n75%     78.459375  \nmax    512.329200  ",
      "text/html": "<div>\n<style scoped>\n    .dataframe tbody tr th:only-of-type {\n        vertical-align: middle;\n    }\n\n    .dataframe tbody tr th {\n        vertical-align: top;\n    }\n\n    .dataframe thead th {\n        text-align: right;\n    }\n</style>\n<table border=\"1\" class=\"dataframe\">\n  <thead>\n    <tr style=\"text-align: right;\">\n      <th></th>\n      <th>PassengerId</th>\n      <th>Survived</th>\n      <th>Pclass</th>\n      <th>Age</th>\n      <th>SibSp</th>\n      <th>Parch</th>\n      <th>Fare</th>\n    </tr>\n  </thead>\n  <tbody>\n    <tr>\n      <th>count</th>\n      <td>122.000000</td>\n      <td>122.000000</td>\n      <td>122.0</td>\n      <td>101.000000</td>\n      <td>122.000000</td>\n      <td>122.000000</td>\n      <td>122.000000</td>\n    </tr>\n    <tr>\n      <th>mean</th>\n      <td>455.729508</td>\n      <td>1423.163934</td>\n      <td>1.0</td>\n      <td>41.281386</td>\n      <td>0.311475</td>\n      <td>0.278689</td>\n      <td>67.226127</td>\n    </tr>\n    <tr>\n      <th>std</th>\n      <td>247.026449</td>\n      <td>2558.465861</td>\n      <td>0.0</td>\n      <td>15.139570</td>\n      <td>0.546695</td>\n      <td>0.658853</td>\n      <td>77.548021</td>\n    </tr>\n    <tr>\n      <th>min</th>\n      <td>7.000000</td>\n      <td>0.000000</td>\n      <td>1.0</td>\n      <td>0.920000</td>\n      <td>0.000000</td>\n      <td>0.000000</td>\n      <td>0.000000</td>\n    </tr>\n    <tr>\n      <th>25%</th>\n      <td>255.500000</td>\n      <td>0.000000</td>\n      <td>1.0</td>\n      <td>30.000000</td>\n      <td>0.000000</td>\n      <td>0.000000</td>\n      <td>27.728100</td>\n    </tr>\n    <tr>\n      <th>50%</th>\n      <td>480.500000</td>\n      <td>0.500000</td>\n      <td>1.0</td>\n      <td>40.000000</td>\n      <td>0.000000</td>\n      <td>0.000000</td>\n      <td>41.262500</td>\n    </tr>\n    <tr>\n      <th>75%</th>\n      <td>660.750000</td>\n      <td>1.000000</td>\n      <td>1.0</td>\n      <td>51.000000</td>\n      <td>1.000000</td>\n      <td>0.000000</td>\n      <td>78.459375</td>\n    </tr>\n    <tr>\n      <th>max</th>\n      <td>890.000000</td>\n      <td>5986.000000</td>\n      <td>1.0</td>\n      <td>80.000000</td>\n      <td>3.000000</td>\n      <td>4.000000</td>\n      <td>512.329200</td>\n    </tr>\n  </tbody>\n</table>\n</div>"
     },
     "execution_count": 73,
     "metadata": {},
     "output_type": "execute_result"
    }
   ],
   "source": [
    "male_passengers_first_class.describe()"
   ]
  },
  {
   "cell_type": "markdown",
   "metadata": {},
   "source": [
    "## 17. Let's pay attention on numerical feature Fare. Find mean and median"
   ]
  },
  {
   "cell_type": "code",
   "execution_count": 74,
   "metadata": {
    "ExecuteTime": {
     "end_time": "2024-09-13T09:12:28.160507600Z",
     "start_time": "2024-09-13T09:12:27.218051600Z"
    }
   },
   "outputs": [
    {
     "data": {
      "text/plain": "np.float64(32.204207968574636)"
     },
     "execution_count": 74,
     "metadata": {},
     "output_type": "execute_result"
    }
   ],
   "source": [
    "df['Fare'].mean()"
   ]
  },
  {
   "cell_type": "code",
   "execution_count": 75,
   "outputs": [
    {
     "data": {
      "text/plain": "np.float64(14.4542)"
     },
     "execution_count": 75,
     "metadata": {},
     "output_type": "execute_result"
    }
   ],
   "source": [
    "df['Fare'].median()"
   ],
   "metadata": {
    "collapsed": false,
    "ExecuteTime": {
     "end_time": "2024-09-13T09:12:28.160507600Z",
     "start_time": "2024-09-13T09:12:27.226560700Z"
    }
   }
  },
  {
   "cell_type": "markdown",
   "metadata": {},
   "source": [
    "## 18. Print minimum and maximum values of Fare, then difference between max and min, and 25,50, and 75 percentile values, unbiased variance, standard deviation"
   ]
  },
  {
   "cell_type": "code",
   "execution_count": 76,
   "metadata": {
    "ExecuteTime": {
     "end_time": "2024-09-13T09:12:28.161504400Z",
     "start_time": "2024-09-13T09:12:27.233965500Z"
    }
   },
   "outputs": [
    {
     "name": "stdout",
     "output_type": "stream",
     "text": [
      "0.0 512.3292 -512.3292\n"
     ]
    }
   ],
   "source": [
    "maxF = df['Fare'].min()\n",
    "minF = df['Fare'].max()\n",
    "diff = maxF - minF\n",
    "print(maxF, minF, diff)"
   ]
  },
  {
   "cell_type": "code",
   "execution_count": 77,
   "metadata": {
    "ExecuteTime": {
     "end_time": "2024-09-13T09:12:28.161504400Z",
     "start_time": "2024-09-13T09:12:27.240577300Z"
    }
   },
   "outputs": [
    {
     "name": "stdout",
     "output_type": "stream",
     "text": [
      "7.9104 14.4542 31.0\n"
     ]
    }
   ],
   "source": [
    "print( df['Fare'].quantile(0.25), df['Fare'].quantile(0.5), df['Fare'].quantile(0.75))"
   ]
  },
  {
   "cell_type": "code",
   "execution_count": 78,
   "metadata": {
    "ExecuteTime": {
     "end_time": "2024-09-13T09:12:28.163811500Z",
     "start_time": "2024-09-13T09:12:27.251081Z"
    }
   },
   "outputs": [
    {
     "data": {
      "text/plain": "np.float64(2469.436845743116)"
     },
     "execution_count": 78,
     "metadata": {},
     "output_type": "execute_result"
    }
   ],
   "source": [
    "df['Fare'].var()"
   ]
  },
  {
   "cell_type": "code",
   "execution_count": 79,
   "outputs": [
    {
     "data": {
      "text/plain": "np.float64(49.6934285971809)"
     },
     "execution_count": 79,
     "metadata": {},
     "output_type": "execute_result"
    }
   ],
   "source": [
    "df['Fare'].std()"
   ],
   "metadata": {
    "collapsed": false,
    "ExecuteTime": {
     "end_time": "2024-09-13T09:12:28.163811500Z",
     "start_time": "2024-09-13T09:12:27.258459600Z"
    }
   }
  },
  {
   "cell_type": "markdown",
   "metadata": {},
   "source": [
    "## 19. Using plot() method of Pandas make visualization for Fare feature of df. As argument define kind as boxplot."
   ]
  },
  {
   "cell_type": "code",
   "execution_count": 80,
   "metadata": {
    "ExecuteTime": {
     "end_time": "2024-09-13T09:12:28.180071400Z",
     "start_time": "2024-09-13T09:12:27.266911300Z"
    }
   },
   "outputs": [
    {
     "data": {
      "text/plain": "<Axes: >"
     },
     "execution_count": 80,
     "metadata": {},
     "output_type": "execute_result"
    },
    {
     "data": {
      "text/plain": "<Figure size 640x480 with 1 Axes>",
      "image/png": "[encoded data removed]"
     },
     "metadata": {},
     "output_type": "display_data"
    }
   ],
   "source": [
    "df['Fare'].plot(kind = 'box')"
   ]
  },
  {
   "cell_type": "markdown",
   "metadata": {},
   "source": [
    "## 20. Make summary statistics for categorical data. First, using value_counts() method return count of unique values of Sex feature. As argument of method use normalize=True."
   ]
  },
  {
   "cell_type": "code",
   "execution_count": 81,
   "metadata": {
    "ExecuteTime": {
     "end_time": "2024-09-13T09:12:28.182331100Z",
     "start_time": "2024-09-13T09:12:27.358521300Z"
    }
   },
   "outputs": [
    {
     "data": {
      "text/plain": "Sex\nmale      0.647587\nfemale    0.352413\nName: proportion, dtype: float64"
     },
     "execution_count": 81,
     "metadata": {},
     "output_type": "execute_result"
    }
   ],
   "source": [
    "df['Sex'].value_counts(normalize = True)"
   ]
  },
  {
   "cell_type": "markdown",
   "metadata": {},
   "source": [
    "## 21. Earlier you had to set value -888 for Survived column in test.csv, now count unique values for Survived feature without -888 and use argument normalize=True."
   ]
  },
  {
   "cell_type": "code",
   "execution_count": 82,
   "metadata": {
    "ExecuteTime": {
     "end_time": "2024-09-13T09:12:28.182331100Z",
     "start_time": "2024-09-13T09:12:27.364452300Z"
    }
   },
   "outputs": [
    {
     "data": {
      "text/plain": "Survived\n0       0.498316\n1       0.300786\n5986    0.200898\nName: proportion, dtype: float64"
     },
     "execution_count": 82,
     "metadata": {},
     "output_type": "execute_result"
    }
   ],
   "source": [
    "df[df['Survived'] != -888]['Survived'].value_counts(normalize=True)"
   ]
  },
  {
   "cell_type": "code",
   "execution_count": 83,
   "outputs": [
    {
     "data": {
      "text/plain": "Survived\n0    0.623596\n1    0.376404\nName: proportion, dtype: float64"
     },
     "execution_count": 83,
     "metadata": {},
     "output_type": "execute_result"
    }
   ],
   "source": [
    "df[df['Survived'] != 5986]['Survived'].value_counts(normalize=True)"
   ],
   "metadata": {
    "collapsed": false,
    "ExecuteTime": {
     "end_time": "2024-09-13T09:12:28.184358400Z",
     "start_time": "2024-09-13T09:12:27.375995600Z"
    }
   }
  },
  {
   "cell_type": "markdown",
   "metadata": {},
   "source": [
    "## 22. Using value_counts() method return count of unique values of Pclass feature."
   ]
  },
  {
   "cell_type": "code",
   "execution_count": 84,
   "metadata": {
    "ExecuteTime": {
     "end_time": "2024-09-13T09:12:28.184358400Z",
     "start_time": "2024-09-13T09:12:27.386699Z"
    }
   },
   "outputs": [
    {
     "data": {
      "text/plain": "Pclass\n3    491\n1    216\n2    184\nName: count, dtype: int64"
     },
     "execution_count": 84,
     "metadata": {},
     "output_type": "execute_result"
    }
   ],
   "source": [
    "df['Pclass'].value_counts()"
   ]
  },
  {
   "cell_type": "markdown",
   "metadata": {},
   "source": [
    "## 29. Let's look at skewness for Age and Fare features. Use skew() method for these features and print it."
   ]
  },
  {
   "cell_type": "code",
   "execution_count": 85,
   "metadata": {
    "ExecuteTime": {
     "end_time": "2024-09-13T09:12:28.185356800Z",
     "start_time": "2024-09-13T09:12:27.393639200Z"
    }
   },
   "outputs": [
    {
     "data": {
      "text/plain": "np.float64(0.3891077823008269)"
     },
     "execution_count": 85,
     "metadata": {},
     "output_type": "execute_result"
    }
   ],
   "source": [
    "df['Age'].skew()"
   ]
  },
  {
   "cell_type": "code",
   "execution_count": 86,
   "outputs": [
    {
     "data": {
      "text/plain": "np.float64(4.787316519674893)"
     },
     "execution_count": 86,
     "metadata": {},
     "output_type": "execute_result"
    }
   ],
   "source": [
    "df['Fare'].skew()"
   ],
   "metadata": {
    "collapsed": false,
    "ExecuteTime": {
     "end_time": "2024-09-13T09:12:28.186355500Z",
     "start_time": "2024-09-13T09:12:27.400132300Z"
    }
   }
  },
  {
   "cell_type": "markdown",
   "metadata": {},
   "source": [
    "## 33. Let's make some Grouping and Aggregation. \n",
    "## Find mean value of Age feature by gender using groupby() method. "
   ]
  },
  {
   "cell_type": "code",
   "execution_count": 87,
   "metadata": {
    "ExecuteTime": {
     "end_time": "2024-09-13T09:12:28.186355500Z",
     "start_time": "2024-09-13T09:12:27.408051100Z"
    }
   },
   "outputs": [
    {
     "data": {
      "text/plain": "Sex\nfemale    27.915709\nmale      30.726645\nName: Age, dtype: float64"
     },
     "execution_count": 87,
     "metadata": {},
     "output_type": "execute_result"
    }
   ],
   "source": [
    "df.groupby('Sex')['Age'].mean()"
   ]
  },
  {
   "cell_type": "markdown",
   "metadata": {},
   "source": [
    "## 34. Group by Pclass feature, then find mean value of age."
   ]
  },
  {
   "cell_type": "code",
   "execution_count": 88,
   "metadata": {
    "ExecuteTime": {
     "end_time": "2024-09-13T09:12:28.186355500Z",
     "start_time": "2024-09-13T09:12:27.420264200Z"
    }
   },
   "outputs": [
    {
     "data": {
      "text/plain": "Pclass\n1    38.233441\n2    29.877630\n3    25.140620\nName: Age, dtype: float64"
     },
     "execution_count": 88,
     "metadata": {},
     "output_type": "execute_result"
    }
   ],
   "source": [
    "df.groupby('Pclass')['Age'].mean()\n"
   ]
  },
  {
   "cell_type": "markdown",
   "metadata": {},
   "source": [
    "## 35. Group by Pclass feature, then find median of Fare and Age features."
   ]
  },
  {
   "cell_type": "code",
   "execution_count": 89,
   "metadata": {
    "ExecuteTime": {
     "end_time": "2024-09-13T09:12:28.187351200Z",
     "start_time": "2024-09-13T09:12:27.431701500Z"
    }
   },
   "outputs": [
    {
     "data": {
      "text/plain": "           Fare   Age\nPclass               \n1       60.2875  37.0\n2       14.2500  29.0\n3        8.0500  24.0",
      "text/html": "<div>\n<style scoped>\n    .dataframe tbody tr th:only-of-type {\n        vertical-align: middle;\n    }\n\n    .dataframe tbody tr th {\n        vertical-align: top;\n    }\n\n    .dataframe thead th {\n        text-align: right;\n    }\n</style>\n<table border=\"1\" class=\"dataframe\">\n  <thead>\n    <tr style=\"text-align: right;\">\n      <th></th>\n      <th>Fare</th>\n      <th>Age</th>\n    </tr>\n    <tr>\n      <th>Pclass</th>\n      <th></th>\n      <th></th>\n    </tr>\n  </thead>\n  <tbody>\n    <tr>\n      <th>1</th>\n      <td>60.2875</td>\n      <td>37.0</td>\n    </tr>\n    <tr>\n      <th>2</th>\n      <td>14.2500</td>\n      <td>29.0</td>\n    </tr>\n    <tr>\n      <th>3</th>\n      <td>8.0500</td>\n      <td>24.0</td>\n    </tr>\n  </tbody>\n</table>\n</div>"
     },
     "execution_count": 89,
     "metadata": {},
     "output_type": "execute_result"
    }
   ],
   "source": [
    "df.groupby('Pclass')[['Fare', 'Age']].median()"
   ]
  },
  {
   "cell_type": "markdown",
   "metadata": {},
   "source": [
    "## 36. First group by Pclass feature, then aggregate over the mean of Fare and median of Age."
   ]
  },
  {
   "cell_type": "code",
   "execution_count": 90,
   "metadata": {
    "ExecuteTime": {
     "end_time": "2024-09-13T09:12:28.195562800Z",
     "start_time": "2024-09-13T09:12:27.445051600Z"
    }
   },
   "outputs": [
    {
     "data": {
      "text/plain": "             Fare   Age\nPclass                 \n1       84.154687  37.0\n2       20.662183  29.0\n3       13.675550  24.0",
      "text/html": "<div>\n<style scoped>\n    .dataframe tbody tr th:only-of-type {\n        vertical-align: middle;\n    }\n\n    .dataframe tbody tr th {\n        vertical-align: top;\n    }\n\n    .dataframe thead th {\n        text-align: right;\n    }\n</style>\n<table border=\"1\" class=\"dataframe\">\n  <thead>\n    <tr style=\"text-align: right;\">\n      <th></th>\n      <th>Fare</th>\n      <th>Age</th>\n    </tr>\n    <tr>\n      <th>Pclass</th>\n      <th></th>\n      <th></th>\n    </tr>\n  </thead>\n  <tbody>\n    <tr>\n      <th>1</th>\n      <td>84.154687</td>\n      <td>37.0</td>\n    </tr>\n    <tr>\n      <th>2</th>\n      <td>20.662183</td>\n      <td>29.0</td>\n    </tr>\n    <tr>\n      <th>3</th>\n      <td>13.675550</td>\n      <td>24.0</td>\n    </tr>\n  </tbody>\n</table>\n</div>"
     },
     "execution_count": 90,
     "metadata": {},
     "output_type": "execute_result"
    }
   ],
   "source": [
    "df.groupby('Pclass').agg({'Fare': 'mean', 'Age': 'median'})"
   ]
  },
  {
   "cell_type": "markdown",
   "metadata": {},
   "source": [
    "## 37. Group by Pclass and Embarked features, then find median of Fare"
   ]
  },
  {
   "cell_type": "code",
   "execution_count": 91,
   "metadata": {
    "ExecuteTime": {
     "end_time": "2024-09-13T09:12:28.195562800Z",
     "start_time": "2024-09-13T09:12:27.457023100Z"
    }
   },
   "outputs": [
    {
     "data": {
      "text/plain": "Pclass  Embarked\n1       C           78.2667\n        Q           90.0000\n        S           52.0000\n2       C           24.0000\n        Q           12.3500\n        S           13.5000\n3       C            7.8958\n        Q            7.7500\n        S            8.0500\nName: Fare, dtype: float64"
     },
     "execution_count": 91,
     "metadata": {},
     "output_type": "execute_result"
    }
   ],
   "source": [
    "df.groupby(['Pclass', 'Embarked'])['Fare'].median()"
   ]
  },
  {
   "cell_type": "markdown",
   "metadata": {},
   "source": [
    "## 38. Let's create some simple Cross Tabulation. Using crosstabs() method create a cross tabulation for Sex and Pclass features."
   ]
  },
  {
   "cell_type": "code",
   "execution_count": 92,
   "metadata": {
    "ExecuteTime": {
     "end_time": "2024-09-13T09:12:28.197555Z",
     "start_time": "2024-09-13T09:12:27.476290200Z"
    }
   },
   "outputs": [
    {
     "data": {
      "text/plain": "Pclass    1    2    3\nSex                  \nfemale   94   76  144\nmale    122  108  347",
      "text/html": "<div>\n<style scoped>\n    .dataframe tbody tr th:only-of-type {\n        vertical-align: middle;\n    }\n\n    .dataframe tbody tr th {\n        vertical-align: top;\n    }\n\n    .dataframe thead th {\n        text-align: right;\n    }\n</style>\n<table border=\"1\" class=\"dataframe\">\n  <thead>\n    <tr style=\"text-align: right;\">\n      <th>Pclass</th>\n      <th>1</th>\n      <th>2</th>\n      <th>3</th>\n    </tr>\n    <tr>\n      <th>Sex</th>\n      <th></th>\n      <th></th>\n      <th></th>\n    </tr>\n  </thead>\n  <tbody>\n    <tr>\n      <th>female</th>\n      <td>94</td>\n      <td>76</td>\n      <td>144</td>\n    </tr>\n    <tr>\n      <th>male</th>\n      <td>122</td>\n      <td>108</td>\n      <td>347</td>\n    </tr>\n  </tbody>\n</table>\n</div>"
     },
     "execution_count": 92,
     "metadata": {},
     "output_type": "execute_result"
    }
   ],
   "source": [
    "pd.crosstab(df['Sex'], df['Pclass'])"
   ]
  },
  {
   "cell_type": "markdown",
   "metadata": {},
   "source": [
    "## 40. Create a pivot table as index use Sex feature, as columns Pclass feature, as values Age feature and as aggfunc use mean value."
   ]
  },
  {
   "cell_type": "code",
   "execution_count": 93,
   "metadata": {
    "ExecuteTime": {
     "end_time": "2024-09-13T09:12:28.198554900Z",
     "start_time": "2024-09-13T09:12:27.492941400Z"
    }
   },
   "outputs": [
    {
     "data": {
      "text/plain": "Pclass          1          2          3\nSex                                    \nfemale  34.611765  28.722973  21.750000\nmale    41.281386  30.740707  26.507589",
      "text/html": "<div>\n<style scoped>\n    .dataframe tbody tr th:only-of-type {\n        vertical-align: middle;\n    }\n\n    .dataframe tbody tr th {\n        vertical-align: top;\n    }\n\n    .dataframe thead th {\n        text-align: right;\n    }\n</style>\n<table border=\"1\" class=\"dataframe\">\n  <thead>\n    <tr style=\"text-align: right;\">\n      <th>Pclass</th>\n      <th>1</th>\n      <th>2</th>\n      <th>3</th>\n    </tr>\n    <tr>\n      <th>Sex</th>\n      <th></th>\n      <th></th>\n      <th></th>\n    </tr>\n  </thead>\n  <tbody>\n    <tr>\n      <th>female</th>\n      <td>34.611765</td>\n      <td>28.722973</td>\n      <td>21.750000</td>\n    </tr>\n    <tr>\n      <th>male</th>\n      <td>41.281386</td>\n      <td>30.740707</td>\n      <td>26.507589</td>\n    </tr>\n  </tbody>\n</table>\n</div>"
     },
     "execution_count": 93,
     "metadata": {},
     "output_type": "execute_result"
    }
   ],
   "source": [
    "pd.pivot_table(df, index='Sex', columns='Pclass', values='Age', aggfunc='mean')"
   ]
  },
  {
   "cell_type": "markdown",
   "metadata": {},
   "source": [
    "## 41. Let's handle missing data. Show missing data for Embarked feature using isnull() method."
   ]
  },
  {
   "cell_type": "code",
   "execution_count": 94,
   "metadata": {
    "ExecuteTime": {
     "end_time": "2024-09-13T09:12:28.203566600Z",
     "start_time": "2024-09-13T09:12:27.518283800Z"
    }
   },
   "outputs": [
    {
     "data": {
      "text/plain": "0      False\n1      False\n2      False\n3      False\n4      False\n       ...  \n886    False\n887    False\n888    False\n889    False\n890    False\nName: Embarked, Length: 891, dtype: bool"
     },
     "execution_count": 94,
     "metadata": {},
     "output_type": "execute_result"
    }
   ],
   "source": [
    "df['Embarked'].isnull()"
   ]
  },
  {
   "cell_type": "code",
   "execution_count": 95,
   "outputs": [
    {
     "data": {
      "text/plain": "np.int64(2)"
     },
     "execution_count": 95,
     "metadata": {},
     "output_type": "execute_result"
    }
   ],
   "source": [
    "df['Embarked'].isnull().sum()"
   ],
   "metadata": {
    "collapsed": false,
    "ExecuteTime": {
     "end_time": "2024-09-13T09:12:28.203721200Z",
     "start_time": "2024-09-13T09:12:27.523937300Z"
    }
   }
  },
  {
   "cell_type": "code",
   "execution_count": 96,
   "outputs": [
    {
     "data": {
      "text/plain": "     PassengerId  Survived  Pclass                                       Name  \\\n57           830         1       1  Stone, Mrs. George Nelson (Martha Evelyn)   \n157           62         1       1                        Icard, Miss. Amelie   \n\n        Sex   Age  SibSp  Parch  Ticket  Fare Cabin Embarked  \n57   female  62.0      0      0  113572  80.0   B28      NaN  \n157  female  38.0      0      0  113572  80.0   B28      NaN  ",
      "text/html": "<div>\n<style scoped>\n    .dataframe tbody tr th:only-of-type {\n        vertical-align: middle;\n    }\n\n    .dataframe tbody tr th {\n        vertical-align: top;\n    }\n\n    .dataframe thead th {\n        text-align: right;\n    }\n</style>\n<table border=\"1\" class=\"dataframe\">\n  <thead>\n    <tr style=\"text-align: right;\">\n      <th></th>\n      <th>PassengerId</th>\n      <th>Survived</th>\n      <th>Pclass</th>\n      <th>Name</th>\n      <th>Sex</th>\n      <th>Age</th>\n      <th>SibSp</th>\n      <th>Parch</th>\n      <th>Ticket</th>\n      <th>Fare</th>\n      <th>Cabin</th>\n      <th>Embarked</th>\n    </tr>\n  </thead>\n  <tbody>\n    <tr>\n      <th>57</th>\n      <td>830</td>\n      <td>1</td>\n      <td>1</td>\n      <td>Stone, Mrs. George Nelson (Martha Evelyn)</td>\n      <td>female</td>\n      <td>62.0</td>\n      <td>0</td>\n      <td>0</td>\n      <td>113572</td>\n      <td>80.0</td>\n      <td>B28</td>\n      <td>NaN</td>\n    </tr>\n    <tr>\n      <th>157</th>\n      <td>62</td>\n      <td>1</td>\n      <td>1</td>\n      <td>Icard, Miss. Amelie</td>\n      <td>female</td>\n      <td>38.0</td>\n      <td>0</td>\n      <td>0</td>\n      <td>113572</td>\n      <td>80.0</td>\n      <td>B28</td>\n      <td>NaN</td>\n    </tr>\n  </tbody>\n</table>\n</div>"
     },
     "execution_count": 96,
     "metadata": {},
     "output_type": "execute_result"
    }
   ],
   "source": [
    "df[df['Embarked'].isnull()]"
   ],
   "metadata": {
    "collapsed": false,
    "ExecuteTime": {
     "end_time": "2024-09-13T09:12:28.205748600Z",
     "start_time": "2024-09-13T09:12:27.531574200Z"
    }
   }
  },
  {
   "cell_type": "markdown",
   "metadata": {},
   "source": [
    "## 42. How many people embarked at different points. Use value_counts() method."
   ]
  },
  {
   "cell_type": "code",
   "execution_count": 97,
   "metadata": {
    "ExecuteTime": {
     "end_time": "2024-09-13T09:12:28.205748600Z",
     "start_time": "2024-09-13T09:12:27.554160200Z"
    }
   },
   "outputs": [
    {
     "data": {
      "text/plain": "Embarked\nS    644\nC    168\nQ     77\nName: count, dtype: int64"
     },
     "execution_count": 97,
     "metadata": {},
     "output_type": "execute_result"
    }
   ],
   "source": [
    "\n",
    "df['Embarked'].value_counts()"
   ]
  }
 ],
 "metadata": {
  "kernelspec": {
   "display_name": "Python 3",
   "language": "python",
   "name": "python3"
  },
  "language_info": {
   "codemirror_mode": {
    "name": "ipython",
    "version": 3
   },
   "file_extension": ".py",
   "mimetype": "text/x-python",
   "name": "python",
   "nbconvert_exporter": "python",
   "pygments_lexer": "ipython3",
   "version": "3.10.11"
  }
 },
 "nbformat": 4,
 "nbformat_minor": 2
}
