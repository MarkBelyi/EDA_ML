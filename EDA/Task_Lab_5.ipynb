{
 "cells": [
  {
   "cell_type": "markdown",
   "source": [
    "# T-test\n",
    "\n",
    "Одно-выборочный t-тест: используется для сравнения среднего значения выборки с известным или предполагаемым значением.\n",
    "Парный t-тест: используется для сравнения двух зависимых выборок (например, до и после лечения).\n",
    "Независимый двухвыборочный t-тест: используется для сравнения двух независимых выборок (например, группы контроля и эксперимента)."
   ],
   "metadata": {
    "collapsed": false
   }
  },
  {
   "cell_type": "code",
   "execution_count": 28,
   "outputs": [],
   "source": [
    "import scipy.stats as stats\n",
    "import numpy as np"
   ],
   "metadata": {
    "collapsed": false,
    "ExecuteTime": {
     "end_time": "2024-10-10T06:29:46.109486800Z",
     "start_time": "2024-10-10T06:29:46.106491300Z"
    }
   }
  },
  {
   "cell_type": "markdown",
   "source": [
    "8.4\n",
    "Confidence interval - range of plausible scores that may or may not bracket the true population mean.\n",
    "\n",
    "Confidence Interval:\n",
    "\n",
    "##### CI = X +- t(alpha/2) * (s / sqrt(N))\n",
    "\n",
    "X - average value of sample\n",
    "t(alpha/2) - critical value t for confidence level alpha (Student распределение)\n",
    "s - std of this sampling\n",
    "N - size of sample"
   ],
   "metadata": {
    "collapsed": false
   }
  },
  {
   "cell_type": "code",
   "execution_count": 29,
   "outputs": [],
   "source": [
    "def confidence_interval(X_bar, s, N, confidence_level):\n",
    "    alpha = 1 - confidence_level\n",
    "\n",
    "    t_critical = stats.t.ppf(1 - alpha / 2, df =N - 1) # two-tailed\n",
    "\n",
    "    '''\n",
    "        ppf (percent point function) -> critical value\n",
    "        это значение t, ниже которого находится определенная доля распределения.\n",
    "    '''\n",
    "\n",
    "    std_err = s / np.sqrt(N)\n",
    "\n",
    "    margin_of_error = t_critical * std_err\n",
    "\n",
    "    return X_bar - margin_of_error, X_bar + margin_of_error"
   ],
   "metadata": {
    "collapsed": false,
    "ExecuteTime": {
     "end_time": "2024-10-10T06:29:46.589977400Z",
     "start_time": "2024-10-10T06:29:46.589977400Z"
    }
   }
  },
  {
   "cell_type": "code",
   "execution_count": 30,
   "outputs": [
    {
     "data": {
      "text/plain": "(18.80830431511594, 31.19169568488406)"
     },
     "execution_count": 30,
     "metadata": {},
     "output_type": "execute_result"
    }
   ],
   "source": [
    "X_bar = 25\n",
    "N = 25\n",
    "std = 15\n",
    "confidence_level = 0.95\n",
    "CI = confidence_interval(X_bar, std, N, confidence_level)\n",
    "CI"
   ],
   "metadata": {
    "collapsed": false,
    "ExecuteTime": {
     "end_time": "2024-10-10T06:29:47.022410300Z",
     "start_time": "2024-10-10T06:29:47.005821200Z"
    }
   }
  },
  {
   "cell_type": "markdown",
   "source": [
    "8.6 Одно-выборочный t-test\n",
    "\n",
    "mu = 4.00\n",
    "X = 3.76\n",
    "std = 1.52\n",
    "alpha = 0.05\n",
    "\n",
    "Conduct a single-sample t-test to test the hypothesis:\n",
    "\n",
    "1. Null hypothesis (H₀): the average value of students' political orientation is equal to the national average, mu = 4.00\n",
    "2. Alternative hypothesis (h₁): the average value of students' political orientation differs from the national average.\n",
    "\n",
    "t = (X - mu) / (s / sqrt(N) )\n",
    "\n"
   ],
   "metadata": {
    "collapsed": false
   }
  },
  {
   "cell_type": "code",
   "execution_count": 31,
   "outputs": [
    {
     "data": {
      "text/plain": "(-1.9338076916709317, 0.05503231032640987)"
     },
     "execution_count": 31,
     "metadata": {},
     "output_type": "execute_result"
    }
   ],
   "source": [
    "mu = 4.00\n",
    "X_bar = 3.76\n",
    "std = 1.52\n",
    "N = 150\n",
    "alpha = 0.05\n",
    "\n",
    "t_stat = (X_bar - mu) / (std / np.sqrt(N))\n",
    "p_value = 2 * (1 - stats.t.cdf(abs(t_stat), df=N - 1))\n",
    "\n",
    "'''\n",
    "    cdf (cumulative distribution function)\n",
    "    возвращает вероятность того, что наблюдаемое значение t будет меньше или равно указанному значению t.\n",
    "'''\n",
    "\n",
    "t_stat, p_value"
   ],
   "metadata": {
    "collapsed": false,
    "ExecuteTime": {
     "end_time": "2024-10-10T06:29:47.492899200Z",
     "start_time": "2024-10-10T06:29:47.476768900Z"
    }
   }
  },
  {
   "cell_type": "markdown",
   "source": [
    "8.7  CI 99%\n"
   ],
   "metadata": {
    "collapsed": false
   }
  },
  {
   "cell_type": "code",
   "execution_count": 32,
   "outputs": [
    {
     "name": "stdout",
     "output_type": "stream",
     "text": [
      "Mean: 9.4456°C\n",
      "STD: 0.3591\n",
      "T critical: 2.7238\n",
      "STD Error: 0.0599\n",
      "99% CI: (9.2825°C, 9.6086°C)\n",
      "No\n"
     ]
    }
   ],
   "source": [
    "# 1981 по 2017\n",
    "temps = [9.301, 8.788, 9.173, 8.824, 8.799, 8.985, 9.141, 9.345, 9.076, 9.378, 9.336, 8.974, 9.008, 9.175, 9.484, 9.168, 9.326, 9.66, 9.406, 9.542, 9.695, 9.649, 9.451, 9.829, 9.662, 9.876, 9.581, 9.657, 9.828, 9.65, 9.635, 9.753, 9.714, 9.962, 10.16, 10.049]\n",
    "\n",
    "confidence_level = 0.99\n",
    "N = len(temps)\n",
    "mu = 8.79\n",
    "mean = np.mean(temps)\n",
    "std = np.std(temps, ddof = 1) # выборочное стандартное отклонение\n",
    "alpha = 1 - confidence_level\n",
    "t_crit = stats.t.ppf(1 - alpha / 2, df = N - 1) # two tailed t-test\n",
    "\n",
    "std_err = std / np.sqrt(N)\n",
    "margin_of_error = t_crit *std_err\n",
    "\n",
    "ci_lower = mean - margin_of_error\n",
    "ci_upper = mean + margin_of_error\n",
    "\n",
    "print(f\"Mean: {mean:.4f}°C\")\n",
    "print(f\"STD: {std:.4f}\")\n",
    "print(f\"T critical: {t_crit:.4f}\")\n",
    "print(f\"STD Error: {std_err:.4f}\")\n",
    "print(f\"99% CI: ({ci_lower:.4f}°C, {ci_upper:.4f}°C)\")\n",
    "\n",
    "if ci_lower <= mu <= ci_upper : print(\"Mu in this interval\")\n",
    "else: print(\"No\")"
   ],
   "metadata": {
    "collapsed": false,
    "ExecuteTime": {
     "end_time": "2024-10-10T06:29:48.055198100Z",
     "start_time": "2024-10-10T06:29:48.043720900Z"
    }
   }
  },
  {
   "cell_type": "markdown",
   "source": [
    "8.8 Null Hypothesis"
   ],
   "metadata": {
    "collapsed": false
   }
  },
  {
   "cell_type": "code",
   "execution_count": 33,
   "outputs": [
    {
     "name": "stdout",
     "output_type": "stream",
     "text": [
      "Reject\n"
     ]
    }
   ],
   "source": [
    "t = 2.58\n",
    "N = 21\n",
    "alpha = 0.05\n",
    "t_test = stats.t.ppf(1 - alpha / 2, df = N - 1)\n",
    "\n",
    "if abs(t) > t_test: print(\"Reject\")\n",
    "else: print(\"Accept\")"
   ],
   "metadata": {
    "collapsed": false,
    "ExecuteTime": {
     "end_time": "2024-10-10T06:29:49.077855300Z",
     "start_time": "2024-10-10T06:29:49.067253800Z"
    }
   }
  },
  {
   "cell_type": "markdown",
   "source": [
    "8.9 one-tailed test"
   ],
   "metadata": {
    "collapsed": false
   }
  },
  {
   "cell_type": "code",
   "execution_count": 34,
   "outputs": [
    {
     "name": "stdout",
     "output_type": "stream",
     "text": [
      "Reject\n"
     ]
    }
   ],
   "source": [
    "X = 1.10\n",
    "mu = 0\n",
    "s = 0.40\n",
    "N = 55\n",
    "alpha = 0.05\n",
    "\n",
    "# t_statistic\n",
    "t_stat = (X - mu) / (s / np.sqrt(N))\n",
    "# t_critical_value\n",
    "t_critical = stats.t.ppf(1 - alpha / 2, df=N - 1)\n",
    "\n",
    "if abs(t_stat) > t_critical: print(\"Reject\")\n",
    "else: print(\"Accept\")"
   ],
   "metadata": {
    "collapsed": false,
    "ExecuteTime": {
     "end_time": "2024-10-10T06:29:49.417386300Z",
     "start_time": "2024-10-10T06:29:49.401823200Z"
    }
   }
  },
  {
   "cell_type": "markdown",
   "source": [
    "8.10 one_tailed test"
   ],
   "metadata": {
    "collapsed": false
   }
  },
  {
   "cell_type": "code",
   "execution_count": 35,
   "outputs": [
    {
     "name": "stdout",
     "output_type": "stream",
     "text": [
      "Accept\n"
     ]
    }
   ],
   "source": [
    "X = 13.11\n",
    "mu = 12\n",
    "std = 3.89\n",
    "N = 25\n",
    "alpha = 0.05\n",
    "\n",
    "t_stat = (X - mu) / (std / np.sqrt(N))\n",
    "\n",
    "t_critical = stats.t.ppf(1 - alpha / 2, df=N - 1) # two-tailed\n",
    "\n",
    "if abs(t_stat) > t_critical: print(\"Reject\")\n",
    "else: print(\"Accept\")"
   ],
   "metadata": {
    "collapsed": false,
    "ExecuteTime": {
     "end_time": "2024-10-10T06:29:49.783950500Z",
     "start_time": "2024-10-10T06:29:49.778945200Z"
    }
   }
  },
  {
   "cell_type": "markdown",
   "source": [
    "AAAAAAAAAAAAAAAAAAAAAAAAAAAAAAAAAAAAAAAAAAAAAAAAAAAAAAAAAAAAAAAAAAAAAAAAAAAAAAAAAAAAAAAAAAAAAAAAAAAAAAAAAAAAAAAAAAAAAAAAAAAAAAAA"
   ],
   "metadata": {
    "collapsed": false
   }
  },
  {
   "cell_type": "markdown",
   "source": [
    "## Practice Problems: t-tests\n"
   ],
   "metadata": {
    "collapsed": false
   }
  },
  {
   "cell_type": "code",
   "execution_count": 36,
   "outputs": [
    {
     "name": "stdout",
     "output_type": "stream",
     "text": [
      "Mean older: 44.50\n",
      "Mean younger: 28.10\n",
      "STD older: 8.68\n",
      "STD younger: 8.54\n",
      "Variance: 75.39\n",
      "Variance: 72.99\n"
     ]
    }
   ],
   "source": [
    "older_adults = np.array([45, 38, 52, 48, 25, 39, 51, 46, 55, 46])\n",
    "younger_adults = np.array([34, 22, 15, 27, 37, 41, 24, 19, 26, 36])\n",
    "\n",
    "mean_older = np.mean(older_adults)\n",
    "mean_younger = np.mean(younger_adults)\n",
    "\n",
    "std_older = np.std(older_adults, ddof=1)\n",
    "std_younger = np.std(younger_adults, ddof=1)\n",
    "\n",
    "var_older = np.var(older_adults, ddof=1)\n",
    "var_younger = np.var(younger_adults, ddof=1)\n",
    "\n",
    "print(f\"Mean older: {mean_older:.2f}\")\n",
    "print(f\"Mean younger: {mean_younger:.2f}\")\n",
    "\n",
    "print(f\"STD older: {std_older:.2f}\")\n",
    "print(f\"STD younger: {std_younger:.2f}\")\n",
    "\n",
    "print(f\"Variance: {var_older:.2f}\")\n",
    "print(f\"Variance: {var_younger:.2f}\")"
   ],
   "metadata": {
    "collapsed": false,
    "ExecuteTime": {
     "end_time": "2024-10-10T06:29:51.094790Z",
     "start_time": "2024-10-10T06:29:51.092742800Z"
    }
   }
  },
  {
   "cell_type": "markdown",
   "source": [
    "Нулевая гипотеза (H_0): Нет значимой разницы в удовлетворенности жизнью между пожилыми и молодыми взрослыми, то есть mu1 = mu2.\n",
    "\n",
    "Альтернативная гипотеза (H_1): Существует значимая разница в удовлетворенности жизнью между пожилыми и молодыми взрослыми, то есть mu1 != mu2"
   ],
   "metadata": {
    "collapsed": false
   }
  },
  {
   "cell_type": "code",
   "execution_count": 37,
   "outputs": [
    {
     "name": "stdout",
     "output_type": "stream",
     "text": [
      "t-stat: 4.2575\n",
      "p-value: 0.0005\n"
     ]
    }
   ],
   "source": [
    "# t-тест для двух независимых выборок\n",
    "t_stat, p_value = stats.ttest_ind(older_adults, younger_adults, equal_var=False)\n",
    "\n",
    "print(f\"t-stat: {t_stat:.4f}\")\n",
    "print(f\"p-value: {p_value:.4f}\")"
   ],
   "metadata": {
    "collapsed": false,
    "ExecuteTime": {
     "end_time": "2024-10-10T06:29:51.400280100Z",
     "start_time": "2024-10-10T06:29:51.392756Z"
    }
   }
  },
  {
   "cell_type": "code",
   "execution_count": 38,
   "outputs": [],
   "source": [
    "alpha = 0.05 # it's standard from previous tasks\n",
    "\n",
    "# 5% probability that result will be random with right null hypothesis"
   ],
   "metadata": {
    "collapsed": false,
    "ExecuteTime": {
     "end_time": "2024-10-10T06:29:51.581109200Z",
     "start_time": "2024-10-10T06:29:51.578570700Z"
    }
   }
  },
  {
   "cell_type": "code",
   "execution_count": 39,
   "outputs": [
    {
     "data": {
      "text/plain": "2.100961440336392"
     },
     "execution_count": 39,
     "metadata": {},
     "output_type": "execute_result"
    }
   ],
   "source": [
    "# df = ((s1^2 / n1) + (s2^2 / n2))^2 / ( ((s1^2 / n1)^2 / (n1 - 1)) + ((s2^2 / n2)^2 / (n2 - 1)) )\n",
    "# Степени свободы по Саттерауэйту\n",
    "df = ( ( std_older**2 / len(older_adults) ) + ( std_younger**2 / len(younger_adults) ) )**2 / ( ( ( std_older**2 / len(older_adults) )**2 / ( len(older_adults) - 1) ) + ( ( std_younger**2 / len(younger_adults) )**2 / ( len(younger_adults) - 1) ) )\n",
    "\n",
    "\n",
    "t_critical = stats.t.ppf(1 - alpha / 2, df = df)\n",
    "t_critical"
   ],
   "metadata": {
    "collapsed": false,
    "ExecuteTime": {
     "end_time": "2024-10-10T06:29:51.976484200Z",
     "start_time": "2024-10-10T06:29:51.971525800Z"
    }
   }
  },
  {
   "cell_type": "code",
   "execution_count": 40,
   "outputs": [
    {
     "name": "stdout",
     "output_type": "stream",
     "text": [
      "Reject Null Hypothesis\n"
     ]
    }
   ],
   "source": [
    "if t_stat > t_critical and p_value < alpha:\n",
    "    print(\"Reject Null Hypothesis\")\n",
    "else: print(\"Ninau\")"
   ],
   "metadata": {
    "collapsed": false,
    "ExecuteTime": {
     "end_time": "2024-10-10T06:29:52.204547200Z",
     "start_time": "2024-10-10T06:29:52.184658Z"
    }
   }
  },
  {
   "cell_type": "markdown",
   "source": [
    "#### Cуществует значимая разница в удовлетворенности жизнью между пожилыми и молодыми взрослыми. Мы нашли, что пожилые взрослые имеют значительно более высокую удовлетворенность жизнью по сравнению с молодыми взрослыми. Вероятность того, что эта разница случайна, крайне мала (p=0.0017).\n",
    "\n",
    "#### Ошибка 1 типа возникает, когда мы отвергаем нулевую гипотезу, хотя на самом деле она верна.\n",
    "#### Ошибка 2 типа возникает, когда мы не отвергаем нулевую гипотезу, хотя на самом деле она ложна."
   ],
   "metadata": {
    "collapsed": false
   }
  },
  {
   "cell_type": "code",
   "execution_count": 41,
   "outputs": [],
   "source": [
    "# В данной случае мы выбираем ошибку певрого типа, если бы ошиблись, но мы же не ошиблись (верно?)"
   ],
   "metadata": {
    "collapsed": false,
    "ExecuteTime": {
     "end_time": "2024-10-10T06:29:52.986031800Z",
     "start_time": "2024-10-10T06:29:52.986031800Z"
    }
   }
  },
  {
   "cell_type": "code",
   "execution_count": null,
   "outputs": [],
   "source": [],
   "metadata": {
    "collapsed": false
   }
  }
 ],
 "metadata": {
  "kernelspec": {
   "display_name": "Python 3",
   "language": "python",
   "name": "python3"
  },
  "language_info": {
   "codemirror_mode": {
    "name": "ipython",
    "version": 2
   },
   "file_extension": ".py",
   "mimetype": "text/x-python",
   "name": "python",
   "nbconvert_exporter": "python",
   "pygments_lexer": "ipython2",
   "version": "2.7.6"
  }
 },
 "nbformat": 4,
 "nbformat_minor": 0
}
