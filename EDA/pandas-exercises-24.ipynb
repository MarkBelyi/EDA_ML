{
 "cells": [
  {
   "cell_type": "markdown",
   "metadata": {},
   "source": [
    "# NAME: Maxim Baranov\n",
    "# GROUP: IT3-2106\n",
    "# DATE: 10.09.2024\n"
   ]
  },
  {
   "cell_type": "markdown",
   "metadata": {},
   "source": [
    "## Before you start working with file: run this line of code (ITS NECESSARY!)"
   ]
  },
  {
   "cell_type": "code",
   "execution_count": 373,
   "metadata": {
    "ExecuteTime": {
     "end_time": "2024-09-11T07:46:47.633281900Z",
     "start_time": "2024-09-11T07:46:46.732870600Z"
    }
   },
   "outputs": [
    {
     "name": "stdout",
     "output_type": "stream",
     "text": [
      "y8-x88-j84-x1-u2-x99-h3-k76-k22-j86-e58-y84-s90-w84-a88-k36-e13-f95-t73-a11-o32-c98-s13-y20-r35-q15-n91-g86-b29-z66-x67-x41-o29-c43-z52-j95-m97-r95-h61-q24-e93-z16-a33-i52-p64-x65-i57-q16-i32-l24-b55-e72-x61-i7-y69-w37-h80-n77-p19-m29-u57-r23-m17-s55-l16-x90-l67-z77-e26-q7-h98-c3-p9-p94-g10-r10-y58-h49-o26-x95-t74-w21-\n"
     ]
    }
   ],
   "source": [
    "import random\n",
    "\n",
    "def _generate_unique():\n",
    "    letter = [chr(v) for v in range(ord('a'), ord('a') + 26)]\n",
    "    value_len = random.randint(36, 99)\n",
    "    str_builder = ''\n",
    "    for i in range(value_len):\n",
    "        str_builder += letter[random.randint(0, 25)] + str(random.randint(0, 99)) +'-'\n",
    "    return str_builder\n",
    "\n",
    "_unique_name = _generate_unique()\n",
    "print(_unique_name)"
   ]
  },
  {
   "cell_type": "markdown",
   "metadata": {},
   "source": [
    "<a id='table_of_contents'></a>\n",
    "# Table of contents\n",
    "\n",
    "[1. How to create a series from a list, numpy array and dict?](#q1)\n",
    "\n",
    "[2. How to combine many series to form a dataframe?](#q2)\n",
    "\n",
    "[3. How to get the items of series A not present in series B?](#q3)\n",
    "\n",
    "[4. How to get the items not common to both series A and series B?](#q4)\n",
    "\n",
    "[5. How to get useful infos](#q5)\n",
    "\n",
    "[6. How to get frequency counts of unique items of a series?](#q6)\n",
    "\n",
    "[7. How to convert a numpy array to a dataframe of given shape? (L1)](#q7)\n",
    "\n",
    "[8. How to find the positions of numbers that are multiples of 3 from a series?](#q8)\n",
    "\n",
    "[9. How to extract items at given positions from a series?](#q9)\n",
    "\n",
    "[10. How to stack two series vertically and horizontally ?](#q10)\n",
    "\n",
    "[11. How to get the positions of items of series A in another series B?](#q11)\n",
    "\n",
    "[12. How to compute difference of differences between consequtive numbers of a series?](#q12)\n",
    "\n",
    "[13. How to convert a series of date-strings to a timeseries?](#q13)\n",
    "\n",
    "[14. How to filter words that contain atleast 2 vowels from a series?](#q14)\n",
    "\n",
    "[15. How to replace missing spaces in a string with the least frequent character?](#q15)\n",
    "\n",
    "[16. How to change column values when importing csv to a dataframe?](#q16)\n",
    "\n",
    "[17. How to import only specified columns from a csv file?](#q17)\n",
    "\n",
    "[18. How to check if a dataframe has any missing values?](#q18)\n",
    "\n",
    "[19. How to replace missing values of multiple numeric columns with the mean?](#q19)\n",
    "\n",
    "[20. How to change the order of columns of a dataframe?](#q20)\n",
    "\n",
    "[21. How to filter every nth row in a dataframe?](#q21)\n",
    "\n",
    "[22. How to get the last n rows of a dataframe with row sum > 100?](#q22)\n",
    "\n",
    "[23. How to find and cap outliers from a series or dataframe column?](#q23)\n",
    "\n",
    "[24. How to reverse the rows of a dataframe?](#q24)\n"
   ]
  },
  {
   "cell_type": "code",
   "execution_count": 374,
   "metadata": {
    "_cell_guid": "b1076dfc-b9ad-4769-8c92-a6c4dae69d19",
    "_uuid": "8f2839f25d086af736a60e9eeb907d3b93b6e0e5",
    "ExecuteTime": {
     "end_time": "2024-09-11T07:46:47.670132Z",
     "start_time": "2024-09-11T07:46:46.750494700Z"
    }
   },
   "outputs": [],
   "source": [
    "# Allow several prints in one cell\n",
    "from IPython.core.interactiveshell import InteractiveShell\n",
    "InteractiveShell.ast_node_interactivity = \"all\"\n",
    "\n",
    "import pandas as pd"
   ]
  },
  {
   "cell_type": "markdown",
   "metadata": {},
   "source": [
    "# Pandas exercise"
   ]
  },
  {
   "cell_type": "markdown",
   "metadata": {},
   "source": [
    "<a id = 'q1'></a>\n",
    "\n",
    "**1. How to create a series from a list, numpy array and dict?**\n",
    "\n",
    "Create a pandas series from each of the items below: a list, numpy and a dictionary\n",
    "\n",
    "[Go back to the table of contents](#table_of_contents)"
   ]
  },
  {
   "cell_type": "code",
   "execution_count": 375,
   "metadata": {
    "ExecuteTime": {
     "end_time": "2024-09-11T07:46:48.430709700Z",
     "start_time": "2024-09-11T07:46:46.781190500Z"
    }
   },
   "outputs": [],
   "source": [
    "# Input\n",
    "import numpy as np\n",
    "a_list = list(\"abcdefg\")\n",
    "numpy_array = np.arange(1, 10)\n",
    "dictionary = {\"A\":  0, \"B\":1, \"C\":2, \"D\":3, \"E\":5}"
   ]
  },
  {
   "cell_type": "code",
   "execution_count": 376,
   "outputs": [
    {
     "data": {
      "text/plain": "0    a\n1    b\n2    c\n3    d\n4    e\n5    f\n6    g\nName: list, dtype: object"
     },
     "execution_count": 376,
     "metadata": {},
     "output_type": "execute_result"
    }
   ],
   "source": [
    "pd.Series(a_list, name = \"list\")"
   ],
   "metadata": {
    "collapsed": false,
    "ExecuteTime": {
     "end_time": "2024-09-11T07:46:48.437396300Z",
     "start_time": "2024-09-11T07:46:46.785690Z"
    }
   }
  },
  {
   "cell_type": "code",
   "execution_count": 377,
   "outputs": [
    {
     "data": {
      "text/plain": "0    1\n1    2\n2    3\n3    4\n4    5\n5    6\n6    7\n7    8\n8    9\nName: array, dtype: int64"
     },
     "execution_count": 377,
     "metadata": {},
     "output_type": "execute_result"
    }
   ],
   "source": [
    "pd.Series(numpy_array, name = \"array\")"
   ],
   "metadata": {
    "collapsed": false,
    "ExecuteTime": {
     "end_time": "2024-09-11T07:46:48.437396300Z",
     "start_time": "2024-09-11T07:46:46.795300Z"
    }
   }
  },
  {
   "cell_type": "code",
   "execution_count": 378,
   "outputs": [
    {
     "data": {
      "text/plain": "A    0\nB    1\nC    2\nD    3\nE    5\nName: dictionary, dtype: int64"
     },
     "execution_count": 378,
     "metadata": {},
     "output_type": "execute_result"
    }
   ],
   "source": [
    "pd.Series(dictionary, name = \"dictionary\")"
   ],
   "metadata": {
    "collapsed": false,
    "ExecuteTime": {
     "end_time": "2024-09-11T07:46:48.437396300Z",
     "start_time": "2024-09-11T07:46:46.803660Z"
    }
   }
  },
  {
   "cell_type": "markdown",
   "metadata": {},
   "source": [
    "<a id = 'q2'></a>\n",
    "**2. How to combine many series to form a dataframe?**\n",
    "\n",
    "Combine ser1 and ser2 to form a dataframe.\n",
    "\n",
    "[Go back to the table of contents](#table_of_contents)"
   ]
  },
  {
   "cell_type": "code",
   "execution_count": 1,
   "metadata": {
    "ExecuteTime": {
     "end_time": "2024-09-12T09:50:49.950705600Z",
     "start_time": "2024-09-12T09:50:49.572253900Z"
    }
   },
   "outputs": [
    {
     "ename": "NameError",
     "evalue": "name 'pd' is not defined",
     "output_type": "error",
     "traceback": [
      "\u001B[1;31m---------------------------------------------------------------------------\u001B[0m",
      "\u001B[1;31mNameError\u001B[0m                                 Traceback (most recent call last)",
      "Cell \u001B[1;32mIn[1], line 2\u001B[0m\n\u001B[0;32m      1\u001B[0m \u001B[38;5;66;03m# input\u001B[39;00m\n\u001B[1;32m----> 2\u001B[0m ser1 \u001B[38;5;241m=\u001B[39m \u001B[43mpd\u001B[49m\u001B[38;5;241m.\u001B[39mSeries(\u001B[38;5;28mlist\u001B[39m(\u001B[38;5;124m'\u001B[39m\u001B[38;5;124mabcedfghijklmnopqrstuvwxyz\u001B[39m\u001B[38;5;124m'\u001B[39m))\n\u001B[0;32m      3\u001B[0m ser2 \u001B[38;5;241m=\u001B[39m pd\u001B[38;5;241m.\u001B[39mSeries(np\u001B[38;5;241m.\u001B[39marange(\u001B[38;5;241m26\u001B[39m))\n",
      "\u001B[1;31mNameError\u001B[0m: name 'pd' is not defined"
     ]
    }
   ],
   "source": [
    "# input\n",
    "ser1 = pd.Series(list('abcedfghijklmnopqrstuvwxyz'))\n",
    "ser2 = pd.Series(np.arange(26))"
   ]
  },
  {
   "cell_type": "code",
   "execution_count": 380,
   "outputs": [
    {
     "data": {
      "text/plain": "    0   1\n0   a   0\n1   b   1\n2   c   2\n3   e   3\n4   d   4\n5   f   5\n6   g   6\n7   h   7\n8   i   8\n9   j   9\n10  k  10\n11  l  11\n12  m  12\n13  n  13\n14  o  14\n15  p  15\n16  q  16\n17  r  17\n18  s  18\n19  t  19\n20  u  20\n21  v  21\n22  w  22\n23  x  23\n24  y  24\n25  z  25",
      "text/html": "<div>\n<style scoped>\n    .dataframe tbody tr th:only-of-type {\n        vertical-align: middle;\n    }\n\n    .dataframe tbody tr th {\n        vertical-align: top;\n    }\n\n    .dataframe thead th {\n        text-align: right;\n    }\n</style>\n<table border=\"1\" class=\"dataframe\">\n  <thead>\n    <tr style=\"text-align: right;\">\n      <th></th>\n      <th>0</th>\n      <th>1</th>\n    </tr>\n  </thead>\n  <tbody>\n    <tr>\n      <th>0</th>\n      <td>a</td>\n      <td>0</td>\n    </tr>\n    <tr>\n      <th>1</th>\n      <td>b</td>\n      <td>1</td>\n    </tr>\n    <tr>\n      <th>2</th>\n      <td>c</td>\n      <td>2</td>\n    </tr>\n    <tr>\n      <th>3</th>\n      <td>e</td>\n      <td>3</td>\n    </tr>\n    <tr>\n      <th>4</th>\n      <td>d</td>\n      <td>4</td>\n    </tr>\n    <tr>\n      <th>5</th>\n      <td>f</td>\n      <td>5</td>\n    </tr>\n    <tr>\n      <th>6</th>\n      <td>g</td>\n      <td>6</td>\n    </tr>\n    <tr>\n      <th>7</th>\n      <td>h</td>\n      <td>7</td>\n    </tr>\n    <tr>\n      <th>8</th>\n      <td>i</td>\n      <td>8</td>\n    </tr>\n    <tr>\n      <th>9</th>\n      <td>j</td>\n      <td>9</td>\n    </tr>\n    <tr>\n      <th>10</th>\n      <td>k</td>\n      <td>10</td>\n    </tr>\n    <tr>\n      <th>11</th>\n      <td>l</td>\n      <td>11</td>\n    </tr>\n    <tr>\n      <th>12</th>\n      <td>m</td>\n      <td>12</td>\n    </tr>\n    <tr>\n      <th>13</th>\n      <td>n</td>\n      <td>13</td>\n    </tr>\n    <tr>\n      <th>14</th>\n      <td>o</td>\n      <td>14</td>\n    </tr>\n    <tr>\n      <th>15</th>\n      <td>p</td>\n      <td>15</td>\n    </tr>\n    <tr>\n      <th>16</th>\n      <td>q</td>\n      <td>16</td>\n    </tr>\n    <tr>\n      <th>17</th>\n      <td>r</td>\n      <td>17</td>\n    </tr>\n    <tr>\n      <th>18</th>\n      <td>s</td>\n      <td>18</td>\n    </tr>\n    <tr>\n      <th>19</th>\n      <td>t</td>\n      <td>19</td>\n    </tr>\n    <tr>\n      <th>20</th>\n      <td>u</td>\n      <td>20</td>\n    </tr>\n    <tr>\n      <th>21</th>\n      <td>v</td>\n      <td>21</td>\n    </tr>\n    <tr>\n      <th>22</th>\n      <td>w</td>\n      <td>22</td>\n    </tr>\n    <tr>\n      <th>23</th>\n      <td>x</td>\n      <td>23</td>\n    </tr>\n    <tr>\n      <th>24</th>\n      <td>y</td>\n      <td>24</td>\n    </tr>\n    <tr>\n      <th>25</th>\n      <td>z</td>\n      <td>25</td>\n    </tr>\n  </tbody>\n</table>\n</div>"
     },
     "execution_count": 380,
     "metadata": {},
     "output_type": "execute_result"
    }
   ],
   "source": [
    "# 1 Method / concat function\n",
    "pd.concat([ser1, ser2], axis = 1)"
   ],
   "metadata": {
    "collapsed": false,
    "ExecuteTime": {
     "end_time": "2024-09-11T07:46:48.514457700Z",
     "start_time": "2024-09-11T07:46:46.822778400Z"
    }
   }
  },
  {
   "cell_type": "code",
   "execution_count": 381,
   "outputs": [
    {
     "data": {
      "text/plain": "   Colmun 1  Column 2\n0         a         0\n1         b         1\n2         c         2\n3         e         3\n4         d         4\n5         f         5\n6         g         6\n7         h         7\n8         i         8\n9         j         9\n10        k        10\n11        l        11\n12        m        12\n13        n        13\n14        o        14\n15        p        15\n16        q        16\n17        r        17\n18        s        18\n19        t        19\n20        u        20\n21        v        21\n22        w        22\n23        x        23\n24        y        24\n25        z        25",
      "text/html": "<div>\n<style scoped>\n    .dataframe tbody tr th:only-of-type {\n        vertical-align: middle;\n    }\n\n    .dataframe tbody tr th {\n        vertical-align: top;\n    }\n\n    .dataframe thead th {\n        text-align: right;\n    }\n</style>\n<table border=\"1\" class=\"dataframe\">\n  <thead>\n    <tr style=\"text-align: right;\">\n      <th></th>\n      <th>Colmun 1</th>\n      <th>Column 2</th>\n    </tr>\n  </thead>\n  <tbody>\n    <tr>\n      <th>0</th>\n      <td>a</td>\n      <td>0</td>\n    </tr>\n    <tr>\n      <th>1</th>\n      <td>b</td>\n      <td>1</td>\n    </tr>\n    <tr>\n      <th>2</th>\n      <td>c</td>\n      <td>2</td>\n    </tr>\n    <tr>\n      <th>3</th>\n      <td>e</td>\n      <td>3</td>\n    </tr>\n    <tr>\n      <th>4</th>\n      <td>d</td>\n      <td>4</td>\n    </tr>\n    <tr>\n      <th>5</th>\n      <td>f</td>\n      <td>5</td>\n    </tr>\n    <tr>\n      <th>6</th>\n      <td>g</td>\n      <td>6</td>\n    </tr>\n    <tr>\n      <th>7</th>\n      <td>h</td>\n      <td>7</td>\n    </tr>\n    <tr>\n      <th>8</th>\n      <td>i</td>\n      <td>8</td>\n    </tr>\n    <tr>\n      <th>9</th>\n      <td>j</td>\n      <td>9</td>\n    </tr>\n    <tr>\n      <th>10</th>\n      <td>k</td>\n      <td>10</td>\n    </tr>\n    <tr>\n      <th>11</th>\n      <td>l</td>\n      <td>11</td>\n    </tr>\n    <tr>\n      <th>12</th>\n      <td>m</td>\n      <td>12</td>\n    </tr>\n    <tr>\n      <th>13</th>\n      <td>n</td>\n      <td>13</td>\n    </tr>\n    <tr>\n      <th>14</th>\n      <td>o</td>\n      <td>14</td>\n    </tr>\n    <tr>\n      <th>15</th>\n      <td>p</td>\n      <td>15</td>\n    </tr>\n    <tr>\n      <th>16</th>\n      <td>q</td>\n      <td>16</td>\n    </tr>\n    <tr>\n      <th>17</th>\n      <td>r</td>\n      <td>17</td>\n    </tr>\n    <tr>\n      <th>18</th>\n      <td>s</td>\n      <td>18</td>\n    </tr>\n    <tr>\n      <th>19</th>\n      <td>t</td>\n      <td>19</td>\n    </tr>\n    <tr>\n      <th>20</th>\n      <td>u</td>\n      <td>20</td>\n    </tr>\n    <tr>\n      <th>21</th>\n      <td>v</td>\n      <td>21</td>\n    </tr>\n    <tr>\n      <th>22</th>\n      <td>w</td>\n      <td>22</td>\n    </tr>\n    <tr>\n      <th>23</th>\n      <td>x</td>\n      <td>23</td>\n    </tr>\n    <tr>\n      <th>24</th>\n      <td>y</td>\n      <td>24</td>\n    </tr>\n    <tr>\n      <th>25</th>\n      <td>z</td>\n      <td>25</td>\n    </tr>\n  </tbody>\n</table>\n</div>"
     },
     "execution_count": 381,
     "metadata": {},
     "output_type": "execute_result"
    }
   ],
   "source": [
    "# 2 Method / using dataframe\n",
    "pd.DataFrame({\"Colmun 1\" : ser1, \"Column 2\":ser2})"
   ],
   "metadata": {
    "collapsed": false,
    "ExecuteTime": {
     "end_time": "2024-09-11T07:46:48.551393700Z",
     "start_time": "2024-09-11T07:46:46.837044900Z"
    }
   }
  },
  {
   "cell_type": "markdown",
   "metadata": {},
   "source": [
    "<a id = 'q3'></a>\n",
    "**3. How to get the items of series A not present in series B?**\n",
    "\n",
    "Get all items of ser1 and ser2 not common to both.\n",
    "\n",
    "[Go back to the table of contents](#table_of_contents)"
   ]
  },
  {
   "cell_type": "code",
   "execution_count": 382,
   "metadata": {
    "ExecuteTime": {
     "end_time": "2024-09-11T07:46:48.561334200Z",
     "start_time": "2024-09-11T07:46:46.844835800Z"
    }
   },
   "outputs": [],
   "source": [
    "# input\n",
    "ser1 = pd.Series([1, 2, 3, 4, 5])\n",
    "ser2 = pd.Series([4, 5, 6, 7, 8])"
   ]
  },
  {
   "cell_type": "code",
   "execution_count": 383,
   "outputs": [
    {
     "data": {
      "text/plain": "0    1\n1    2\n2    3\ndtype: int64"
     },
     "execution_count": 383,
     "metadata": {},
     "output_type": "execute_result"
    }
   ],
   "source": [
    "# 1 method / isin function\n",
    "ser1[~ser1.isin(ser2)]"
   ],
   "metadata": {
    "collapsed": false,
    "ExecuteTime": {
     "end_time": "2024-09-11T07:46:48.561334200Z",
     "start_time": "2024-09-11T07:46:46.849966800Z"
    }
   }
  },
  {
   "cell_type": "code",
   "execution_count": 384,
   "outputs": [
    {
     "data": {
      "text/plain": "0    1\n1    2\n2    3\ndtype: int64"
     },
     "execution_count": 384,
     "metadata": {},
     "output_type": "execute_result"
    }
   ],
   "source": [
    "# 2 method / using set\n",
    "pd.Series(list(set(ser1) - set(ser2)))"
   ],
   "metadata": {
    "collapsed": false,
    "ExecuteTime": {
     "end_time": "2024-09-11T07:46:48.562330800Z",
     "start_time": "2024-09-11T07:46:46.860544700Z"
    }
   }
  },
  {
   "cell_type": "markdown",
   "metadata": {},
   "source": [
    "<a id = 'q4'></a>\n",
    "**4. How to get the items not common to both series A and series B?**\n",
    "\n",
    "Get all items of ser1 and ser2 not common to both.\n",
    "\n",
    "[Go back to the table of contents](#table_of_contents)"
   ]
  },
  {
   "cell_type": "code",
   "execution_count": 385,
   "metadata": {
    "ExecuteTime": {
     "end_time": "2024-09-11T07:46:48.604219800Z",
     "start_time": "2024-09-11T07:46:46.870620400Z"
    }
   },
   "outputs": [],
   "source": [
    "# input\n",
    "ser1 = pd.Series([1, 2, 3, 4, 5])\n",
    "ser2 = pd.Series([4, 5, 6, 7, 8])"
   ]
  },
  {
   "cell_type": "code",
   "execution_count": 386,
   "outputs": [
    {
     "data": {
      "text/plain": "0    1\n1    2\n2    3\n2    6\n3    7\n4    8\ndtype: int64"
     },
     "execution_count": 386,
     "metadata": {},
     "output_type": "execute_result"
    }
   ],
   "source": [
    "# 1 method / isin function\n",
    "uniq1 = ser1[~ser1.isin(ser2)]\n",
    "uniq2 = ser2[~ser2.isin(ser1)]\n",
    "pd.concat([uniq1, uniq2])"
   ],
   "metadata": {
    "collapsed": false,
    "ExecuteTime": {
     "end_time": "2024-09-11T07:46:48.604219800Z",
     "start_time": "2024-09-11T07:46:46.881543200Z"
    }
   }
  },
  {
   "cell_type": "code",
   "execution_count": 387,
   "outputs": [
    {
     "data": {
      "text/plain": "0    1\n1    2\n2    3\n2    6\n3    7\n4    8\ndtype: int64"
     },
     "execution_count": 387,
     "metadata": {},
     "output_type": "execute_result"
    }
   ],
   "source": [
    "# 2 method / drop_duplicates dunction\n",
    "pd.concat([ser1, ser2]).drop_duplicates(keep = False).sort_index()"
   ],
   "metadata": {
    "collapsed": false,
    "ExecuteTime": {
     "end_time": "2024-09-11T07:46:48.604219800Z",
     "start_time": "2024-09-11T07:46:46.885536500Z"
    }
   }
  },
  {
   "cell_type": "markdown",
   "metadata": {},
   "source": [
    "<a id = 'q5'></a>\n",
    "**5. How to get useful infos**\n",
    "\n",
    "Compute the minimum, 25th percentile, median, 75th, and maximum of ser.\n",
    "\n",
    "[Go back to the table of contents](#table_of_contents)"
   ]
  },
  {
   "cell_type": "code",
   "execution_count": 388,
   "metadata": {
    "ExecuteTime": {
     "end_time": "2024-09-11T07:46:48.652093800Z",
     "start_time": "2024-09-11T07:46:46.900899400Z"
    }
   },
   "outputs": [],
   "source": [
    "# input\n",
    "state = np.random.RandomState(100)\n",
    "ser = pd.Series(state.normal(10, 5, 25))"
   ]
  },
  {
   "cell_type": "code",
   "execution_count": 389,
   "outputs": [
    {
     "data": {
      "text/plain": "count    25.000000\nmean     10.435437\nstd       4.253118\nmin       1.251173\n25%       7.709865\n50%      10.922593\n75%      13.363604\nmax      18.094908\ndtype: float64"
     },
     "execution_count": 389,
     "metadata": {},
     "output_type": "execute_result"
    }
   ],
   "source": [
    "# 1 method not correct for this question\n",
    "ser.describe()"
   ],
   "metadata": {
    "collapsed": false,
    "ExecuteTime": {
     "end_time": "2024-09-11T07:46:48.653091700Z",
     "start_time": "2024-09-11T07:46:46.907391500Z"
    }
   }
  },
  {
   "cell_type": "code",
   "execution_count": 390,
   "outputs": [
    {
     "data": {
      "text/plain": "np.float64(1.2511726347265135)"
     },
     "execution_count": 390,
     "metadata": {},
     "output_type": "execute_result"
    },
    {
     "data": {
      "text/plain": "np.float64(7.7098650724868785)"
     },
     "execution_count": 390,
     "metadata": {},
     "output_type": "execute_result"
    },
    {
     "data": {
      "text/plain": "np.float64(10.922593452819715)"
     },
     "execution_count": 390,
     "metadata": {},
     "output_type": "execute_result"
    },
    {
     "data": {
      "text/plain": "np.float64(13.363604028548306)"
     },
     "execution_count": 390,
     "metadata": {},
     "output_type": "execute_result"
    },
    {
     "data": {
      "text/plain": "np.float64(18.0949083033763)"
     },
     "execution_count": 390,
     "metadata": {},
     "output_type": "execute_result"
    }
   ],
   "source": [
    "# 2 method / correct\n",
    "ser.min()\n",
    "ser.quantile(0.25)\n",
    "ser.median()\n",
    "ser.quantile(0.75)\n",
    "ser.max()\n",
    "# like in the boxplot\n",
    "# print(ser.min(), ser.quantile(0.25), ser.median(), ser.quantile(0.75), ser.max())"
   ],
   "metadata": {
    "collapsed": false,
    "ExecuteTime": {
     "end_time": "2024-09-11T07:46:48.688392200Z",
     "start_time": "2024-09-11T07:46:46.916028600Z"
    }
   }
  },
  {
   "cell_type": "code",
   "execution_count": null,
   "outputs": [],
   "source": [],
   "metadata": {
    "collapsed": false
   }
  },
  {
   "cell_type": "markdown",
   "metadata": {},
   "source": [
    "<a id = 'q6'></a>\n",
    "**6. How to get frequency counts of unique items of a series?**\n",
    "\n",
    "Calculate the frequency counts of each unique value ser.\n",
    "\n",
    "[Go back to the table of contents](#table_of_contents)"
   ]
  },
  {
   "cell_type": "code",
   "execution_count": 391,
   "metadata": {
    "ExecuteTime": {
     "end_time": "2024-09-11T07:46:48.688392200Z",
     "start_time": "2024-09-11T07:46:46.930644100Z"
    }
   },
   "outputs": [
    {
     "data": {
      "text/plain": "0     e\n1     c\n2     d\n3     e\n4     f\n5     a\n6     e\n7     h\n8     b\n9     b\n10    c\n11    e\n12    c\n13    d\n14    f\n15    b\n16    g\n17    h\n18    a\n19    d\n20    e\n21    g\n22    f\n23    c\n24    d\n25    e\n26    f\n27    c\n28    c\n29    b\ndtype: object"
     },
     "execution_count": 391,
     "metadata": {},
     "output_type": "execute_result"
    }
   ],
   "source": [
    "# input\n",
    "ser = pd.Series(np.take(list('abcdefgh'), np.random.randint(8, size=30)))\n",
    "ser"
   ]
  },
  {
   "cell_type": "code",
   "execution_count": 392,
   "outputs": [
    {
     "data": {
      "text/plain": "e    6\nc    6\nd    4\nf    4\nb    4\na    2\nh    2\ng    2\nName: count, dtype: int64"
     },
     "execution_count": 392,
     "metadata": {},
     "output_type": "execute_result"
    }
   ],
   "source": [
    "# 1 method / value_counts function\n",
    "ser.value_counts()"
   ],
   "metadata": {
    "collapsed": false,
    "ExecuteTime": {
     "end_time": "2024-09-11T07:46:48.688392200Z",
     "start_time": "2024-09-11T07:46:46.942072500Z"
    }
   }
  },
  {
   "cell_type": "code",
   "execution_count": 393,
   "outputs": [
    {
     "data": {
      "text/plain": "c    6\ne    6\nd    4\nb    4\nf    4\na    2\ng    2\nh    2\ndtype: int64"
     },
     "execution_count": 393,
     "metadata": {},
     "output_type": "execute_result"
    }
   ],
   "source": [
    "# 2 method / groupby with sort\n",
    "ser.groupby(ser).size().sort_values(ascending=False)"
   ],
   "metadata": {
    "collapsed": false,
    "ExecuteTime": {
     "end_time": "2024-09-11T07:46:48.716286600Z",
     "start_time": "2024-09-11T07:46:46.951557400Z"
    }
   }
  },
  {
   "cell_type": "markdown",
   "metadata": {},
   "source": [
    "<a id = 'q7'></a>\n",
    "**7. How to convert a numpy array to a dataframe of given shape? (L1)**\n",
    "\n",
    "Reshape the series ser into a dataframe with 7 rows and 5 columns\n",
    "\n",
    "[Go back to the table of contents](#table_of_contents)"
   ]
  },
  {
   "cell_type": "code",
   "execution_count": 394,
   "metadata": {
    "ExecuteTime": {
     "end_time": "2024-09-11T07:46:48.716286600Z",
     "start_time": "2024-09-11T07:46:46.958705700Z"
    }
   },
   "outputs": [
    {
     "data": {
      "text/plain": "0     6\n1     2\n2     2\n3     4\n4     7\n5     4\n6     6\n7     6\n8     9\n9     3\n10    8\n11    1\n12    8\n13    7\n14    4\n15    3\n16    7\n17    4\n18    6\n19    1\n20    5\n21    2\n22    5\n23    4\n24    3\n25    8\n26    2\n27    9\n28    9\n29    7\n30    9\n31    1\n32    1\n33    1\n34    5\ndtype: int32"
     },
     "execution_count": 394,
     "metadata": {},
     "output_type": "execute_result"
    }
   ],
   "source": [
    "# input\n",
    "ser = pd.Series(np.random.randint(1, 10, 35))\n",
    "ser"
   ]
  },
  {
   "cell_type": "code",
   "execution_count": 395,
   "outputs": [
    {
     "data": {
      "text/plain": "   0  1  2  3  4  5  6\n0  6  2  2  4  7  4  6\n1  6  9  3  8  1  8  7\n2  4  3  7  4  6  1  5\n3  2  5  4  3  8  2  9\n4  9  7  9  1  1  1  5",
      "text/html": "<div>\n<style scoped>\n    .dataframe tbody tr th:only-of-type {\n        vertical-align: middle;\n    }\n\n    .dataframe tbody tr th {\n        vertical-align: top;\n    }\n\n    .dataframe thead th {\n        text-align: right;\n    }\n</style>\n<table border=\"1\" class=\"dataframe\">\n  <thead>\n    <tr style=\"text-align: right;\">\n      <th></th>\n      <th>0</th>\n      <th>1</th>\n      <th>2</th>\n      <th>3</th>\n      <th>4</th>\n      <th>5</th>\n      <th>6</th>\n    </tr>\n  </thead>\n  <tbody>\n    <tr>\n      <th>0</th>\n      <td>6</td>\n      <td>2</td>\n      <td>2</td>\n      <td>4</td>\n      <td>7</td>\n      <td>4</td>\n      <td>6</td>\n    </tr>\n    <tr>\n      <th>1</th>\n      <td>6</td>\n      <td>9</td>\n      <td>3</td>\n      <td>8</td>\n      <td>1</td>\n      <td>8</td>\n      <td>7</td>\n    </tr>\n    <tr>\n      <th>2</th>\n      <td>4</td>\n      <td>3</td>\n      <td>7</td>\n      <td>4</td>\n      <td>6</td>\n      <td>1</td>\n      <td>5</td>\n    </tr>\n    <tr>\n      <th>3</th>\n      <td>2</td>\n      <td>5</td>\n      <td>4</td>\n      <td>3</td>\n      <td>8</td>\n      <td>2</td>\n      <td>9</td>\n    </tr>\n    <tr>\n      <th>4</th>\n      <td>9</td>\n      <td>7</td>\n      <td>9</td>\n      <td>1</td>\n      <td>1</td>\n      <td>1</td>\n      <td>5</td>\n    </tr>\n  </tbody>\n</table>\n</div>"
     },
     "execution_count": 395,
     "metadata": {},
     "output_type": "execute_result"
    }
   ],
   "source": [
    "# 35 = 7 * 5\n",
    "#pd.DataFrame(ser.values.reshape(7, 5))\n",
    "pd.DataFrame(ser.values.reshape(5, 7))"
   ],
   "metadata": {
    "collapsed": false,
    "ExecuteTime": {
     "end_time": "2024-09-11T07:46:48.746205600Z",
     "start_time": "2024-09-11T07:46:46.965200700Z"
    }
   }
  },
  {
   "cell_type": "markdown",
   "metadata": {},
   "source": [
    "<a id = 'q8'></a>\n",
    "**8. How to find the positions of numbers that are multiples of 3 from a series?**\n",
    "\n",
    "Find the positions of numbers that are multiples of 3 from ser.\n",
    "\n",
    "[Go back to the table of contents](#table_of_contents)"
   ]
  },
  {
   "cell_type": "code",
   "execution_count": 396,
   "metadata": {
    "ExecuteTime": {
     "end_time": "2024-09-11T07:46:48.746205600Z",
     "start_time": "2024-09-11T07:46:46.978696300Z"
    }
   },
   "outputs": [
    {
     "data": {
      "text/plain": "RandomState(MT19937) at 0x1F898AAAC40"
     },
     "execution_count": 396,
     "metadata": {},
     "output_type": "execute_result"
    },
    {
     "data": {
      "text/plain": "0    1\n1    4\n2    1\n3    4\n4    3\n5    3\n6    2\n7    4\n8    4\n9    2\ndtype: int32"
     },
     "execution_count": 396,
     "metadata": {},
     "output_type": "execute_result"
    }
   ],
   "source": [
    "# input\n",
    "np.random.RandomState(100)\n",
    "ser = pd.Series(np.random.randint(1, 5, 10))\n",
    "ser"
   ]
  },
  {
   "cell_type": "code",
   "execution_count": 397,
   "outputs": [
    {
     "data": {
      "text/plain": "Index([4, 5], dtype='int64')"
     },
     "execution_count": 397,
     "metadata": {},
     "output_type": "execute_result"
    }
   ],
   "source": [
    "# 1 method / math and index function\n",
    "ser[ser % 3 == 0].index"
   ],
   "metadata": {
    "collapsed": false,
    "ExecuteTime": {
     "end_time": "2024-09-11T07:46:48.746205600Z",
     "start_time": "2024-09-11T07:46:46.988478400Z"
    }
   }
  },
  {
   "cell_type": "code",
   "execution_count": 398,
   "outputs": [
    {
     "data": {
      "text/plain": "array([4, 5])"
     },
     "execution_count": 398,
     "metadata": {},
     "output_type": "execute_result"
    }
   ],
   "source": [
    "# 2 method / np.where and math\n",
    "np.where(ser % 3 == 0)[0]"
   ],
   "metadata": {
    "collapsed": false,
    "ExecuteTime": {
     "end_time": "2024-09-11T07:46:48.746205600Z",
     "start_time": "2024-09-11T07:46:46.995210Z"
    }
   }
  },
  {
   "cell_type": "markdown",
   "metadata": {},
   "source": [
    "<a id = 'q9'></a>\n",
    "**9. How to extract items at given positions from a series**\n",
    "\n",
    "From ser, extract the items at positions in list pos.\n",
    "\n",
    "[Go back to the table of contents](#table_of_contents)"
   ]
  },
  {
   "cell_type": "code",
   "execution_count": 399,
   "metadata": {
    "ExecuteTime": {
     "end_time": "2024-09-11T07:46:48.771171900Z",
     "start_time": "2024-09-11T07:46:47.005662900Z"
    }
   },
   "outputs": [],
   "source": [
    "# input\n",
    "ser = pd.Series(list('abcdefghijklmnopqrstuvwxyz'))\n",
    "pos = [0, 4, 8, 14, 20]"
   ]
  },
  {
   "cell_type": "code",
   "execution_count": 400,
   "outputs": [
    {
     "data": {
      "text/plain": "0     a\n4     e\n8     i\n14    o\n20    u\ndtype: object"
     },
     "execution_count": 400,
     "metadata": {},
     "output_type": "execute_result"
    }
   ],
   "source": [
    "ser.iloc[pos]\n",
    "#ser.loc[pos]\n",
    "#ser.take(pos)"
   ],
   "metadata": {
    "collapsed": false,
    "ExecuteTime": {
     "end_time": "2024-09-11T07:46:48.771171900Z",
     "start_time": "2024-09-11T07:46:47.013218300Z"
    }
   }
  },
  {
   "cell_type": "markdown",
   "metadata": {},
   "source": [
    "<a id = 'q10'></a>\n",
    "\n",
    "**10. How to stack two series vertically and horizontally ?**\n",
    "\n",
    "Stack ser1 and ser2 vertically and horizontally (to form a dataframe).\n",
    "\n",
    "[Go back to the table of contents](#table_of_contents)"
   ]
  },
  {
   "cell_type": "code",
   "execution_count": 401,
   "metadata": {
    "ExecuteTime": {
     "end_time": "2024-09-11T07:46:48.790124Z",
     "start_time": "2024-09-11T07:46:47.044393400Z"
    }
   },
   "outputs": [],
   "source": [
    "# input\n",
    "ser1 = pd.Series(range(5))\n",
    "ser2 = pd.Series(list('abcde'))"
   ]
  },
  {
   "cell_type": "code",
   "execution_count": 402,
   "outputs": [
    {
     "data": {
      "text/plain": "   0  1\n0  0  a\n1  1  b\n2  2  c\n3  3  d\n4  4  e",
      "text/html": "<div>\n<style scoped>\n    .dataframe tbody tr th:only-of-type {\n        vertical-align: middle;\n    }\n\n    .dataframe tbody tr th {\n        vertical-align: top;\n    }\n\n    .dataframe thead th {\n        text-align: right;\n    }\n</style>\n<table border=\"1\" class=\"dataframe\">\n  <thead>\n    <tr style=\"text-align: right;\">\n      <th></th>\n      <th>0</th>\n      <th>1</th>\n    </tr>\n  </thead>\n  <tbody>\n    <tr>\n      <th>0</th>\n      <td>0</td>\n      <td>a</td>\n    </tr>\n    <tr>\n      <th>1</th>\n      <td>1</td>\n      <td>b</td>\n    </tr>\n    <tr>\n      <th>2</th>\n      <td>2</td>\n      <td>c</td>\n    </tr>\n    <tr>\n      <th>3</th>\n      <td>3</td>\n      <td>d</td>\n    </tr>\n    <tr>\n      <th>4</th>\n      <td>4</td>\n      <td>e</td>\n    </tr>\n  </tbody>\n</table>\n</div>"
     },
     "execution_count": 402,
     "metadata": {},
     "output_type": "execute_result"
    },
    {
     "data": {
      "text/plain": "0    0\n1    1\n2    2\n3    3\n4    4\n5    a\n6    b\n7    c\n8    d\n9    e\ndtype: object"
     },
     "execution_count": 402,
     "metadata": {},
     "output_type": "execute_result"
    }
   ],
   "source": [
    "#horizontal\n",
    "pd.concat([ser1, ser2], axis = 1).reset_index(drop=True)\n",
    "#vertical\n",
    "pd.concat([ser1, ser2], axis = 0).reset_index(drop=True)"
   ],
   "metadata": {
    "collapsed": false,
    "ExecuteTime": {
     "end_time": "2024-09-11T07:46:48.790124Z",
     "start_time": "2024-09-11T07:46:47.050381500Z"
    }
   }
  },
  {
   "cell_type": "markdown",
   "metadata": {},
   "source": [
    "<a id = 'q11'></a>\n",
    "**11. How to get the positions of items of series A in another series B?**\n",
    "\n",
    "Get the positions of items of ser2 in ser1 as a list.\n",
    "\n",
    "[Go back to the table of contents](#table_of_contents)"
   ]
  },
  {
   "cell_type": "code",
   "execution_count": 403,
   "metadata": {
    "ExecuteTime": {
     "end_time": "2024-09-11T07:46:48.810034900Z",
     "start_time": "2024-09-11T07:46:47.071170300Z"
    }
   },
   "outputs": [],
   "source": [
    "# input\n",
    "ser1 = pd.Series([10, 9, 6, 5, 3, 1, 12, 8, 13])\n",
    "ser2 = pd.Series([1, 3, 10, 13])"
   ]
  },
  {
   "cell_type": "code",
   "execution_count": 404,
   "outputs": [
    {
     "data": {
      "text/plain": "Index([0, 4, 5, 8], dtype='int64')"
     },
     "execution_count": 404,
     "metadata": {},
     "output_type": "execute_result"
    },
    {
     "data": {
      "text/plain": "[5, 4, 0, 8]"
     },
     "execution_count": 404,
     "metadata": {},
     "output_type": "execute_result"
    }
   ],
   "source": [
    "# 1 method\n",
    "ser1[ser1.isin(ser2)].index\n",
    "\n",
    "# 2 method\n",
    "pos = pd.Index(ser1).get_indexer(ser2)\n",
    "pos.tolist()"
   ],
   "metadata": {
    "collapsed": false,
    "ExecuteTime": {
     "end_time": "2024-09-11T07:46:48.822034500Z",
     "start_time": "2024-09-11T07:46:47.075667200Z"
    }
   }
  },
  {
   "cell_type": "markdown",
   "metadata": {},
   "source": [
    "<a id = 'q12'></a>\n",
    "**12. How to compute difference of differences between consequtive numbers of a series?**\n",
    "\n",
    "Difference of differences between the consequtive numbers of ser.\n",
    "\n",
    "[Go back to the table of contents](#table_of_contents)"
   ]
  },
  {
   "cell_type": "code",
   "execution_count": 405,
   "metadata": {
    "ExecuteTime": {
     "end_time": "2024-09-11T07:46:48.834969400Z",
     "start_time": "2024-09-11T07:46:47.091067200Z"
    }
   },
   "outputs": [],
   "source": [
    "# input\n",
    "ser = pd.Series([1, 3, 6, 10, 15, 21, 27, 35])\n",
    "\n",
    "# Desired Output\n",
    "# [nan, 2.0, 3.0, 4.0, 5.0, 6.0, 6.0, 8.0]\n",
    "# [nan, nan, 1.0, 1.0, 1.0, 1.0, 0.0, 2.0]"
   ]
  },
  {
   "cell_type": "code",
   "execution_count": 406,
   "outputs": [
    {
     "name": "stdout",
     "output_type": "stream",
     "text": [
      "[nan, 2.0, 3.0, 4.0, 5.0, 6.0, 6.0, 8.0]\n",
      "[nan, nan, 1.0, 1.0, 1.0, 1.0, 0.0, 2.0]\n"
     ]
    }
   ],
   "source": [
    "diff = ser.diff()\n",
    "print(diff.tolist())\n",
    "print(diff.diff().tolist())"
   ],
   "metadata": {
    "collapsed": false,
    "ExecuteTime": {
     "end_time": "2024-09-11T07:46:48.834969400Z",
     "start_time": "2024-09-11T07:46:47.098287200Z"
    }
   }
  },
  {
   "cell_type": "markdown",
   "metadata": {},
   "source": [
    "<a id = 'q13'></a>\n",
    "\n",
    "**13. How to convert a series of date-strings to a timeseries?**\n",
    "\n",
    "[Go back to the table of contents](#table_of_contents)"
   ]
  },
  {
   "cell_type": "code",
   "execution_count": 5,
   "metadata": {
    "ExecuteTime": {
     "end_time": "2024-09-12T10:23:07.905394Z",
     "start_time": "2024-09-12T10:23:07.703505100Z"
    }
   },
   "outputs": [
    {
     "data": {
      "text/plain": "'\\nDesired Output\\n\\n0   2010-01-01 00:00:00\\n1   2011-02-02 00:00:00\\n2   2012-03-03 00:00:00\\n3   2013-04-04 00:00:00\\n4   2014-05-05 00:00:00\\n5   2015-06-06 12:20:00\\n'"
     },
     "execution_count": 5,
     "metadata": {},
     "output_type": "execute_result"
    }
   ],
   "source": [
    "# input\n",
    "ser = pd.Series(['01 Jan 2010', '02-02-2011', '20120303', '2013/04/04', '2014-05-05', '2015-06-06T12:20'])\n",
    "\n",
    "\n",
    "'''\n",
    "Desired Output\n",
    "\n",
    "0   2010-01-01 00:00:00\n",
    "1   2011-02-02 00:00:00\n",
    "2   2012-03-03 00:00:00\n",
    "3   2013-04-04 00:00:00\n",
    "4   2014-05-05 00:00:00\n",
    "5   2015-06-06 12:20:00\n",
    "'''"
   ]
  },
  {
   "cell_type": "code",
   "execution_count": 6,
   "outputs": [
    {
     "data": {
      "text/plain": "0   2010-01-01 00:00:00\n1   2011-02-02 00:00:00\n2   2012-03-03 00:00:00\n3   2013-04-04 00:00:00\n4   2014-05-05 00:00:00\n5   2015-06-06 12:20:00\ndtype: datetime64[ns]"
     },
     "execution_count": 6,
     "metadata": {},
     "output_type": "execute_result"
    }
   ],
   "source": [
    "from datetime import datetime\n",
    "\n",
    "def right_damn_date_fun(right_damn_str):\n",
    "    for right_damn_format in ('%d %b %Y', '%d-%m-%Y', '%Y%m%d', '%Y/%m/%d', '%Y-%m-%d', '%Y-%m-%dT%H:%M'):\n",
    "        try:\n",
    "            return datetime.strptime(right_damn_str, right_damn_format)\n",
    "        except ValueError:\n",
    "            continue\n",
    "    return pd.NaT\n",
    "\n",
    "ser.apply(right_damn_date_fun)"
   ],
   "metadata": {
    "collapsed": false,
    "ExecuteTime": {
     "end_time": "2024-09-12T10:23:08.483613600Z",
     "start_time": "2024-09-12T10:23:08.425013500Z"
    }
   }
  },
  {
   "cell_type": "code",
   "execution_count": 7,
   "outputs": [
    {
     "data": {
      "text/plain": "0   2010-01-01 00:00:00\n1   2011-02-02 00:00:00\n2   2012-03-03 00:00:00\n3   2013-04-04 00:00:00\n4   2014-05-05 00:00:00\n5   2015-06-06 12:20:00\ndtype: datetime64[ns]"
     },
     "execution_count": 7,
     "metadata": {},
     "output_type": "execute_result"
    }
   ],
   "source": [
    "import pandas as pd\n",
    "pd.to_datetime(ser, format = 'mixed')"
   ],
   "metadata": {
    "collapsed": false,
    "ExecuteTime": {
     "end_time": "2024-09-12T10:23:23.144960Z",
     "start_time": "2024-09-12T10:23:23.096330200Z"
    }
   }
  },
  {
   "cell_type": "markdown",
   "metadata": {},
   "source": [
    "|<a id = 'q14'></a>\n",
    "\n",
    "**14. How to filter words that contain atleast 2 vowels from a series?**\n",
    "\n",
    "From ser, extract words that contain atleast 2 vowels.\n",
    "\n",
    "[Go back to the table of contents](#table_of_contents)"
   ]
  },
  {
   "cell_type": "code",
   "execution_count": 409,
   "metadata": {
    "ExecuteTime": {
     "end_time": "2024-09-11T07:46:48.881115Z",
     "start_time": "2024-09-11T07:46:47.130350300Z"
    }
   },
   "outputs": [
    {
     "data": {
      "text/plain": "'\\nDesired Output\\n\\n\\n0     Apple\\n1    Orange\\n4     Money\\ndtype: object\\n'"
     },
     "execution_count": 409,
     "metadata": {},
     "output_type": "execute_result"
    }
   ],
   "source": [
    "# input\n",
    "ser = pd.Series(['Apple', 'Orange', 'Plan', 'Python', 'Money'])\n",
    "\n",
    "'''\n",
    "Desired Output\n",
    "\n",
    "\n",
    "0     Apple\n",
    "1    Orange\n",
    "4     Money\n",
    "dtype: object\n",
    "'''"
   ]
  },
  {
   "cell_type": "code",
   "execution_count": 410,
   "outputs": [
    {
     "data": {
      "text/plain": "0     Apple\n1    Orange\n4     Money\ndtype: object"
     },
     "execution_count": 410,
     "metadata": {},
     "output_type": "execute_result"
    }
   ],
   "source": [
    "ser[ser.str.count('[aeiouAEIOU]') >= 2] # regex"
   ],
   "metadata": {
    "collapsed": false,
    "ExecuteTime": {
     "end_time": "2024-09-11T07:46:48.881115Z",
     "start_time": "2024-09-11T07:46:47.138748Z"
    }
   }
  },
  {
   "cell_type": "markdown",
   "metadata": {},
   "source": [
    "<a id = 'q15'></a>\n",
    "\n",
    "**15. How to replace missing spaces in a string with the least frequent character?**\n",
    "\n",
    "Replace the spaces in my_str with the least frequent character.\n",
    "\n",
    "[Go back to the table of contents](#table_of_contents)"
   ]
  },
  {
   "cell_type": "code",
   "execution_count": 411,
   "metadata": {
    "ExecuteTime": {
     "end_time": "2024-09-11T07:46:48.922030700Z",
     "start_time": "2024-09-11T07:46:47.159339400Z"
    }
   },
   "outputs": [
    {
     "data": {
      "text/plain": "\"\\nDesired Output\\n\\n'dbccdebcabedcggade'  # least frequent is 'c'\\n\""
     },
     "execution_count": 411,
     "metadata": {},
     "output_type": "execute_result"
    }
   ],
   "source": [
    "# input\n",
    "my_str = 'dbc deb abed ggade'\n",
    "\n",
    "'''\n",
    "Desired Output\n",
    "\n",
    "'dbccdebcabedcggade'  # least frequent is 'c'\n",
    "'''"
   ]
  },
  {
   "cell_type": "code",
   "execution_count": 412,
   "outputs": [
    {
     "name": "stdout",
     "output_type": "stream",
     "text": [
      "{'d': 4, 'b': 3, 'c': 1, 'e': 3, 'a': 2, 'g': 2}\n",
      "Least frequently char: c\n"
     ]
    },
    {
     "data": {
      "text/plain": "'dbccdebcabedcggade'"
     },
     "execution_count": 412,
     "metadata": {},
     "output_type": "execute_result"
    }
   ],
   "source": [
    "count = {}\n",
    "\n",
    "for char in my_str.replace(\" \", \"\"):\n",
    "    if char in count:\n",
    "        count[char] += 1\n",
    "    else:\n",
    "        count[char] = 1\n",
    "\n",
    "print(count)\n",
    "\n",
    "least_freq_char = min(count, key = count.get)\n",
    "\n",
    "print(\"Least frequently char: \" + least_freq_char)\n",
    "\n",
    "my_str.replace(\" \", least_freq_char)\n",
    "\n"
   ],
   "metadata": {
    "collapsed": false,
    "ExecuteTime": {
     "end_time": "2024-09-11T07:46:48.922030700Z",
     "start_time": "2024-09-11T07:46:47.167205500Z"
    }
   }
  },
  {
   "cell_type": "markdown",
   "metadata": {},
   "source": [
    "<a id = 'q16'></a>\n",
    "\n",
    "**16. How to change column values when importing csv to a dataframe?**\n",
    "\n",
    "Import the boston housing dataset, but while importing change the 'medv' (median house value) column so that values < 25 becomes ‘Low’ and > 25 becomes ‘High’.\n",
    "\n",
    "[Go back to the table of contents](#table_of_contents)"
   ]
  },
  {
   "cell_type": "code",
   "execution_count": 413,
   "metadata": {
    "ExecuteTime": {
     "end_time": "2024-09-11T07:46:48.962984700Z",
     "start_time": "2024-09-11T07:46:47.181776800Z"
    }
   },
   "outputs": [],
   "source": [
    "# input\n",
    "import os\n",
    "for dirname, _, filenames in os.walk('/kaggle/input'):\n",
    "    for filename in filenames:\n",
    "        print(os.path.join(dirname, filename))"
   ]
  },
  {
   "cell_type": "code",
   "execution_count": 414,
   "outputs": [
    {
     "data": {
      "text/plain": "        crim   zn  indus  chas    nox     rm   age     dis  rad    tax  \\\n0    0.02731  0.0   7.07     0  0.469  6.421  78.9  4.9671    2  242.0   \n1    0.02729  0.0   7.07     0  0.469  7.185  61.1  4.9671    2  242.0   \n2    0.03237  0.0   2.18     0  0.458  6.998  45.8  6.0622    3  222.0   \n3    0.06905  0.0   2.18     0  0.458  7.147  54.2  6.0622    3  222.0   \n4    0.02985  0.0   2.18     0  0.458  6.430  58.7  6.0622    3  222.0   \n..       ...  ...    ...   ...    ...    ...   ...     ...  ...    ...   \n500  0.06263  0.0  11.93     0  0.573  6.593  69.1  2.4786    1  273.0   \n501  0.04527  0.0  11.93     0  0.573  6.120  76.7  2.2875    1  273.0   \n502  0.06076  0.0  11.93     0  0.573  6.976  91.0  2.1675    1  273.0   \n503  0.10959  0.0  11.93     0  0.573  6.794  89.3  2.3889    1  273.0   \n504  0.04741  0.0  11.93     0  0.573  6.030  80.8  2.5050    1  273.0   \n\n     ptratio       b  lstat  medv  \n0       17.8  396.90   9.14  21.6  \n1       17.8  392.83   4.03  34.7  \n2       18.7  394.63   2.94  33.4  \n3       18.7  396.90   5.33  36.2  \n4       18.7  394.12   5.21  28.7  \n..       ...     ...    ...   ...  \n500     21.0  391.99   9.67  22.4  \n501     21.0  396.90   9.08  20.6  \n502     21.0  396.90   5.64  23.9  \n503     21.0  393.45   6.48  22.0  \n504     21.0  396.90   7.88  11.9  \n\n[505 rows x 14 columns]",
      "text/html": "<div>\n<style scoped>\n    .dataframe tbody tr th:only-of-type {\n        vertical-align: middle;\n    }\n\n    .dataframe tbody tr th {\n        vertical-align: top;\n    }\n\n    .dataframe thead th {\n        text-align: right;\n    }\n</style>\n<table border=\"1\" class=\"dataframe\">\n  <thead>\n    <tr style=\"text-align: right;\">\n      <th></th>\n      <th>crim</th>\n      <th>zn</th>\n      <th>indus</th>\n      <th>chas</th>\n      <th>nox</th>\n      <th>rm</th>\n      <th>age</th>\n      <th>dis</th>\n      <th>rad</th>\n      <th>tax</th>\n      <th>ptratio</th>\n      <th>b</th>\n      <th>lstat</th>\n      <th>medv</th>\n    </tr>\n  </thead>\n  <tbody>\n    <tr>\n      <th>0</th>\n      <td>0.02731</td>\n      <td>0.0</td>\n      <td>7.07</td>\n      <td>0</td>\n      <td>0.469</td>\n      <td>6.421</td>\n      <td>78.9</td>\n      <td>4.9671</td>\n      <td>2</td>\n      <td>242.0</td>\n      <td>17.8</td>\n      <td>396.90</td>\n      <td>9.14</td>\n      <td>21.6</td>\n    </tr>\n    <tr>\n      <th>1</th>\n      <td>0.02729</td>\n      <td>0.0</td>\n      <td>7.07</td>\n      <td>0</td>\n      <td>0.469</td>\n      <td>7.185</td>\n      <td>61.1</td>\n      <td>4.9671</td>\n      <td>2</td>\n      <td>242.0</td>\n      <td>17.8</td>\n      <td>392.83</td>\n      <td>4.03</td>\n      <td>34.7</td>\n    </tr>\n    <tr>\n      <th>2</th>\n      <td>0.03237</td>\n      <td>0.0</td>\n      <td>2.18</td>\n      <td>0</td>\n      <td>0.458</td>\n      <td>6.998</td>\n      <td>45.8</td>\n      <td>6.0622</td>\n      <td>3</td>\n      <td>222.0</td>\n      <td>18.7</td>\n      <td>394.63</td>\n      <td>2.94</td>\n      <td>33.4</td>\n    </tr>\n    <tr>\n      <th>3</th>\n      <td>0.06905</td>\n      <td>0.0</td>\n      <td>2.18</td>\n      <td>0</td>\n      <td>0.458</td>\n      <td>7.147</td>\n      <td>54.2</td>\n      <td>6.0622</td>\n      <td>3</td>\n      <td>222.0</td>\n      <td>18.7</td>\n      <td>396.90</td>\n      <td>5.33</td>\n      <td>36.2</td>\n    </tr>\n    <tr>\n      <th>4</th>\n      <td>0.02985</td>\n      <td>0.0</td>\n      <td>2.18</td>\n      <td>0</td>\n      <td>0.458</td>\n      <td>6.430</td>\n      <td>58.7</td>\n      <td>6.0622</td>\n      <td>3</td>\n      <td>222.0</td>\n      <td>18.7</td>\n      <td>394.12</td>\n      <td>5.21</td>\n      <td>28.7</td>\n    </tr>\n    <tr>\n      <th>...</th>\n      <td>...</td>\n      <td>...</td>\n      <td>...</td>\n      <td>...</td>\n      <td>...</td>\n      <td>...</td>\n      <td>...</td>\n      <td>...</td>\n      <td>...</td>\n      <td>...</td>\n      <td>...</td>\n      <td>...</td>\n      <td>...</td>\n      <td>...</td>\n    </tr>\n    <tr>\n      <th>500</th>\n      <td>0.06263</td>\n      <td>0.0</td>\n      <td>11.93</td>\n      <td>0</td>\n      <td>0.573</td>\n      <td>6.593</td>\n      <td>69.1</td>\n      <td>2.4786</td>\n      <td>1</td>\n      <td>273.0</td>\n      <td>21.0</td>\n      <td>391.99</td>\n      <td>9.67</td>\n      <td>22.4</td>\n    </tr>\n    <tr>\n      <th>501</th>\n      <td>0.04527</td>\n      <td>0.0</td>\n      <td>11.93</td>\n      <td>0</td>\n      <td>0.573</td>\n      <td>6.120</td>\n      <td>76.7</td>\n      <td>2.2875</td>\n      <td>1</td>\n      <td>273.0</td>\n      <td>21.0</td>\n      <td>396.90</td>\n      <td>9.08</td>\n      <td>20.6</td>\n    </tr>\n    <tr>\n      <th>502</th>\n      <td>0.06076</td>\n      <td>0.0</td>\n      <td>11.93</td>\n      <td>0</td>\n      <td>0.573</td>\n      <td>6.976</td>\n      <td>91.0</td>\n      <td>2.1675</td>\n      <td>1</td>\n      <td>273.0</td>\n      <td>21.0</td>\n      <td>396.90</td>\n      <td>5.64</td>\n      <td>23.9</td>\n    </tr>\n    <tr>\n      <th>503</th>\n      <td>0.10959</td>\n      <td>0.0</td>\n      <td>11.93</td>\n      <td>0</td>\n      <td>0.573</td>\n      <td>6.794</td>\n      <td>89.3</td>\n      <td>2.3889</td>\n      <td>1</td>\n      <td>273.0</td>\n      <td>21.0</td>\n      <td>393.45</td>\n      <td>6.48</td>\n      <td>22.0</td>\n    </tr>\n    <tr>\n      <th>504</th>\n      <td>0.04741</td>\n      <td>0.0</td>\n      <td>11.93</td>\n      <td>0</td>\n      <td>0.573</td>\n      <td>6.030</td>\n      <td>80.8</td>\n      <td>2.5050</td>\n      <td>1</td>\n      <td>273.0</td>\n      <td>21.0</td>\n      <td>396.90</td>\n      <td>7.88</td>\n      <td>11.9</td>\n    </tr>\n  </tbody>\n</table>\n<p>505 rows × 14 columns</p>\n</div>"
     },
     "execution_count": 414,
     "metadata": {},
     "output_type": "execute_result"
    }
   ],
   "source": [
    "df = pd.read_fwf(\"housing.csv\")\n",
    "column_names = ['crim', 'zn', 'indus', 'chas', 'nox', 'rm', 'age', 'dis', 'rad', 'tax', 'ptratio', 'b', 'lstat', 'medv']\n",
    "df.columns = column_names\n",
    "df"
   ],
   "metadata": {
    "collapsed": false,
    "ExecuteTime": {
     "end_time": "2024-09-11T07:46:48.981934900Z",
     "start_time": "2024-09-11T07:46:47.187764600Z"
    }
   }
  },
  {
   "cell_type": "code",
   "execution_count": 415,
   "outputs": [
    {
     "data": {
      "text/plain": "        crim   zn  indus  chas    nox     rm   age     dis  rad    tax  \\\n0    0.02731  0.0   7.07     0  0.469  6.421  78.9  4.9671    2  242.0   \n1    0.02729  0.0   7.07     0  0.469  7.185  61.1  4.9671    2  242.0   \n2    0.03237  0.0   2.18     0  0.458  6.998  45.8  6.0622    3  222.0   \n3    0.06905  0.0   2.18     0  0.458  7.147  54.2  6.0622    3  222.0   \n4    0.02985  0.0   2.18     0  0.458  6.430  58.7  6.0622    3  222.0   \n..       ...  ...    ...   ...    ...    ...   ...     ...  ...    ...   \n500  0.06263  0.0  11.93     0  0.573  6.593  69.1  2.4786    1  273.0   \n501  0.04527  0.0  11.93     0  0.573  6.120  76.7  2.2875    1  273.0   \n502  0.06076  0.0  11.93     0  0.573  6.976  91.0  2.1675    1  273.0   \n503  0.10959  0.0  11.93     0  0.573  6.794  89.3  2.3889    1  273.0   \n504  0.04741  0.0  11.93     0  0.573  6.030  80.8  2.5050    1  273.0   \n\n     ptratio       b  lstat  medv  \n0       17.8  396.90   9.14   Low  \n1       17.8  392.83   4.03  High  \n2       18.7  394.63   2.94  High  \n3       18.7  396.90   5.33  High  \n4       18.7  394.12   5.21  High  \n..       ...     ...    ...   ...  \n500     21.0  391.99   9.67   Low  \n501     21.0  396.90   9.08   Low  \n502     21.0  396.90   5.64   Low  \n503     21.0  393.45   6.48   Low  \n504     21.0  396.90   7.88   Low  \n\n[505 rows x 14 columns]",
      "text/html": "<div>\n<style scoped>\n    .dataframe tbody tr th:only-of-type {\n        vertical-align: middle;\n    }\n\n    .dataframe tbody tr th {\n        vertical-align: top;\n    }\n\n    .dataframe thead th {\n        text-align: right;\n    }\n</style>\n<table border=\"1\" class=\"dataframe\">\n  <thead>\n    <tr style=\"text-align: right;\">\n      <th></th>\n      <th>crim</th>\n      <th>zn</th>\n      <th>indus</th>\n      <th>chas</th>\n      <th>nox</th>\n      <th>rm</th>\n      <th>age</th>\n      <th>dis</th>\n      <th>rad</th>\n      <th>tax</th>\n      <th>ptratio</th>\n      <th>b</th>\n      <th>lstat</th>\n      <th>medv</th>\n    </tr>\n  </thead>\n  <tbody>\n    <tr>\n      <th>0</th>\n      <td>0.02731</td>\n      <td>0.0</td>\n      <td>7.07</td>\n      <td>0</td>\n      <td>0.469</td>\n      <td>6.421</td>\n      <td>78.9</td>\n      <td>4.9671</td>\n      <td>2</td>\n      <td>242.0</td>\n      <td>17.8</td>\n      <td>396.90</td>\n      <td>9.14</td>\n      <td>Low</td>\n    </tr>\n    <tr>\n      <th>1</th>\n      <td>0.02729</td>\n      <td>0.0</td>\n      <td>7.07</td>\n      <td>0</td>\n      <td>0.469</td>\n      <td>7.185</td>\n      <td>61.1</td>\n      <td>4.9671</td>\n      <td>2</td>\n      <td>242.0</td>\n      <td>17.8</td>\n      <td>392.83</td>\n      <td>4.03</td>\n      <td>High</td>\n    </tr>\n    <tr>\n      <th>2</th>\n      <td>0.03237</td>\n      <td>0.0</td>\n      <td>2.18</td>\n      <td>0</td>\n      <td>0.458</td>\n      <td>6.998</td>\n      <td>45.8</td>\n      <td>6.0622</td>\n      <td>3</td>\n      <td>222.0</td>\n      <td>18.7</td>\n      <td>394.63</td>\n      <td>2.94</td>\n      <td>High</td>\n    </tr>\n    <tr>\n      <th>3</th>\n      <td>0.06905</td>\n      <td>0.0</td>\n      <td>2.18</td>\n      <td>0</td>\n      <td>0.458</td>\n      <td>7.147</td>\n      <td>54.2</td>\n      <td>6.0622</td>\n      <td>3</td>\n      <td>222.0</td>\n      <td>18.7</td>\n      <td>396.90</td>\n      <td>5.33</td>\n      <td>High</td>\n    </tr>\n    <tr>\n      <th>4</th>\n      <td>0.02985</td>\n      <td>0.0</td>\n      <td>2.18</td>\n      <td>0</td>\n      <td>0.458</td>\n      <td>6.430</td>\n      <td>58.7</td>\n      <td>6.0622</td>\n      <td>3</td>\n      <td>222.0</td>\n      <td>18.7</td>\n      <td>394.12</td>\n      <td>5.21</td>\n      <td>High</td>\n    </tr>\n    <tr>\n      <th>...</th>\n      <td>...</td>\n      <td>...</td>\n      <td>...</td>\n      <td>...</td>\n      <td>...</td>\n      <td>...</td>\n      <td>...</td>\n      <td>...</td>\n      <td>...</td>\n      <td>...</td>\n      <td>...</td>\n      <td>...</td>\n      <td>...</td>\n      <td>...</td>\n    </tr>\n    <tr>\n      <th>500</th>\n      <td>0.06263</td>\n      <td>0.0</td>\n      <td>11.93</td>\n      <td>0</td>\n      <td>0.573</td>\n      <td>6.593</td>\n      <td>69.1</td>\n      <td>2.4786</td>\n      <td>1</td>\n      <td>273.0</td>\n      <td>21.0</td>\n      <td>391.99</td>\n      <td>9.67</td>\n      <td>Low</td>\n    </tr>\n    <tr>\n      <th>501</th>\n      <td>0.04527</td>\n      <td>0.0</td>\n      <td>11.93</td>\n      <td>0</td>\n      <td>0.573</td>\n      <td>6.120</td>\n      <td>76.7</td>\n      <td>2.2875</td>\n      <td>1</td>\n      <td>273.0</td>\n      <td>21.0</td>\n      <td>396.90</td>\n      <td>9.08</td>\n      <td>Low</td>\n    </tr>\n    <tr>\n      <th>502</th>\n      <td>0.06076</td>\n      <td>0.0</td>\n      <td>11.93</td>\n      <td>0</td>\n      <td>0.573</td>\n      <td>6.976</td>\n      <td>91.0</td>\n      <td>2.1675</td>\n      <td>1</td>\n      <td>273.0</td>\n      <td>21.0</td>\n      <td>396.90</td>\n      <td>5.64</td>\n      <td>Low</td>\n    </tr>\n    <tr>\n      <th>503</th>\n      <td>0.10959</td>\n      <td>0.0</td>\n      <td>11.93</td>\n      <td>0</td>\n      <td>0.573</td>\n      <td>6.794</td>\n      <td>89.3</td>\n      <td>2.3889</td>\n      <td>1</td>\n      <td>273.0</td>\n      <td>21.0</td>\n      <td>393.45</td>\n      <td>6.48</td>\n      <td>Low</td>\n    </tr>\n    <tr>\n      <th>504</th>\n      <td>0.04741</td>\n      <td>0.0</td>\n      <td>11.93</td>\n      <td>0</td>\n      <td>0.573</td>\n      <td>6.030</td>\n      <td>80.8</td>\n      <td>2.5050</td>\n      <td>1</td>\n      <td>273.0</td>\n      <td>21.0</td>\n      <td>396.90</td>\n      <td>7.88</td>\n      <td>Low</td>\n    </tr>\n  </tbody>\n</table>\n<p>505 rows × 14 columns</p>\n</div>"
     },
     "execution_count": 415,
     "metadata": {},
     "output_type": "execute_result"
    }
   ],
   "source": [
    "df['medv'] = df['medv'].apply(lambda x: 'Low' if x < 25 else 'High')\n",
    "df"
   ],
   "metadata": {
    "collapsed": false,
    "ExecuteTime": {
     "end_time": "2024-09-11T07:46:49.000853200Z",
     "start_time": "2024-09-11T07:46:47.221426800Z"
    }
   }
  },
  {
   "cell_type": "markdown",
   "metadata": {},
   "source": [
    "<a id = 'q17'></a>\n",
    "\n",
    "**17. How to import only specified columns from a csv file?**\n",
    "\n",
    "[Go back to the table of contents](#table_of_contents)"
   ]
  },
  {
   "cell_type": "code",
   "execution_count": 416,
   "metadata": {
    "ExecuteTime": {
     "end_time": "2024-09-11T07:46:49.030918200Z",
     "start_time": "2024-09-11T07:46:47.244704600Z"
    }
   },
   "outputs": [],
   "source": [
    "# input\n",
    "        \n",
    "# code that generates the housing_preprocessed.csv file\n",
    "names = ['CRIM', 'ZN', 'INDUS', 'CHAS', 'NOX', 'RM', 'AGE', 'DIS', 'RAD', 'TAX', 'PTRATIO', 'B', 'LSTAT', 'MEDV']\n",
    "with open(\"housing.csv\") as f:\n",
    "    data = f.read()\n",
    "    nth_rows = []\n",
    "    for i, rows in enumerate(data.split(\"\\n\")):\n",
    "        nth_rows.append(rows)\n",
    "\n",
    "data_ = [nth_rows[i].split() for i in range(len(nth_rows))]\n",
    "\n",
    "df = pd.DataFrame(data_, columns=names)\n",
    "df.to_csv(\"housing_preprocessed.csv\")\n",
    "del df\n",
    "\n",
    "# use the /kaggle/input/boston-house-prices/housing_preprocessed.csv file\n",
    "import os\n",
    "for dirname, _, filenames in os.walk('/kaggle/input'):\n",
    "    for filename in filenames:\n",
    "        print(os.path.join(dirname, filename))"
   ]
  },
  {
   "cell_type": "code",
   "execution_count": 417,
   "outputs": [
    {
     "data": {
      "text/plain": "      AGE  MEDV\n0    65.2  24.0\n1    78.9  21.6\n2    61.1  34.7\n3    45.8  33.4\n4    54.2  36.2\n..    ...   ...\n502  76.7  20.6\n503  91.0  23.9\n504  89.3  22.0\n505  80.8  11.9\n506   NaN   NaN\n\n[507 rows x 2 columns]",
      "text/html": "<div>\n<style scoped>\n    .dataframe tbody tr th:only-of-type {\n        vertical-align: middle;\n    }\n\n    .dataframe tbody tr th {\n        vertical-align: top;\n    }\n\n    .dataframe thead th {\n        text-align: right;\n    }\n</style>\n<table border=\"1\" class=\"dataframe\">\n  <thead>\n    <tr style=\"text-align: right;\">\n      <th></th>\n      <th>AGE</th>\n      <th>MEDV</th>\n    </tr>\n  </thead>\n  <tbody>\n    <tr>\n      <th>0</th>\n      <td>65.2</td>\n      <td>24.0</td>\n    </tr>\n    <tr>\n      <th>1</th>\n      <td>78.9</td>\n      <td>21.6</td>\n    </tr>\n    <tr>\n      <th>2</th>\n      <td>61.1</td>\n      <td>34.7</td>\n    </tr>\n    <tr>\n      <th>3</th>\n      <td>45.8</td>\n      <td>33.4</td>\n    </tr>\n    <tr>\n      <th>4</th>\n      <td>54.2</td>\n      <td>36.2</td>\n    </tr>\n    <tr>\n      <th>...</th>\n      <td>...</td>\n      <td>...</td>\n    </tr>\n    <tr>\n      <th>502</th>\n      <td>76.7</td>\n      <td>20.6</td>\n    </tr>\n    <tr>\n      <th>503</th>\n      <td>91.0</td>\n      <td>23.9</td>\n    </tr>\n    <tr>\n      <th>504</th>\n      <td>89.3</td>\n      <td>22.0</td>\n    </tr>\n    <tr>\n      <th>505</th>\n      <td>80.8</td>\n      <td>11.9</td>\n    </tr>\n    <tr>\n      <th>506</th>\n      <td>NaN</td>\n      <td>NaN</td>\n    </tr>\n  </tbody>\n</table>\n<p>507 rows × 2 columns</p>\n</div>"
     },
     "execution_count": 417,
     "metadata": {},
     "output_type": "execute_result"
    }
   ],
   "source": [
    "#Answer\n",
    "columns_to_import = ['AGE', 'MEDV']\n",
    "df = pd.read_csv('housing_preprocessed.csv', usecols= columns_to_import)\n",
    "df"
   ],
   "metadata": {
    "collapsed": false,
    "ExecuteTime": {
     "end_time": "2024-09-11T07:46:49.056889900Z",
     "start_time": "2024-09-11T07:46:47.256426400Z"
    }
   }
  },
  {
   "cell_type": "markdown",
   "source": [],
   "metadata": {
    "collapsed": false
   }
  },
  {
   "cell_type": "markdown",
   "metadata": {},
   "source": [
    "\"<a id = 'q18'></a>\n",
    "\n",
    "**18. How to check if a dataframe has any missing values?**\n",
    "\n",
    "[Go back to the table of contents](#table_of_contents)\n"
   ]
  },
  {
   "cell_type": "code",
   "execution_count": 418,
   "metadata": {
    "ExecuteTime": {
     "end_time": "2024-09-11T07:46:49.116985500Z",
     "start_time": "2024-09-11T07:46:47.284004900Z"
    }
   },
   "outputs": [
    {
     "data": {
      "text/plain": "    Unnamed: 0 Manufacturer    Model     Type  Min.Price  Price  Max.Price  \\\n0            1        Acura  Integra    Small       12.9   15.9       18.8   \n1            2        Acura   Legend  Midsize       29.2   33.9       38.7   \n2            3         Audi       90  Compact       25.9   29.1       32.3   \n3            4         Audi      100  Midsize       30.8   37.7       44.6   \n4            5          BMW     535i  Midsize       23.7   30.0       36.2   \n..         ...          ...      ...      ...        ...    ...        ...   \n88          89   Volkswagen  Eurovan      Van       16.6   19.7       22.7   \n89          90   Volkswagen   Passat  Compact       17.6   20.0       22.4   \n90          91   Volkswagen  Corrado   Sporty       22.9   23.3       23.7   \n91          92        Volvo      240  Compact       21.8   22.7       23.5   \n92          93        Volvo      850  Midsize       24.8   26.7       28.5   \n\n    MPG.city  MPG.highway             AirBags  ... Passengers Length  \\\n0         25           31                 NaN  ...          5    177   \n1         18           25  Driver & Passenger  ...          5    195   \n2         20           26         Driver only  ...          5    180   \n3         19           26  Driver & Passenger  ...          6    193   \n4         22           30         Driver only  ...          4    186   \n..       ...          ...                 ...  ...        ...    ...   \n88        17           21                 NaN  ...          7    187   \n89        21           30                 NaN  ...          5    180   \n90        18           25                 NaN  ...          4    159   \n91        21           28         Driver only  ...          5    190   \n92        20           28  Driver & Passenger  ...          5    184   \n\n    Wheelbase  Width  Turn.circle  Rear.seat.room Luggage.room  Weight  \\\n0         102     68           37            26.5         11.0    2705   \n1         115     71           38            30.0         15.0    3560   \n2         102     67           37            28.0         14.0    3375   \n3         106     70           37            31.0         17.0    3405   \n4         109     69           39            27.0         13.0    3640   \n..        ...    ...          ...             ...          ...     ...   \n88        115     72           38            34.0          NaN    3960   \n89        103     67           35            31.5         14.0    2985   \n90         97     66           36            26.0         15.0    2810   \n91        104     67           37            29.5         14.0    2985   \n92        105     69           38            30.0         15.0    3245   \n\n     Origin                Make  \n0   non-USA       Acura Integra  \n1   non-USA        Acura Legend  \n2   non-USA             Audi 90  \n3   non-USA            Audi 100  \n4   non-USA            BMW 535i  \n..      ...                 ...  \n88  non-USA  Volkswagen Eurovan  \n89  non-USA   Volkswagen Passat  \n90  non-USA  Volkswagen Corrado  \n91  non-USA           Volvo 240  \n92  non-USA           Volvo 850  \n\n[93 rows x 28 columns]",
      "text/html": "<div>\n<style scoped>\n    .dataframe tbody tr th:only-of-type {\n        vertical-align: middle;\n    }\n\n    .dataframe tbody tr th {\n        vertical-align: top;\n    }\n\n    .dataframe thead th {\n        text-align: right;\n    }\n</style>\n<table border=\"1\" class=\"dataframe\">\n  <thead>\n    <tr style=\"text-align: right;\">\n      <th></th>\n      <th>Unnamed: 0</th>\n      <th>Manufacturer</th>\n      <th>Model</th>\n      <th>Type</th>\n      <th>Min.Price</th>\n      <th>Price</th>\n      <th>Max.Price</th>\n      <th>MPG.city</th>\n      <th>MPG.highway</th>\n      <th>AirBags</th>\n      <th>...</th>\n      <th>Passengers</th>\n      <th>Length</th>\n      <th>Wheelbase</th>\n      <th>Width</th>\n      <th>Turn.circle</th>\n      <th>Rear.seat.room</th>\n      <th>Luggage.room</th>\n      <th>Weight</th>\n      <th>Origin</th>\n      <th>Make</th>\n    </tr>\n  </thead>\n  <tbody>\n    <tr>\n      <th>0</th>\n      <td>1</td>\n      <td>Acura</td>\n      <td>Integra</td>\n      <td>Small</td>\n      <td>12.9</td>\n      <td>15.9</td>\n      <td>18.8</td>\n      <td>25</td>\n      <td>31</td>\n      <td>NaN</td>\n      <td>...</td>\n      <td>5</td>\n      <td>177</td>\n      <td>102</td>\n      <td>68</td>\n      <td>37</td>\n      <td>26.5</td>\n      <td>11.0</td>\n      <td>2705</td>\n      <td>non-USA</td>\n      <td>Acura Integra</td>\n    </tr>\n    <tr>\n      <th>1</th>\n      <td>2</td>\n      <td>Acura</td>\n      <td>Legend</td>\n      <td>Midsize</td>\n      <td>29.2</td>\n      <td>33.9</td>\n      <td>38.7</td>\n      <td>18</td>\n      <td>25</td>\n      <td>Driver &amp; Passenger</td>\n      <td>...</td>\n      <td>5</td>\n      <td>195</td>\n      <td>115</td>\n      <td>71</td>\n      <td>38</td>\n      <td>30.0</td>\n      <td>15.0</td>\n      <td>3560</td>\n      <td>non-USA</td>\n      <td>Acura Legend</td>\n    </tr>\n    <tr>\n      <th>2</th>\n      <td>3</td>\n      <td>Audi</td>\n      <td>90</td>\n      <td>Compact</td>\n      <td>25.9</td>\n      <td>29.1</td>\n      <td>32.3</td>\n      <td>20</td>\n      <td>26</td>\n      <td>Driver only</td>\n      <td>...</td>\n      <td>5</td>\n      <td>180</td>\n      <td>102</td>\n      <td>67</td>\n      <td>37</td>\n      <td>28.0</td>\n      <td>14.0</td>\n      <td>3375</td>\n      <td>non-USA</td>\n      <td>Audi 90</td>\n    </tr>\n    <tr>\n      <th>3</th>\n      <td>4</td>\n      <td>Audi</td>\n      <td>100</td>\n      <td>Midsize</td>\n      <td>30.8</td>\n      <td>37.7</td>\n      <td>44.6</td>\n      <td>19</td>\n      <td>26</td>\n      <td>Driver &amp; Passenger</td>\n      <td>...</td>\n      <td>6</td>\n      <td>193</td>\n      <td>106</td>\n      <td>70</td>\n      <td>37</td>\n      <td>31.0</td>\n      <td>17.0</td>\n      <td>3405</td>\n      <td>non-USA</td>\n      <td>Audi 100</td>\n    </tr>\n    <tr>\n      <th>4</th>\n      <td>5</td>\n      <td>BMW</td>\n      <td>535i</td>\n      <td>Midsize</td>\n      <td>23.7</td>\n      <td>30.0</td>\n      <td>36.2</td>\n      <td>22</td>\n      <td>30</td>\n      <td>Driver only</td>\n      <td>...</td>\n      <td>4</td>\n      <td>186</td>\n      <td>109</td>\n      <td>69</td>\n      <td>39</td>\n      <td>27.0</td>\n      <td>13.0</td>\n      <td>3640</td>\n      <td>non-USA</td>\n      <td>BMW 535i</td>\n    </tr>\n    <tr>\n      <th>...</th>\n      <td>...</td>\n      <td>...</td>\n      <td>...</td>\n      <td>...</td>\n      <td>...</td>\n      <td>...</td>\n      <td>...</td>\n      <td>...</td>\n      <td>...</td>\n      <td>...</td>\n      <td>...</td>\n      <td>...</td>\n      <td>...</td>\n      <td>...</td>\n      <td>...</td>\n      <td>...</td>\n      <td>...</td>\n      <td>...</td>\n      <td>...</td>\n      <td>...</td>\n      <td>...</td>\n    </tr>\n    <tr>\n      <th>88</th>\n      <td>89</td>\n      <td>Volkswagen</td>\n      <td>Eurovan</td>\n      <td>Van</td>\n      <td>16.6</td>\n      <td>19.7</td>\n      <td>22.7</td>\n      <td>17</td>\n      <td>21</td>\n      <td>NaN</td>\n      <td>...</td>\n      <td>7</td>\n      <td>187</td>\n      <td>115</td>\n      <td>72</td>\n      <td>38</td>\n      <td>34.0</td>\n      <td>NaN</td>\n      <td>3960</td>\n      <td>non-USA</td>\n      <td>Volkswagen Eurovan</td>\n    </tr>\n    <tr>\n      <th>89</th>\n      <td>90</td>\n      <td>Volkswagen</td>\n      <td>Passat</td>\n      <td>Compact</td>\n      <td>17.6</td>\n      <td>20.0</td>\n      <td>22.4</td>\n      <td>21</td>\n      <td>30</td>\n      <td>NaN</td>\n      <td>...</td>\n      <td>5</td>\n      <td>180</td>\n      <td>103</td>\n      <td>67</td>\n      <td>35</td>\n      <td>31.5</td>\n      <td>14.0</td>\n      <td>2985</td>\n      <td>non-USA</td>\n      <td>Volkswagen Passat</td>\n    </tr>\n    <tr>\n      <th>90</th>\n      <td>91</td>\n      <td>Volkswagen</td>\n      <td>Corrado</td>\n      <td>Sporty</td>\n      <td>22.9</td>\n      <td>23.3</td>\n      <td>23.7</td>\n      <td>18</td>\n      <td>25</td>\n      <td>NaN</td>\n      <td>...</td>\n      <td>4</td>\n      <td>159</td>\n      <td>97</td>\n      <td>66</td>\n      <td>36</td>\n      <td>26.0</td>\n      <td>15.0</td>\n      <td>2810</td>\n      <td>non-USA</td>\n      <td>Volkswagen Corrado</td>\n    </tr>\n    <tr>\n      <th>91</th>\n      <td>92</td>\n      <td>Volvo</td>\n      <td>240</td>\n      <td>Compact</td>\n      <td>21.8</td>\n      <td>22.7</td>\n      <td>23.5</td>\n      <td>21</td>\n      <td>28</td>\n      <td>Driver only</td>\n      <td>...</td>\n      <td>5</td>\n      <td>190</td>\n      <td>104</td>\n      <td>67</td>\n      <td>37</td>\n      <td>29.5</td>\n      <td>14.0</td>\n      <td>2985</td>\n      <td>non-USA</td>\n      <td>Volvo 240</td>\n    </tr>\n    <tr>\n      <th>92</th>\n      <td>93</td>\n      <td>Volvo</td>\n      <td>850</td>\n      <td>Midsize</td>\n      <td>24.8</td>\n      <td>26.7</td>\n      <td>28.5</td>\n      <td>20</td>\n      <td>28</td>\n      <td>Driver &amp; Passenger</td>\n      <td>...</td>\n      <td>5</td>\n      <td>184</td>\n      <td>105</td>\n      <td>69</td>\n      <td>38</td>\n      <td>30.0</td>\n      <td>15.0</td>\n      <td>3245</td>\n      <td>non-USA</td>\n      <td>Volvo 850</td>\n    </tr>\n  </tbody>\n</table>\n<p>93 rows × 28 columns</p>\n</div>"
     },
     "execution_count": 418,
     "metadata": {},
     "output_type": "execute_result"
    }
   ],
   "source": [
    "# input\n",
    "df = pd.read_csv(\"Cars93.csv\")\n",
    "df"
   ]
  },
  {
   "cell_type": "code",
   "execution_count": 419,
   "outputs": [
    {
     "data": {
      "text/plain": "np.True_"
     },
     "execution_count": 419,
     "metadata": {},
     "output_type": "execute_result"
    }
   ],
   "source": [
    "df.isnull().values.any()"
   ],
   "metadata": {
    "collapsed": false,
    "ExecuteTime": {
     "end_time": "2024-09-11T07:46:49.118022800Z",
     "start_time": "2024-09-11T07:46:47.309111200Z"
    }
   }
  },
  {
   "cell_type": "markdown",
   "metadata": {},
   "source": [
    "<a id = 'q19'></a>\n",
    "\n",
    "**19. How to replace missing values of multiple numeric columns with the mean?**\n",
    "\n",
    "Replace missing values in Luggage.room columns with their respective mean.\n",
    "\n",
    "[Go back to the table of contents](#table_of_contents)\n"
   ]
  },
  {
   "cell_type": "code",
   "execution_count": 420,
   "metadata": {
    "ExecuteTime": {
     "end_time": "2024-09-11T07:46:49.156910900Z",
     "start_time": "2024-09-11T07:46:47.318564400Z"
    }
   },
   "outputs": [
    {
     "data": {
      "text/plain": "    Unnamed: 0 Manufacturer    Model     Type  Min.Price  Price  Max.Price  \\\n0            1        Acura  Integra    Small       12.9   15.9       18.8   \n1            2        Acura   Legend  Midsize       29.2   33.9       38.7   \n2            3         Audi       90  Compact       25.9   29.1       32.3   \n3            4         Audi      100  Midsize       30.8   37.7       44.6   \n4            5          BMW     535i  Midsize       23.7   30.0       36.2   \n..         ...          ...      ...      ...        ...    ...        ...   \n88          89   Volkswagen  Eurovan      Van       16.6   19.7       22.7   \n89          90   Volkswagen   Passat  Compact       17.6   20.0       22.4   \n90          91   Volkswagen  Corrado   Sporty       22.9   23.3       23.7   \n91          92        Volvo      240  Compact       21.8   22.7       23.5   \n92          93        Volvo      850  Midsize       24.8   26.7       28.5   \n\n    MPG.city  MPG.highway             AirBags  ... Passengers Length  \\\n0         25           31                 NaN  ...          5    177   \n1         18           25  Driver & Passenger  ...          5    195   \n2         20           26         Driver only  ...          5    180   \n3         19           26  Driver & Passenger  ...          6    193   \n4         22           30         Driver only  ...          4    186   \n..       ...          ...                 ...  ...        ...    ...   \n88        17           21                 NaN  ...          7    187   \n89        21           30                 NaN  ...          5    180   \n90        18           25                 NaN  ...          4    159   \n91        21           28         Driver only  ...          5    190   \n92        20           28  Driver & Passenger  ...          5    184   \n\n    Wheelbase  Width  Turn.circle  Rear.seat.room Luggage.room  Weight  \\\n0         102     68           37            26.5         11.0    2705   \n1         115     71           38            30.0         15.0    3560   \n2         102     67           37            28.0         14.0    3375   \n3         106     70           37            31.0         17.0    3405   \n4         109     69           39            27.0         13.0    3640   \n..        ...    ...          ...             ...          ...     ...   \n88        115     72           38            34.0          NaN    3960   \n89        103     67           35            31.5         14.0    2985   \n90         97     66           36            26.0         15.0    2810   \n91        104     67           37            29.5         14.0    2985   \n92        105     69           38            30.0         15.0    3245   \n\n     Origin                Make  \n0   non-USA       Acura Integra  \n1   non-USA        Acura Legend  \n2   non-USA             Audi 90  \n3   non-USA            Audi 100  \n4   non-USA            BMW 535i  \n..      ...                 ...  \n88  non-USA  Volkswagen Eurovan  \n89  non-USA   Volkswagen Passat  \n90  non-USA  Volkswagen Corrado  \n91  non-USA           Volvo 240  \n92  non-USA           Volvo 850  \n\n[93 rows x 28 columns]",
      "text/html": "<div>\n<style scoped>\n    .dataframe tbody tr th:only-of-type {\n        vertical-align: middle;\n    }\n\n    .dataframe tbody tr th {\n        vertical-align: top;\n    }\n\n    .dataframe thead th {\n        text-align: right;\n    }\n</style>\n<table border=\"1\" class=\"dataframe\">\n  <thead>\n    <tr style=\"text-align: right;\">\n      <th></th>\n      <th>Unnamed: 0</th>\n      <th>Manufacturer</th>\n      <th>Model</th>\n      <th>Type</th>\n      <th>Min.Price</th>\n      <th>Price</th>\n      <th>Max.Price</th>\n      <th>MPG.city</th>\n      <th>MPG.highway</th>\n      <th>AirBags</th>\n      <th>...</th>\n      <th>Passengers</th>\n      <th>Length</th>\n      <th>Wheelbase</th>\n      <th>Width</th>\n      <th>Turn.circle</th>\n      <th>Rear.seat.room</th>\n      <th>Luggage.room</th>\n      <th>Weight</th>\n      <th>Origin</th>\n      <th>Make</th>\n    </tr>\n  </thead>\n  <tbody>\n    <tr>\n      <th>0</th>\n      <td>1</td>\n      <td>Acura</td>\n      <td>Integra</td>\n      <td>Small</td>\n      <td>12.9</td>\n      <td>15.9</td>\n      <td>18.8</td>\n      <td>25</td>\n      <td>31</td>\n      <td>NaN</td>\n      <td>...</td>\n      <td>5</td>\n      <td>177</td>\n      <td>102</td>\n      <td>68</td>\n      <td>37</td>\n      <td>26.5</td>\n      <td>11.0</td>\n      <td>2705</td>\n      <td>non-USA</td>\n      <td>Acura Integra</td>\n    </tr>\n    <tr>\n      <th>1</th>\n      <td>2</td>\n      <td>Acura</td>\n      <td>Legend</td>\n      <td>Midsize</td>\n      <td>29.2</td>\n      <td>33.9</td>\n      <td>38.7</td>\n      <td>18</td>\n      <td>25</td>\n      <td>Driver &amp; Passenger</td>\n      <td>...</td>\n      <td>5</td>\n      <td>195</td>\n      <td>115</td>\n      <td>71</td>\n      <td>38</td>\n      <td>30.0</td>\n      <td>15.0</td>\n      <td>3560</td>\n      <td>non-USA</td>\n      <td>Acura Legend</td>\n    </tr>\n    <tr>\n      <th>2</th>\n      <td>3</td>\n      <td>Audi</td>\n      <td>90</td>\n      <td>Compact</td>\n      <td>25.9</td>\n      <td>29.1</td>\n      <td>32.3</td>\n      <td>20</td>\n      <td>26</td>\n      <td>Driver only</td>\n      <td>...</td>\n      <td>5</td>\n      <td>180</td>\n      <td>102</td>\n      <td>67</td>\n      <td>37</td>\n      <td>28.0</td>\n      <td>14.0</td>\n      <td>3375</td>\n      <td>non-USA</td>\n      <td>Audi 90</td>\n    </tr>\n    <tr>\n      <th>3</th>\n      <td>4</td>\n      <td>Audi</td>\n      <td>100</td>\n      <td>Midsize</td>\n      <td>30.8</td>\n      <td>37.7</td>\n      <td>44.6</td>\n      <td>19</td>\n      <td>26</td>\n      <td>Driver &amp; Passenger</td>\n      <td>...</td>\n      <td>6</td>\n      <td>193</td>\n      <td>106</td>\n      <td>70</td>\n      <td>37</td>\n      <td>31.0</td>\n      <td>17.0</td>\n      <td>3405</td>\n      <td>non-USA</td>\n      <td>Audi 100</td>\n    </tr>\n    <tr>\n      <th>4</th>\n      <td>5</td>\n      <td>BMW</td>\n      <td>535i</td>\n      <td>Midsize</td>\n      <td>23.7</td>\n      <td>30.0</td>\n      <td>36.2</td>\n      <td>22</td>\n      <td>30</td>\n      <td>Driver only</td>\n      <td>...</td>\n      <td>4</td>\n      <td>186</td>\n      <td>109</td>\n      <td>69</td>\n      <td>39</td>\n      <td>27.0</td>\n      <td>13.0</td>\n      <td>3640</td>\n      <td>non-USA</td>\n      <td>BMW 535i</td>\n    </tr>\n    <tr>\n      <th>...</th>\n      <td>...</td>\n      <td>...</td>\n      <td>...</td>\n      <td>...</td>\n      <td>...</td>\n      <td>...</td>\n      <td>...</td>\n      <td>...</td>\n      <td>...</td>\n      <td>...</td>\n      <td>...</td>\n      <td>...</td>\n      <td>...</td>\n      <td>...</td>\n      <td>...</td>\n      <td>...</td>\n      <td>...</td>\n      <td>...</td>\n      <td>...</td>\n      <td>...</td>\n      <td>...</td>\n    </tr>\n    <tr>\n      <th>88</th>\n      <td>89</td>\n      <td>Volkswagen</td>\n      <td>Eurovan</td>\n      <td>Van</td>\n      <td>16.6</td>\n      <td>19.7</td>\n      <td>22.7</td>\n      <td>17</td>\n      <td>21</td>\n      <td>NaN</td>\n      <td>...</td>\n      <td>7</td>\n      <td>187</td>\n      <td>115</td>\n      <td>72</td>\n      <td>38</td>\n      <td>34.0</td>\n      <td>NaN</td>\n      <td>3960</td>\n      <td>non-USA</td>\n      <td>Volkswagen Eurovan</td>\n    </tr>\n    <tr>\n      <th>89</th>\n      <td>90</td>\n      <td>Volkswagen</td>\n      <td>Passat</td>\n      <td>Compact</td>\n      <td>17.6</td>\n      <td>20.0</td>\n      <td>22.4</td>\n      <td>21</td>\n      <td>30</td>\n      <td>NaN</td>\n      <td>...</td>\n      <td>5</td>\n      <td>180</td>\n      <td>103</td>\n      <td>67</td>\n      <td>35</td>\n      <td>31.5</td>\n      <td>14.0</td>\n      <td>2985</td>\n      <td>non-USA</td>\n      <td>Volkswagen Passat</td>\n    </tr>\n    <tr>\n      <th>90</th>\n      <td>91</td>\n      <td>Volkswagen</td>\n      <td>Corrado</td>\n      <td>Sporty</td>\n      <td>22.9</td>\n      <td>23.3</td>\n      <td>23.7</td>\n      <td>18</td>\n      <td>25</td>\n      <td>NaN</td>\n      <td>...</td>\n      <td>4</td>\n      <td>159</td>\n      <td>97</td>\n      <td>66</td>\n      <td>36</td>\n      <td>26.0</td>\n      <td>15.0</td>\n      <td>2810</td>\n      <td>non-USA</td>\n      <td>Volkswagen Corrado</td>\n    </tr>\n    <tr>\n      <th>91</th>\n      <td>92</td>\n      <td>Volvo</td>\n      <td>240</td>\n      <td>Compact</td>\n      <td>21.8</td>\n      <td>22.7</td>\n      <td>23.5</td>\n      <td>21</td>\n      <td>28</td>\n      <td>Driver only</td>\n      <td>...</td>\n      <td>5</td>\n      <td>190</td>\n      <td>104</td>\n      <td>67</td>\n      <td>37</td>\n      <td>29.5</td>\n      <td>14.0</td>\n      <td>2985</td>\n      <td>non-USA</td>\n      <td>Volvo 240</td>\n    </tr>\n    <tr>\n      <th>92</th>\n      <td>93</td>\n      <td>Volvo</td>\n      <td>850</td>\n      <td>Midsize</td>\n      <td>24.8</td>\n      <td>26.7</td>\n      <td>28.5</td>\n      <td>20</td>\n      <td>28</td>\n      <td>Driver &amp; Passenger</td>\n      <td>...</td>\n      <td>5</td>\n      <td>184</td>\n      <td>105</td>\n      <td>69</td>\n      <td>38</td>\n      <td>30.0</td>\n      <td>15.0</td>\n      <td>3245</td>\n      <td>non-USA</td>\n      <td>Volvo 850</td>\n    </tr>\n  </tbody>\n</table>\n<p>93 rows × 28 columns</p>\n</div>"
     },
     "execution_count": 420,
     "metadata": {},
     "output_type": "execute_result"
    }
   ],
   "source": [
    "# input\n",
    "df = pd.read_csv(\"Cars93.csv\")\n",
    "df"
   ]
  },
  {
   "cell_type": "code",
   "execution_count": 421,
   "outputs": [
    {
     "name": "stderr",
     "output_type": "stream",
     "text": [
      "C:\\Users\\santa\\AppData\\Local\\Temp\\ipykernel_12420\\366474556.py:1: FutureWarning: A value is trying to be set on a copy of a DataFrame or Series through chained assignment using an inplace method.\n",
      "The behavior will change in pandas 3.0. This inplace method will never work because the intermediate object on which we are setting values always behaves as a copy.\n",
      "\n",
      "For example, when doing 'df[col].method(value, inplace=True)', try using 'df.method({col: value}, inplace=True)' or df[col] = df[col].method(value) instead, to perform the operation inplace on the original object.\n",
      "\n",
      "\n",
      "  df['Luggage.room'].fillna(df['Luggage.room'].mean(), inplace = True)\n"
     ]
    },
    {
     "data": {
      "text/plain": "    Unnamed: 0 Manufacturer    Model     Type  Min.Price  Price  Max.Price  \\\n0            1        Acura  Integra    Small       12.9   15.9       18.8   \n1            2        Acura   Legend  Midsize       29.2   33.9       38.7   \n2            3         Audi       90  Compact       25.9   29.1       32.3   \n3            4         Audi      100  Midsize       30.8   37.7       44.6   \n4            5          BMW     535i  Midsize       23.7   30.0       36.2   \n..         ...          ...      ...      ...        ...    ...        ...   \n88          89   Volkswagen  Eurovan      Van       16.6   19.7       22.7   \n89          90   Volkswagen   Passat  Compact       17.6   20.0       22.4   \n90          91   Volkswagen  Corrado   Sporty       22.9   23.3       23.7   \n91          92        Volvo      240  Compact       21.8   22.7       23.5   \n92          93        Volvo      850  Midsize       24.8   26.7       28.5   \n\n    MPG.city  MPG.highway             AirBags  ... Passengers Length  \\\n0         25           31                 NaN  ...          5    177   \n1         18           25  Driver & Passenger  ...          5    195   \n2         20           26         Driver only  ...          5    180   \n3         19           26  Driver & Passenger  ...          6    193   \n4         22           30         Driver only  ...          4    186   \n..       ...          ...                 ...  ...        ...    ...   \n88        17           21                 NaN  ...          7    187   \n89        21           30                 NaN  ...          5    180   \n90        18           25                 NaN  ...          4    159   \n91        21           28         Driver only  ...          5    190   \n92        20           28  Driver & Passenger  ...          5    184   \n\n    Wheelbase  Width  Turn.circle  Rear.seat.room Luggage.room  Weight  \\\n0         102     68           37            26.5    11.000000    2705   \n1         115     71           38            30.0    15.000000    3560   \n2         102     67           37            28.0    14.000000    3375   \n3         106     70           37            31.0    17.000000    3405   \n4         109     69           39            27.0    13.000000    3640   \n..        ...    ...          ...             ...          ...     ...   \n88        115     72           38            34.0    13.890244    3960   \n89        103     67           35            31.5    14.000000    2985   \n90         97     66           36            26.0    15.000000    2810   \n91        104     67           37            29.5    14.000000    2985   \n92        105     69           38            30.0    15.000000    3245   \n\n     Origin                Make  \n0   non-USA       Acura Integra  \n1   non-USA        Acura Legend  \n2   non-USA             Audi 90  \n3   non-USA            Audi 100  \n4   non-USA            BMW 535i  \n..      ...                 ...  \n88  non-USA  Volkswagen Eurovan  \n89  non-USA   Volkswagen Passat  \n90  non-USA  Volkswagen Corrado  \n91  non-USA           Volvo 240  \n92  non-USA           Volvo 850  \n\n[93 rows x 28 columns]",
      "text/html": "<div>\n<style scoped>\n    .dataframe tbody tr th:only-of-type {\n        vertical-align: middle;\n    }\n\n    .dataframe tbody tr th {\n        vertical-align: top;\n    }\n\n    .dataframe thead th {\n        text-align: right;\n    }\n</style>\n<table border=\"1\" class=\"dataframe\">\n  <thead>\n    <tr style=\"text-align: right;\">\n      <th></th>\n      <th>Unnamed: 0</th>\n      <th>Manufacturer</th>\n      <th>Model</th>\n      <th>Type</th>\n      <th>Min.Price</th>\n      <th>Price</th>\n      <th>Max.Price</th>\n      <th>MPG.city</th>\n      <th>MPG.highway</th>\n      <th>AirBags</th>\n      <th>...</th>\n      <th>Passengers</th>\n      <th>Length</th>\n      <th>Wheelbase</th>\n      <th>Width</th>\n      <th>Turn.circle</th>\n      <th>Rear.seat.room</th>\n      <th>Luggage.room</th>\n      <th>Weight</th>\n      <th>Origin</th>\n      <th>Make</th>\n    </tr>\n  </thead>\n  <tbody>\n    <tr>\n      <th>0</th>\n      <td>1</td>\n      <td>Acura</td>\n      <td>Integra</td>\n      <td>Small</td>\n      <td>12.9</td>\n      <td>15.9</td>\n      <td>18.8</td>\n      <td>25</td>\n      <td>31</td>\n      <td>NaN</td>\n      <td>...</td>\n      <td>5</td>\n      <td>177</td>\n      <td>102</td>\n      <td>68</td>\n      <td>37</td>\n      <td>26.5</td>\n      <td>11.000000</td>\n      <td>2705</td>\n      <td>non-USA</td>\n      <td>Acura Integra</td>\n    </tr>\n    <tr>\n      <th>1</th>\n      <td>2</td>\n      <td>Acura</td>\n      <td>Legend</td>\n      <td>Midsize</td>\n      <td>29.2</td>\n      <td>33.9</td>\n      <td>38.7</td>\n      <td>18</td>\n      <td>25</td>\n      <td>Driver &amp; Passenger</td>\n      <td>...</td>\n      <td>5</td>\n      <td>195</td>\n      <td>115</td>\n      <td>71</td>\n      <td>38</td>\n      <td>30.0</td>\n      <td>15.000000</td>\n      <td>3560</td>\n      <td>non-USA</td>\n      <td>Acura Legend</td>\n    </tr>\n    <tr>\n      <th>2</th>\n      <td>3</td>\n      <td>Audi</td>\n      <td>90</td>\n      <td>Compact</td>\n      <td>25.9</td>\n      <td>29.1</td>\n      <td>32.3</td>\n      <td>20</td>\n      <td>26</td>\n      <td>Driver only</td>\n      <td>...</td>\n      <td>5</td>\n      <td>180</td>\n      <td>102</td>\n      <td>67</td>\n      <td>37</td>\n      <td>28.0</td>\n      <td>14.000000</td>\n      <td>3375</td>\n      <td>non-USA</td>\n      <td>Audi 90</td>\n    </tr>\n    <tr>\n      <th>3</th>\n      <td>4</td>\n      <td>Audi</td>\n      <td>100</td>\n      <td>Midsize</td>\n      <td>30.8</td>\n      <td>37.7</td>\n      <td>44.6</td>\n      <td>19</td>\n      <td>26</td>\n      <td>Driver &amp; Passenger</td>\n      <td>...</td>\n      <td>6</td>\n      <td>193</td>\n      <td>106</td>\n      <td>70</td>\n      <td>37</td>\n      <td>31.0</td>\n      <td>17.000000</td>\n      <td>3405</td>\n      <td>non-USA</td>\n      <td>Audi 100</td>\n    </tr>\n    <tr>\n      <th>4</th>\n      <td>5</td>\n      <td>BMW</td>\n      <td>535i</td>\n      <td>Midsize</td>\n      <td>23.7</td>\n      <td>30.0</td>\n      <td>36.2</td>\n      <td>22</td>\n      <td>30</td>\n      <td>Driver only</td>\n      <td>...</td>\n      <td>4</td>\n      <td>186</td>\n      <td>109</td>\n      <td>69</td>\n      <td>39</td>\n      <td>27.0</td>\n      <td>13.000000</td>\n      <td>3640</td>\n      <td>non-USA</td>\n      <td>BMW 535i</td>\n    </tr>\n    <tr>\n      <th>...</th>\n      <td>...</td>\n      <td>...</td>\n      <td>...</td>\n      <td>...</td>\n      <td>...</td>\n      <td>...</td>\n      <td>...</td>\n      <td>...</td>\n      <td>...</td>\n      <td>...</td>\n      <td>...</td>\n      <td>...</td>\n      <td>...</td>\n      <td>...</td>\n      <td>...</td>\n      <td>...</td>\n      <td>...</td>\n      <td>...</td>\n      <td>...</td>\n      <td>...</td>\n      <td>...</td>\n    </tr>\n    <tr>\n      <th>88</th>\n      <td>89</td>\n      <td>Volkswagen</td>\n      <td>Eurovan</td>\n      <td>Van</td>\n      <td>16.6</td>\n      <td>19.7</td>\n      <td>22.7</td>\n      <td>17</td>\n      <td>21</td>\n      <td>NaN</td>\n      <td>...</td>\n      <td>7</td>\n      <td>187</td>\n      <td>115</td>\n      <td>72</td>\n      <td>38</td>\n      <td>34.0</td>\n      <td>13.890244</td>\n      <td>3960</td>\n      <td>non-USA</td>\n      <td>Volkswagen Eurovan</td>\n    </tr>\n    <tr>\n      <th>89</th>\n      <td>90</td>\n      <td>Volkswagen</td>\n      <td>Passat</td>\n      <td>Compact</td>\n      <td>17.6</td>\n      <td>20.0</td>\n      <td>22.4</td>\n      <td>21</td>\n      <td>30</td>\n      <td>NaN</td>\n      <td>...</td>\n      <td>5</td>\n      <td>180</td>\n      <td>103</td>\n      <td>67</td>\n      <td>35</td>\n      <td>31.5</td>\n      <td>14.000000</td>\n      <td>2985</td>\n      <td>non-USA</td>\n      <td>Volkswagen Passat</td>\n    </tr>\n    <tr>\n      <th>90</th>\n      <td>91</td>\n      <td>Volkswagen</td>\n      <td>Corrado</td>\n      <td>Sporty</td>\n      <td>22.9</td>\n      <td>23.3</td>\n      <td>23.7</td>\n      <td>18</td>\n      <td>25</td>\n      <td>NaN</td>\n      <td>...</td>\n      <td>4</td>\n      <td>159</td>\n      <td>97</td>\n      <td>66</td>\n      <td>36</td>\n      <td>26.0</td>\n      <td>15.000000</td>\n      <td>2810</td>\n      <td>non-USA</td>\n      <td>Volkswagen Corrado</td>\n    </tr>\n    <tr>\n      <th>91</th>\n      <td>92</td>\n      <td>Volvo</td>\n      <td>240</td>\n      <td>Compact</td>\n      <td>21.8</td>\n      <td>22.7</td>\n      <td>23.5</td>\n      <td>21</td>\n      <td>28</td>\n      <td>Driver only</td>\n      <td>...</td>\n      <td>5</td>\n      <td>190</td>\n      <td>104</td>\n      <td>67</td>\n      <td>37</td>\n      <td>29.5</td>\n      <td>14.000000</td>\n      <td>2985</td>\n      <td>non-USA</td>\n      <td>Volvo 240</td>\n    </tr>\n    <tr>\n      <th>92</th>\n      <td>93</td>\n      <td>Volvo</td>\n      <td>850</td>\n      <td>Midsize</td>\n      <td>24.8</td>\n      <td>26.7</td>\n      <td>28.5</td>\n      <td>20</td>\n      <td>28</td>\n      <td>Driver &amp; Passenger</td>\n      <td>...</td>\n      <td>5</td>\n      <td>184</td>\n      <td>105</td>\n      <td>69</td>\n      <td>38</td>\n      <td>30.0</td>\n      <td>15.000000</td>\n      <td>3245</td>\n      <td>non-USA</td>\n      <td>Volvo 850</td>\n    </tr>\n  </tbody>\n</table>\n<p>93 rows × 28 columns</p>\n</div>"
     },
     "execution_count": 421,
     "metadata": {},
     "output_type": "execute_result"
    }
   ],
   "source": [
    "df['Luggage.room'].fillna(df['Luggage.room'].mean(), inplace = True)\n",
    "df"
   ],
   "metadata": {
    "collapsed": false,
    "ExecuteTime": {
     "end_time": "2024-09-11T07:46:49.183884200Z",
     "start_time": "2024-09-11T07:46:47.342757600Z"
    }
   }
  },
  {
   "cell_type": "markdown",
   "metadata": {},
   "source": [
    "<a id = 'q20'></a>\n",
    "\n",
    "**20. How to change the order of columns of a dataframe?**\n",
    "\n",
    "Actually 3 questions.\n",
    "\n",
    "1. In df, interchange columns 'a' and 'c'.\n",
    "\n",
    "2. Create a generic function to interchange two columns, without hardcoding column names.\n",
    "\n",
    "3. Sort the columns in reverse alphabetical order, that is colume 'e' first through column 'a' last.\n",
    "\n",
    "[Go back to the table of contents](#table_of_contents)\n"
   ]
  },
  {
   "cell_type": "code",
   "execution_count": 422,
   "metadata": {
    "ExecuteTime": {
     "end_time": "2024-09-11T07:46:49.184911Z",
     "start_time": "2024-09-11T07:46:47.363704200Z"
    }
   },
   "outputs": [
    {
     "data": {
      "text/plain": "    a   b   c   d   e\n0   0   1   2   3   4\n1   5   6   7   8   9\n2  10  11  12  13  14\n3  15  16  17  18  19",
      "text/html": "<div>\n<style scoped>\n    .dataframe tbody tr th:only-of-type {\n        vertical-align: middle;\n    }\n\n    .dataframe tbody tr th {\n        vertical-align: top;\n    }\n\n    .dataframe thead th {\n        text-align: right;\n    }\n</style>\n<table border=\"1\" class=\"dataframe\">\n  <thead>\n    <tr style=\"text-align: right;\">\n      <th></th>\n      <th>a</th>\n      <th>b</th>\n      <th>c</th>\n      <th>d</th>\n      <th>e</th>\n    </tr>\n  </thead>\n  <tbody>\n    <tr>\n      <th>0</th>\n      <td>0</td>\n      <td>1</td>\n      <td>2</td>\n      <td>3</td>\n      <td>4</td>\n    </tr>\n    <tr>\n      <th>1</th>\n      <td>5</td>\n      <td>6</td>\n      <td>7</td>\n      <td>8</td>\n      <td>9</td>\n    </tr>\n    <tr>\n      <th>2</th>\n      <td>10</td>\n      <td>11</td>\n      <td>12</td>\n      <td>13</td>\n      <td>14</td>\n    </tr>\n    <tr>\n      <th>3</th>\n      <td>15</td>\n      <td>16</td>\n      <td>17</td>\n      <td>18</td>\n      <td>19</td>\n    </tr>\n  </tbody>\n</table>\n</div>"
     },
     "execution_count": 422,
     "metadata": {},
     "output_type": "execute_result"
    }
   ],
   "source": [
    "# input\n",
    "df = pd.DataFrame(np.arange(20).reshape(-1, 5), columns=list('abcde'))\n",
    "df"
   ]
  },
  {
   "cell_type": "code",
   "execution_count": 423,
   "outputs": [
    {
     "data": {
      "text/plain": "    c   b   a   d   e\n0   2   1   0   3   4\n1   7   6   5   8   9\n2  12  11  10  13  14\n3  17  16  15  18  19",
      "text/html": "<div>\n<style scoped>\n    .dataframe tbody tr th:only-of-type {\n        vertical-align: middle;\n    }\n\n    .dataframe tbody tr th {\n        vertical-align: top;\n    }\n\n    .dataframe thead th {\n        text-align: right;\n    }\n</style>\n<table border=\"1\" class=\"dataframe\">\n  <thead>\n    <tr style=\"text-align: right;\">\n      <th></th>\n      <th>c</th>\n      <th>b</th>\n      <th>a</th>\n      <th>d</th>\n      <th>e</th>\n    </tr>\n  </thead>\n  <tbody>\n    <tr>\n      <th>0</th>\n      <td>2</td>\n      <td>1</td>\n      <td>0</td>\n      <td>3</td>\n      <td>4</td>\n    </tr>\n    <tr>\n      <th>1</th>\n      <td>7</td>\n      <td>6</td>\n      <td>5</td>\n      <td>8</td>\n      <td>9</td>\n    </tr>\n    <tr>\n      <th>2</th>\n      <td>12</td>\n      <td>11</td>\n      <td>10</td>\n      <td>13</td>\n      <td>14</td>\n    </tr>\n    <tr>\n      <th>3</th>\n      <td>17</td>\n      <td>16</td>\n      <td>15</td>\n      <td>18</td>\n      <td>19</td>\n    </tr>\n  </tbody>\n</table>\n</div>"
     },
     "execution_count": 423,
     "metadata": {},
     "output_type": "execute_result"
    }
   ],
   "source": [
    "# 1. question\n",
    "df[['a', 'c']] = df[['c', 'a']]\n",
    "df.rename(columns={'a': 'c', 'c': 'a'}, inplace=True)\n",
    "df"
   ],
   "metadata": {
    "collapsed": false,
    "ExecuteTime": {
     "end_time": "2024-09-11T07:46:49.184911Z",
     "start_time": "2024-09-11T07:46:47.374719500Z"
    }
   }
  },
  {
   "cell_type": "code",
   "execution_count": 424,
   "outputs": [
    {
     "data": {
      "text/plain": "    a   b   c   d   e\n0   0   1   2   3   4\n1   5   6   7   8   9\n2  10  11  12  13  14\n3  15  16  17  18  19",
      "text/html": "<div>\n<style scoped>\n    .dataframe tbody tr th:only-of-type {\n        vertical-align: middle;\n    }\n\n    .dataframe tbody tr th {\n        vertical-align: top;\n    }\n\n    .dataframe thead th {\n        text-align: right;\n    }\n</style>\n<table border=\"1\" class=\"dataframe\">\n  <thead>\n    <tr style=\"text-align: right;\">\n      <th></th>\n      <th>a</th>\n      <th>b</th>\n      <th>c</th>\n      <th>d</th>\n      <th>e</th>\n    </tr>\n  </thead>\n  <tbody>\n    <tr>\n      <th>0</th>\n      <td>0</td>\n      <td>1</td>\n      <td>2</td>\n      <td>3</td>\n      <td>4</td>\n    </tr>\n    <tr>\n      <th>1</th>\n      <td>5</td>\n      <td>6</td>\n      <td>7</td>\n      <td>8</td>\n      <td>9</td>\n    </tr>\n    <tr>\n      <th>2</th>\n      <td>10</td>\n      <td>11</td>\n      <td>12</td>\n      <td>13</td>\n      <td>14</td>\n    </tr>\n    <tr>\n      <th>3</th>\n      <td>15</td>\n      <td>16</td>\n      <td>17</td>\n      <td>18</td>\n      <td>19</td>\n    </tr>\n  </tbody>\n</table>\n</div>"
     },
     "execution_count": 424,
     "metadata": {},
     "output_type": "execute_result"
    }
   ],
   "source": [
    "# 2. question\n",
    "def interchange(df, col1, col2):\n",
    "    df[[col1, col2]] = df[[col2, col1]]\n",
    "    df.rename(columns={col1: col2, col2: col1}, inplace=True)\n",
    "    return df\n",
    "\n",
    "interchange(df, 'a', 'c')"
   ],
   "metadata": {
    "collapsed": false,
    "ExecuteTime": {
     "end_time": "2024-09-11T07:46:49.184911Z",
     "start_time": "2024-09-11T07:46:47.385351900Z"
    }
   }
  },
  {
   "cell_type": "code",
   "execution_count": 425,
   "outputs": [
    {
     "data": {
      "text/plain": "    e   d   c   b   a\n0   4   3   2   1   0\n1   9   8   7   6   5\n2  14  13  12  11  10\n3  19  18  17  16  15",
      "text/html": "<div>\n<style scoped>\n    .dataframe tbody tr th:only-of-type {\n        vertical-align: middle;\n    }\n\n    .dataframe tbody tr th {\n        vertical-align: top;\n    }\n\n    .dataframe thead th {\n        text-align: right;\n    }\n</style>\n<table border=\"1\" class=\"dataframe\">\n  <thead>\n    <tr style=\"text-align: right;\">\n      <th></th>\n      <th>e</th>\n      <th>d</th>\n      <th>c</th>\n      <th>b</th>\n      <th>a</th>\n    </tr>\n  </thead>\n  <tbody>\n    <tr>\n      <th>0</th>\n      <td>4</td>\n      <td>3</td>\n      <td>2</td>\n      <td>1</td>\n      <td>0</td>\n    </tr>\n    <tr>\n      <th>1</th>\n      <td>9</td>\n      <td>8</td>\n      <td>7</td>\n      <td>6</td>\n      <td>5</td>\n    </tr>\n    <tr>\n      <th>2</th>\n      <td>14</td>\n      <td>13</td>\n      <td>12</td>\n      <td>11</td>\n      <td>10</td>\n    </tr>\n    <tr>\n      <th>3</th>\n      <td>19</td>\n      <td>18</td>\n      <td>17</td>\n      <td>16</td>\n      <td>15</td>\n    </tr>\n  </tbody>\n</table>\n</div>"
     },
     "execution_count": 425,
     "metadata": {},
     "output_type": "execute_result"
    }
   ],
   "source": [
    "# 3. question\n",
    "df[sorted(df.columns, reverse=True)]"
   ],
   "metadata": {
    "collapsed": false,
    "ExecuteTime": {
     "end_time": "2024-09-11T07:46:49.208693Z",
     "start_time": "2024-09-11T07:46:47.395887200Z"
    }
   }
  },
  {
   "cell_type": "markdown",
   "metadata": {},
   "source": [
    "<a id = 'q21'></a>\n",
    "\n",
    "**21. How to filter every nth row in a dataframe?**\n",
    "\n",
    "From df, filter the 'Manufacturer', 'Model' and 'Type' for every 20th row starting from 1st (row 0).\n",
    "\n",
    "[Go back to the table of contents](#table_of_contents)\n"
   ]
  },
  {
   "cell_type": "code",
   "execution_count": 426,
   "metadata": {
    "ExecuteTime": {
     "end_time": "2024-09-11T07:46:49.208693Z",
     "start_time": "2024-09-11T07:46:47.406534500Z"
    }
   },
   "outputs": [
    {
     "data": {
      "text/plain": "    Unnamed: 0 Manufacturer    Model     Type  Min.Price  Price  Max.Price  \\\n0            1        Acura  Integra    Small       12.9   15.9       18.8   \n1            2        Acura   Legend  Midsize       29.2   33.9       38.7   \n2            3         Audi       90  Compact       25.9   29.1       32.3   \n3            4         Audi      100  Midsize       30.8   37.7       44.6   \n4            5          BMW     535i  Midsize       23.7   30.0       36.2   \n..         ...          ...      ...      ...        ...    ...        ...   \n88          89   Volkswagen  Eurovan      Van       16.6   19.7       22.7   \n89          90   Volkswagen   Passat  Compact       17.6   20.0       22.4   \n90          91   Volkswagen  Corrado   Sporty       22.9   23.3       23.7   \n91          92        Volvo      240  Compact       21.8   22.7       23.5   \n92          93        Volvo      850  Midsize       24.8   26.7       28.5   \n\n    MPG.city  MPG.highway             AirBags  ... Passengers Length  \\\n0         25           31                 NaN  ...          5    177   \n1         18           25  Driver & Passenger  ...          5    195   \n2         20           26         Driver only  ...          5    180   \n3         19           26  Driver & Passenger  ...          6    193   \n4         22           30         Driver only  ...          4    186   \n..       ...          ...                 ...  ...        ...    ...   \n88        17           21                 NaN  ...          7    187   \n89        21           30                 NaN  ...          5    180   \n90        18           25                 NaN  ...          4    159   \n91        21           28         Driver only  ...          5    190   \n92        20           28  Driver & Passenger  ...          5    184   \n\n    Wheelbase  Width  Turn.circle  Rear.seat.room Luggage.room  Weight  \\\n0         102     68           37            26.5         11.0    2705   \n1         115     71           38            30.0         15.0    3560   \n2         102     67           37            28.0         14.0    3375   \n3         106     70           37            31.0         17.0    3405   \n4         109     69           39            27.0         13.0    3640   \n..        ...    ...          ...             ...          ...     ...   \n88        115     72           38            34.0          NaN    3960   \n89        103     67           35            31.5         14.0    2985   \n90         97     66           36            26.0         15.0    2810   \n91        104     67           37            29.5         14.0    2985   \n92        105     69           38            30.0         15.0    3245   \n\n     Origin                Make  \n0   non-USA       Acura Integra  \n1   non-USA        Acura Legend  \n2   non-USA             Audi 90  \n3   non-USA            Audi 100  \n4   non-USA            BMW 535i  \n..      ...                 ...  \n88  non-USA  Volkswagen Eurovan  \n89  non-USA   Volkswagen Passat  \n90  non-USA  Volkswagen Corrado  \n91  non-USA           Volvo 240  \n92  non-USA           Volvo 850  \n\n[93 rows x 28 columns]",
      "text/html": "<div>\n<style scoped>\n    .dataframe tbody tr th:only-of-type {\n        vertical-align: middle;\n    }\n\n    .dataframe tbody tr th {\n        vertical-align: top;\n    }\n\n    .dataframe thead th {\n        text-align: right;\n    }\n</style>\n<table border=\"1\" class=\"dataframe\">\n  <thead>\n    <tr style=\"text-align: right;\">\n      <th></th>\n      <th>Unnamed: 0</th>\n      <th>Manufacturer</th>\n      <th>Model</th>\n      <th>Type</th>\n      <th>Min.Price</th>\n      <th>Price</th>\n      <th>Max.Price</th>\n      <th>MPG.city</th>\n      <th>MPG.highway</th>\n      <th>AirBags</th>\n      <th>...</th>\n      <th>Passengers</th>\n      <th>Length</th>\n      <th>Wheelbase</th>\n      <th>Width</th>\n      <th>Turn.circle</th>\n      <th>Rear.seat.room</th>\n      <th>Luggage.room</th>\n      <th>Weight</th>\n      <th>Origin</th>\n      <th>Make</th>\n    </tr>\n  </thead>\n  <tbody>\n    <tr>\n      <th>0</th>\n      <td>1</td>\n      <td>Acura</td>\n      <td>Integra</td>\n      <td>Small</td>\n      <td>12.9</td>\n      <td>15.9</td>\n      <td>18.8</td>\n      <td>25</td>\n      <td>31</td>\n      <td>NaN</td>\n      <td>...</td>\n      <td>5</td>\n      <td>177</td>\n      <td>102</td>\n      <td>68</td>\n      <td>37</td>\n      <td>26.5</td>\n      <td>11.0</td>\n      <td>2705</td>\n      <td>non-USA</td>\n      <td>Acura Integra</td>\n    </tr>\n    <tr>\n      <th>1</th>\n      <td>2</td>\n      <td>Acura</td>\n      <td>Legend</td>\n      <td>Midsize</td>\n      <td>29.2</td>\n      <td>33.9</td>\n      <td>38.7</td>\n      <td>18</td>\n      <td>25</td>\n      <td>Driver &amp; Passenger</td>\n      <td>...</td>\n      <td>5</td>\n      <td>195</td>\n      <td>115</td>\n      <td>71</td>\n      <td>38</td>\n      <td>30.0</td>\n      <td>15.0</td>\n      <td>3560</td>\n      <td>non-USA</td>\n      <td>Acura Legend</td>\n    </tr>\n    <tr>\n      <th>2</th>\n      <td>3</td>\n      <td>Audi</td>\n      <td>90</td>\n      <td>Compact</td>\n      <td>25.9</td>\n      <td>29.1</td>\n      <td>32.3</td>\n      <td>20</td>\n      <td>26</td>\n      <td>Driver only</td>\n      <td>...</td>\n      <td>5</td>\n      <td>180</td>\n      <td>102</td>\n      <td>67</td>\n      <td>37</td>\n      <td>28.0</td>\n      <td>14.0</td>\n      <td>3375</td>\n      <td>non-USA</td>\n      <td>Audi 90</td>\n    </tr>\n    <tr>\n      <th>3</th>\n      <td>4</td>\n      <td>Audi</td>\n      <td>100</td>\n      <td>Midsize</td>\n      <td>30.8</td>\n      <td>37.7</td>\n      <td>44.6</td>\n      <td>19</td>\n      <td>26</td>\n      <td>Driver &amp; Passenger</td>\n      <td>...</td>\n      <td>6</td>\n      <td>193</td>\n      <td>106</td>\n      <td>70</td>\n      <td>37</td>\n      <td>31.0</td>\n      <td>17.0</td>\n      <td>3405</td>\n      <td>non-USA</td>\n      <td>Audi 100</td>\n    </tr>\n    <tr>\n      <th>4</th>\n      <td>5</td>\n      <td>BMW</td>\n      <td>535i</td>\n      <td>Midsize</td>\n      <td>23.7</td>\n      <td>30.0</td>\n      <td>36.2</td>\n      <td>22</td>\n      <td>30</td>\n      <td>Driver only</td>\n      <td>...</td>\n      <td>4</td>\n      <td>186</td>\n      <td>109</td>\n      <td>69</td>\n      <td>39</td>\n      <td>27.0</td>\n      <td>13.0</td>\n      <td>3640</td>\n      <td>non-USA</td>\n      <td>BMW 535i</td>\n    </tr>\n    <tr>\n      <th>...</th>\n      <td>...</td>\n      <td>...</td>\n      <td>...</td>\n      <td>...</td>\n      <td>...</td>\n      <td>...</td>\n      <td>...</td>\n      <td>...</td>\n      <td>...</td>\n      <td>...</td>\n      <td>...</td>\n      <td>...</td>\n      <td>...</td>\n      <td>...</td>\n      <td>...</td>\n      <td>...</td>\n      <td>...</td>\n      <td>...</td>\n      <td>...</td>\n      <td>...</td>\n      <td>...</td>\n    </tr>\n    <tr>\n      <th>88</th>\n      <td>89</td>\n      <td>Volkswagen</td>\n      <td>Eurovan</td>\n      <td>Van</td>\n      <td>16.6</td>\n      <td>19.7</td>\n      <td>22.7</td>\n      <td>17</td>\n      <td>21</td>\n      <td>NaN</td>\n      <td>...</td>\n      <td>7</td>\n      <td>187</td>\n      <td>115</td>\n      <td>72</td>\n      <td>38</td>\n      <td>34.0</td>\n      <td>NaN</td>\n      <td>3960</td>\n      <td>non-USA</td>\n      <td>Volkswagen Eurovan</td>\n    </tr>\n    <tr>\n      <th>89</th>\n      <td>90</td>\n      <td>Volkswagen</td>\n      <td>Passat</td>\n      <td>Compact</td>\n      <td>17.6</td>\n      <td>20.0</td>\n      <td>22.4</td>\n      <td>21</td>\n      <td>30</td>\n      <td>NaN</td>\n      <td>...</td>\n      <td>5</td>\n      <td>180</td>\n      <td>103</td>\n      <td>67</td>\n      <td>35</td>\n      <td>31.5</td>\n      <td>14.0</td>\n      <td>2985</td>\n      <td>non-USA</td>\n      <td>Volkswagen Passat</td>\n    </tr>\n    <tr>\n      <th>90</th>\n      <td>91</td>\n      <td>Volkswagen</td>\n      <td>Corrado</td>\n      <td>Sporty</td>\n      <td>22.9</td>\n      <td>23.3</td>\n      <td>23.7</td>\n      <td>18</td>\n      <td>25</td>\n      <td>NaN</td>\n      <td>...</td>\n      <td>4</td>\n      <td>159</td>\n      <td>97</td>\n      <td>66</td>\n      <td>36</td>\n      <td>26.0</td>\n      <td>15.0</td>\n      <td>2810</td>\n      <td>non-USA</td>\n      <td>Volkswagen Corrado</td>\n    </tr>\n    <tr>\n      <th>91</th>\n      <td>92</td>\n      <td>Volvo</td>\n      <td>240</td>\n      <td>Compact</td>\n      <td>21.8</td>\n      <td>22.7</td>\n      <td>23.5</td>\n      <td>21</td>\n      <td>28</td>\n      <td>Driver only</td>\n      <td>...</td>\n      <td>5</td>\n      <td>190</td>\n      <td>104</td>\n      <td>67</td>\n      <td>37</td>\n      <td>29.5</td>\n      <td>14.0</td>\n      <td>2985</td>\n      <td>non-USA</td>\n      <td>Volvo 240</td>\n    </tr>\n    <tr>\n      <th>92</th>\n      <td>93</td>\n      <td>Volvo</td>\n      <td>850</td>\n      <td>Midsize</td>\n      <td>24.8</td>\n      <td>26.7</td>\n      <td>28.5</td>\n      <td>20</td>\n      <td>28</td>\n      <td>Driver &amp; Passenger</td>\n      <td>...</td>\n      <td>5</td>\n      <td>184</td>\n      <td>105</td>\n      <td>69</td>\n      <td>38</td>\n      <td>30.0</td>\n      <td>15.0</td>\n      <td>3245</td>\n      <td>non-USA</td>\n      <td>Volvo 850</td>\n    </tr>\n  </tbody>\n</table>\n<p>93 rows × 28 columns</p>\n</div>"
     },
     "execution_count": 426,
     "metadata": {},
     "output_type": "execute_result"
    }
   ],
   "source": [
    "# input\n",
    "df = pd.read_csv(\"Cars93.csv\")\n",
    "df"
   ]
  },
  {
   "cell_type": "code",
   "execution_count": 427,
   "outputs": [
    {
     "data": {
      "text/plain": "   Manufacturer    Model     Type\n0         Acura  Integra    Small\n20     Chrysler  LeBaron  Compact\n40        Honda  Prelude   Sporty\n60      Mercury   Cougar  Midsize\n80       Subaru   Loyale    Small",
      "text/html": "<div>\n<style scoped>\n    .dataframe tbody tr th:only-of-type {\n        vertical-align: middle;\n    }\n\n    .dataframe tbody tr th {\n        vertical-align: top;\n    }\n\n    .dataframe thead th {\n        text-align: right;\n    }\n</style>\n<table border=\"1\" class=\"dataframe\">\n  <thead>\n    <tr style=\"text-align: right;\">\n      <th></th>\n      <th>Manufacturer</th>\n      <th>Model</th>\n      <th>Type</th>\n    </tr>\n  </thead>\n  <tbody>\n    <tr>\n      <th>0</th>\n      <td>Acura</td>\n      <td>Integra</td>\n      <td>Small</td>\n    </tr>\n    <tr>\n      <th>20</th>\n      <td>Chrysler</td>\n      <td>LeBaron</td>\n      <td>Compact</td>\n    </tr>\n    <tr>\n      <th>40</th>\n      <td>Honda</td>\n      <td>Prelude</td>\n      <td>Sporty</td>\n    </tr>\n    <tr>\n      <th>60</th>\n      <td>Mercury</td>\n      <td>Cougar</td>\n      <td>Midsize</td>\n    </tr>\n    <tr>\n      <th>80</th>\n      <td>Subaru</td>\n      <td>Loyale</td>\n      <td>Small</td>\n    </tr>\n  </tbody>\n</table>\n</div>"
     },
     "execution_count": 427,
     "metadata": {},
     "output_type": "execute_result"
    }
   ],
   "source": [
    "df.iloc[::20, :][['Manufacturer', 'Model', 'Type']]"
   ],
   "metadata": {
    "collapsed": false,
    "ExecuteTime": {
     "end_time": "2024-09-11T07:46:49.208693Z",
     "start_time": "2024-09-11T07:46:47.428986600Z"
    }
   }
  },
  {
   "cell_type": "markdown",
   "metadata": {},
   "source": [
    "\n",
    "<a id = 'q22'></a>\n",
    "\n",
    "**22. How to get the last n rows of a dataframe with row sum > 100?**\n",
    "\n",
    "Get the last two rows of df whose row sum is greater than 100.\n",
    "\n",
    "[Go back to the table of contents](#table_of_contents)\n",
    "\n",
    "\n",
    "\n"
   ]
  },
  {
   "cell_type": "code",
   "execution_count": 428,
   "metadata": {
    "ExecuteTime": {
     "end_time": "2024-09-11T07:46:49.208693Z",
     "start_time": "2024-09-11T07:46:47.443563900Z"
    }
   },
   "outputs": [],
   "source": [
    "# input\n",
    "df = pd.DataFrame(np.random.randint(10, 40, 60).reshape(-1, 4))\n",
    "df1 = df.copy(deep = True) #???"
   ]
  },
  {
   "cell_type": "code",
   "execution_count": 429,
   "outputs": [
    {
     "data": {
      "text/plain": "     0   1   2   3\n1   30  18  37  32\n2   37  29  33  14\n3   36  31  35  34\n4   32  35  34  13\n10  33  19  35  27\n12  23  38  37  23\n13  29  35  39  21",
      "text/html": "<div>\n<style scoped>\n    .dataframe tbody tr th:only-of-type {\n        vertical-align: middle;\n    }\n\n    .dataframe tbody tr th {\n        vertical-align: top;\n    }\n\n    .dataframe thead th {\n        text-align: right;\n    }\n</style>\n<table border=\"1\" class=\"dataframe\">\n  <thead>\n    <tr style=\"text-align: right;\">\n      <th></th>\n      <th>0</th>\n      <th>1</th>\n      <th>2</th>\n      <th>3</th>\n    </tr>\n  </thead>\n  <tbody>\n    <tr>\n      <th>1</th>\n      <td>30</td>\n      <td>18</td>\n      <td>37</td>\n      <td>32</td>\n    </tr>\n    <tr>\n      <th>2</th>\n      <td>37</td>\n      <td>29</td>\n      <td>33</td>\n      <td>14</td>\n    </tr>\n    <tr>\n      <th>3</th>\n      <td>36</td>\n      <td>31</td>\n      <td>35</td>\n      <td>34</td>\n    </tr>\n    <tr>\n      <th>4</th>\n      <td>32</td>\n      <td>35</td>\n      <td>34</td>\n      <td>13</td>\n    </tr>\n    <tr>\n      <th>10</th>\n      <td>33</td>\n      <td>19</td>\n      <td>35</td>\n      <td>27</td>\n    </tr>\n    <tr>\n      <th>12</th>\n      <td>23</td>\n      <td>38</td>\n      <td>37</td>\n      <td>23</td>\n    </tr>\n    <tr>\n      <th>13</th>\n      <td>29</td>\n      <td>35</td>\n      <td>39</td>\n      <td>21</td>\n    </tr>\n  </tbody>\n</table>\n</div>"
     },
     "execution_count": 429,
     "metadata": {},
     "output_type": "execute_result"
    }
   ],
   "source": [
    "df[df.sum(axis = 1) > 100] # axis = 1 horizontal"
   ],
   "metadata": {
    "collapsed": false,
    "ExecuteTime": {
     "end_time": "2024-09-11T07:46:49.208693Z",
     "start_time": "2024-09-11T07:46:47.446558900Z"
    }
   }
  },
  {
   "cell_type": "code",
   "execution_count": 430,
   "outputs": [
    {
     "data": {
      "text/plain": "     0   1   2   3\n12  23  38  37  23\n13  29  35  39  21",
      "text/html": "<div>\n<style scoped>\n    .dataframe tbody tr th:only-of-type {\n        vertical-align: middle;\n    }\n\n    .dataframe tbody tr th {\n        vertical-align: top;\n    }\n\n    .dataframe thead th {\n        text-align: right;\n    }\n</style>\n<table border=\"1\" class=\"dataframe\">\n  <thead>\n    <tr style=\"text-align: right;\">\n      <th></th>\n      <th>0</th>\n      <th>1</th>\n      <th>2</th>\n      <th>3</th>\n    </tr>\n  </thead>\n  <tbody>\n    <tr>\n      <th>12</th>\n      <td>23</td>\n      <td>38</td>\n      <td>37</td>\n      <td>23</td>\n    </tr>\n    <tr>\n      <th>13</th>\n      <td>29</td>\n      <td>35</td>\n      <td>39</td>\n      <td>21</td>\n    </tr>\n  </tbody>\n</table>\n</div>"
     },
     "execution_count": 430,
     "metadata": {},
     "output_type": "execute_result"
    }
   ],
   "source": [
    "df[df.sum(axis = 1) > 100].tail(2)"
   ],
   "metadata": {
    "collapsed": false,
    "ExecuteTime": {
     "end_time": "2024-09-11T07:46:49.208693Z",
     "start_time": "2024-09-11T07:46:47.458273900Z"
    }
   }
  },
  {
   "cell_type": "markdown",
   "metadata": {},
   "source": [
    "\n",
    "<a id = 'q23'></a>\n",
    "\n",
    "**23. How to find and cap outliers from a series or dataframe column?**\n",
    "\n",
    "Replace all values of ser in the lower 5%ile and greater than 95%ile with respective 5th and 95th %ile value.\n",
    "\n",
    "[Go back to the table of contents](#table_of_contents)\n",
    "\n",
    "\n",
    "\n"
   ]
  },
  {
   "cell_type": "code",
   "execution_count": 431,
   "metadata": {
    "ExecuteTime": {
     "end_time": "2024-09-11T07:46:49.208693Z",
     "start_time": "2024-09-11T07:46:47.470532400Z"
    }
   },
   "outputs": [
    {
     "data": {
      "text/plain": "0       0.010000\n1       0.013738\n2       0.018874\n3       0.025929\n4       0.035622\n5       0.048939\n6       0.067234\n7       0.092367\n8       0.126896\n9       0.174333\n10      0.239503\n11      0.329034\n12      0.452035\n13      0.621017\n14      0.853168\n15      1.172102\n16      1.610262\n17      2.212216\n18      3.039195\n19      4.175319\n20      5.736153\n21      7.880463\n22     10.826367\n23     14.873521\n24     20.433597\n25     28.072162\n26     38.566204\n27     52.983169\n28     72.789538\n29    100.000000\ndtype: float64"
     },
     "execution_count": 431,
     "metadata": {},
     "output_type": "execute_result"
    }
   ],
   "source": [
    "# input\n",
    "ser = pd.Series(np.logspace(-2, 2, 30))\n",
    "ser1 = ser.copy(deep = True)\n",
    "ser2 = ser.copy(deep = True)\n",
    "ser"
   ]
  },
  {
   "cell_type": "code",
   "execution_count": 432,
   "outputs": [
    {
     "data": {
      "text/plain": "0      0.016049\n1      0.016049\n2      0.018874\n3      0.025929\n4      0.035622\n5      0.048939\n6      0.067234\n7      0.092367\n8      0.126896\n9      0.174333\n10     0.239503\n11     0.329034\n12     0.452035\n13     0.621017\n14     0.853168\n15     1.172102\n16     1.610262\n17     2.212216\n18     3.039195\n19     4.175319\n20     5.736153\n21     7.880463\n22    10.826367\n23    14.873521\n24    20.433597\n25    28.072162\n26    38.566204\n27    52.983169\n28    63.876672\n29    63.876672\ndtype: float64"
     },
     "execution_count": 432,
     "metadata": {},
     "output_type": "execute_result"
    }
   ],
   "source": [
    "ser.clip(lower = ser.quantile(0.05), upper = ser.quantile(0.95))"
   ],
   "metadata": {
    "collapsed": false,
    "ExecuteTime": {
     "end_time": "2024-09-11T07:46:49.209693700Z",
     "start_time": "2024-09-11T07:46:47.479168400Z"
    }
   }
  },
  {
   "cell_type": "markdown",
   "metadata": {},
   "source": [
    "****\n",
    "<a id = 'q24'></a>\n",
    "\n",
    "**24. How to reverse the rows of a dataframe?**\n",
    "\n",
    "Reverse all the rows of dataframe df.\n",
    "\n",
    "[Go back to the table of contents](#table_of_contents)\n",
    "\n"
   ]
  },
  {
   "cell_type": "code",
   "execution_count": 433,
   "metadata": {
    "ExecuteTime": {
     "end_time": "2024-09-11T07:46:49.209693700Z",
     "start_time": "2024-09-11T07:46:47.492681400Z"
    }
   },
   "outputs": [
    {
     "data": {
      "text/plain": "    0   1   2   3   4\n0   0   1   2   3   4\n1   5   6   7   8   9\n2  10  11  12  13  14\n3  15  16  17  18  19\n4  20  21  22  23  24",
      "text/html": "<div>\n<style scoped>\n    .dataframe tbody tr th:only-of-type {\n        vertical-align: middle;\n    }\n\n    .dataframe tbody tr th {\n        vertical-align: top;\n    }\n\n    .dataframe thead th {\n        text-align: right;\n    }\n</style>\n<table border=\"1\" class=\"dataframe\">\n  <thead>\n    <tr style=\"text-align: right;\">\n      <th></th>\n      <th>0</th>\n      <th>1</th>\n      <th>2</th>\n      <th>3</th>\n      <th>4</th>\n    </tr>\n  </thead>\n  <tbody>\n    <tr>\n      <th>0</th>\n      <td>0</td>\n      <td>1</td>\n      <td>2</td>\n      <td>3</td>\n      <td>4</td>\n    </tr>\n    <tr>\n      <th>1</th>\n      <td>5</td>\n      <td>6</td>\n      <td>7</td>\n      <td>8</td>\n      <td>9</td>\n    </tr>\n    <tr>\n      <th>2</th>\n      <td>10</td>\n      <td>11</td>\n      <td>12</td>\n      <td>13</td>\n      <td>14</td>\n    </tr>\n    <tr>\n      <th>3</th>\n      <td>15</td>\n      <td>16</td>\n      <td>17</td>\n      <td>18</td>\n      <td>19</td>\n    </tr>\n    <tr>\n      <th>4</th>\n      <td>20</td>\n      <td>21</td>\n      <td>22</td>\n      <td>23</td>\n      <td>24</td>\n    </tr>\n  </tbody>\n</table>\n</div>"
     },
     "execution_count": 433,
     "metadata": {},
     "output_type": "execute_result"
    }
   ],
   "source": [
    "# input\n",
    "df = pd.DataFrame(np.arange(25).reshape(5, -1))\n",
    "df"
   ]
  },
  {
   "cell_type": "code",
   "execution_count": 434,
   "outputs": [
    {
     "data": {
      "text/plain": "    0   1   2   3   4\n4  20  21  22  23  24\n3  15  16  17  18  19\n2  10  11  12  13  14\n1   5   6   7   8   9\n0   0   1   2   3   4",
      "text/html": "<div>\n<style scoped>\n    .dataframe tbody tr th:only-of-type {\n        vertical-align: middle;\n    }\n\n    .dataframe tbody tr th {\n        vertical-align: top;\n    }\n\n    .dataframe thead th {\n        text-align: right;\n    }\n</style>\n<table border=\"1\" class=\"dataframe\">\n  <thead>\n    <tr style=\"text-align: right;\">\n      <th></th>\n      <th>0</th>\n      <th>1</th>\n      <th>2</th>\n      <th>3</th>\n      <th>4</th>\n    </tr>\n  </thead>\n  <tbody>\n    <tr>\n      <th>4</th>\n      <td>20</td>\n      <td>21</td>\n      <td>22</td>\n      <td>23</td>\n      <td>24</td>\n    </tr>\n    <tr>\n      <th>3</th>\n      <td>15</td>\n      <td>16</td>\n      <td>17</td>\n      <td>18</td>\n      <td>19</td>\n    </tr>\n    <tr>\n      <th>2</th>\n      <td>10</td>\n      <td>11</td>\n      <td>12</td>\n      <td>13</td>\n      <td>14</td>\n    </tr>\n    <tr>\n      <th>1</th>\n      <td>5</td>\n      <td>6</td>\n      <td>7</td>\n      <td>8</td>\n      <td>9</td>\n    </tr>\n    <tr>\n      <th>0</th>\n      <td>0</td>\n      <td>1</td>\n      <td>2</td>\n      <td>3</td>\n      <td>4</td>\n    </tr>\n  </tbody>\n</table>\n</div>"
     },
     "execution_count": 434,
     "metadata": {},
     "output_type": "execute_result"
    }
   ],
   "source": [
    "df.iloc[::-1]"
   ],
   "metadata": {
    "collapsed": false,
    "ExecuteTime": {
     "end_time": "2024-09-11T07:46:49.209693700Z",
     "start_time": "2024-09-11T07:46:47.498174600Z"
    }
   }
  },
  {
   "cell_type": "markdown",
   "metadata": {},
   "source": [
    "### The End"
   ]
  }
 ],
 "metadata": {
  "kernelspec": {
   "display_name": "Python 3 (ipykernel)",
   "language": "python",
   "name": "python3"
  },
  "language_info": {
   "codemirror_mode": {
    "name": "ipython",
    "version": 3
   },
   "file_extension": ".py",
   "mimetype": "text/x-python",
   "name": "python",
   "nbconvert_exporter": "python",
   "pygments_lexer": "ipython3",
   "version": "3.11.5"
  }
 },
 "nbformat": 4,
 "nbformat_minor": 4
}
