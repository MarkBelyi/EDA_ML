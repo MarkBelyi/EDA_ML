{
 "cells": [
  {
   "cell_type": "code",
   "execution_count": 82,
   "metadata": {
    "collapsed": true,
    "ExecuteTime": {
     "end_time": "2024-09-10T09:01:35.271855900Z",
     "start_time": "2024-09-10T09:01:35.252611400Z"
    }
   },
   "outputs": [],
   "source": [
    "import numpy as np"
   ]
  },
  {
   "cell_type": "code",
   "execution_count": 116,
   "outputs": [],
   "source": [
    "def determinant(matrix):\n",
    "    if matrix.shape == (2, 2):\n",
    "        return matrix[0, 0] * matrix[1, 1] - matrix[0, 1] * matrix[1, 0]\n",
    "    elif matrix.shape == (3, 3):\n",
    "        return (matrix[0, 0] * (matrix[1, 1] * matrix[2, 2] - matrix[1, 2] * matrix[2, 1])\n",
    "                - matrix[0, 1] * (matrix[1, 0] * matrix[2, 2] - matrix[1, 2] * matrix[2, 0])\n",
    "                + matrix[0, 2] * (matrix[1, 0] * matrix[2, 1] - matrix[1, 1] * matrix[2, 0]))\n",
    "    else:\n",
    "        raise ValueError(\"Sorry, only 2x2 and 3x3 matrix's sizesupported\")"
   ],
   "metadata": {
    "collapsed": false,
    "ExecuteTime": {
     "end_time": "2024-09-10T09:08:32.141789700Z",
     "start_time": "2024-09-10T09:08:32.119720500Z"
    }
   }
  },
  {
   "cell_type": "code",
   "execution_count": 117,
   "outputs": [],
   "source": [
    "def inverse_matrix(matrix):\n",
    "    \"\"\"We put in this function our array[][] (matrix) and return also matrix\"\"\"\n",
    "\n",
    "    # Gauss Method\n",
    "    size = matrix.shape[0]  # predict that we are working with the quadratic matrix and function size will return the number of rows in this case/ shape[1] return the number of columns\n",
    "    # print(size)  # I have checked it\n",
    "\n",
    "    # Here we checked if det = 0, then we reject request/ Otherwise all okay/ if it's the right size of the matrix\n",
    "    det = determinant(matrix)\n",
    "    if abs(det) < 0:\n",
    "        print(\"Determinant of this matrix equals or close to zero! So, we can't find the inverse matrix\")\n",
    "        return None\n",
    "\n",
    "    \"\"\"\n",
    "        [*][*][*]/[1][0][0]\n",
    "        [*][*][*]/[0][1][0] <- augmented matrix (columns: size * 2; rows: size)\n",
    "        [*][*][*]/[0][0][1]\n",
    "    \"\"\"\n",
    "    augmented_matrix = np.zeros((size, 2 * size))\n",
    "\n",
    "    # we need to fill matrix on the left side with our matrix and the right side with identity matrix\n",
    "    for i in range(size):\n",
    "        for j in range(size):\n",
    "            augmented_matrix[i, j] = matrix[i, j]  # our left part with given matrix\n",
    "        augmented_matrix[i, i + size] = 1.0  # our right part with identity matrix\n",
    "    # and so our augmented matrix will be 3 by 6 (rows: 3, columns: 6)\n",
    "\n",
    "    # check that everything is alright\n",
    "    # print(\"Augmented Matrix\")\n",
    "    # for row in augmented_matrix:\n",
    "    #     print(\", \".join(map(str, row)))\n",
    "    # print()\n",
    "\n",
    "    # Direct of the Gaussian method\n",
    "    for i in range(size):\n",
    "\n",
    "        # Diagonal element should be equal to \"1\", so we need to divide by this element\n",
    "        diag_element = augmented_matrix[i, i]\n",
    "\n",
    "        for j in range(2 * size):  # because this is our matrix + identity matrix we will use \"2 * size\"/ our matrix is quadratic\n",
    "            augmented_matrix[i, j] /= diag_element  # every diagonal element must be 1\n",
    "\n",
    "        # Reset the elements in the rows in the current column to zero\n",
    "        for k in range(size):\n",
    "            if k != i:\n",
    "                factor = augmented_matrix[k, i]  # not a diagonal number\n",
    "                for j in range(2 * size):  # like in the previous loop\n",
    "                    augmented_matrix[k, j] -= factor * augmented_matrix[i, j]  # \"nullarize\" or reset value for arr[k][i]\n",
    "                # it's easy to see this, but in reality it's more complex\n",
    "        # Example:\n",
    "        # [2][1]\n",
    "        # [5][3]\n",
    "        # =>\n",
    "        # [1][0.5]\n",
    "        # [5][3]\n",
    "        # =>\n",
    "        # 2nd row = 2nd row - 5 * 1st row\n",
    "        # =>\n",
    "        # [1][0.5]\n",
    "        # [0][0.5]\n",
    "    # This example represents step-by-step dividing a row to zero value\n",
    "\n",
    "    # Our inverse matrix is on the right side <= or => our changed identity matrix\n",
    "    inverse_matrix = np.zeros((size, size))  # initialize future answer like arr[][]\n",
    "    for i in range(size):\n",
    "        for j in range(size):\n",
    "            inverse_matrix[i, j] = augmented_matrix[i, j + size]\n",
    "\n",
    "    \"\"\"\n",
    "        *, *, *, -0.26086956521739113, -0.4130434782608696, 0.7173913043478262\n",
    "        *, *, *, 0.47826086956521735, 0.17391304347826086, -0.5652173913043479\n",
    "        *, *, *, -0.2608695652173913, 0.08695652173913045, 0.2173913043478261\n",
    "                 |            This is our inverse matrix                      |\n",
    "    \"\"\"\n",
    "\n",
    "    return inverse_matrix"
   ],
   "metadata": {
    "collapsed": false,
    "ExecuteTime": {
     "end_time": "2024-09-10T09:08:32.267636400Z",
     "start_time": "2024-09-10T09:08:32.238932800Z"
    }
   }
  },
  {
   "cell_type": "code",
   "execution_count": 118,
   "outputs": [],
   "source": [
    "def transpose(matrix):\n",
    "    return np.transpose(matrix) # 11 -> 11; 12 -> 21; 13 -> 31; and so on"
   ],
   "metadata": {
    "collapsed": false,
    "ExecuteTime": {
     "end_time": "2024-09-10T09:08:32.408735300Z",
     "start_time": "2024-09-10T09:08:32.384725800Z"
    }
   }
  },
  {
   "cell_type": "code",
   "execution_count": 119,
   "outputs": [],
   "source": [
    "def matrix_multiply(A, B):\n",
    "    return np.dot(A, B) # every row of first matrix multiply by every column of second"
   ],
   "metadata": {
    "collapsed": false,
    "ExecuteTime": {
     "end_time": "2024-09-10T09:08:32.528029100Z",
     "start_time": "2024-09-10T09:08:32.512589400Z"
    }
   }
  },
  {
   "cell_type": "code",
   "execution_count": 120,
   "outputs": [],
   "source": [
    "def tikhonov_regularization(A, y, L):\n",
    "    AT = transpose(A)\n",
    "    AT_A = matrix_multiply(AT, A)\n",
    "\n",
    "    # add regularization parameter lambdaI\n",
    "    AT_A += L * np.eye(AT_A.shape[0])  # lambdaI, like in this code we creating an identity matrix with size like AT_A matrix\n",
    "\n",
    "    # (A^T * A + λI)^(-1)\n",
    "    AT_A_inv = inverse_matrix(AT_A)\n",
    "\n",
    "    # (A^T * A + λI)^(-1) * A^T * y\n",
    "    AT_y = matrix_multiply(AT, y)\n",
    "    return matrix_multiply(AT_A_inv, AT_y)"
   ],
   "metadata": {
    "collapsed": false,
    "ExecuteTime": {
     "end_time": "2024-09-10T09:08:32.659675300Z",
     "start_time": "2024-09-10T09:08:32.647410100Z"
    }
   }
  },
  {
   "cell_type": "code",
   "execution_count": 121,
   "outputs": [],
   "source": [
    "A = np.array([[1.0, 2.0],\n",
    "              [2.0, 4.001]])"
   ],
   "metadata": {
    "collapsed": false,
    "ExecuteTime": {
     "end_time": "2024-09-10T09:08:32.800124Z",
     "start_time": "2024-09-10T09:08:32.785581500Z"
    }
   }
  },
  {
   "cell_type": "code",
   "execution_count": 122,
   "outputs": [],
   "source": [
    "y = np.array([3.0, 6.001])"
   ],
   "metadata": {
    "collapsed": false,
    "ExecuteTime": {
     "end_time": "2024-09-10T09:08:32.933899500Z",
     "start_time": "2024-09-10T09:08:32.917693300Z"
    }
   }
  },
  {
   "cell_type": "code",
   "execution_count": 123,
   "outputs": [],
   "source": [
    "lambdas = [1000, 100, 10, 1, 0.1, 0.01, 0.001, 0.0001, 0.00001, 0.0000000000000000001]"
   ],
   "metadata": {
    "collapsed": false,
    "ExecuteTime": {
     "end_time": "2024-09-10T09:08:33.071330800Z",
     "start_time": "2024-09-10T09:08:33.053253200Z"
    }
   }
  },
  {
   "cell_type": "code",
   "execution_count": 124,
   "outputs": [
    {
     "name": "stdout",
     "output_type": "stream",
     "text": [
      "Direct solution:\n",
      "[1. 1.]\n",
      "\n",
      "Tichonov regularization solution, lambda = 1000:\n",
      "[0.01463598 0.02927782]\n",
      "\n",
      "Tichonov regularization solution, lambda = 100:\n",
      "[0.12000832 0.24006464]\n",
      "\n",
      "Tichonov regularization solution, lambda = 10:\n",
      "[0.42853061 0.85723264]\n",
      "\n",
      "Tichonov regularization solution, lambda = 1:\n",
      "[0.57682251 1.15387572]\n",
      "\n",
      "Tichonov regularization solution, lambda = 0.1:\n",
      "[0.59749894 1.19523649]\n",
      "\n",
      "Tichonov regularization solution, lambda = 0.01:\n",
      "[0.59964983 1.19953553]\n",
      "\n",
      "Tichonov regularization solution, lambda = 0.001:\n",
      "[0.59988002 1.19996001]\n",
      "\n",
      "Tichonov regularization solution, lambda = 0.0001:\n",
      "[0.60004554 1.19993124]\n",
      "\n",
      "Tichonov regularization solution, lambda = 1e-05:\n",
      "[0.60148134 1.19921889]\n",
      "\n",
      "Tichonov regularization solution, lambda = 1e-19:\n",
      "[1.00000002 0.99999997]\n",
      "\n"
     ]
    }
   ],
   "source": [
    "A_inv = inverse_matrix(A)\n",
    "if A_inv is not None:\n",
    "    direct_solution = matrix_multiply(A_inv, y)\n",
    "    print(\"Direct solution:\")\n",
    "    print(direct_solution)\n",
    "    print()\n",
    "\n",
    "# Решение с Тихоновской регуляризацией для различных значений λ\n",
    "for lambd in lambdas:\n",
    "    reg_solution = tikhonov_regularization(A, y, lambd)\n",
    "    print(f\"Tichonov regularization solution, lambda = {lambd}:\")\n",
    "    print(reg_solution)\n",
    "    print()"
   ],
   "metadata": {
    "collapsed": false,
    "ExecuteTime": {
     "end_time": "2024-09-10T09:08:33.203056400Z",
     "start_time": "2024-09-10T09:08:33.189141300Z"
    }
   }
  },
  {
   "cell_type": "code",
   "execution_count": 125,
   "outputs": [
    {
     "data": {
      "text/plain": "'\\n1) As lambda increases:\\n a) The solution becomes more stable when the determinant equal to zero or close to. Such a matrix (when the determinant equal to zero) cannot be used to solve equations using standard methods, since the system of linear equations becomes indeterminate.\\n b) Small errors or noise in the data do not lead to large disturbances as a result. This can be useful, when the determinant is close to zero.\\n2) As lambda decreases:\\n a) The regularization becomes unstable and the solution approaches the direct solution.\\n b) The solution becomes more unpredictable and unreliable, for poorly conditioned systems.\\n'"
     },
     "execution_count": 125,
     "metadata": {},
     "output_type": "execute_result"
    }
   ],
   "source": [
    "'''\n",
    "1) As lambda increases:\n",
    " a) The solution becomes more stable when the determinant equal to zero or close to. Such a matrix (when the determinant equal to zero) cannot be used to solve equations using standard methods, since the system of linear equations becomes indeterminate.\n",
    " b) Small errors or noise in the data do not lead to large disturbances as a result. This can be useful, when the determinant is close to zero.\n",
    "2) As lambda decreases:\n",
    " a) The regularization becomes unstable and the solution approaches the direct solution.\n",
    " b) The solution becomes more unpredictable and unreliable, for poorly conditioned systems.\n",
    "'''"
   ],
   "metadata": {
    "collapsed": false,
    "ExecuteTime": {
     "end_time": "2024-09-10T09:08:33.315888400Z",
     "start_time": "2024-09-10T09:08:33.302800900Z"
    }
   }
  },
  {
   "cell_type": "code",
   "execution_count": 126,
   "outputs": [
    {
     "name": "stdout",
     "output_type": "stream",
     "text": [
      "λ = 1000\n",
      "Deviation from the direct solution: 1.383200561652171\n",
      "\n",
      "λ = 100\n",
      "Deviation from the direct solution: 1.1627068021243416\n",
      "\n",
      "λ = 10\n",
      "Deviation from the direct solution: 0.5890329214366938\n",
      "\n",
      "λ = 1\n",
      "Deviation from the direct solution: 0.4502853813393582\n",
      "\n",
      "λ = 0.1\n",
      "Deviation from the direct solution: 0.44735264606217384\n",
      "\n",
      "λ = 0.01\n",
      "Deviation from the direct solution: 0.44731944518667854\n",
      "\n",
      "λ = 0.001\n",
      "Deviation from the direct solution: 0.4473030292723838\n",
      "\n",
      "λ = 0.0001\n",
      "Deviation from the direct solution: 0.44714211284883293\n",
      "\n",
      "λ = 1e-05\n",
      "Deviation from the direct solution: 0.4455393251612726\n",
      "\n",
      "λ = 1e-19\n",
      "Deviation from the direct solution: 3.469986348575745e-08\n",
      "\n"
     ]
    }
   ],
   "source": [
    "for lambd in lambdas:\n",
    "\n",
    "    reg_solution = tikhonov_regularization(A, y, lambd)\n",
    "\n",
    "    print(f\"λ = {lambd}\")\n",
    "    if A_inv is not None:\n",
    "        direct_solution = matrix_multiply(A_inv, y)\n",
    "        diff = np.linalg.norm(direct_solution - reg_solution)\n",
    "        print(f\"Deviation from the direct solution: {diff}\")\n",
    "\n",
    "    print()\n",
    "    #For small values of lambda, the result becomes closer to a direct solution"
   ],
   "metadata": {
    "collapsed": false,
    "ExecuteTime": {
     "end_time": "2024-09-10T09:08:33.432995600Z",
     "start_time": "2024-09-10T09:08:33.412179Z"
    }
   }
  },
  {
   "cell_type": "code",
   "execution_count": null,
   "outputs": [],
   "source": [],
   "metadata": {
    "collapsed": false
   }
  }
 ],
 "metadata": {
  "kernelspec": {
   "display_name": "Python 3",
   "language": "python",
   "name": "python3"
  },
  "language_info": {
   "codemirror_mode": {
    "name": "ipython",
    "version": 2
   },
   "file_extension": ".py",
   "mimetype": "text/x-python",
   "name": "python",
   "nbconvert_exporter": "python",
   "pygments_lexer": "ipython2",
   "version": "2.7.6"
  }
 },
 "nbformat": 4,
 "nbformat_minor": 0
}
