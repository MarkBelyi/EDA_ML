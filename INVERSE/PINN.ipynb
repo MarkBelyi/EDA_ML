{
 "cells": [
  {
   "cell_type": "markdown",
   "source": [
    "## Imports"
   ],
   "metadata": {
    "collapsed": false
   }
  },
  {
   "cell_type": "code",
   "execution_count": 41,
   "outputs": [],
   "source": [
    "import numpy as np\n",
    "import tensorflow as tf\n",
    "import matplotlib.pyplot as plt"
   ],
   "metadata": {
    "collapsed": false,
    "ExecuteTime": {
     "end_time": "2024-10-06T14:14:15.164585300Z",
     "start_time": "2024-10-06T14:14:14.738846100Z"
    }
   }
  },
  {
   "cell_type": "markdown",
   "source": [
    "## Initial Condition"
   ],
   "metadata": {
    "collapsed": false
   }
  },
  {
   "cell_type": "code",
   "execution_count": 42,
   "outputs": [],
   "source": [
    "T = 0.1\n",
    "L = 1.0\n",
    "alpha = 0.01\n",
    "Nx = 50\n",
    "Nt = 100\n",
    "dx = L / (Nx - 1)\n",
    "dt = T / Nt\n",
    "learning_rate = 0.001\n",
    "num_epochs = 500\n",
    "noise_level = 0.05"
   ],
   "metadata": {
    "collapsed": false,
    "ExecuteTime": {
     "end_time": "2024-10-06T14:14:15.180456600Z",
     "start_time": "2024-10-06T14:14:14.763095400Z"
    }
   }
  },
  {
   "cell_type": "markdown",
   "source": [
    "## Our function"
   ],
   "metadata": {
    "collapsed": false
   }
  },
  {
   "cell_type": "code",
   "execution_count": 43,
   "outputs": [],
   "source": [
    "def initial_condition(x):\n",
    "    return np.sin(np.pi * x)"
   ],
   "metadata": {
    "collapsed": false,
    "ExecuteTime": {
     "end_time": "2024-10-06T14:14:15.212936300Z",
     "start_time": "2024-10-06T14:14:14.788287400Z"
    }
   }
  },
  {
   "cell_type": "markdown",
   "source": [
    "## Construct the grids"
   ],
   "metadata": {
    "collapsed": false
   }
  },
  {
   "cell_type": "code",
   "execution_count": 44,
   "outputs": [],
   "source": [
    "x = np.linspace(0, L, Nx)\n",
    "t = np.linspace(0, T, Nt)\n",
    "X_grid, T_grid = np.meshgrid(x, t)"
   ],
   "metadata": {
    "collapsed": false,
    "ExecuteTime": {
     "end_time": "2024-10-06T14:14:15.212936300Z",
     "start_time": "2024-10-06T14:14:14.821531800Z"
    }
   }
  },
  {
   "cell_type": "code",
   "execution_count": 45,
   "outputs": [
    {
     "data": {
      "text/plain": "array([[0.        , 0.02040816, 0.04081633, ..., 0.95918367, 0.97959184,\n        1.        ],\n       [0.        , 0.02040816, 0.04081633, ..., 0.95918367, 0.97959184,\n        1.        ],\n       [0.        , 0.02040816, 0.04081633, ..., 0.95918367, 0.97959184,\n        1.        ],\n       ...,\n       [0.        , 0.02040816, 0.04081633, ..., 0.95918367, 0.97959184,\n        1.        ],\n       [0.        , 0.02040816, 0.04081633, ..., 0.95918367, 0.97959184,\n        1.        ],\n       [0.        , 0.02040816, 0.04081633, ..., 0.95918367, 0.97959184,\n        1.        ]])"
     },
     "execution_count": 45,
     "metadata": {},
     "output_type": "execute_result"
    }
   ],
   "source": [
    "X_grid"
   ],
   "metadata": {
    "collapsed": false,
    "ExecuteTime": {
     "end_time": "2024-10-06T14:14:15.212936300Z",
     "start_time": "2024-10-06T14:14:14.843938900Z"
    }
   }
  },
  {
   "cell_type": "code",
   "execution_count": 46,
   "outputs": [
    {
     "data": {
      "text/plain": "array([[0.       , 0.       , 0.       , ..., 0.       , 0.       ,\n        0.       ],\n       [0.0010101, 0.0010101, 0.0010101, ..., 0.0010101, 0.0010101,\n        0.0010101],\n       [0.0020202, 0.0020202, 0.0020202, ..., 0.0020202, 0.0020202,\n        0.0020202],\n       ...,\n       [0.0979798, 0.0979798, 0.0979798, ..., 0.0979798, 0.0979798,\n        0.0979798],\n       [0.0989899, 0.0989899, 0.0989899, ..., 0.0989899, 0.0989899,\n        0.0989899],\n       [0.1      , 0.1      , 0.1      , ..., 0.1      , 0.1      ,\n        0.1      ]])"
     },
     "execution_count": 46,
     "metadata": {},
     "output_type": "execute_result"
    }
   ],
   "source": [
    "T_grid"
   ],
   "metadata": {
    "collapsed": false,
    "ExecuteTime": {
     "end_time": "2024-10-06T14:14:15.212936300Z",
     "start_time": "2024-10-06T14:14:14.872117300Z"
    }
   }
  },
  {
   "cell_type": "code",
   "execution_count": 47,
   "outputs": [
    {
     "data": {
      "text/plain": "array([[0.        , 0.        ],\n       [0.02040816, 0.        ],\n       [0.04081633, 0.        ],\n       ...,\n       [0.95918367, 0.1       ],\n       [0.97959184, 0.1       ],\n       [1.        , 0.1       ]])"
     },
     "execution_count": 47,
     "metadata": {},
     "output_type": "execute_result"
    }
   ],
   "source": [
    "XT = np.hstack((X_grid.flatten()[:, None], T_grid.flatten()[:, None])) # 50 * 100 flatten this two grid to train our future model\n",
    "\n",
    "'''\n",
    "    | X grid | T grid |\n",
    "        ...     ...\n",
    "'''\n",
    "\n",
    "XT"
   ],
   "metadata": {
    "collapsed": false,
    "ExecuteTime": {
     "end_time": "2024-10-06T14:14:15.212936300Z",
     "start_time": "2024-10-06T14:14:14.900681700Z"
    }
   }
  },
  {
   "cell_type": "markdown",
   "source": [
    "## Our initial function"
   ],
   "metadata": {
    "collapsed": false
   }
  },
  {
   "cell_type": "code",
   "execution_count": 48,
   "outputs": [
    {
     "data": {
      "text/plain": "array([0.00000000e+00, 6.40702200e-02, 1.27877162e-01, 1.91158629e-01,\n       2.53654584e-01, 3.15108218e-01, 3.75267005e-01, 4.33883739e-01,\n       4.90717552e-01, 5.45534901e-01, 5.98110530e-01, 6.48228395e-01,\n       6.95682551e-01, 7.40277997e-01, 7.81831482e-01, 8.20172255e-01,\n       8.55142763e-01, 8.86599306e-01, 9.14412623e-01, 9.38468422e-01,\n       9.58667853e-01, 9.74927912e-01, 9.87181783e-01, 9.95379113e-01,\n       9.99486216e-01, 9.99486216e-01, 9.95379113e-01, 9.87181783e-01,\n       9.74927912e-01, 9.58667853e-01, 9.38468422e-01, 9.14412623e-01,\n       8.86599306e-01, 8.55142763e-01, 8.20172255e-01, 7.81831482e-01,\n       7.40277997e-01, 6.95682551e-01, 6.48228395e-01, 5.98110530e-01,\n       5.45534901e-01, 4.90717552e-01, 4.33883739e-01, 3.75267005e-01,\n       3.15108218e-01, 2.53654584e-01, 1.91158629e-01, 1.27877162e-01,\n       6.40702200e-02, 1.22464680e-16])"
     },
     "execution_count": 48,
     "metadata": {},
     "output_type": "execute_result"
    }
   ],
   "source": [
    "u_initial = initial_condition(x)\n",
    "u_initial"
   ],
   "metadata": {
    "collapsed": false,
    "ExecuteTime": {
     "end_time": "2024-10-06T14:14:15.227624700Z",
     "start_time": "2024-10-06T14:14:14.928691300Z"
    }
   }
  },
  {
   "cell_type": "markdown",
   "source": [
    "## Make some noise"
   ],
   "metadata": {
    "collapsed": false
   }
  },
  {
   "cell_type": "code",
   "execution_count": 49,
   "outputs": [
    {
     "data": {
      "text/plain": "array([-0.07193954,  0.0843219 ,  0.12691273,  0.19552562,  0.24130132,\n        0.25379235,  0.36249459,  0.42185862,  0.530109  ,  0.58429047,\n        0.692701  ,  0.68439845,  0.68852462,  0.64333065,  0.66312544,\n        0.84771005,  0.91179934,  0.93973831,  0.90102374,  0.9510308 ,\n        0.97421745,  0.98282677,  0.97392642,  0.95203895,  0.97129409,\n        0.96946978,  1.05678159,  0.98486904,  1.02416931,  0.95396899,\n        0.87108059,  0.90982483,  0.93783431,  0.81907557,  0.86318188,\n        0.80174746,  0.72939271,  0.75324649,  0.61121889,  0.5942479 ,\n        0.57516307,  0.46761619,  0.51011882,  0.32097568,  0.23612417,\n        0.21027247,  0.16321324,  0.24952915, -0.00823815, -0.09840669])"
     },
     "execution_count": 49,
     "metadata": {},
     "output_type": "execute_result"
    }
   ],
   "source": [
    "u_initial_noisy = u_initial + noise_level * np.random.randn(*u_initial.shape)\n",
    "u_initial_noisy"
   ],
   "metadata": {
    "collapsed": false,
    "ExecuteTime": {
     "end_time": "2024-10-06T14:14:15.228934400Z",
     "start_time": "2024-10-06T14:14:14.970274600Z"
    }
   }
  },
  {
   "cell_type": "code",
   "execution_count": 50,
   "outputs": [
    {
     "data": {
      "text/plain": "array([ 0.07193954, -0.02025168,  0.00096444, -0.00436699,  0.01235326,\n        0.06131587,  0.01277242,  0.01202512, -0.03939145, -0.03875557,\n       -0.09459047, -0.03617005,  0.00715793,  0.09694734,  0.11870604,\n       -0.0275378 , -0.05665657, -0.05313901,  0.01338888, -0.01256238,\n       -0.0155496 , -0.00789886,  0.01325536,  0.04334016,  0.02819212,\n        0.03001644, -0.06140248,  0.00231274, -0.04924139,  0.00469886,\n        0.06738783,  0.00458779, -0.051235  ,  0.0360672 , -0.04300963,\n       -0.01991598,  0.01088529, -0.05756394,  0.0370095 ,  0.00386263,\n       -0.02962817,  0.02310136, -0.07623508,  0.05429133,  0.07898405,\n        0.04338211,  0.02794539, -0.12165199,  0.07230837,  0.09840669])"
     },
     "execution_count": 50,
     "metadata": {},
     "output_type": "execute_result"
    }
   ],
   "source": [
    "u_initial - u_initial_noisy"
   ],
   "metadata": {
    "collapsed": false,
    "ExecuteTime": {
     "end_time": "2024-10-06T14:14:15.228934400Z",
     "start_time": "2024-10-06T14:14:14.992979800Z"
    }
   }
  },
  {
   "cell_type": "markdown",
   "source": [
    "## Steps:\n",
    "#### 1. Define the neural network model u_θ(x,t).\n",
    "#### 2. Use automatic differentiation to compute the derivatives of u(x,t) with respect to x and t.\n",
    "#### 3. Define the loss function that includes the data loss, PDE residual loss, and boundary condition loss.\n",
    "#### 4. Train the neural network to minimize the loss function using an optimizer."
   ],
   "metadata": {
    "collapsed": false
   }
  },
  {
   "cell_type": "markdown",
   "source": [
    "## Step 1: PINN Model"
   ],
   "metadata": {
    "collapsed": false
   }
  },
  {
   "cell_type": "code",
   "execution_count": 51,
   "outputs": [],
   "source": [
    "pinn_model = tf.keras.Sequential([\n",
    "    tf.keras.layers.InputLayer(shape=(2,)), # Input layer with 2 inputs (x, t)\n",
    "    tf.keras.layers.Dense(20, activation='tanh'), # Hidden layer with tanh activation function\n",
    "    tf.keras.layers.Dense(20, activation='tanh'),\n",
    "    tf.keras.layers.Dense(20, activation='tanh'),\n",
    "    tf.keras.layers.Dense(20, activation='tanh'),\n",
    "    tf.keras.layers.Dense(20, activation='tanh'),\n",
    "    tf.keras.layers.Dense(1)  # Output layer\n",
    "])\n",
    "\n",
    "# optimizer как всегда адам\n",
    "optimizer = tf.keras.optimizers.Adam(learning_rate=learning_rate)\n",
    "\n",
    "# tanh => hyperbolic tangent =>  values in the range of [-1, 1]\n",
    "# It provides the non-linearity, smoothness, and gradient properties that are well-suited to modeling complex physical processes described by differential equations."
   ],
   "metadata": {
    "collapsed": false,
    "ExecuteTime": {
     "end_time": "2024-10-06T14:14:15.276684Z",
     "start_time": "2024-10-06T14:14:15.023513900Z"
    }
   }
  },
  {
   "cell_type": "markdown",
   "source": [
    "## Step 2: ∂u(x,t)/∂t = α∂^2u(x,t)/∂x^2,\n",
    "## Need to calculate the derivatives:\n",
    "### 1. ∂u/∂t\n",
    "### 2. ∂u/∂x\n",
    "### 3. ∂²u/∂x²\n",
    "\n",
    "## Step 3: Loss function that includes the data loss, PDE residual loss, and boundary condition loss\n",
    "#### 1. PDE Residual loss: ∂u/∂t - alpha * ∂^2u/∂x^2 -> close to zero\n",
    "#### 2. Data loss: check this -> u(x, 0) = sin(Pi * x) -> Checks how well the model meets the specified initial conditions\n",
    "#### 3. Boundary condition loss: u(0, t) = u(1, t) = 0 -> fines the model if it violates them"
   ],
   "metadata": {
    "collapsed": false
   }
  },
  {
   "cell_type": "code",
   "execution_count": 56,
   "outputs": [],
   "source": [
    "def loss_function(model, inputs):\n",
    "    x, t = inputs[:, 0:1], inputs[:, 1:2]\n",
    "\n",
    "    x = tf.convert_to_tensor(x, dtype=tf.float32)\n",
    "    t = tf.convert_to_tensor(t, dtype=tf.float32)\n",
    "\n",
    "    with tf.GradientTape(persistent=True) as gradientTape:\n",
    "        gradientTape.watch([x, t])\n",
    "        u = model(tf.concat([x, t], axis=1))\n",
    "        u_t = gradientTape.gradient(u, t)  # ∂u/∂t\n",
    "        u_x = gradientTape.gradient(u, x)  # ∂u/∂x\n",
    "    u_xx = gradientTape.gradient(u_x, x)  # ∂^2u/∂x^2\n",
    "    del gradientTape\n",
    "\n",
    "    # PDE -> ∂u/∂t - α∂^2u/∂^2\n",
    "    pde_loss = tf.reduce_mean(tf.square(u_t - alpha * u_xx))\n",
    "\n",
    "    # Initial condition loss -> u(x, 0) = sin(πx)\n",
    "    u_initial_pred = model(tf.concat([x, tf.zeros_like(x)], axis=1))\n",
    "    initial_loss = tf.reduce_mean(tf.square(u_initial_pred - initial_condition(x)))\n",
    "\n",
    "    # Boundary condition loss -> u(0, t) = u(1, t) = 0\n",
    "    boundary_loss = tf.reduce_mean(tf.square(model(tf.concat([tf.zeros_like(t), t], axis=1)))) + tf.reduce_mean(tf.square(model(tf.concat([tf.ones_like(t), t], axis=1))))\n",
    "\n",
    "    # And sum to total loss to accept the error\n",
    "    total_loss = pde_loss + initial_loss + boundary_loss\n",
    "    return total_loss"
   ],
   "metadata": {
    "collapsed": false,
    "ExecuteTime": {
     "end_time": "2024-10-06T14:19:30.201458500Z",
     "start_time": "2024-10-06T14:19:30.185542600Z"
    }
   }
  },
  {
   "cell_type": "markdown",
   "source": [
    "## Training model and Every 100 epochs we will be display the loss"
   ],
   "metadata": {
    "collapsed": false
   }
  },
  {
   "cell_type": "code",
   "execution_count": 57,
   "outputs": [
    {
     "name": "stdout",
     "output_type": "stream",
     "text": [
      "WARNING:tensorflow:Calling GradientTape.gradient on a persistent tape inside its context is significantly less efficient than calling it outside the context (it causes the gradient ops to be recorded on the tape, leading to increased CPU and memory usage). Only call GradientTape.gradient inside the context if you actually want to trace the gradient in order to compute higher order derivatives.\n",
      "WARNING:tensorflow:Calling GradientTape.gradient on a persistent tape inside its context is significantly less efficient than calling it outside the context (it causes the gradient ops to be recorded on the tape, leading to increased CPU and memory usage). Only call GradientTape.gradient inside the context if you actually want to trace the gradient in order to compute higher order derivatives.\n",
      "Epoch 0, Loss: 0.5929456353187561\n",
      "Epoch 100, Loss: 0.19086354970932007\n",
      "Epoch 200, Loss: 0.0055225989781320095\n",
      "Epoch 300, Loss: 0.0022175286430865526\n",
      "Epoch 400, Loss: 0.0009845903841778636\n"
     ]
    }
   ],
   "source": [
    "for epoch in range(num_epochs):\n",
    "    with tf.GradientTape() as tape:\n",
    "        loss = loss_function(pinn_model, XT)\n",
    "    gradients = tape.gradient(loss, pinn_model.trainable_variables)\n",
    "    optimizer.apply_gradients(zip(gradients, pinn_model.trainable_variables))\n",
    "\n",
    "    # display right here\n",
    "    if epoch % 100 == 0:\n",
    "        print(f\"Epoch {epoch}, Loss: {loss.numpy()}\")"
   ],
   "metadata": {
    "collapsed": false,
    "ExecuteTime": {
     "end_time": "2024-10-06T14:23:20.752505700Z",
     "start_time": "2024-10-06T14:19:31.715391Z"
    }
   }
  },
  {
   "cell_type": "markdown",
   "source": [
    "#### Epoch 0, Loss: 0.5929456353187561\n",
    "#### Epoch 100, Loss: 0.19086354970932007\n",
    "#### Epoch 200, Loss: 0.0055225989781320095\n",
    "#### Epoch 300, Loss: 0.0022175286430865526\n",
    "#### Epoch 400, Loss: 0.0009845903841778636 <- we see that, with help minimizing our loss function in this case is minimum"
   ],
   "metadata": {
    "collapsed": false
   }
  },
  {
   "cell_type": "code",
   "execution_count": 63,
   "outputs": [
    {
     "name": "stdout",
     "output_type": "stream",
     "text": [
      "\u001B[1m2/2\u001B[0m \u001B[32m━━━━━━━━━━━━━━━━━━━━\u001B[0m\u001B[37m\u001B[0m \u001B[1m0s\u001B[0m 10ms/step\n"
     ]
    }
   ],
   "source": [
    "# Predict the temperature at t = 0.1 (to recover initial condition)\n",
    "x_test = np.linspace(0, L, Nx)[:, None]\n",
    "t_test = T * np.ones_like(x_test)\n",
    "XT_test = np.hstack((x_test, t_test))\n",
    "u_pred = pinn_model.predict(XT_test)"
   ],
   "metadata": {
    "collapsed": false,
    "ExecuteTime": {
     "end_time": "2024-10-06T14:26:13.346116Z",
     "start_time": "2024-10-06T14:26:13.162385600Z"
    }
   }
  },
  {
   "cell_type": "code",
   "execution_count": 64,
   "outputs": [
    {
     "data": {
      "text/plain": "<Figure size 640x480 with 1 Axes>",
      "image/png": "[encoded data removed]"
     },
     "metadata": {},
     "output_type": "display_data"
    }
   ],
   "source": [
    "plt.plot(x_test, initial_condition(x_test), label='Initial Condition')\n",
    "plt.plot(x_test, u_pred, label='Predicted Condition', linestyle='dashed')\n",
    "plt.xlabel('x')\n",
    "plt.ylabel('u(x, t)')\n",
    "plt.legend()\n",
    "plt.title('PINN')\n",
    "plt.show()"
   ],
   "metadata": {
    "collapsed": false,
    "ExecuteTime": {
     "end_time": "2024-10-06T14:26:14.056882900Z",
     "start_time": "2024-10-06T14:26:13.592307500Z"
    }
   }
  },
  {
   "cell_type": "markdown",
   "source": [
    "## Conclusion:\n",
    "#### The PINN model has effectively learned the task of restoring the initial condition for the thermal conductivity equation. The two curves are almost exactly the same. Minor deviations are related to the use of noise in the data"
   ],
   "metadata": {
    "collapsed": false
   }
  }
 ],
 "metadata": {
  "kernelspec": {
   "display_name": "Python 3",
   "language": "python",
   "name": "python3"
  },
  "language_info": {
   "codemirror_mode": {
    "name": "ipython",
    "version": 2
   },
   "file_extension": ".py",
   "mimetype": "text/x-python",
   "name": "python",
   "nbconvert_exporter": "python",
   "pygments_lexer": "ipython2",
   "version": "2.7.6"
  }
 },
 "nbformat": 4,
 "nbformat_minor": 0
}
